{
  "nbformat": 4,
  "nbformat_minor": 0,
  "metadata": {
    "colab": {
      "name": "DistMult.ipynb",
      "provenance": [],
      "collapsed_sections": [],
      "authorship_tag": "ABX9TyOgjO2f3EhZ7Exk8GBiicpL",
      "include_colab_link": true
    },
    "kernelspec": {
      "name": "python3",
      "display_name": "Python 3"
    }
  },
  "cells": [
    {
      "cell_type": "markdown",
      "metadata": {
        "id": "view-in-github",
        "colab_type": "text"
      },
      "source": [
        "<a href=\"https://colab.research.google.com/github/JamieGal/GeoLit_KG-BERT-T/blob/master/DistMult.ipynb\" target=\"_parent\"><img src=\"https://colab.research.google.com/assets/colab-badge.svg\" alt=\"Open In Colab\"/></a>"
      ]
    },
    {
      "cell_type": "markdown",
      "metadata": {
        "id": "_NQrfP7HN2oM"
      },
      "source": [
        "## DistMult\n",
        "\n",
        "The following code imports the GeoLit train, dev and test data from Google Drive, and runs DistMult grid search model on Ampligraph. \n",
        "\n",
        "Parameters and outputs used for project report have been saved."
      ]
    },
    {
      "cell_type": "code",
      "metadata": {
        "id": "c4eKwV-isUoj",
        "outputId": "55ced5b7-dde9-442f-db73-b6b2ed1fd294",
        "colab": {
          "base_uri": "https://localhost:8080/",
          "height": 33
        }
      },
      "source": [
        "from google.colab import drive\n",
        "drive.mount('/content/drive')"
      ],
      "execution_count": null,
      "outputs": [
        {
          "output_type": "stream",
          "text": [
            "Mounted at /content/drive\n"
          ],
          "name": "stdout"
        }
      ]
    },
    {
      "cell_type": "code",
      "metadata": {
        "id": "8JkUVk4tsWxB",
        "outputId": "41d0bc81-91da-4100-998c-023e935d293d",
        "colab": {
          "base_uri": "https://localhost:8080/",
          "height": 33
        }
      },
      "source": [
        "# Select tensorflow version for colab \n",
        "%tensorflow_version 1.x"
      ],
      "execution_count": null,
      "outputs": [
        {
          "output_type": "stream",
          "text": [
            "TensorFlow 1.x selected.\n"
          ],
          "name": "stdout"
        }
      ]
    },
    {
      "cell_type": "code",
      "metadata": {
        "id": "kHJuW0zRsZqB"
      },
      "source": [
        "! pip install ampligraph"
      ],
      "execution_count": null,
      "outputs": []
    },
    {
      "cell_type": "code",
      "metadata": {
        "id": "TlGTx5D4ygLz"
      },
      "source": [
        "import ampligraph\n",
        "import numpy as np\n",
        "import pandas as pd\n",
        "import tensorflow as tf"
      ],
      "execution_count": null,
      "outputs": []
    },
    {
      "cell_type": "code",
      "metadata": {
        "id": "Mf_lgZjBwunZ",
        "outputId": "5ddabf0e-e7da-4e82-821f-bb4193eb2698",
        "colab": {
          "base_uri": "https://localhost:8080/",
          "height": 67
        }
      },
      "source": [
        "# Import GeoLit dataset and split into subject, predicate, object as required by the DistMult model.\n",
        "\n",
        "train_data = \"/content/drive/My Drive/PROJECT/kg_bert_baseline_data/geolit_data/train.tsv\"\n",
        "valid_data = \"/content/drive/My Drive/PROJECT/kg_bert_baseline_data/geolit_data/dev.tsv\"\n",
        "test_data = \"/content/drive/My Drive/PROJECT/kg_bert_baseline_data/geolit_data/test.tsv\"\n",
        "\n",
        "train = pd.read_csv(train_data, sep=\"\\t\", header=None)\n",
        "valid = pd.read_csv(valid_data, sep=\"\\t\", header=None)\n",
        "test = pd.read_csv(test_data, sep=\"\\t\", header=None)\n",
        "\n",
        "train.columns = ['subject', 'predicate', 'object']\n",
        "valid.columns = ['subject', 'predicate', 'object']\n",
        "test.columns = ['subject', 'predicate', 'object']\n",
        "\n",
        "print(train.shape)\n",
        "print(valid.shape)\n",
        "print(test.shape)\n",
        "\n",
        "train = train.to_numpy()\n",
        "valid = valid.to_numpy()\n",
        "test = test.to_numpy()"
      ],
      "execution_count": null,
      "outputs": [
        {
          "output_type": "stream",
          "text": [
            "(643, 3)\n",
            "(71, 3)\n",
            "(179, 3)\n"
          ],
          "name": "stdout"
        }
      ]
    },
    {
      "cell_type": "code",
      "metadata": {
        "id": "1BjFWatrtkZP",
        "outputId": "0aaab285-d788-4c38-865f-5cfe7139ffe7",
        "colab": {
          "base_uri": "https://localhost:8080/",
          "height": 33
        }
      },
      "source": [
        "from ampligraph.latent_features import DistMult\n",
        "from ampligraph.evaluation import select_best_model_ranking\n",
        "\n",
        "# Set model\n",
        "model_class = DistMult\n",
        "\n",
        "# Set parameters for grid search\n",
        "param_grid = {\"batches_count\": [50, 100, 150],\n",
        "              \"seed\": 42,\n",
        "              \"epochs\": [2, 3, 4, 5, 7],\n",
        "              \"k\": [20, 60, 100, 150],\n",
        "              \"eta\": [1, 5],\n",
        "              \"loss\": [\"multiclass_nll\"],\n",
        "              \"initializer\": ['xavier'], \n",
        "              \"initializer_params\": {'uniform': False},\n",
        "              \"regularizer\": [\"LP\"],\n",
        "              \"regularizer_params\": {\n",
        "                  \"p\": [2],\n",
        "                  \"lambda\": [1e-3]},\n",
        "              \"optimizer\": [\"adam\"],\n",
        "              \"optimizer_params\":{\n",
        "                  \"lr\": 0.001 },\n",
        "              \"verbose\": False}\n",
        "\n",
        "#Set early stopping on MRR value, as recommneded\n",
        "early_stopping_params = { 'x_valid': valid,       # Validation set on which early stopping will be performed\n",
        "                          'criteria': 'mrr',      # metric to watch during early stopping\n",
        "                          #'burn_in': 150,         # Burn in time, i.e. early stopping checks will not be performed till 150 epochs\n",
        "                          'check_interval': 1,   # After burn in time, early stopping checks will be performed at every 50th epochs (i.e. 150, 200, 250, ...)\n",
        "                          'stop_interval': 2,     # If the monitored criteria degrades for these many epochs, the training stops. \n",
        "                          'corrupt_side':'s,o'}   # Which sides to corrupt during early stopping evaluation (default both subject and obj as described earlier)\n",
        "\n",
        "# select_best_model_ranking runs the grid search and outputs evaluation metrics\n",
        "best_model, best_params, best_mrr_train, ranks_test, mrr_test, experimental_history = \\\n",
        "                          select_best_model_ranking(model_class, \n",
        "                          train, \n",
        "                          valid, \n",
        "                          test, \n",
        "                          param_grid,\n",
        "                          use_filter=True, \n",
        "                          verbose=True,\n",
        "                          early_stopping=True,\n",
        "                          early_stopping_params=early_stopping_params)"
      ],
      "execution_count": null,
      "outputs": [
        {
          "output_type": "stream",
          "text": [
            "120it [04:02,  2.02s/it]\n"
          ],
          "name": "stderr"
        }
      ]
    },
    {
      "cell_type": "markdown",
      "metadata": {
        "id": "M4iWj5ibPpIZ"
      },
      "source": [
        "## Results and optimal hyperparameters below"
      ]
    },
    {
      "cell_type": "code",
      "metadata": {
        "id": "Aj5M6qWo4gPp",
        "outputId": "af72f039-23d7-4249-91fe-ac25353d1223",
        "colab": {
          "base_uri": "https://localhost:8080/",
          "height": 33
        }
      },
      "source": [
        "print('MRR of the best model:', best_mrr_train)"
      ],
      "execution_count": null,
      "outputs": [
        {
          "output_type": "stream",
          "text": [
            "MRR of the best model: 0.4160430738434622\n"
          ],
          "name": "stdout"
        }
      ]
    },
    {
      "cell_type": "code",
      "metadata": {
        "id": "zRN-gHH64Q8U",
        "outputId": "e729f396-a35e-4b1a-a4d4-429a8288c645",
        "colab": {
          "base_uri": "https://localhost:8080/",
          "height": 33
        }
      },
      "source": [
        "print('Results for optimized parameters:', mrr_test)"
      ],
      "execution_count": null,
      "outputs": [
        {
          "output_type": "stream",
          "text": [
            "Results for optimized parameters: {'mrr': 0.3729271836263001, 'mr': 26.33240223463687, 'hits_1': 0.25139664804469275, 'hits_3': 0.43854748603351956, 'hits_10': 0.5782122905027933}\n"
          ],
          "name": "stdout"
        }
      ]
    },
    {
      "cell_type": "code",
      "metadata": {
        "id": "qOWToTDg4PNg",
        "outputId": "3dcbc18e-896e-4f48-f49b-994238d5a841",
        "colab": {
          "base_uri": "https://localhost:8080/",
          "height": 235
        }
      },
      "source": [
        "# params of the best model\n",
        "best_params"
      ],
      "execution_count": null,
      "outputs": [
        {
          "output_type": "execute_result",
          "data": {
            "text/plain": [
              "{'batches_count': 100,\n",
              " 'epochs': 7,\n",
              " 'eta': 5,\n",
              " 'initializer': 'xavier',\n",
              " 'initializer_params': {'uniform': False},\n",
              " 'k': 150,\n",
              " 'loss': 'multiclass_nll',\n",
              " 'optimizer': 'adam',\n",
              " 'optimizer_params': {'lr': 0.001},\n",
              " 'regularizer': 'LP',\n",
              " 'regularizer_params': {'lambda': 0.001, 'p': 2},\n",
              " 'seed': 42,\n",
              " 'verbose': False}"
            ]
          },
          "metadata": {
            "tags": []
          },
          "execution_count": 11
        }
      ]
    },
    {
      "cell_type": "code",
      "metadata": {
        "id": "zumbvlDZ4NZT",
        "outputId": "e6c12233-599a-4048-838b-61bb234b84eb",
        "colab": {
          "base_uri": "https://localhost:8080/",
          "height": 392
        }
      },
      "source": [
        "metrics = pd.DataFrame.from_dict(experimental_history, orient='columns')\n",
        "params = metrics['model_params'].apply(pd.Series)\n",
        "results = metrics['results'].apply(pd.Series)\n",
        "metrics = pd.concat([params, results], axis=1)\n",
        "metrics"
      ],
      "execution_count": null,
      "outputs": [
        {
          "output_type": "execute_result",
          "data": {
            "text/html": [
              "<div>\n",
              "<style scoped>\n",
              "    .dataframe tbody tr th:only-of-type {\n",
              "        vertical-align: middle;\n",
              "    }\n",
              "\n",
              "    .dataframe tbody tr th {\n",
              "        vertical-align: top;\n",
              "    }\n",
              "\n",
              "    .dataframe thead th {\n",
              "        text-align: right;\n",
              "    }\n",
              "</style>\n",
              "<table border=\"1\" class=\"dataframe\">\n",
              "  <thead>\n",
              "    <tr style=\"text-align: right;\">\n",
              "      <th></th>\n",
              "      <th>batches_count</th>\n",
              "      <th>seed</th>\n",
              "      <th>epochs</th>\n",
              "      <th>k</th>\n",
              "      <th>eta</th>\n",
              "      <th>loss</th>\n",
              "      <th>initializer</th>\n",
              "      <th>regularizer</th>\n",
              "      <th>optimizer</th>\n",
              "      <th>verbose</th>\n",
              "      <th>optimizer_params</th>\n",
              "      <th>regularizer_params</th>\n",
              "      <th>initializer_params</th>\n",
              "      <th>mrr</th>\n",
              "      <th>mr</th>\n",
              "      <th>hits_1</th>\n",
              "      <th>hits_3</th>\n",
              "      <th>hits_10</th>\n",
              "    </tr>\n",
              "  </thead>\n",
              "  <tbody>\n",
              "    <tr>\n",
              "      <th>0</th>\n",
              "      <td>50</td>\n",
              "      <td>42</td>\n",
              "      <td>2</td>\n",
              "      <td>20</td>\n",
              "      <td>1</td>\n",
              "      <td>multiclass_nll</td>\n",
              "      <td>xavier</td>\n",
              "      <td>LP</td>\n",
              "      <td>adam</td>\n",
              "      <td>False</td>\n",
              "      <td>{'lr': 0.001}</td>\n",
              "      <td>{'p': 2, 'lambda': 0.001}</td>\n",
              "      <td>{'uniform': False}</td>\n",
              "      <td>0.014167</td>\n",
              "      <td>137.936620</td>\n",
              "      <td>0.000000</td>\n",
              "      <td>0.000000</td>\n",
              "      <td>0.014085</td>\n",
              "    </tr>\n",
              "    <tr>\n",
              "      <th>1</th>\n",
              "      <td>50</td>\n",
              "      <td>42</td>\n",
              "      <td>2</td>\n",
              "      <td>20</td>\n",
              "      <td>5</td>\n",
              "      <td>multiclass_nll</td>\n",
              "      <td>xavier</td>\n",
              "      <td>LP</td>\n",
              "      <td>adam</td>\n",
              "      <td>False</td>\n",
              "      <td>{'lr': 0.001}</td>\n",
              "      <td>{'p': 2, 'lambda': 0.001}</td>\n",
              "      <td>{'uniform': False}</td>\n",
              "      <td>0.013354</td>\n",
              "      <td>142.295775</td>\n",
              "      <td>0.000000</td>\n",
              "      <td>0.000000</td>\n",
              "      <td>0.014085</td>\n",
              "    </tr>\n",
              "    <tr>\n",
              "      <th>2</th>\n",
              "      <td>50</td>\n",
              "      <td>42</td>\n",
              "      <td>2</td>\n",
              "      <td>60</td>\n",
              "      <td>1</td>\n",
              "      <td>multiclass_nll</td>\n",
              "      <td>xavier</td>\n",
              "      <td>LP</td>\n",
              "      <td>adam</td>\n",
              "      <td>False</td>\n",
              "      <td>{'lr': 0.001}</td>\n",
              "      <td>{'p': 2, 'lambda': 0.001}</td>\n",
              "      <td>{'uniform': False}</td>\n",
              "      <td>0.011057</td>\n",
              "      <td>152.570423</td>\n",
              "      <td>0.000000</td>\n",
              "      <td>0.000000</td>\n",
              "      <td>0.007042</td>\n",
              "    </tr>\n",
              "    <tr>\n",
              "      <th>3</th>\n",
              "      <td>50</td>\n",
              "      <td>42</td>\n",
              "      <td>2</td>\n",
              "      <td>60</td>\n",
              "      <td>5</td>\n",
              "      <td>multiclass_nll</td>\n",
              "      <td>xavier</td>\n",
              "      <td>LP</td>\n",
              "      <td>adam</td>\n",
              "      <td>False</td>\n",
              "      <td>{'lr': 0.001}</td>\n",
              "      <td>{'p': 2, 'lambda': 0.001}</td>\n",
              "      <td>{'uniform': False}</td>\n",
              "      <td>0.009324</td>\n",
              "      <td>157.288732</td>\n",
              "      <td>0.000000</td>\n",
              "      <td>0.000000</td>\n",
              "      <td>0.000000</td>\n",
              "    </tr>\n",
              "    <tr>\n",
              "      <th>4</th>\n",
              "      <td>50</td>\n",
              "      <td>42</td>\n",
              "      <td>2</td>\n",
              "      <td>100</td>\n",
              "      <td>1</td>\n",
              "      <td>multiclass_nll</td>\n",
              "      <td>xavier</td>\n",
              "      <td>LP</td>\n",
              "      <td>adam</td>\n",
              "      <td>False</td>\n",
              "      <td>{'lr': 0.001}</td>\n",
              "      <td>{'p': 2, 'lambda': 0.001}</td>\n",
              "      <td>{'uniform': False}</td>\n",
              "      <td>0.023105</td>\n",
              "      <td>131.626761</td>\n",
              "      <td>0.000000</td>\n",
              "      <td>0.007042</td>\n",
              "      <td>0.056338</td>\n",
              "    </tr>\n",
              "    <tr>\n",
              "      <th>...</th>\n",
              "      <td>...</td>\n",
              "      <td>...</td>\n",
              "      <td>...</td>\n",
              "      <td>...</td>\n",
              "      <td>...</td>\n",
              "      <td>...</td>\n",
              "      <td>...</td>\n",
              "      <td>...</td>\n",
              "      <td>...</td>\n",
              "      <td>...</td>\n",
              "      <td>...</td>\n",
              "      <td>...</td>\n",
              "      <td>...</td>\n",
              "      <td>...</td>\n",
              "      <td>...</td>\n",
              "      <td>...</td>\n",
              "      <td>...</td>\n",
              "      <td>...</td>\n",
              "    </tr>\n",
              "    <tr>\n",
              "      <th>115</th>\n",
              "      <td>150</td>\n",
              "      <td>42</td>\n",
              "      <td>7</td>\n",
              "      <td>60</td>\n",
              "      <td>5</td>\n",
              "      <td>multiclass_nll</td>\n",
              "      <td>xavier</td>\n",
              "      <td>LP</td>\n",
              "      <td>adam</td>\n",
              "      <td>False</td>\n",
              "      <td>{'lr': 0.001}</td>\n",
              "      <td>{'p': 2, 'lambda': 0.001}</td>\n",
              "      <td>{'uniform': False}</td>\n",
              "      <td>0.321824</td>\n",
              "      <td>33.978873</td>\n",
              "      <td>0.190141</td>\n",
              "      <td>0.408451</td>\n",
              "      <td>0.549296</td>\n",
              "    </tr>\n",
              "    <tr>\n",
              "      <th>116</th>\n",
              "      <td>150</td>\n",
              "      <td>42</td>\n",
              "      <td>7</td>\n",
              "      <td>100</td>\n",
              "      <td>1</td>\n",
              "      <td>multiclass_nll</td>\n",
              "      <td>xavier</td>\n",
              "      <td>LP</td>\n",
              "      <td>adam</td>\n",
              "      <td>False</td>\n",
              "      <td>{'lr': 0.001}</td>\n",
              "      <td>{'p': 2, 'lambda': 0.001}</td>\n",
              "      <td>{'uniform': False}</td>\n",
              "      <td>0.267397</td>\n",
              "      <td>55.626761</td>\n",
              "      <td>0.197183</td>\n",
              "      <td>0.302817</td>\n",
              "      <td>0.373239</td>\n",
              "    </tr>\n",
              "    <tr>\n",
              "      <th>117</th>\n",
              "      <td>150</td>\n",
              "      <td>42</td>\n",
              "      <td>7</td>\n",
              "      <td>100</td>\n",
              "      <td>5</td>\n",
              "      <td>multiclass_nll</td>\n",
              "      <td>xavier</td>\n",
              "      <td>LP</td>\n",
              "      <td>adam</td>\n",
              "      <td>False</td>\n",
              "      <td>{'lr': 0.001}</td>\n",
              "      <td>{'p': 2, 'lambda': 0.001}</td>\n",
              "      <td>{'uniform': False}</td>\n",
              "      <td>0.405845</td>\n",
              "      <td>27.176056</td>\n",
              "      <td>0.309859</td>\n",
              "      <td>0.443662</td>\n",
              "      <td>0.570423</td>\n",
              "    </tr>\n",
              "    <tr>\n",
              "      <th>118</th>\n",
              "      <td>150</td>\n",
              "      <td>42</td>\n",
              "      <td>7</td>\n",
              "      <td>150</td>\n",
              "      <td>1</td>\n",
              "      <td>multiclass_nll</td>\n",
              "      <td>xavier</td>\n",
              "      <td>LP</td>\n",
              "      <td>adam</td>\n",
              "      <td>False</td>\n",
              "      <td>{'lr': 0.001}</td>\n",
              "      <td>{'p': 2, 'lambda': 0.001}</td>\n",
              "      <td>{'uniform': False}</td>\n",
              "      <td>0.271317</td>\n",
              "      <td>50.528169</td>\n",
              "      <td>0.183099</td>\n",
              "      <td>0.309859</td>\n",
              "      <td>0.387324</td>\n",
              "    </tr>\n",
              "    <tr>\n",
              "      <th>119</th>\n",
              "      <td>150</td>\n",
              "      <td>42</td>\n",
              "      <td>7</td>\n",
              "      <td>150</td>\n",
              "      <td>5</td>\n",
              "      <td>multiclass_nll</td>\n",
              "      <td>xavier</td>\n",
              "      <td>LP</td>\n",
              "      <td>adam</td>\n",
              "      <td>False</td>\n",
              "      <td>{'lr': 0.001}</td>\n",
              "      <td>{'p': 2, 'lambda': 0.001}</td>\n",
              "      <td>{'uniform': False}</td>\n",
              "      <td>0.348351</td>\n",
              "      <td>30.288732</td>\n",
              "      <td>0.232394</td>\n",
              "      <td>0.422535</td>\n",
              "      <td>0.507042</td>\n",
              "    </tr>\n",
              "  </tbody>\n",
              "</table>\n",
              "<p>120 rows × 18 columns</p>\n",
              "</div>"
            ],
            "text/plain": [
              "     batches_count  seed  epochs    k  ...          mr    hits_1    hits_3   hits_10\n",
              "0               50    42       2   20  ...  137.936620  0.000000  0.000000  0.014085\n",
              "1               50    42       2   20  ...  142.295775  0.000000  0.000000  0.014085\n",
              "2               50    42       2   60  ...  152.570423  0.000000  0.000000  0.007042\n",
              "3               50    42       2   60  ...  157.288732  0.000000  0.000000  0.000000\n",
              "4               50    42       2  100  ...  131.626761  0.000000  0.007042  0.056338\n",
              "..             ...   ...     ...  ...  ...         ...       ...       ...       ...\n",
              "115            150    42       7   60  ...   33.978873  0.190141  0.408451  0.549296\n",
              "116            150    42       7  100  ...   55.626761  0.197183  0.302817  0.373239\n",
              "117            150    42       7  100  ...   27.176056  0.309859  0.443662  0.570423\n",
              "118            150    42       7  150  ...   50.528169  0.183099  0.309859  0.387324\n",
              "119            150    42       7  150  ...   30.288732  0.232394  0.422535  0.507042\n",
              "\n",
              "[120 rows x 18 columns]"
            ]
          },
          "metadata": {
            "tags": []
          },
          "execution_count": 12
        }
      ]
    },
    {
      "cell_type": "code",
      "metadata": {
        "id": "3t-kew5w4hiq",
        "outputId": "fe1589de-b90e-4eea-cc78-5c4f51bb9e4e",
        "colab": {
          "base_uri": "https://localhost:8080/",
          "height": 16
        }
      },
      "source": [
        "# Export results\n",
        "\n",
        "from google.colab import files\n",
        "metrics.to_csv('DistMult_results.csv') \n",
        "files.download('DistMult_results.csv')"
      ],
      "execution_count": null,
      "outputs": [
        {
          "output_type": "display_data",
          "data": {
            "application/javascript": [
              "\n",
              "    async function download(id, filename, size) {\n",
              "      if (!google.colab.kernel.accessAllowed) {\n",
              "        return;\n",
              "      }\n",
              "      const div = document.createElement('div');\n",
              "      const label = document.createElement('label');\n",
              "      label.textContent = `Downloading \"${filename}\": `;\n",
              "      div.appendChild(label);\n",
              "      const progress = document.createElement('progress');\n",
              "      progress.max = size;\n",
              "      div.appendChild(progress);\n",
              "      document.body.appendChild(div);\n",
              "\n",
              "      const buffers = [];\n",
              "      let downloaded = 0;\n",
              "\n",
              "      const channel = await google.colab.kernel.comms.open(id);\n",
              "      // Send a message to notify the kernel that we're ready.\n",
              "      channel.send({})\n",
              "\n",
              "      for await (const message of channel.messages) {\n",
              "        // Send a message to notify the kernel that we're ready.\n",
              "        channel.send({})\n",
              "        if (message.buffers) {\n",
              "          for (const buffer of message.buffers) {\n",
              "            buffers.push(buffer);\n",
              "            downloaded += buffer.byteLength;\n",
              "            progress.value = downloaded;\n",
              "          }\n",
              "        }\n",
              "      }\n",
              "      const blob = new Blob(buffers, {type: 'application/binary'});\n",
              "      const a = document.createElement('a');\n",
              "      a.href = window.URL.createObjectURL(blob);\n",
              "      a.download = filename;\n",
              "      div.appendChild(a);\n",
              "      a.click();\n",
              "      div.remove();\n",
              "    }\n",
              "  "
            ],
            "text/plain": [
              "<IPython.core.display.Javascript object>"
            ]
          },
          "metadata": {
            "tags": []
          }
        },
        {
          "output_type": "display_data",
          "data": {
            "application/javascript": [
              "download(\"download_410bb023-c3ce-418b-8407-4ec856709328\", \"DistMult_results.csv\", 25170)"
            ],
            "text/plain": [
              "<IPython.core.display.Javascript object>"
            ]
          },
          "metadata": {
            "tags": []
          }
        }
      ]
    }
  ]
}