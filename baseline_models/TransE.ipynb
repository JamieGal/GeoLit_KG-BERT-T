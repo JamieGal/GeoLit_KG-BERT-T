{
  "nbformat": 4,
  "nbformat_minor": 0,
  "metadata": {
    "colab": {
      "name": "TransE.ipynb",
      "provenance": [],
      "collapsed_sections": [],
      "authorship_tag": "ABX9TyONhnc9EEEY2Rz69mATu3qH",
      "include_colab_link": true
    },
    "kernelspec": {
      "name": "python3",
      "display_name": "Python 3"
    }
  },
  "cells": [
    {
      "cell_type": "markdown",
      "metadata": {
        "id": "view-in-github",
        "colab_type": "text"
      },
      "source": [
        "<a href=\"https://colab.research.google.com/github/JamieGal/GeoLit_KG-BERT-T/blob/master/TransE.ipynb\" target=\"_parent\"><img src=\"https://colab.research.google.com/assets/colab-badge.svg\" alt=\"Open In Colab\"/></a>"
      ]
    },
    {
      "cell_type": "markdown",
      "metadata": {
        "id": "7OCFM313OrUW"
      },
      "source": [
        "## TransE\n",
        "\n",
        "The following code imports the GeoLit train, dev and test data from Google Drive, and runs TransE grid search model on Ampligraph. \n",
        "\n",
        "Parameters and outputs used for project report have been saved."
      ]
    },
    {
      "cell_type": "code",
      "metadata": {
        "id": "N1AXW49iqmmU",
        "outputId": "7f6dc2c1-98d1-48ab-8723-9d63f4f4fdad",
        "colab": {
          "base_uri": "https://localhost:8080/",
          "height": 33
        }
      },
      "source": [
        "from google.colab import drive\n",
        "drive.mount('/content/drive')"
      ],
      "execution_count": null,
      "outputs": [
        {
          "output_type": "stream",
          "text": [
            "Mounted at /content/drive\n"
          ],
          "name": "stdout"
        }
      ]
    },
    {
      "cell_type": "code",
      "metadata": {
        "id": "2NwGDOilqn7D",
        "outputId": "b53497f8-95eb-417c-cccb-cb5fbfc94f12",
        "colab": {
          "base_uri": "https://localhost:8080/",
          "height": 33
        }
      },
      "source": [
        "%tensorflow_version 1.x"
      ],
      "execution_count": null,
      "outputs": [
        {
          "output_type": "stream",
          "text": [
            "TensorFlow 1.x selected.\n"
          ],
          "name": "stdout"
        }
      ]
    },
    {
      "cell_type": "code",
      "metadata": {
        "id": "jAMLMpKwqveL"
      },
      "source": [
        "! pip install ampligraph"
      ],
      "execution_count": null,
      "outputs": []
    },
    {
      "cell_type": "code",
      "metadata": {
        "id": "i7ZU_CqPqw6x"
      },
      "source": [
        "import ampligraph\n",
        "import numpy as np\n",
        "import pandas as pd\n",
        "import tensorflow as tf"
      ],
      "execution_count": null,
      "outputs": []
    },
    {
      "cell_type": "code",
      "metadata": {
        "id": "EWSyuBMMq0y5",
        "outputId": "a500e17b-a9d5-4334-d6bf-bb88408de899",
        "colab": {
          "base_uri": "https://localhost:8080/",
          "height": 67
        }
      },
      "source": [
        "# Import GeoLit dataset and split into subject, predicate, object as required by the TransE model.\n",
        "\n",
        "train_data = \"/content/drive/My Drive/PROJECT/kg_bert_baseline_data/geolit_data/train.tsv\"\n",
        "valid_data = \"/content/drive/My Drive/PROJECT/kg_bert_baseline_data/geolit_data/dev.tsv\"\n",
        "test_data = \"/content/drive/My Drive/PROJECT/kg_bert_baseline_data/geolit_data/test.tsv\"\n",
        "\n",
        "train = pd.read_csv(train_data, sep=\"\\t\", header=None)\n",
        "valid = pd.read_csv(valid_data, sep=\"\\t\", header=None)\n",
        "test = pd.read_csv(test_data, sep=\"\\t\", header=None)\n",
        "\n",
        "train.columns = ['subject', 'predicate', 'object']\n",
        "valid.columns = ['subject', 'predicate', 'object']\n",
        "test.columns = ['subject', 'predicate', 'object']\n",
        "\n",
        "print(train.shape)\n",
        "print(valid.shape)\n",
        "print(test.shape)\n",
        "\n",
        "train = train.to_numpy()\n",
        "valid = valid.to_numpy()\n",
        "test = test.to_numpy()"
      ],
      "execution_count": null,
      "outputs": [
        {
          "output_type": "stream",
          "text": [
            "(643, 3)\n",
            "(71, 3)\n",
            "(179, 3)\n"
          ],
          "name": "stdout"
        }
      ]
    },
    {
      "cell_type": "code",
      "metadata": {
        "id": "DoRgHcpws64n",
        "outputId": "a831c6fb-d795-4232-cf73-3204204aadcd",
        "colab": {
          "base_uri": "https://localhost:8080/",
          "height": 33
        }
      },
      "source": [
        "from ampligraph.latent_features import TransE\n",
        "from ampligraph.evaluation import select_best_model_ranking\n",
        "\n",
        "# Set model\n",
        "model_class = TransE\n",
        "\n",
        "# Set parameters for grid search\n",
        "param_grid = {\"batches_count\": [50, 100, 150],\n",
        "                  \"seed\": 42,\n",
        "                  \"epochs\": [2, 3, 4, 5, 7],\n",
        "                  \"k\": [20, 60, 100, 150],\n",
        "                  \"eta\": [1, 5],\n",
        "                  \"loss\": [\"pairwise\"],\n",
        "                  \"loss_params\": {},\n",
        "                  \"embedding_model_params\": {},\n",
        "                  \"regularizer\": [\"LP\"],\n",
        "                  \"regularizer_params\": {\"p\": [2], \"lambda\": [1e-3]},\n",
        "                  \"optimizer\": [\"adam\"],\n",
        "                  \"optimizer_params\":{\"lr\": 1e-3},\n",
        "                  \"verbose\": False}\n",
        "\n",
        "\n",
        "#Set early stopping on MRR value, as recommneded\n",
        "early_stopping_params = { 'x_valid': valid,       # Validation set on which early stopping will be performed\n",
        "                          'criteria': 'mrr',      # Metric to watch during early stopping\n",
        "                          'check_interval': 1,    \n",
        "                          'stop_interval': 2,     \n",
        "                          'corrupt_side':'s,o'}   # Which sides to corrupt during early stopping evaluation \n",
        "\n",
        "# select_best_model_ranking runs the grid search and outputs evaluation metrics\n",
        "best_model, best_params, best_mrr_train, ranks_test, mrr_test, experimental_history = \\\n",
        "        select_best_model_ranking(model_class, \n",
        "                          train, \n",
        "                          valid, \n",
        "                          test, \n",
        "                          param_grid,\n",
        "                          use_filter=True, \n",
        "                          verbose=True,\n",
        "                          early_stopping=True,\n",
        "                          early_stopping_params = early_stopping_params)"
      ],
      "execution_count": null,
      "outputs": [
        {
          "output_type": "stream",
          "text": [
            "120it [04:25,  2.21s/it]\n"
          ],
          "name": "stderr"
        }
      ]
    },
    {
      "cell_type": "markdown",
      "metadata": {
        "id": "dK7urAFfPdjM"
      },
      "source": [
        "## Results and optimal hyperparameters below"
      ]
    },
    {
      "cell_type": "code",
      "metadata": {
        "id": "RYwvEywn3n5i",
        "outputId": "490cdadd-223a-40fe-abe7-fed79e2121ea",
        "colab": {
          "base_uri": "https://localhost:8080/",
          "height": 33
        }
      },
      "source": [
        "print('MRR of the best model:', best_mrr_train)"
      ],
      "execution_count": null,
      "outputs": [
        {
          "output_type": "stream",
          "text": [
            "MRR of the best model: 0.3147463562392595\n"
          ],
          "name": "stdout"
        }
      ]
    },
    {
      "cell_type": "code",
      "metadata": {
        "id": "r6NEd-7CtcyQ",
        "outputId": "8200ebcc-0d06-4179-efd5-8eaf5aa3bece",
        "colab": {
          "base_uri": "https://localhost:8080/",
          "height": 33
        }
      },
      "source": [
        "print('Results for optimized parameters:', mrr_test)"
      ],
      "execution_count": null,
      "outputs": [
        {
          "output_type": "stream",
          "text": [
            "Results for optimized parameters: {'mrr': 0.29910361943484215, 'mr': 36.86871508379888, 'hits_1': 0.19553072625698323, 'hits_3': 0.35195530726256985, 'hits_10': 0.48324022346368717}\n"
          ],
          "name": "stdout"
        }
      ]
    },
    {
      "cell_type": "code",
      "metadata": {
        "id": "2dxpgVhDtdb5",
        "outputId": "74ecead8-ec50-4b1a-975e-9651e7f57687",
        "colab": {
          "base_uri": "https://localhost:8080/",
          "height": 201
        }
      },
      "source": [
        "# params of the best model\n",
        "best_params"
      ],
      "execution_count": null,
      "outputs": [
        {
          "output_type": "execute_result",
          "data": {
            "text/plain": [
              "{'batches_count': 150,\n",
              " 'epochs': 7,\n",
              " 'eta': 5,\n",
              " 'k': 20,\n",
              " 'loss': 'pairwise',\n",
              " 'optimizer': 'adam',\n",
              " 'optimizer_params': {'lr': 0.001},\n",
              " 'regularizer': 'LP',\n",
              " 'regularizer_params': {'lambda': 0.001, 'p': 2},\n",
              " 'seed': 42,\n",
              " 'verbose': False}"
            ]
          },
          "metadata": {
            "tags": []
          },
          "execution_count": 9
        }
      ]
    },
    {
      "cell_type": "code",
      "metadata": {
        "id": "lcDp1bJA3qWY",
        "outputId": "cc8476a3-db49-46fa-f23b-3e49eb5d5b1e",
        "colab": {
          "base_uri": "https://localhost:8080/",
          "height": 392
        }
      },
      "source": [
        "results = pd.DataFrame.from_dict(experimental_history, orient='columns')\n",
        "params = results['model_params'].apply(pd.Series)\n",
        "results = results['results'].apply(pd.Series)\n",
        "results = pd.concat([params, results], axis=1)\n",
        "results"
      ],
      "execution_count": null,
      "outputs": [
        {
          "output_type": "execute_result",
          "data": {
            "text/html": [
              "<div>\n",
              "<style scoped>\n",
              "    .dataframe tbody tr th:only-of-type {\n",
              "        vertical-align: middle;\n",
              "    }\n",
              "\n",
              "    .dataframe tbody tr th {\n",
              "        vertical-align: top;\n",
              "    }\n",
              "\n",
              "    .dataframe thead th {\n",
              "        text-align: right;\n",
              "    }\n",
              "</style>\n",
              "<table border=\"1\" class=\"dataframe\">\n",
              "  <thead>\n",
              "    <tr style=\"text-align: right;\">\n",
              "      <th></th>\n",
              "      <th>batches_count</th>\n",
              "      <th>seed</th>\n",
              "      <th>epochs</th>\n",
              "      <th>k</th>\n",
              "      <th>eta</th>\n",
              "      <th>loss</th>\n",
              "      <th>regularizer</th>\n",
              "      <th>optimizer</th>\n",
              "      <th>verbose</th>\n",
              "      <th>optimizer_params</th>\n",
              "      <th>regularizer_params</th>\n",
              "      <th>mrr</th>\n",
              "      <th>mr</th>\n",
              "      <th>hits_1</th>\n",
              "      <th>hits_3</th>\n",
              "      <th>hits_10</th>\n",
              "    </tr>\n",
              "  </thead>\n",
              "  <tbody>\n",
              "    <tr>\n",
              "      <th>0</th>\n",
              "      <td>50</td>\n",
              "      <td>42</td>\n",
              "      <td>2</td>\n",
              "      <td>20</td>\n",
              "      <td>1</td>\n",
              "      <td>pairwise</td>\n",
              "      <td>LP</td>\n",
              "      <td>adam</td>\n",
              "      <td>False</td>\n",
              "      <td>{'lr': 0.001}</td>\n",
              "      <td>{'p': 2, 'lambda': 0.001}</td>\n",
              "      <td>0.182371</td>\n",
              "      <td>97.669014</td>\n",
              "      <td>0.161972</td>\n",
              "      <td>0.169014</td>\n",
              "      <td>0.190141</td>\n",
              "    </tr>\n",
              "    <tr>\n",
              "      <th>1</th>\n",
              "      <td>50</td>\n",
              "      <td>42</td>\n",
              "      <td>2</td>\n",
              "      <td>20</td>\n",
              "      <td>5</td>\n",
              "      <td>pairwise</td>\n",
              "      <td>LP</td>\n",
              "      <td>adam</td>\n",
              "      <td>False</td>\n",
              "      <td>{'lr': 0.001}</td>\n",
              "      <td>{'p': 2, 'lambda': 0.001}</td>\n",
              "      <td>0.177799</td>\n",
              "      <td>86.161972</td>\n",
              "      <td>0.147887</td>\n",
              "      <td>0.161972</td>\n",
              "      <td>0.211268</td>\n",
              "    </tr>\n",
              "    <tr>\n",
              "      <th>2</th>\n",
              "      <td>50</td>\n",
              "      <td>42</td>\n",
              "      <td>2</td>\n",
              "      <td>60</td>\n",
              "      <td>1</td>\n",
              "      <td>pairwise</td>\n",
              "      <td>LP</td>\n",
              "      <td>adam</td>\n",
              "      <td>False</td>\n",
              "      <td>{'lr': 0.001}</td>\n",
              "      <td>{'p': 2, 'lambda': 0.001}</td>\n",
              "      <td>0.162400</td>\n",
              "      <td>79.415493</td>\n",
              "      <td>0.098592</td>\n",
              "      <td>0.176056</td>\n",
              "      <td>0.253521</td>\n",
              "    </tr>\n",
              "    <tr>\n",
              "      <th>3</th>\n",
              "      <td>50</td>\n",
              "      <td>42</td>\n",
              "      <td>2</td>\n",
              "      <td>60</td>\n",
              "      <td>5</td>\n",
              "      <td>pairwise</td>\n",
              "      <td>LP</td>\n",
              "      <td>adam</td>\n",
              "      <td>False</td>\n",
              "      <td>{'lr': 0.001}</td>\n",
              "      <td>{'p': 2, 'lambda': 0.001}</td>\n",
              "      <td>0.203892</td>\n",
              "      <td>63.661972</td>\n",
              "      <td>0.119718</td>\n",
              "      <td>0.232394</td>\n",
              "      <td>0.366197</td>\n",
              "    </tr>\n",
              "    <tr>\n",
              "      <th>4</th>\n",
              "      <td>50</td>\n",
              "      <td>42</td>\n",
              "      <td>2</td>\n",
              "      <td>100</td>\n",
              "      <td>1</td>\n",
              "      <td>pairwise</td>\n",
              "      <td>LP</td>\n",
              "      <td>adam</td>\n",
              "      <td>False</td>\n",
              "      <td>{'lr': 0.001}</td>\n",
              "      <td>{'p': 2, 'lambda': 0.001}</td>\n",
              "      <td>0.148905</td>\n",
              "      <td>80.760563</td>\n",
              "      <td>0.056338</td>\n",
              "      <td>0.176056</td>\n",
              "      <td>0.330986</td>\n",
              "    </tr>\n",
              "    <tr>\n",
              "      <th>...</th>\n",
              "      <td>...</td>\n",
              "      <td>...</td>\n",
              "      <td>...</td>\n",
              "      <td>...</td>\n",
              "      <td>...</td>\n",
              "      <td>...</td>\n",
              "      <td>...</td>\n",
              "      <td>...</td>\n",
              "      <td>...</td>\n",
              "      <td>...</td>\n",
              "      <td>...</td>\n",
              "      <td>...</td>\n",
              "      <td>...</td>\n",
              "      <td>...</td>\n",
              "      <td>...</td>\n",
              "      <td>...</td>\n",
              "    </tr>\n",
              "    <tr>\n",
              "      <th>115</th>\n",
              "      <td>150</td>\n",
              "      <td>42</td>\n",
              "      <td>7</td>\n",
              "      <td>60</td>\n",
              "      <td>5</td>\n",
              "      <td>pairwise</td>\n",
              "      <td>LP</td>\n",
              "      <td>adam</td>\n",
              "      <td>False</td>\n",
              "      <td>{'lr': 0.001}</td>\n",
              "      <td>{'p': 2, 'lambda': 0.001}</td>\n",
              "      <td>0.271030</td>\n",
              "      <td>41.718310</td>\n",
              "      <td>0.154930</td>\n",
              "      <td>0.345070</td>\n",
              "      <td>0.464789</td>\n",
              "    </tr>\n",
              "    <tr>\n",
              "      <th>116</th>\n",
              "      <td>150</td>\n",
              "      <td>42</td>\n",
              "      <td>7</td>\n",
              "      <td>100</td>\n",
              "      <td>1</td>\n",
              "      <td>pairwise</td>\n",
              "      <td>LP</td>\n",
              "      <td>adam</td>\n",
              "      <td>False</td>\n",
              "      <td>{'lr': 0.001}</td>\n",
              "      <td>{'p': 2, 'lambda': 0.001}</td>\n",
              "      <td>0.246557</td>\n",
              "      <td>50.704225</td>\n",
              "      <td>0.126761</td>\n",
              "      <td>0.316901</td>\n",
              "      <td>0.450704</td>\n",
              "    </tr>\n",
              "    <tr>\n",
              "      <th>117</th>\n",
              "      <td>150</td>\n",
              "      <td>42</td>\n",
              "      <td>7</td>\n",
              "      <td>100</td>\n",
              "      <td>5</td>\n",
              "      <td>pairwise</td>\n",
              "      <td>LP</td>\n",
              "      <td>adam</td>\n",
              "      <td>False</td>\n",
              "      <td>{'lr': 0.001}</td>\n",
              "      <td>{'p': 2, 'lambda': 0.001}</td>\n",
              "      <td>0.215573</td>\n",
              "      <td>45.197183</td>\n",
              "      <td>0.070423</td>\n",
              "      <td>0.295775</td>\n",
              "      <td>0.471831</td>\n",
              "    </tr>\n",
              "    <tr>\n",
              "      <th>118</th>\n",
              "      <td>150</td>\n",
              "      <td>42</td>\n",
              "      <td>7</td>\n",
              "      <td>150</td>\n",
              "      <td>1</td>\n",
              "      <td>pairwise</td>\n",
              "      <td>LP</td>\n",
              "      <td>adam</td>\n",
              "      <td>False</td>\n",
              "      <td>{'lr': 0.001}</td>\n",
              "      <td>{'p': 2, 'lambda': 0.001}</td>\n",
              "      <td>0.194443</td>\n",
              "      <td>56.042254</td>\n",
              "      <td>0.105634</td>\n",
              "      <td>0.225352</td>\n",
              "      <td>0.380282</td>\n",
              "    </tr>\n",
              "    <tr>\n",
              "      <th>119</th>\n",
              "      <td>150</td>\n",
              "      <td>42</td>\n",
              "      <td>7</td>\n",
              "      <td>150</td>\n",
              "      <td>5</td>\n",
              "      <td>pairwise</td>\n",
              "      <td>LP</td>\n",
              "      <td>adam</td>\n",
              "      <td>False</td>\n",
              "      <td>{'lr': 0.001}</td>\n",
              "      <td>{'p': 2, 'lambda': 0.001}</td>\n",
              "      <td>0.154231</td>\n",
              "      <td>51.521127</td>\n",
              "      <td>0.007042</td>\n",
              "      <td>0.253521</td>\n",
              "      <td>0.401408</td>\n",
              "    </tr>\n",
              "  </tbody>\n",
              "</table>\n",
              "<p>120 rows × 16 columns</p>\n",
              "</div>"
            ],
            "text/plain": [
              "     batches_count  seed  epochs    k  ...         mr    hits_1    hits_3   hits_10\n",
              "0               50    42       2   20  ...  97.669014  0.161972  0.169014  0.190141\n",
              "1               50    42       2   20  ...  86.161972  0.147887  0.161972  0.211268\n",
              "2               50    42       2   60  ...  79.415493  0.098592  0.176056  0.253521\n",
              "3               50    42       2   60  ...  63.661972  0.119718  0.232394  0.366197\n",
              "4               50    42       2  100  ...  80.760563  0.056338  0.176056  0.330986\n",
              "..             ...   ...     ...  ...  ...        ...       ...       ...       ...\n",
              "115            150    42       7   60  ...  41.718310  0.154930  0.345070  0.464789\n",
              "116            150    42       7  100  ...  50.704225  0.126761  0.316901  0.450704\n",
              "117            150    42       7  100  ...  45.197183  0.070423  0.295775  0.471831\n",
              "118            150    42       7  150  ...  56.042254  0.105634  0.225352  0.380282\n",
              "119            150    42       7  150  ...  51.521127  0.007042  0.253521  0.401408\n",
              "\n",
              "[120 rows x 16 columns]"
            ]
          },
          "metadata": {
            "tags": []
          },
          "execution_count": 10
        }
      ]
    },
    {
      "cell_type": "code",
      "metadata": {
        "id": "Bgnj0Ah_3t_5",
        "outputId": "1f76eea0-3bfd-49a4-8c6e-3778d8f41187",
        "colab": {
          "base_uri": "https://localhost:8080/",
          "height": 16
        }
      },
      "source": [
        "# Export results\n",
        "\n",
        "from google.colab import files\n",
        "results.to_csv('TransE_results.csv') \n",
        "files.download('TransE_results.csv')"
      ],
      "execution_count": null,
      "outputs": [
        {
          "output_type": "display_data",
          "data": {
            "application/javascript": [
              "\n",
              "    async function download(id, filename, size) {\n",
              "      if (!google.colab.kernel.accessAllowed) {\n",
              "        return;\n",
              "      }\n",
              "      const div = document.createElement('div');\n",
              "      const label = document.createElement('label');\n",
              "      label.textContent = `Downloading \"${filename}\": `;\n",
              "      div.appendChild(label);\n",
              "      const progress = document.createElement('progress');\n",
              "      progress.max = size;\n",
              "      div.appendChild(progress);\n",
              "      document.body.appendChild(div);\n",
              "\n",
              "      const buffers = [];\n",
              "      let downloaded = 0;\n",
              "\n",
              "      const channel = await google.colab.kernel.comms.open(id);\n",
              "      // Send a message to notify the kernel that we're ready.\n",
              "      channel.send({})\n",
              "\n",
              "      for await (const message of channel.messages) {\n",
              "        // Send a message to notify the kernel that we're ready.\n",
              "        channel.send({})\n",
              "        if (message.buffers) {\n",
              "          for (const buffer of message.buffers) {\n",
              "            buffers.push(buffer);\n",
              "            downloaded += buffer.byteLength;\n",
              "            progress.value = downloaded;\n",
              "          }\n",
              "        }\n",
              "      }\n",
              "      const blob = new Blob(buffers, {type: 'application/binary'});\n",
              "      const a = document.createElement('a');\n",
              "      a.href = window.URL.createObjectURL(blob);\n",
              "      a.download = filename;\n",
              "      div.appendChild(a);\n",
              "      a.click();\n",
              "      div.remove();\n",
              "    }\n",
              "  "
            ],
            "text/plain": [
              "<IPython.core.display.Javascript object>"
            ]
          },
          "metadata": {
            "tags": []
          }
        },
        {
          "output_type": "display_data",
          "data": {
            "application/javascript": [
              "download(\"download_c0d826af-22f1-43cf-9183-68f5ea72a577\", \"TransE_results.csv\", 21432)"
            ],
            "text/plain": [
              "<IPython.core.display.Javascript object>"
            ]
          },
          "metadata": {
            "tags": []
          }
        }
      ]
    }
  ]
}
