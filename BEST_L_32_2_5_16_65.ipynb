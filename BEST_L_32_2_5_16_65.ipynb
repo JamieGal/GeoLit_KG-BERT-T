{
  "nbformat": 4,
  "nbformat_minor": 0,
  "metadata": {
    "colab": {
      "name": "BEST_L_32_2_5_16_65.ipynb",
      "provenance": [],
      "collapsed_sections": [],
      "authorship_tag": "ABX9TyMtzUW8Nuy48DI343mLX7Ma",
      "include_colab_link": true
    },
    "kernelspec": {
      "name": "python3",
      "display_name": "Python 3"
    },
    "accelerator": "GPU",
    "widgets": {
      "application/vnd.jupyter.widget-state+json": {
        "5467af58ac5146978b60363ffab9d1d4": {
          "model_module": "@jupyter-widgets/controls",
          "model_name": "HBoxModel",
          "state": {
            "_view_name": "HBoxView",
            "_dom_classes": [],
            "_model_name": "HBoxModel",
            "_view_module": "@jupyter-widgets/controls",
            "_model_module_version": "1.5.0",
            "_view_count": null,
            "_view_module_version": "1.5.0",
            "box_style": "",
            "layout": "IPY_MODEL_1b0ddfdff68e4175ba3c2d3e1e31209a",
            "_model_module": "@jupyter-widgets/controls",
            "children": [
              "IPY_MODEL_c9c7b478c3524db8905cb176e5550bca",
              "IPY_MODEL_546bfc49308147e3843cd6984b4c8077"
            ]
          }
        },
        "1b0ddfdff68e4175ba3c2d3e1e31209a": {
          "model_module": "@jupyter-widgets/base",
          "model_name": "LayoutModel",
          "state": {
            "_view_name": "LayoutView",
            "grid_template_rows": null,
            "right": null,
            "justify_content": null,
            "_view_module": "@jupyter-widgets/base",
            "overflow": null,
            "_model_module_version": "1.2.0",
            "_view_count": null,
            "flex_flow": null,
            "width": null,
            "min_width": null,
            "border": null,
            "align_items": null,
            "bottom": null,
            "_model_module": "@jupyter-widgets/base",
            "top": null,
            "grid_column": null,
            "overflow_y": null,
            "overflow_x": null,
            "grid_auto_flow": null,
            "grid_area": null,
            "grid_template_columns": null,
            "flex": null,
            "_model_name": "LayoutModel",
            "justify_items": null,
            "grid_row": null,
            "max_height": null,
            "align_content": null,
            "visibility": null,
            "align_self": null,
            "height": null,
            "min_height": null,
            "padding": null,
            "grid_auto_rows": null,
            "grid_gap": null,
            "max_width": null,
            "order": null,
            "_view_module_version": "1.2.0",
            "grid_template_areas": null,
            "object_position": null,
            "object_fit": null,
            "grid_auto_columns": null,
            "margin": null,
            "display": null,
            "left": null
          }
        },
        "c9c7b478c3524db8905cb176e5550bca": {
          "model_module": "@jupyter-widgets/controls",
          "model_name": "FloatProgressModel",
          "state": {
            "_view_name": "ProgressView",
            "style": "IPY_MODEL_3791b7ba21274153b4550baf845969de",
            "_dom_classes": [],
            "description": "Downloading: 100%",
            "_model_name": "FloatProgressModel",
            "bar_style": "success",
            "max": 433,
            "_view_module": "@jupyter-widgets/controls",
            "_model_module_version": "1.5.0",
            "value": 433,
            "_view_count": null,
            "_view_module_version": "1.5.0",
            "orientation": "horizontal",
            "min": 0,
            "description_tooltip": null,
            "_model_module": "@jupyter-widgets/controls",
            "layout": "IPY_MODEL_49e0cc7de2fa4777a319c14abbbd977a"
          }
        },
        "546bfc49308147e3843cd6984b4c8077": {
          "model_module": "@jupyter-widgets/controls",
          "model_name": "HTMLModel",
          "state": {
            "_view_name": "HTMLView",
            "style": "IPY_MODEL_e618054e8afe47a8bbf31b6dc3bfbe21",
            "_dom_classes": [],
            "description": "",
            "_model_name": "HTMLModel",
            "placeholder": "​",
            "_view_module": "@jupyter-widgets/controls",
            "_model_module_version": "1.5.0",
            "value": " 433/433 [00:00&lt;00:00, 656B/s]",
            "_view_count": null,
            "_view_module_version": "1.5.0",
            "description_tooltip": null,
            "_model_module": "@jupyter-widgets/controls",
            "layout": "IPY_MODEL_1819a98318454811bf9bf986879e41bc"
          }
        },
        "3791b7ba21274153b4550baf845969de": {
          "model_module": "@jupyter-widgets/controls",
          "model_name": "ProgressStyleModel",
          "state": {
            "_view_name": "StyleView",
            "_model_name": "ProgressStyleModel",
            "description_width": "initial",
            "_view_module": "@jupyter-widgets/base",
            "_model_module_version": "1.5.0",
            "_view_count": null,
            "_view_module_version": "1.2.0",
            "bar_color": null,
            "_model_module": "@jupyter-widgets/controls"
          }
        },
        "49e0cc7de2fa4777a319c14abbbd977a": {
          "model_module": "@jupyter-widgets/base",
          "model_name": "LayoutModel",
          "state": {
            "_view_name": "LayoutView",
            "grid_template_rows": null,
            "right": null,
            "justify_content": null,
            "_view_module": "@jupyter-widgets/base",
            "overflow": null,
            "_model_module_version": "1.2.0",
            "_view_count": null,
            "flex_flow": null,
            "width": null,
            "min_width": null,
            "border": null,
            "align_items": null,
            "bottom": null,
            "_model_module": "@jupyter-widgets/base",
            "top": null,
            "grid_column": null,
            "overflow_y": null,
            "overflow_x": null,
            "grid_auto_flow": null,
            "grid_area": null,
            "grid_template_columns": null,
            "flex": null,
            "_model_name": "LayoutModel",
            "justify_items": null,
            "grid_row": null,
            "max_height": null,
            "align_content": null,
            "visibility": null,
            "align_self": null,
            "height": null,
            "min_height": null,
            "padding": null,
            "grid_auto_rows": null,
            "grid_gap": null,
            "max_width": null,
            "order": null,
            "_view_module_version": "1.2.0",
            "grid_template_areas": null,
            "object_position": null,
            "object_fit": null,
            "grid_auto_columns": null,
            "margin": null,
            "display": null,
            "left": null
          }
        },
        "e618054e8afe47a8bbf31b6dc3bfbe21": {
          "model_module": "@jupyter-widgets/controls",
          "model_name": "DescriptionStyleModel",
          "state": {
            "_view_name": "StyleView",
            "_model_name": "DescriptionStyleModel",
            "description_width": "",
            "_view_module": "@jupyter-widgets/base",
            "_model_module_version": "1.5.0",
            "_view_count": null,
            "_view_module_version": "1.2.0",
            "_model_module": "@jupyter-widgets/controls"
          }
        },
        "1819a98318454811bf9bf986879e41bc": {
          "model_module": "@jupyter-widgets/base",
          "model_name": "LayoutModel",
          "state": {
            "_view_name": "LayoutView",
            "grid_template_rows": null,
            "right": null,
            "justify_content": null,
            "_view_module": "@jupyter-widgets/base",
            "overflow": null,
            "_model_module_version": "1.2.0",
            "_view_count": null,
            "flex_flow": null,
            "width": null,
            "min_width": null,
            "border": null,
            "align_items": null,
            "bottom": null,
            "_model_module": "@jupyter-widgets/base",
            "top": null,
            "grid_column": null,
            "overflow_y": null,
            "overflow_x": null,
            "grid_auto_flow": null,
            "grid_area": null,
            "grid_template_columns": null,
            "flex": null,
            "_model_name": "LayoutModel",
            "justify_items": null,
            "grid_row": null,
            "max_height": null,
            "align_content": null,
            "visibility": null,
            "align_self": null,
            "height": null,
            "min_height": null,
            "padding": null,
            "grid_auto_rows": null,
            "grid_gap": null,
            "max_width": null,
            "order": null,
            "_view_module_version": "1.2.0",
            "grid_template_areas": null,
            "object_position": null,
            "object_fit": null,
            "grid_auto_columns": null,
            "margin": null,
            "display": null,
            "left": null
          }
        },
        "ee7f8d4c84284d3584873631d5f9026d": {
          "model_module": "@jupyter-widgets/controls",
          "model_name": "HBoxModel",
          "state": {
            "_view_name": "HBoxView",
            "_dom_classes": [],
            "_model_name": "HBoxModel",
            "_view_module": "@jupyter-widgets/controls",
            "_model_module_version": "1.5.0",
            "_view_count": null,
            "_view_module_version": "1.5.0",
            "box_style": "",
            "layout": "IPY_MODEL_53a79e95c969486393bd5f6b38954c2c",
            "_model_module": "@jupyter-widgets/controls",
            "children": [
              "IPY_MODEL_05ccf46959254617aa596b2c531aa399",
              "IPY_MODEL_fe53d72a28724bfd95363fb1f6ba479d"
            ]
          }
        },
        "53a79e95c969486393bd5f6b38954c2c": {
          "model_module": "@jupyter-widgets/base",
          "model_name": "LayoutModel",
          "state": {
            "_view_name": "LayoutView",
            "grid_template_rows": null,
            "right": null,
            "justify_content": null,
            "_view_module": "@jupyter-widgets/base",
            "overflow": null,
            "_model_module_version": "1.2.0",
            "_view_count": null,
            "flex_flow": null,
            "width": null,
            "min_width": null,
            "border": null,
            "align_items": null,
            "bottom": null,
            "_model_module": "@jupyter-widgets/base",
            "top": null,
            "grid_column": null,
            "overflow_y": null,
            "overflow_x": null,
            "grid_auto_flow": null,
            "grid_area": null,
            "grid_template_columns": null,
            "flex": null,
            "_model_name": "LayoutModel",
            "justify_items": null,
            "grid_row": null,
            "max_height": null,
            "align_content": null,
            "visibility": null,
            "align_self": null,
            "height": null,
            "min_height": null,
            "padding": null,
            "grid_auto_rows": null,
            "grid_gap": null,
            "max_width": null,
            "order": null,
            "_view_module_version": "1.2.0",
            "grid_template_areas": null,
            "object_position": null,
            "object_fit": null,
            "grid_auto_columns": null,
            "margin": null,
            "display": null,
            "left": null
          }
        },
        "05ccf46959254617aa596b2c531aa399": {
          "model_module": "@jupyter-widgets/controls",
          "model_name": "FloatProgressModel",
          "state": {
            "_view_name": "ProgressView",
            "style": "IPY_MODEL_770ab9253e6049e298c480eee3530888",
            "_dom_classes": [],
            "description": "Downloading: 100%",
            "_model_name": "FloatProgressModel",
            "bar_style": "success",
            "max": 231508,
            "_view_module": "@jupyter-widgets/controls",
            "_model_module_version": "1.5.0",
            "value": 231508,
            "_view_count": null,
            "_view_module_version": "1.5.0",
            "orientation": "horizontal",
            "min": 0,
            "description_tooltip": null,
            "_model_module": "@jupyter-widgets/controls",
            "layout": "IPY_MODEL_2b94f85e623246c780a0d5601f15eb6a"
          }
        },
        "fe53d72a28724bfd95363fb1f6ba479d": {
          "model_module": "@jupyter-widgets/controls",
          "model_name": "HTMLModel",
          "state": {
            "_view_name": "HTMLView",
            "style": "IPY_MODEL_6b0c4e51f950478ab1281add8dd0a82d",
            "_dom_classes": [],
            "description": "",
            "_model_name": "HTMLModel",
            "placeholder": "​",
            "_view_module": "@jupyter-widgets/controls",
            "_model_module_version": "1.5.0",
            "value": " 232k/232k [00:00&lt;00:00, 724kB/s]",
            "_view_count": null,
            "_view_module_version": "1.5.0",
            "description_tooltip": null,
            "_model_module": "@jupyter-widgets/controls",
            "layout": "IPY_MODEL_a96198b7dcd4470d82a2dc8c71f63cc7"
          }
        },
        "770ab9253e6049e298c480eee3530888": {
          "model_module": "@jupyter-widgets/controls",
          "model_name": "ProgressStyleModel",
          "state": {
            "_view_name": "StyleView",
            "_model_name": "ProgressStyleModel",
            "description_width": "initial",
            "_view_module": "@jupyter-widgets/base",
            "_model_module_version": "1.5.0",
            "_view_count": null,
            "_view_module_version": "1.2.0",
            "bar_color": null,
            "_model_module": "@jupyter-widgets/controls"
          }
        },
        "2b94f85e623246c780a0d5601f15eb6a": {
          "model_module": "@jupyter-widgets/base",
          "model_name": "LayoutModel",
          "state": {
            "_view_name": "LayoutView",
            "grid_template_rows": null,
            "right": null,
            "justify_content": null,
            "_view_module": "@jupyter-widgets/base",
            "overflow": null,
            "_model_module_version": "1.2.0",
            "_view_count": null,
            "flex_flow": null,
            "width": null,
            "min_width": null,
            "border": null,
            "align_items": null,
            "bottom": null,
            "_model_module": "@jupyter-widgets/base",
            "top": null,
            "grid_column": null,
            "overflow_y": null,
            "overflow_x": null,
            "grid_auto_flow": null,
            "grid_area": null,
            "grid_template_columns": null,
            "flex": null,
            "_model_name": "LayoutModel",
            "justify_items": null,
            "grid_row": null,
            "max_height": null,
            "align_content": null,
            "visibility": null,
            "align_self": null,
            "height": null,
            "min_height": null,
            "padding": null,
            "grid_auto_rows": null,
            "grid_gap": null,
            "max_width": null,
            "order": null,
            "_view_module_version": "1.2.0",
            "grid_template_areas": null,
            "object_position": null,
            "object_fit": null,
            "grid_auto_columns": null,
            "margin": null,
            "display": null,
            "left": null
          }
        },
        "6b0c4e51f950478ab1281add8dd0a82d": {
          "model_module": "@jupyter-widgets/controls",
          "model_name": "DescriptionStyleModel",
          "state": {
            "_view_name": "StyleView",
            "_model_name": "DescriptionStyleModel",
            "description_width": "",
            "_view_module": "@jupyter-widgets/base",
            "_model_module_version": "1.5.0",
            "_view_count": null,
            "_view_module_version": "1.2.0",
            "_model_module": "@jupyter-widgets/controls"
          }
        },
        "a96198b7dcd4470d82a2dc8c71f63cc7": {
          "model_module": "@jupyter-widgets/base",
          "model_name": "LayoutModel",
          "state": {
            "_view_name": "LayoutView",
            "grid_template_rows": null,
            "right": null,
            "justify_content": null,
            "_view_module": "@jupyter-widgets/base",
            "overflow": null,
            "_model_module_version": "1.2.0",
            "_view_count": null,
            "flex_flow": null,
            "width": null,
            "min_width": null,
            "border": null,
            "align_items": null,
            "bottom": null,
            "_model_module": "@jupyter-widgets/base",
            "top": null,
            "grid_column": null,
            "overflow_y": null,
            "overflow_x": null,
            "grid_auto_flow": null,
            "grid_area": null,
            "grid_template_columns": null,
            "flex": null,
            "_model_name": "LayoutModel",
            "justify_items": null,
            "grid_row": null,
            "max_height": null,
            "align_content": null,
            "visibility": null,
            "align_self": null,
            "height": null,
            "min_height": null,
            "padding": null,
            "grid_auto_rows": null,
            "grid_gap": null,
            "max_width": null,
            "order": null,
            "_view_module_version": "1.2.0",
            "grid_template_areas": null,
            "object_position": null,
            "object_fit": null,
            "grid_auto_columns": null,
            "margin": null,
            "display": null,
            "left": null
          }
        },
        "eb04416e72984a3698d082a46213d81c": {
          "model_module": "@jupyter-widgets/controls",
          "model_name": "HBoxModel",
          "state": {
            "_view_name": "HBoxView",
            "_dom_classes": [],
            "_model_name": "HBoxModel",
            "_view_module": "@jupyter-widgets/controls",
            "_model_module_version": "1.5.0",
            "_view_count": null,
            "_view_module_version": "1.5.0",
            "box_style": "",
            "layout": "IPY_MODEL_5119e9b55c70473698262716678f3d47",
            "_model_module": "@jupyter-widgets/controls",
            "children": [
              "IPY_MODEL_739afba141c24bc6ab56601a2ddf1a65",
              "IPY_MODEL_dd604610771747be9bdeeaba90f1318d"
            ]
          }
        },
        "5119e9b55c70473698262716678f3d47": {
          "model_module": "@jupyter-widgets/base",
          "model_name": "LayoutModel",
          "state": {
            "_view_name": "LayoutView",
            "grid_template_rows": null,
            "right": null,
            "justify_content": null,
            "_view_module": "@jupyter-widgets/base",
            "overflow": null,
            "_model_module_version": "1.2.0",
            "_view_count": null,
            "flex_flow": null,
            "width": null,
            "min_width": null,
            "border": null,
            "align_items": null,
            "bottom": null,
            "_model_module": "@jupyter-widgets/base",
            "top": null,
            "grid_column": null,
            "overflow_y": null,
            "overflow_x": null,
            "grid_auto_flow": null,
            "grid_area": null,
            "grid_template_columns": null,
            "flex": null,
            "_model_name": "LayoutModel",
            "justify_items": null,
            "grid_row": null,
            "max_height": null,
            "align_content": null,
            "visibility": null,
            "align_self": null,
            "height": null,
            "min_height": null,
            "padding": null,
            "grid_auto_rows": null,
            "grid_gap": null,
            "max_width": null,
            "order": null,
            "_view_module_version": "1.2.0",
            "grid_template_areas": null,
            "object_position": null,
            "object_fit": null,
            "grid_auto_columns": null,
            "margin": null,
            "display": null,
            "left": null
          }
        },
        "739afba141c24bc6ab56601a2ddf1a65": {
          "model_module": "@jupyter-widgets/controls",
          "model_name": "FloatProgressModel",
          "state": {
            "_view_name": "ProgressView",
            "style": "IPY_MODEL_3f0cd3668330421f8bde6af5be76aa91",
            "_dom_classes": [],
            "description": "Downloading: 100%",
            "_model_name": "FloatProgressModel",
            "bar_style": "success",
            "max": 440473133,
            "_view_module": "@jupyter-widgets/controls",
            "_model_module_version": "1.5.0",
            "value": 440473133,
            "_view_count": null,
            "_view_module_version": "1.5.0",
            "orientation": "horizontal",
            "min": 0,
            "description_tooltip": null,
            "_model_module": "@jupyter-widgets/controls",
            "layout": "IPY_MODEL_8b2af7dd7b6d4cef84eb0fe1fd905ea1"
          }
        },
        "dd604610771747be9bdeeaba90f1318d": {
          "model_module": "@jupyter-widgets/controls",
          "model_name": "HTMLModel",
          "state": {
            "_view_name": "HTMLView",
            "style": "IPY_MODEL_2536f20480b14283ad287f84f221e49e",
            "_dom_classes": [],
            "description": "",
            "_model_name": "HTMLModel",
            "placeholder": "​",
            "_view_module": "@jupyter-widgets/controls",
            "_model_module_version": "1.5.0",
            "value": " 440M/440M [00:06&lt;00:00, 67.8MB/s]",
            "_view_count": null,
            "_view_module_version": "1.5.0",
            "description_tooltip": null,
            "_model_module": "@jupyter-widgets/controls",
            "layout": "IPY_MODEL_49d2c4517c374ec0b9fbd438739d17ad"
          }
        },
        "3f0cd3668330421f8bde6af5be76aa91": {
          "model_module": "@jupyter-widgets/controls",
          "model_name": "ProgressStyleModel",
          "state": {
            "_view_name": "StyleView",
            "_model_name": "ProgressStyleModel",
            "description_width": "initial",
            "_view_module": "@jupyter-widgets/base",
            "_model_module_version": "1.5.0",
            "_view_count": null,
            "_view_module_version": "1.2.0",
            "bar_color": null,
            "_model_module": "@jupyter-widgets/controls"
          }
        },
        "8b2af7dd7b6d4cef84eb0fe1fd905ea1": {
          "model_module": "@jupyter-widgets/base",
          "model_name": "LayoutModel",
          "state": {
            "_view_name": "LayoutView",
            "grid_template_rows": null,
            "right": null,
            "justify_content": null,
            "_view_module": "@jupyter-widgets/base",
            "overflow": null,
            "_model_module_version": "1.2.0",
            "_view_count": null,
            "flex_flow": null,
            "width": null,
            "min_width": null,
            "border": null,
            "align_items": null,
            "bottom": null,
            "_model_module": "@jupyter-widgets/base",
            "top": null,
            "grid_column": null,
            "overflow_y": null,
            "overflow_x": null,
            "grid_auto_flow": null,
            "grid_area": null,
            "grid_template_columns": null,
            "flex": null,
            "_model_name": "LayoutModel",
            "justify_items": null,
            "grid_row": null,
            "max_height": null,
            "align_content": null,
            "visibility": null,
            "align_self": null,
            "height": null,
            "min_height": null,
            "padding": null,
            "grid_auto_rows": null,
            "grid_gap": null,
            "max_width": null,
            "order": null,
            "_view_module_version": "1.2.0",
            "grid_template_areas": null,
            "object_position": null,
            "object_fit": null,
            "grid_auto_columns": null,
            "margin": null,
            "display": null,
            "left": null
          }
        },
        "2536f20480b14283ad287f84f221e49e": {
          "model_module": "@jupyter-widgets/controls",
          "model_name": "DescriptionStyleModel",
          "state": {
            "_view_name": "StyleView",
            "_model_name": "DescriptionStyleModel",
            "description_width": "",
            "_view_module": "@jupyter-widgets/base",
            "_model_module_version": "1.5.0",
            "_view_count": null,
            "_view_module_version": "1.2.0",
            "_model_module": "@jupyter-widgets/controls"
          }
        },
        "49d2c4517c374ec0b9fbd438739d17ad": {
          "model_module": "@jupyter-widgets/base",
          "model_name": "LayoutModel",
          "state": {
            "_view_name": "LayoutView",
            "grid_template_rows": null,
            "right": null,
            "justify_content": null,
            "_view_module": "@jupyter-widgets/base",
            "overflow": null,
            "_model_module_version": "1.2.0",
            "_view_count": null,
            "flex_flow": null,
            "width": null,
            "min_width": null,
            "border": null,
            "align_items": null,
            "bottom": null,
            "_model_module": "@jupyter-widgets/base",
            "top": null,
            "grid_column": null,
            "overflow_y": null,
            "overflow_x": null,
            "grid_auto_flow": null,
            "grid_area": null,
            "grid_template_columns": null,
            "flex": null,
            "_model_name": "LayoutModel",
            "justify_items": null,
            "grid_row": null,
            "max_height": null,
            "align_content": null,
            "visibility": null,
            "align_self": null,
            "height": null,
            "min_height": null,
            "padding": null,
            "grid_auto_rows": null,
            "grid_gap": null,
            "max_width": null,
            "order": null,
            "_view_module_version": "1.2.0",
            "grid_template_areas": null,
            "object_position": null,
            "object_fit": null,
            "grid_auto_columns": null,
            "margin": null,
            "display": null,
            "left": null
          }
        }
      }
    }
  },
  "cells": [
    {
      "cell_type": "markdown",
      "metadata": {
        "id": "view-in-github",
        "colab_type": "text"
      },
      "source": [
        "<a href=\"https://colab.research.google.com/github/JamieGal/GeoLit_KG-BERT-T/blob/master/BEST_L_32_2_5_16_65.ipynb\" target=\"_parent\"><img src=\"https://colab.research.google.com/assets/colab-badge.svg\" alt=\"Open In Colab\"/></a>"
      ]
    },
    {
      "cell_type": "markdown",
      "metadata": {
        "id": "f_AZCjoJpaoN"
      },
      "source": [
        "# KG-BERT-T\n",
        "\n",
        "###Requirements; \n",
        "\n",
        "PyTorch and Transformers\n",
        "\n",
        "The following code with outputs saved produced the best results for KG-BERT-T with the following parameters;\n",
        "\n",
        "Dataset;  GeoLit-Long\n",
        "\n",
        "Train batch size;  32\n",
        "\n",
        "Learning rate;  2e-5\n",
        "\n",
        "Epochs;  5\n",
        "\n",
        "\n",
        "\n",
        "### Results;\n",
        "\n",
        "MR; 15.7 \n",
        "\n",
        "Hits@10; 0.65"
      ]
    },
    {
      "cell_type": "code",
      "metadata": {
        "id": "H9VJeweITen3",
        "outputId": "ffaec6c4-d5b9-4e88-e979-2411a57245ca",
        "colab": {
          "base_uri": "https://localhost:8080/",
          "height": 33
        }
      },
      "source": [
        "from google.colab import drive\n",
        "drive.mount('/content/drive') "
      ],
      "execution_count": 1,
      "outputs": [
        {
          "output_type": "stream",
          "text": [
            "Mounted at /content/drive\n"
          ],
          "name": "stdout"
        }
      ]
    },
    {
      "cell_type": "code",
      "metadata": {
        "id": "7VzAO7p7TdO6"
      },
      "source": [
        "!pip install pytorch\n",
        "!pip install transformers"
      ],
      "execution_count": null,
      "outputs": []
    },
    {
      "cell_type": "markdown",
      "metadata": {
        "id": "ij3l4MhGqcp8"
      },
      "source": [
        "## Import required libraries"
      ]
    },
    {
      "cell_type": "code",
      "metadata": {
        "id": "exBIMFndTgad"
      },
      "source": [
        "from __future__ import absolute_import, division, print_function\n",
        "\n",
        "import argparse\n",
        "import csv\n",
        "import glob \n",
        "import logging\n",
        "import os\n",
        "import random\n",
        "import json \n",
        "import sys\n",
        "import time\n",
        "import datetime\n",
        "from datetime import timedelta\n",
        "\n",
        "import numpy as np\n",
        "import torch\n",
        "from torch.utils.data import (DataLoader, RandomSampler, SequentialSampler,\n",
        "                              TensorDataset)\n",
        "from torch.utils.data.distributed import DistributedSampler\n",
        "\n",
        "try:\n",
        "    from torch.utils.tensorboard import SummaryWriter\n",
        "except:\n",
        "    from tensorboardX import SummaryWriter\n",
        "\n",
        "from tqdm import tqdm, trange\n",
        "\n",
        "from torch.nn import CrossEntropyLoss, MSELoss\n",
        "from scipy.stats import pearsonr, spearmanr\n",
        "from sklearn.metrics import matthews_corrcoef, f1_score\n",
        "from sklearn import metrics\n",
        "from sklearn.metrics import accuracy_score, precision_recall_fscore_support\n",
        "\n",
        "from transformers import BertForSequenceClassification, BertTokenizer, AdamW, get_linear_schedule_with_warmup, BertConfig, WEIGHTS_NAME\n",
        "from transformers import glue_output_modes as output_modes\n",
        "\n",
        "\n",
        "logger = logging.getLogger(__name__)"
      ],
      "execution_count": 3,
      "outputs": []
    },
    {
      "cell_type": "code",
      "metadata": {
        "id": "W4nyCWViTR7J"
      },
      "source": [
        "# Functions from KG-BERT\n",
        "\n",
        "class InputExample(object):\n",
        "\n",
        "    def __init__(self, guid, text_a, text_b=None, text_c=None, label=None):\n",
        "        self.guid = guid\n",
        "        self.text_a = text_a\n",
        "        self.text_b = text_b\n",
        "        self.text_c = text_c\n",
        "        self.label = label\n",
        "\n",
        "class InputFeatures(object):\n",
        " \n",
        "     def __init__(self, input_ids, input_mask, segment_ids, label_id):\n",
        "        self.input_ids = input_ids\n",
        "        self.input_mask = input_mask\n",
        "        self.segment_ids = segment_ids\n",
        "        self.label_id = label_id\n",
        "\n",
        "\n",
        "class DataProcessor(object):\n",
        "    \"\"\"Base class for data converters for sequence classification data sets.\n",
        "    Inputs for train and validation dataset and labels.\"\"\"\n",
        "\n",
        "    def get_train_examples(self, data_dir):\n",
        "        raise NotImplementedError()\n",
        "\n",
        "    def get_dev_examples(self, data_dir):\n",
        "        raise NotImplementedError()\n",
        "\n",
        "    def get_labels(self, data_dir):\n",
        "        raise NotImplementedError()\n",
        "\n",
        "    @classmethod\n",
        "    def _read_tsv(cls, input_file, quotechar=None):\n",
        "        \"\"\"Reads a tab separated value file.\"\"\"\n",
        "        with open(input_file, \"r\", encoding=\"utf-8\") as f:\n",
        "            reader = csv.reader(f, delimiter=\"\\t\", quotechar=quotechar)\n",
        "            lines = []\n",
        "            for line in reader:\n",
        "                if sys.version_info[0] == 2:\n",
        "                    line = list(unicode(cell, 'utf-8') for cell in line)\n",
        "                lines.append(line)\n",
        "            return lines\n",
        "\n",
        "\n",
        "class KGProcessor(DataProcessor):\n",
        "    \"\"\"Processor for knowledge graph data set.\"\"\"\n",
        "    def __init__(self):\n",
        "        self.labels = set()\n",
        "    \n",
        "    def get_train_examples(self, data_dir):\n",
        "        \"\"\"See base class.\"\"\"\n",
        "        return self._create_examples(\n",
        "            self._read_tsv(os.path.join(data_dir, \"train.tsv\")), \"train\", data_dir)\n",
        "\n",
        "    def get_dev_examples(self, data_dir):\n",
        "        \"\"\"See base class.\"\"\"\n",
        "        return self._create_examples(\n",
        "            self._read_tsv(os.path.join(data_dir, \"dev.tsv\")), \"dev\", data_dir)\n",
        "\n",
        "    def get_test_examples(self, data_dir):\n",
        "      \"\"\"See base class.\"\"\"\n",
        "      return self._create_examples(\n",
        "          self._read_tsv(os.path.join(data_dir, \"test.tsv\")), \"test\", data_dir)\n",
        "\n",
        "    def get_relations(self, data_dir):\n",
        "        \"\"\"Gets all labels (relations) in the knowledge graph.\"\"\"\n",
        "        # return list(self.labels)\n",
        "        with open(os.path.join(data_dir, \"relations.txt\"), 'r') as f:\n",
        "            lines = f.readlines()\n",
        "            relations = []\n",
        "            for line in lines:\n",
        "                relations.append(line.strip())\n",
        "        return relations\n",
        "\n",
        "    def get_labels(self, data_dir):\n",
        "        \"\"\"Gets all labels (0, 1) for triples in the knowledge graph.\"\"\"\n",
        "        return [\"0\", \"1\"]\n",
        "\n",
        "    def get_entities(self, data_dir):\n",
        "        \"\"\"Gets all entities in the knowledge graph.\"\"\"\n",
        "        # return list(self.labels)\n",
        "        with open(os.path.join(data_dir, \"entities.txt\"), 'r') as f:\n",
        "            lines = f.readlines()\n",
        "            entities = []\n",
        "            for line in lines:\n",
        "                entities.append(line.strip())\n",
        "        return entities\n",
        "\n",
        "    def get_train_triples(self, data_dir):\n",
        "        \"\"\"Gets training triples.\"\"\"\n",
        "        return self._read_tsv(os.path.join(data_dir, \"train.tsv\"))\n",
        "\n",
        "    def get_dev_triples(self, data_dir):\n",
        "        \"\"\"Gets validation triples.\"\"\"\n",
        "        return self._read_tsv(os.path.join(data_dir, \"dev.tsv\"))\n",
        "\n",
        "    def get_test_triples(self, data_dir):\n",
        "        \"\"\"Gets test triples.\"\"\"\n",
        "        return self._read_tsv(os.path.join(data_dir, \"test.tsv\"))\n",
        "\n",
        "    def _create_examples(self, lines, set_type, data_dir):\n",
        "        \"\"\"Creates examples for the training and dev sets.\"\"\"\n",
        "        # entity to text\n",
        "        ent2text = {}\n",
        "        with open(os.path.join(data_dir, \"entity2text.txt\"), 'r') as f:\n",
        "            ent_lines = f.readlines()\n",
        "            for line in ent_lines:\n",
        "                temp = line.strip().split('\\t')\n",
        "                if len(temp) == 2:\n",
        "                    end = temp[1]#.find(',')\n",
        "                    ent2text[temp[0]] = temp[1]#[:end]\n",
        "  \n",
        "        \"\"\"Replace entities with entity2textlong descriptions.\n",
        "        Hash out if using just entities.\"\"\"\n",
        "        with open(os.path.join(data_dir, \"entity2textlong.txt\"), 'r') as f:\n",
        "            ent_lines = f.readlines()\n",
        "            for line in ent_lines:\n",
        "                temp = line.strip().split('\\t')\n",
        "                \"\"\"Unhash if changing number of sentences.\"\"\"\n",
        "                #first_sent_end_position = temp[1].find(\".\")\n",
        "                ent2text[temp[0]] = temp[1]#[:first_sent_end_position + 1] \n",
        "\n",
        "        entities = list(ent2text.keys())\n",
        "\n",
        "        rel2text = {}\n",
        "        with open(os.path.join(data_dir, \"relation2text.txt\"), 'r') as f:\n",
        "            rel_lines = f.readlines()\n",
        "            for line in rel_lines:\n",
        "                temp = line.strip().split('\\t')\n",
        "                rel2text[temp[0]] = temp[1]      \n",
        "\n",
        "        lines_str_set = set(['\\t'.join(line) for line in lines])\n",
        "        examples = []\n",
        "        for (i, line) in enumerate(lines):\n",
        "            \n",
        "            head_ent_text = ent2text[line[0]]\n",
        "            tail_ent_text = ent2text[line[2]]\n",
        "            relation_text = rel2text[line[1]]\n",
        "\n",
        "            if set_type == \"dev\" or set_type == \"test\":\n",
        "                label = \"1\"\n",
        "                guid = \"%s-%s\" % (set_type, i)\n",
        "                text_a = head_ent_text\n",
        "                text_b = relation_text\n",
        "                text_c = tail_ent_text \n",
        "                self.labels.add(label)\n",
        "                examples.append(\n",
        "                    InputExample(guid=guid, text_a=text_a, text_b=text_b, text_c = text_c, label=label))\n",
        "                \n",
        "            elif set_type == \"train\":\n",
        "                guid = \"%s-%s\" % (set_type, i)\n",
        "                text_a = head_ent_text\n",
        "                text_b = relation_text\n",
        "                text_c = tail_ent_text \n",
        "                examples.append(\n",
        "                    InputExample(guid=guid, text_a=text_a, text_b=text_b, text_c = text_c, label=\"1\"))\n",
        "\n",
        "                \"\"\"Corrupt head or tail depending upon random number above or below 0.5.\"\"\"\n",
        "                rnd = random.random()\n",
        "                guid = \"%s-%s\" % (set_type + \"_corrupt\", i)\n",
        "                if rnd <= 0.5:\n",
        "                    # corrupting head\n",
        "                    for j in range(5):\n",
        "                        tmp_head = ''\n",
        "                        while True:\n",
        "                            tmp_ent_list = set(entities)\n",
        "                            tmp_ent_list.remove(line[0])\n",
        "                            tmp_ent_list = list(tmp_ent_list)\n",
        "                            tmp_head = random.choice(tmp_ent_list)\n",
        "                            tmp_triple_str = tmp_head + '\\t' + line[1] + '\\t' + line[2]\n",
        "                            if tmp_triple_str not in lines_str_set:\n",
        "                                break                    \n",
        "                        tmp_head_text = ent2text[tmp_head]\n",
        "                        examples.append(\n",
        "                            InputExample(guid=guid, text_a=tmp_head_text, text_b=text_b, text_c = text_c, label=\"0\"))       \n",
        "                else:\n",
        "                    # corrupting tail\n",
        "                    tmp_tail = ''\n",
        "                    for j in range(5):\n",
        "                        while True:\n",
        "                            tmp_ent_list = set(entities)\n",
        "                            tmp_ent_list.remove(line[2])\n",
        "                            tmp_ent_list = list(tmp_ent_list)\n",
        "                            tmp_tail = random.choice(tmp_ent_list)\n",
        "                            tmp_triple_str = line[0] + '\\t' + line[1] + '\\t' + tmp_tail\n",
        "                            if tmp_triple_str not in lines_str_set:\n",
        "                                break\n",
        "                        tmp_tail_text = ent2text[tmp_tail]\n",
        "                        examples.append(\n",
        "                            InputExample(guid=guid, text_a=text_a, text_b=text_b, text_c = tmp_tail_text, label=\"0\"))                                                  \n",
        "        return examples\n",
        "\n",
        "def convert_examples_to_features(examples, label_list, max_seq_length, tokenizer, print_info = True):\n",
        "    \"\"\"Loads a data file into a list of `InputBatch`s.\"\"\"\n",
        "\n",
        "    label_map = {label : i for i, label in enumerate(label_list)}\n",
        "\n",
        "    features = []\n",
        "    for (ex_index, example) in enumerate(examples):\n",
        "        if ex_index % 10000 == 0 and print_info:\n",
        "            logger.info(\"Writing example %d of %d\" % (ex_index, len(examples)))\n",
        "\n",
        "        tokens_a = tokenizer.tokenize(example.text_a)\n",
        "\n",
        "        tokens_b = None\n",
        "        tokens_c = None\n",
        "\n",
        "        \"\"\"Add special tokens\"\"\"\n",
        "        if example.text_b and example.text_c:\n",
        "            tokens_b = tokenizer.tokenize(example.text_b)\n",
        "            tokens_c = tokenizer.tokenize(example.text_c)\n",
        "            _truncate_seq_triple(tokens_a, tokens_b, tokens_c, max_seq_length - 4)\n",
        "        else:\n",
        "            if len(tokens_a) > max_seq_length - 2:\n",
        "                tokens_a = tokens_a[:(max_seq_length - 2)]\n",
        "\n",
        "        tokens = [\"[CLS]\"] + tokens_a + [\"[SEP]\"]\n",
        "        segment_ids = [0] * len(tokens)\n",
        "\n",
        "        if tokens_b:\n",
        "            tokens += tokens_b + [\"[SEP]\"]\n",
        "            segment_ids += [1] * (len(tokens_b) + 1)\n",
        "        if tokens_c:\n",
        "            tokens += tokens_c + [\"[SEP]\"]\n",
        "            segment_ids += [0] * (len(tokens_c) + 1)        \n",
        "\n",
        "        input_ids = tokenizer.convert_tokens_to_ids(tokens)\n",
        "\n",
        "        \"\"\"Input mask for tokens is 1, and for padding is 0.\"\"\"\n",
        "        input_mask = [1] * len(input_ids)\n",
        "\n",
        "        \"\"\"Zero-pad up to the sequence length.\"\"\"\n",
        "        padding = [0] * (max_seq_length - len(input_ids))\n",
        "        input_ids += padding\n",
        "        input_mask += padding\n",
        "        segment_ids += padding\n",
        "\n",
        "        assert len(input_ids) == max_seq_length\n",
        "        assert len(input_mask) == max_seq_length\n",
        "        assert len(segment_ids) == max_seq_length\n",
        "\n",
        "        label_id = label_map[example.label]\n",
        "\n",
        "        if ex_index < 5 and print_info:\n",
        "            logger.info(\"*** Example ***\")\n",
        "            logger.info(\"guid: %s\" % (example.guid))\n",
        "            logger.info(\"tokens: %s\" % \" \".join(\n",
        "                    [str(x) for x in tokens]))\n",
        "            logger.info(\"input_ids: %s\" % \" \".join([str(x) for x in input_ids]))\n",
        "            logger.info(\"input_mask: %s\" % \" \".join([str(x) for x in input_mask]))\n",
        "            logger.info(\n",
        "                    \"segment_ids: %s\" % \" \".join([str(x) for x in segment_ids]))\n",
        "            logger.info(\"label: %s (id = %d)\" % (example.label, label_id))\n",
        "\n",
        "        features.append(\n",
        "                InputFeatures(input_ids=input_ids,\n",
        "                              input_mask=input_mask,\n",
        "                              segment_ids=segment_ids,\n",
        "                              label_id=label_id))\n",
        "    return features\n",
        "\n",
        "\n",
        "def _truncate_seq_pair(tokens_a, tokens_b, max_length):\n",
        "    while True:\n",
        "        total_length = len(tokens_a) + len(tokens_b)\n",
        "        if total_length <= max_length:\n",
        "            break\n",
        "        if len(tokens_a) > len(tokens_b):\n",
        "            tokens_a.pop()\n",
        "        else:\n",
        "            tokens_b.pop()\n",
        "\n",
        "def _truncate_seq_triple(tokens_a, tokens_b, tokens_c, max_length):\n",
        "    while True:\n",
        "        total_length = len(tokens_a) + len(tokens_b) + len(tokens_c)\n",
        "        if total_length <= max_length:\n",
        "            break\n",
        "        if len(tokens_a) > len(tokens_b) and len(tokens_a) > len(tokens_c):\n",
        "            tokens_a.pop()\n",
        "        elif len(tokens_b) > len(tokens_a) and len(tokens_b) > len(tokens_c):\n",
        "            tokens_b.pop()\n",
        "        elif len(tokens_c) > len(tokens_a) and len(tokens_c) > len(tokens_b):\n",
        "            tokens_c.pop()\n",
        "        else:\n",
        "            tokens_c.pop()\n",
        "\n",
        "\n",
        "def format_time(elapsed):\n",
        "    \"\"\"Takes a time in seconds and returns a string hh:mm:ss\"\"\"\n",
        "    elapsed_rounded = int(round((elapsed)))\n",
        "    return str(datetime.timedelta(seconds=elapsed_rounded))\n",
        "\n",
        "def simple_accuracy(preds, labels):\n",
        "    return (preds == labels).mean()\n",
        "  \n",
        "def compute_metrics(preds, labels):\n",
        "    return {\"acc\": simple_accuracy(preds, labels)}"
      ],
      "execution_count": 4,
      "outputs": []
    },
    {
      "cell_type": "markdown",
      "metadata": {
        "id": "kW40O11JsgfK"
      },
      "source": [
        "## KG-BERT-T MODEL"
      ]
    },
    {
      "cell_type": "code",
      "metadata": {
        "id": "D_E6YgTFTPjZ",
        "outputId": "58e653be-99d3-44b4-fb72-3fe57df75c0e",
        "colab": {
          "base_uri": "https://localhost:8080/",
          "height": 1000,
          "referenced_widgets": [
            "5467af58ac5146978b60363ffab9d1d4",
            "1b0ddfdff68e4175ba3c2d3e1e31209a",
            "c9c7b478c3524db8905cb176e5550bca",
            "546bfc49308147e3843cd6984b4c8077",
            "3791b7ba21274153b4550baf845969de",
            "49e0cc7de2fa4777a319c14abbbd977a",
            "e618054e8afe47a8bbf31b6dc3bfbe21",
            "1819a98318454811bf9bf986879e41bc",
            "ee7f8d4c84284d3584873631d5f9026d",
            "53a79e95c969486393bd5f6b38954c2c",
            "05ccf46959254617aa596b2c531aa399",
            "fe53d72a28724bfd95363fb1f6ba479d",
            "770ab9253e6049e298c480eee3530888",
            "2b94f85e623246c780a0d5601f15eb6a",
            "6b0c4e51f950478ab1281add8dd0a82d",
            "a96198b7dcd4470d82a2dc8c71f63cc7",
            "eb04416e72984a3698d082a46213d81c",
            "5119e9b55c70473698262716678f3d47",
            "739afba141c24bc6ab56601a2ddf1a65",
            "dd604610771747be9bdeeaba90f1318d",
            "3f0cd3668330421f8bde6af5be76aa91",
            "8b2af7dd7b6d4cef84eb0fe1fd905ea1",
            "2536f20480b14283ad287f84f221e49e",
            "49d2c4517c374ec0b9fbd438739d17ad"
          ]
        }
      },
      "source": [
        "# Set the following before running\n",
        "\n",
        "# data_dir; location of GeoLit data files\n",
        "# model_name_or_path; choice of Transformers pre-trained models\n",
        "# output_dir; location of output files, including save model\n",
        "# cache_dir; cached training models for evaluation\n",
        "\n",
        "# max_sequence_lenght; number of tokens in data sequence. 100 covers all descriptions.\n",
        "# train_batch_size; batch size of training data\n",
        "# eval_batch_size; batch size of testing triples, positive and all corrupted negatives. 300 covers all possible.\n",
        "# learning_rate; for Adams optimizer\n",
        "# num_train_epochs; training epochs\n",
        "# warmup portion; warmup percentage for optimizer\n",
        "# weight_decay; for Adams optimizer\n",
        "\n",
        "\n",
        "\n",
        "data_dir = \"/content/drive/My Drive/PROJECT/kg_bert_baseline_data/geolit_data\"\n",
        "model_type = \"bert\"\n",
        "model_name_or_path = \"bert-base-uncased\"\n",
        "task_name = \"kg\"\n",
        "output_dir = (\"/content/drive/My Drive/PROJECT/kg_bert_baseline_data/geolit_data_output/link_prediction-\" + str(datetime.datetime.now()))\n",
        "cache_dir = \"(/content/drive/My Drive/PROJECT/kg_bert_baseline_data/geolit_data_output/cache_dir\"\n",
        "max_seq_length = 100\n",
        "train_batch_size = 32\n",
        "eval_batch_size = 300\n",
        "learning_rate = 2e-5\n",
        "num_train_epochs = 5.0\n",
        "warmup_proportion = 0.1\n",
        "weight_decay = 0.001\n",
        "max_grad_norm = 1.0\n",
        "logging_steps = 100   # Log every X update steps\n",
        "save_steps = 100\n",
        "eval_all_checkpoints = True\n",
        "overwrite_cache = True\n",
        "local_rank = -1\n",
        "seed = 42\n",
        "gradient_accumulation_steps = 1\n",
        "loss_scale = 0 \n",
        "processors = {\"kg\": KGProcessor,}\n",
        "\n",
        "\n",
        "#Check GPU availability\n",
        "if torch.cuda.is_available():    \n",
        "# Tell PyTorch to use the GPU.    \n",
        "    device = torch.device(\"cuda\")\n",
        "    print('There are %d GPU(s) available.' % torch.cuda.device_count())\n",
        "    print('We will use the GPU:', torch.cuda.get_device_name(0))\n",
        "else:\n",
        "    print('No GPU available, using the CPU instead.')\n",
        "    device = torch.device(\"cpu\")    \n",
        "n_gpu = torch.cuda.device_count()\n",
        "\n",
        "# Setup logging\n",
        "logging.basicConfig(format = '%(asctime)s - %(levelname)s - %(name)s -   %(message)s',\n",
        "                    datefmt = '%m/%d/%Y %H:%M:%S',\n",
        "                    level = logging.INFO if local_rank in [-1, 0] else logging.WARN)\n",
        "\n",
        "# Set seed\n",
        "random.seed(seed)\n",
        "np.random.seed(seed)\n",
        "torch.manual_seed(seed)\n",
        "if n_gpu > 0:\n",
        "    torch.cuda.manual_seed_all(seed)\n",
        "\n",
        "# Set processor to KGProcessor funtion\n",
        "processor = processors[task_name]()\n",
        "\n",
        "# Collect labels from processor and count, cpllect entities\n",
        "label_list = processor.get_labels(data_dir) \n",
        "num_labels = len(label_list)\n",
        "entity_list = processor.get_entities(data_dir)\n",
        "\n",
        "# Set model type to lower (as required)\n",
        "model_type = model_type.lower()\n",
        "\n",
        "# Configure BERT, and the BERT tokenizer\n",
        "config = BertConfig.from_pretrained(model_name_or_path,\n",
        "                                      num_labels=num_labels,\n",
        "                                      finetuning_task=task_name,\n",
        "                                      cache_dir=None)\n",
        "tokenizer = BertTokenizer.from_pretrained(model_name_or_path,\n",
        "                                            do_lower_case=True,\n",
        "                                            cache_dir=cache_dir if cache_dir else None)\n",
        "\n",
        "model = BertForSequenceClassification.from_pretrained(model_name_or_path,\n",
        "                                    from_tf=bool('.ckpt' in model_name_or_path),\n",
        "                                    config=config,\n",
        "                                    cache_dir=cache_dir if cache_dir else None)\n",
        "\n",
        "model.to(device)\n",
        "\n",
        "logger.info(\"Training/evaluation parameters %s\")\n",
        "\n",
        "# Load data features from cache or dataset file\n",
        "cached_features_file = os.path.join(data_dir, 'cached_{}_{}_{}_{}'.format(\n",
        "    'train',\n",
        "    list(filter(None, model_name_or_path.split('/'))).pop(),\n",
        "    str(max_seq_length),\n",
        "    str(task_name)))\n",
        "if os.path.exists(cached_features_file) and not overwrite_cache:\n",
        "    logger.info(\"Loading features from cached file %s\", cached_features_file)\n",
        "    features = torch.load(cached_features_file)\n",
        "else:\n",
        "    logger.info(\"Creating features from dataset file at %s\", data_dir)\n",
        "    label_list = processor.get_labels(data_dir)\n",
        "\n",
        "# Collect train dataset\n",
        "    train_dataset = None\n",
        "    num_train_optimization_steps = 0\n",
        "    train_dataset = processor.get_train_examples(data_dir)\n",
        "    num_train_optimization_steps = int(\n",
        "        len(train_dataset) / train_batch_size / gradient_accumulation_steps) * num_train_epochs\n",
        "\n",
        "# Create features from funtion \n",
        "    features = convert_examples_to_features(train_dataset, label_list, max_seq_length, tokenizer)\n",
        "\n",
        "# Save to cache    \n",
        "    logger.info(\"Saving features into cached file %s\", cached_features_file)\n",
        "    torch.save(features, cached_features_file)\n",
        "\n",
        "# Create ids for model\n",
        "train_features = convert_examples_to_features(\n",
        "        train_dataset, label_list, max_seq_length, tokenizer)\n",
        "all_input_ids = torch.tensor([f.input_ids for f in train_features], dtype=torch.long)\n",
        "all_input_mask = torch.tensor([f.input_mask for f in train_features], dtype=torch.long)\n",
        "all_segment_ids = torch.tensor([f.segment_ids for f in train_features], dtype=torch.long)\n",
        "all_label_ids = torch.tensor([f.label_id for f in train_features], dtype=torch.long)\n",
        "train_dataset = TensorDataset(all_input_ids, all_input_mask, all_segment_ids, all_label_ids)\n",
        "tb_writer = SummaryWriter()\n",
        "\n",
        "# Build dataloader for batches\n",
        "train_sampler = RandomSampler(train_dataset) \n",
        "train_dataloader = DataLoader(train_dataset, sampler=train_sampler, batch_size=train_batch_size)\n",
        "t_total = len(train_dataloader) // gradient_accumulation_steps * num_train_epochs\n",
        "\n",
        "# Prepare optimizer and schedule (linear warmup and decay)\n",
        "no_decay = ['bias', 'LayerNorm.weight'] \n",
        "optimizer_grouped_parameters = [\n",
        "    {'params': [p for n, p in model.named_parameters() if not any(nd in n for nd in no_decay)], 'weight_decay': weight_decay},\n",
        "    {'params': [p for n, p in model.named_parameters() if any(nd in n for nd in no_decay)], 'weight_decay': 0.0}\n",
        "    ]\n",
        "\n",
        "optimizer = AdamW(optimizer_grouped_parameters, lr=learning_rate)\n",
        "scheduler = get_linear_schedule_with_warmup(optimizer, num_warmup_steps=warmup_proportion, num_training_steps=num_train_optimization_steps)\n",
        "\n",
        "# Colab only provices 1 GPU but this was retained for others use\n",
        "if n_gpu > 1:\n",
        "    model = torch.nn.DataParallel(model)\n",
        "\n",
        "\n",
        "# ========================================\n",
        "#               Training\n",
        "# ======================================== \n",
        "# Training logging metrics\n",
        "logger.info(\"***** Running training *****\")\n",
        "logger.info(\"  Num examples = %d\", len(train_dataset))\n",
        "logger.info(\"  Num Epochs = %d\", num_train_epochs)\n",
        "logger.info(\"  Total train batch size (w. parallel, distributed & accumulation) = %d\",\n",
        "                train_batch_size * gradient_accumulation_steps * (torch.distributed.get_world_size() if local_rank != -1 else 1))\n",
        "logger.info(\"  Gradient Accumulation steps = %d\", gradient_accumulation_steps)\n",
        "logger.info(\"  Total optimization steps = %d\", t_total)\n",
        "\n",
        "# Set counts to zero\n",
        "global_step = 0\n",
        "tr_loss, logging_loss = 0.0, 0.0\n",
        "\n",
        "# Ensure model gradients set to 0 (in case rerun)\n",
        "model.zero_grad()\n",
        "\n",
        "# Collect training stats and final model results\n",
        "training_stats = []\n",
        "model_results = []\n",
        "\n",
        "# Measure the total training\n",
        "\n",
        "t0 = time.time() \n",
        "\n",
        "# Set model to train\n",
        "model.train()\n",
        "train_iterator = trange(int(num_train_epochs), desc=\"Epoch\")\n",
        "for epoch in train_iterator:\n",
        "    tr_loss = 0   \n",
        "    nb_tr_steps = 0\n",
        "    \n",
        "    epoch_iterator = tqdm(train_dataloader, desc=\"Iteration\")\n",
        "    for step, batch in enumerate(epoch_iterator):\n",
        "        batch = tuple(t.to(device) for t in batch)\n",
        "        inputs = {'input_ids':      batch[0],\n",
        "                  'attention_mask': batch[1],\n",
        "                  'labels':         batch[3]}\n",
        "        \n",
        "        if model_type != 'distilbert':\n",
        "            inputs['token_type_ids'] = batch[2] if model_type in ['bert']   # #DistilBERT (and XLM and RoBERTa) don't use token_type_ids (segment_ids)\n",
        "        outputs = model(**inputs)\n",
        "        tmp_eval_loss, logits = outputs[:2]\n",
        "        loss = outputs[0]\n",
        "\n",
        "        if n_gpu > 1:\n",
        "            loss = loss.mean() # mean() to average on multi-gpu parallel training\n",
        "        if gradient_accumulation_steps > 1:\n",
        "            loss = loss / gradient_accumulation_steps\n",
        "\n",
        "        # Back propagation of loss\n",
        "        loss.backward()\n",
        "\n",
        "        # Count total loss\n",
        "        tr_loss += loss.item()\n",
        "        nb_tr_steps += 1\n",
        "\n",
        "        if (step + 1) % gradient_accumulation_steps == 0:\n",
        "            torch.nn.utils.clip_grad_norm_(model.parameters(), max_grad_norm)\n",
        "\n",
        "            # Update learning rate schedule and set gradient back to 0\n",
        "            optimizer.step()\n",
        "            scheduler.step()  \n",
        "            model.zero_grad()\n",
        "            global_step += 1\n",
        "\n",
        "            if local_rank in [-1, 0] and logging_steps > 0 and global_step % logging_steps == 0:\n",
        "                logs = {}\n",
        "                loss_scalar = (tr_loss - logging_loss) / logging_steps\n",
        "                learning_rate_scalar = scheduler.get_lr()[0]\n",
        "                logs['learning_rate'] = learning_rate_scalar\n",
        "                logs['loss'] = loss_scalar\n",
        "                logging_loss = tr_loss\n",
        "\n",
        "                for key, value in logs.items():\n",
        "                    tb_writer.add_scalar(key, value, global_step)\n",
        "                print(json.dumps({**logs, **{'step': global_step}}))\n",
        "\n",
        "            # Save model checkpoint\n",
        "            if local_rank in [-1, 0] and save_steps > 0 and global_step % save_steps == 0:\n",
        "                output_dir_c = os.path.join(output_dir, 'checkpoint-{}'.format(global_step))\n",
        "                model_to_save = model.module if hasattr(model, 'module') else model  \n",
        "                model_to_save.save_pretrained(output_dir_c)\n",
        "                elapsed = format_time(time.time() - t0)\n",
        "                logger.info(\"Saving model checkpoint to %s\", output_dir_c)\n",
        "                logger.info(\"Elapsed time: %s\", elapsed)\n",
        "\n",
        "# Print metrics and save\n",
        "    print(\"Training loss: \", tr_loss)\n",
        "    avg_train_loss = tr_loss / len(train_dataloader)\n",
        "    training_stats.append({\n",
        "            'epoch': epoch + 1,\n",
        "            'Training Loss': avg_train_loss})\n",
        "print(\"Average training loss: \", avg_train_loss)\n",
        "logger.info(\" global_step = %s, average loss = %s\", global_step, tr_loss)\n",
        "logger.info(\"Saving model checkpoint to %s\", output_dir)\n",
        "\n",
        "# Save a trained model, config and tokenizer using save_pretrained.\n",
        "\n",
        "model_to_save = model.module if hasattr(model, 'module') else model  \n",
        "model_to_save.save_pretrained(output_dir)\n",
        "tokenizer.save_pretrained(output_dir)\n",
        "\n",
        "# Load a trained model\n",
        "model = BertForSequenceClassification.from_pretrained(output_dir)\n",
        "model.to(device)\n",
        "\n",
        "\n",
        "\n",
        "# ========================================\n",
        "#               Evaluating\n",
        "# ======================================== \n",
        "\n",
        "results = {}\n",
        "\n",
        "# Load tokenizer   \n",
        "tokenizer = BertTokenizer.from_pretrained(output_dir, do_lower_case=True)\n",
        "\n",
        "# Checkpoints\n",
        "checkpoints = [output_dir]\n",
        "if eval_all_checkpoints:\n",
        "    checkpoints = list(os.path.dirname(c) for c in sorted(glob.glob(output_dir + '/**/' + WEIGHTS_NAME, recursive=True)))\n",
        "    logging.getLogger(\"transformers.modeling_utils\").setLevel(logging.WARN)  \n",
        "logger.info(\"Evaluate the following checkpoints: %s\", checkpoints)\n",
        "for checkpoint in checkpoints:\n",
        "    global_step = checkpoint.split('-')[-1] if len(checkpoints) > 1 else \"\"\n",
        "    prefix = checkpoint.split('/')[-1] if checkpoint.find('checkpoint') != -1 else \"\"\n",
        "    \n",
        "    model = BertForSequenceClassification.from_pretrained(checkpoint)\n",
        "    model.to(device)\n",
        "\n",
        "    eval_dataset = processor.get_dev_examples(data_dir)\n",
        "    eval_features = convert_examples_to_features(\n",
        "        eval_dataset, label_list, max_seq_length, tokenizer)\n",
        "\n",
        "# As before, load ids, dataloader and set metrics to 0    \n",
        "    logger.info(\"***** Running evaluation {} *****\".format(prefix))\n",
        "    logger.info(\"  Num examples = %d\", len(eval_dataset))\n",
        "    logger.info(\"  Batch size = %d\", eval_batch_size)\n",
        "    all_input_ids = torch.tensor([f.input_ids for f in eval_features], dtype=torch.long)\n",
        "    all_input_mask = torch.tensor([f.input_mask for f in eval_features], dtype=torch.long)\n",
        "    all_segment_ids = torch.tensor([f.segment_ids for f in eval_features], dtype=torch.long)\n",
        "    all_label_ids = torch.tensor([f.label_id for f in eval_features], dtype=torch.long)\n",
        "\n",
        "    eval_data = TensorDataset(all_input_ids, all_input_mask, all_segment_ids, all_label_ids) \n",
        "    eval_sampler = SequentialSampler(eval_data)\n",
        "    eval_dataloader = DataLoader(eval_data, sampler=eval_sampler, batch_size=eval_batch_size) \n",
        "\n",
        "    eval_loss = 0.0\n",
        "    nb_eval_steps = 0\n",
        "\n",
        "# Set predictions and labels to zero to collect\n",
        "    preds = None\n",
        "    out_label_ids = None\n",
        "    \n",
        "# Run batch    \n",
        "    for batch in tqdm(eval_dataloader, desc=\"Evaluating\"):\n",
        "        # Set model to eval, stops dropout\n",
        "        model.eval()\n",
        "        batch = tuple(t.to(device) for t in batch)\n",
        "\n",
        "        with torch.no_grad():\n",
        "            inputs = {'input_ids':      batch[0],\n",
        "                      'attention_mask': batch[1],\n",
        "                      'labels':         batch[3]}\n",
        "            if model_type != 'distilbert':\n",
        "                inputs['token_type_ids'] = batch[2] if model_type in ['bert', 'xlnet'] else None  # XLM, DistilBERT and RoBERTa don't use token_type_ids (segment_ids)\n",
        "            outputs = model(**inputs)\n",
        "            tmp_eval_loss, logits = outputs[:2]\n",
        "\n",
        "            eval_loss += tmp_eval_loss.mean().item()\n",
        "        nb_eval_steps += 1\n",
        "        \n",
        "        if preds is None:\n",
        "            preds = logits.detach().cpu().numpy()\n",
        "            out_label_ids = inputs['labels'].detach().cpu().numpy()\n",
        "        else:\n",
        "            preds = np.append(preds, logits.detach().cpu().numpy(), axis=0)\n",
        "            out_label_ids = np.append(out_label_ids, inputs['labels'].detach().cpu().numpy(), axis=0)\n",
        "    \n",
        "    eval_loss = eval_loss / nb_eval_steps\n",
        "    preds = np.argmax(preds, axis=1)\n",
        "    result = compute_metrics(preds, out_label_ids)\n",
        "    loss = tr_loss/nb_tr_steps\n",
        "\n",
        "    result['eval_loss'] = eval_loss\n",
        "    result['global_step'] = global_step\n",
        "    result['loss'] = loss\n",
        "\n",
        "    logger.info(\"***** Eval results {} *****\".format(prefix))\n",
        "    for key in sorted(result.keys()):\n",
        "        logger.info(\"  %s = %s\", key, str(result[key]))\n",
        "\n",
        "# Calculate evaluation stats\n",
        "    training_time = format_time(time.time() - t0)\n",
        "    avg_val_accuracy = result[key] / len(eval_dataloader)\n",
        "    avg_val_loss = eval_loss / len(eval_dataloader)\n",
        "    training_stats.append({\n",
        "            'Avg. validation acc': avg_val_accuracy,\n",
        "            'Valid. Loss': avg_val_loss,\n",
        "            'Training Time': training_time})\n",
        "\n",
        "\n",
        "\n",
        "# ========================================\n",
        "#               Prediction\n",
        "# ======================================== \n",
        "\n",
        "# Run test prediction, run as above with test set\n",
        "\n",
        "test_task = task_name\n",
        "test_output_dir = output_dir\n",
        "\n",
        "train_triples = processor.get_train_triples(data_dir)\n",
        "dev_triples = processor.get_dev_triples(data_dir)\n",
        "test_triples = processor.get_test_triples(data_dir)\n",
        "all_triples = train_triples + dev_triples + test_triples\n",
        "\n",
        "all_triples_str_set = set()\n",
        "for triple in all_triples:\n",
        "    triple_str = '\\t'.join(triple)\n",
        "    all_triples_str_set.add(triple_str)\n",
        "\n",
        "test_dataset = processor.get_test_examples(data_dir)\n",
        "test_features = convert_examples_to_features(\n",
        "    test_dataset, label_list, max_seq_length, tokenizer)\n",
        "logger.info(\"***** Running Prediction *****\")\n",
        "logger.info(\"  Num examples = %d\", len(test_dataset))\n",
        "logger.info(\"  Batch size = %d\", eval_batch_size)\n",
        "all_input_ids = torch.tensor([f.input_ids for f in test_features], dtype=torch.long)\n",
        "all_input_mask = torch.tensor([f.input_mask for f in test_features], dtype=torch.long)\n",
        "all_segment_ids = torch.tensor([f.segment_ids for f in test_features], dtype=torch.long)\n",
        "all_label_ids = torch.tensor([f.label_id for f in test_features], dtype=torch.long)\n",
        "\n",
        "eval_data = TensorDataset(all_input_ids, all_input_mask, all_segment_ids, all_label_ids)\n",
        "eval_sampler = SequentialSampler(eval_data)\n",
        "eval_dataloader = DataLoader(eval_data, sampler=eval_sampler, batch_size=eval_batch_size)  \n",
        "\n",
        "# Load pretrained model and tokenizer\n",
        "model = BertForSequenceClassification.from_pretrained(output_dir, num_labels=num_labels)\n",
        "tokenizer = BertTokenizer.from_pretrained(output_dir, do_lower_case=True) \n",
        "model.to(device) \n",
        "\n",
        "# Set model to eval, stops dropout\n",
        "model.eval()\n",
        "\n",
        "nb_test_steps = 0\n",
        "eval_loss = 0.0\n",
        "preds = None\n",
        "out_label_ids = None\n",
        "for batch in tqdm(eval_dataloader, desc=\"Testing\"):\n",
        "    model.eval()\n",
        "    batch = tuple(t.to(device) for t in batch)\n",
        "\n",
        "    with torch.no_grad():\n",
        "        inputs = {'input_ids':      batch[0],\n",
        "                  'attention_mask': batch[1],\n",
        "                  'labels':         batch[3]}\n",
        "        if model_type != 'distilbert':\n",
        "            inputs['token_type_ids'] = batch[2] if model_type in ['bert'] \n",
        "        outputs = model(**inputs)\n",
        "        tmp_eval_loss, logits = outputs[:2]\n",
        "\n",
        "        eval_loss += tmp_eval_loss.mean().item()\n",
        "    nb_eval_steps += 1\n",
        "    \n",
        "    if preds is None:\n",
        "        preds = logits.detach().cpu().numpy()\n",
        "        out_label_ids = inputs['labels'].detach().cpu().numpy()\n",
        "    else:\n",
        "        preds = np.append(preds, logits.detach().cpu().numpy(), axis=0)\n",
        "        out_label_ids = np.append(out_label_ids, inputs['labels'].detach().cpu().numpy(), axis=0)\n",
        "\n",
        "eval_loss = eval_loss / nb_eval_steps\n",
        "preds = np.argmax(preds, axis=1)\n",
        "result = compute_metrics(preds, out_label_ids)\n",
        "results.update(result)\n",
        "loss = tr_loss/nb_tr_steps       ###\n",
        "\n",
        "result['eval_loss'] = eval_loss       ###\n",
        "result['global_step'] = global_step     ###\n",
        "result['loss'] = loss       ###\n",
        "\n",
        "\n",
        "\n",
        "# ========================================\n",
        "#              Link prediction\n",
        "# ======================================== \n",
        "\n",
        "# Link prediction, from KG-BERT\n",
        "\n",
        "# Collect ranks, rank left and rank right\n",
        "ranks = []\n",
        "ranks_left = []\n",
        "ranks_right = []\n",
        "\n",
        "# Collect hits left and right\n",
        "hits_left = []\n",
        "hits_right = []\n",
        "hits = []\n",
        "\n",
        "# Collect test triple rank left and right in order\n",
        "trip_rank = []\n",
        "trip_count = 0\n",
        "\n",
        "# Hits@10 count\n",
        "top_ten_hit_count = 0\n",
        "\n",
        "# If Hits in top 10, append\n",
        "for i in range(10):\n",
        "    hits_left.append([])\n",
        "    hits_right.append([])\n",
        "    hits.append([])\n",
        "\n",
        "# Collect triples\n",
        "for test_triple in test_triples:\n",
        "    head = test_triple[0]\n",
        "    relation = test_triple[1]\n",
        "    tail = test_triple[2]\n",
        "    trip_count += 1\n",
        "\n",
        "# Corrupt head will all entities (except if they exist in dataset)\n",
        "    head_corrupt_list = [test_triple]\n",
        "    for corrupt_ent in entity_list:\n",
        "        if corrupt_ent != head:\n",
        "            tmp_triple = [corrupt_ent, relation, tail]\n",
        "            tmp_triple_str = '\\t'.join(tmp_triple)\n",
        "            if tmp_triple_str not in all_triples_str_set:\n",
        "                head_corrupt_list.append(tmp_triple)\n",
        "\n",
        "# Run model as above\n",
        "    tmp_examples = processor._create_examples(head_corrupt_list, \"test\", data_dir)\n",
        "    print(len(tmp_examples))\n",
        "    tmp_features = convert_examples_to_features(tmp_examples, label_list, max_seq_length, tokenizer, print_info = False)\n",
        "    all_input_ids = torch.tensor([f.input_ids for f in tmp_features], dtype=torch.long)\n",
        "    all_input_mask = torch.tensor([f.input_mask for f in tmp_features], dtype=torch.long)\n",
        "    all_segment_ids = torch.tensor([f.segment_ids for f in tmp_features], dtype=torch.long)\n",
        "    all_label_ids = torch.tensor([f.label_id for f in tmp_features], dtype=torch.long)\n",
        "\n",
        "    eval_data = TensorDataset(all_input_ids, all_input_mask, all_segment_ids, all_label_ids)\n",
        "    eval_sampler = SequentialSampler(eval_data)\n",
        "    eval_dataloader = DataLoader(eval_data, sampler=eval_sampler, batch_size=eval_batch_size)\n",
        "\n",
        "    model.eval()\n",
        "    preds = None       \n",
        "    out_label_ids = None\n",
        "    for batch in tqdm(eval_dataloader, desc=\"Testing\"):\n",
        "        batch = tuple(t.to(device) for t in batch)\n",
        "        with torch.no_grad():\n",
        "            inputs = {'input_ids':      batch[0],\n",
        "                      'attention_mask': batch[1],\n",
        "                      'labels':         batch[3]}\n",
        "            if model_type != 'distilbert':\n",
        "                inputs['token_type_ids'] = batch[2] if model_type in ['bert', 'xlnet'] else None  \n",
        "            outputs = model(**inputs)\n",
        "            tmp_eval_loss, logits = outputs[:2]\n",
        "            eval_loss += tmp_eval_loss.mean().item()\n",
        "        nb_eval_steps += 1\n",
        "        if preds is None:\n",
        "            preds = logits.detach().cpu().numpy()\n",
        "            out_label_ids = inputs['labels'].detach().cpu().numpy()\n",
        "        else:\n",
        "            preds = np.append(preds, logits.detach().cpu().numpy(), axis=0)\n",
        "            out_label_ids = np.append(out_label_ids, inputs['labels'].detach().cpu().numpy(), axis=0) \n",
        "\n",
        "# Collect tensor predictions, and link to label tensor to ranking\n",
        "# This sorts and ranks predictions and returns rank for left (head)\n",
        "    rel_values = preds[:, all_label_ids[0]]\n",
        "    rel_values = torch.tensor(rel_values)\n",
        "    _, argsort1 = torch.sort(rel_values, descending=True)\n",
        "    argsort1 = argsort1.cpu().numpy()\n",
        "    rank1 = np.where(argsort1 == 0)[0][0]\n",
        "    print('left: ', rank1)\n",
        "    ranks.append(rank1+1)\n",
        "    ranks_left.append(rank1+1)\n",
        "    if rank1 < 10:\n",
        "        top_ten_hit_count += 1\n",
        "\n",
        "# As above, corrupt tail and run model\n",
        "    tail_corrupt_list = [test_triple]\n",
        "    for corrupt_ent in entity_list:\n",
        "        if corrupt_ent != tail:\n",
        "            tmp_triple = [head, relation, corrupt_ent]\n",
        "            tmp_triple_str = '\\t'.join(tmp_triple)\n",
        "            if tmp_triple_str not in all_triples_str_set:\n",
        "                tail_corrupt_list.append(tmp_triple)\n",
        "\n",
        "    tmp_examples = processor._create_examples(tail_corrupt_list, \"test\", data_dir)\n",
        "    tmp_features = convert_examples_to_features(tmp_examples, label_list, max_seq_length, tokenizer, print_info = False)\n",
        "    all_input_ids = torch.tensor([f.input_ids for f in tmp_features], dtype=torch.long)\n",
        "    all_input_mask = torch.tensor([f.input_mask for f in tmp_features], dtype=torch.long)\n",
        "    all_segment_ids = torch.tensor([f.segment_ids for f in tmp_features], dtype=torch.long)\n",
        "    all_label_ids = torch.tensor([f.label_id for f in tmp_features], dtype=torch.long)\n",
        "\n",
        "    eval_data = TensorDataset(all_input_ids, all_input_mask, all_segment_ids, all_label_ids)\n",
        "    eval_sampler = SequentialSampler(eval_data)\n",
        "    eval_dataloader = DataLoader(eval_data, sampler=eval_sampler, batch_size=eval_batch_size)\n",
        "\n",
        "    model.eval()\n",
        "    preds = None       \n",
        "    out_label_ids = None\n",
        "    for batch in tqdm(eval_dataloader, desc=\"Testing\"):\n",
        "        batch = tuple(t.to(device) for t in batch)\n",
        "        with torch.no_grad():\n",
        "            inputs = {'input_ids':      batch[0],\n",
        "                      'attention_mask': batch[1],\n",
        "                      'labels':         batch[3]}\n",
        "            if model_type != 'distilbert':\n",
        "                inputs['token_type_ids'] = batch[2] if model_type in ['bert', 'xlnet'] else None  # XLM, DistilBERT and RoBERTa don't use segment_ids\n",
        "            outputs = model(**inputs)\n",
        "            tmp_eval_loss, logits = outputs[:2]\n",
        "            eval_loss += tmp_eval_loss.mean().item()\n",
        "        nb_eval_steps += 1\n",
        "        if preds is None:\n",
        "            preds = logits.detach().cpu().numpy()\n",
        "            out_label_ids = inputs['labels'].detach().cpu().numpy()\n",
        "        else:\n",
        "            preds = np.append(preds, logits.detach().cpu().numpy(), axis=0)\n",
        "            out_label_ids = np.append(out_label_ids, inputs['labels'].detach().cpu().numpy(), axis=0) \n",
        "\n",
        "# Collect tensor predictions, and link to label tensor to ranking\n",
        "# This sorts and ranks predictions and returns rank for left (head)            \n",
        "    rel_values = preds[:, all_label_ids[0]]\n",
        "    rel_values = torch.tensor(rel_values)\n",
        "    _, argsort1 = torch.sort(rel_values, descending=True)\n",
        "    argsort1 = argsort1.cpu().numpy()\n",
        "    rank2 = np.where(argsort1 == 0)[0][0]\n",
        "    ranks.append(rank2+1)\n",
        "    ranks_right.append(rank2+1)\n",
        "    print('right: ', rank2)\n",
        "    print('mean rank until now: ', np.mean(ranks))\n",
        "    if rank2 < 10:\n",
        "        top_ten_hit_count += 1\n",
        "    hits10 = top_ten_hit_count * 1.0 / len(ranks)\n",
        "    print(\"hit@10 until now: \", top_ten_hit_count * 1.0 / len(ranks))\n",
        "\n",
        "# Count hits \n",
        "    for hits_level in range(10):\n",
        "        if rank1 <= hits_level:\n",
        "            hits[hits_level].append(1.0)\n",
        "            hits_left[hits_level].append(1.0)\n",
        "        else:\n",
        "            hits[hits_level].append(0.0)\n",
        "            hits_left[hits_level].append(0.0)\n",
        "\n",
        "        if rank2 <= hits_level:\n",
        "            hits[hits_level].append(1.0)\n",
        "            hits_right[hits_level].append(1.0)\n",
        "        else:\n",
        "            hits[hits_level].append(0.0)\n",
        "            hits_right[hits_level].append(0.0)\n",
        "\n",
        "# Collect hits at 1 and 3\n",
        "    hits1 = np.mean(hits[0])\n",
        "    hits3 = np.mean(hits[2])\n",
        "\n",
        "# Collect triple number, left (head) rank and right (tail) rank\n",
        "    trip_rank.append({'Triple': trip_count, 'Head entity': rank1, 'Tail entity': rank2})\n",
        "\n",
        "# Logging metrics\n",
        "    for i in [0,2,9]:\n",
        "        logger.info('Hits left @{0}: {1}'.format(i+1, np.mean(hits_left[i])))\n",
        "        logger.info('Hits right @{0}: {1}'.format(i+1, np.mean(hits_right[i])))\n",
        "        logger.info('Hits @{0}: {1}'.format(i+1, np.mean(hits[i])))\n",
        "    logger.info('Mean rank left: {0}'.format(np.mean(ranks_left)))\n",
        "    logger.info('Mean rank right: {0}'.format(np.mean(ranks_right)))\n",
        "    logger.info('Mean rank: {0}'.format(np.mean(ranks)))\n",
        "    logger.info('Mean reciprocal rank left: {0}'.format(np.mean(1./np.array(ranks_left))))\n",
        "    logger.info('Mean reciprocal rank right: {0}'.format(np.mean(1./np.array(ranks_right))))\n",
        "    logger.info('Mean reciprocal rank: {0}'.format(np.mean(1./np.array(ranks))))\n",
        "\n",
        "# Collect model results\n",
        "model_results.append({\n",
        "    'Batch size': train_batch_size,\n",
        "    'Learning rate': learning_rate,\n",
        "    'Epochs': num_train_epochs,\n",
        "    'Mean rank': np.mean(ranks),\n",
        "    'Mean reciprocal rank': np.mean(1./np.array(ranks)),\n",
        "    'Hits@10': hits10,\n",
        "    'Mean left': np.mean(ranks_left),\n",
        "    'Mean right': np.mean(ranks_right),\n",
        "    'Hits@3': hits3,\n",
        "    'Hits@1': hits1})"
      ],
      "execution_count": 5,
      "outputs": [
        {
          "output_type": "stream",
          "text": [
            "There are 1 GPU(s) available.\n",
            "We will use the GPU: Tesla P100-PCIE-16GB\n"
          ],
          "name": "stdout"
        },
        {
          "output_type": "stream",
          "text": [
            "10/14/2020 13:31:58 - INFO - filelock -   Lock 140672128896360 acquired on /root/.cache/torch/transformers/4dad0251492946e18ac39290fcfe91b89d370fee250efe9521476438fe8ca185.7156163d5fdc189c3016baca0775ffce230789d7fa2a42ef516483e4ca884517.lock\n"
          ],
          "name": "stderr"
        },
        {
          "output_type": "display_data",
          "data": {
            "application/vnd.jupyter.widget-view+json": {
              "model_id": "5467af58ac5146978b60363ffab9d1d4",
              "version_minor": 0,
              "version_major": 2
            },
            "text/plain": [
              "HBox(children=(FloatProgress(value=0.0, description='Downloading', max=433.0, style=ProgressStyle(description_…"
            ]
          },
          "metadata": {
            "tags": []
          }
        },
        {
          "output_type": "stream",
          "text": [
            "10/14/2020 13:31:58 - INFO - filelock -   Lock 140672128896360 released on /root/.cache/torch/transformers/4dad0251492946e18ac39290fcfe91b89d370fee250efe9521476438fe8ca185.7156163d5fdc189c3016baca0775ffce230789d7fa2a42ef516483e4ca884517.lock\n"
          ],
          "name": "stderr"
        },
        {
          "output_type": "stream",
          "text": [
            "\n"
          ],
          "name": "stdout"
        },
        {
          "output_type": "stream",
          "text": [
            "10/14/2020 13:31:59 - INFO - filelock -   Lock 140672128895632 acquired on (/content/drive/My Drive/PROJECT/kg_bert_baseline_data/geolit_data_output/cache_dir/26bc1ad6c0ac742e9b52263248f6d0f00068293b33709fae12320c0e35ccfbbb.542ce4285a40d23a559526243235df47c5f75c197f04f37d1a0c124c32c9a084.lock\n"
          ],
          "name": "stderr"
        },
        {
          "output_type": "display_data",
          "data": {
            "application/vnd.jupyter.widget-view+json": {
              "model_id": "ee7f8d4c84284d3584873631d5f9026d",
              "version_minor": 0,
              "version_major": 2
            },
            "text/plain": [
              "HBox(children=(FloatProgress(value=0.0, description='Downloading', max=231508.0, style=ProgressStyle(descripti…"
            ]
          },
          "metadata": {
            "tags": []
          }
        },
        {
          "output_type": "stream",
          "text": [
            "10/14/2020 13:31:59 - INFO - filelock -   Lock 140672128895632 released on (/content/drive/My Drive/PROJECT/kg_bert_baseline_data/geolit_data_output/cache_dir/26bc1ad6c0ac742e9b52263248f6d0f00068293b33709fae12320c0e35ccfbbb.542ce4285a40d23a559526243235df47c5f75c197f04f37d1a0c124c32c9a084.lock\n",
            "10/14/2020 13:31:59 - INFO - filelock -   Lock 140672128896024 acquired on (/content/drive/My Drive/PROJECT/kg_bert_baseline_data/geolit_data_output/cache_dir/f2ee78bdd635b758cc0a12352586868bef80e47401abe4c4fcc3832421e7338b.36ca03ab34a1a5d5fa7bc3d03d55c4fa650fed07220e2eeebc06ce58d0e9a157.lock\n"
          ],
          "name": "stderr"
        },
        {
          "output_type": "stream",
          "text": [
            "\n"
          ],
          "name": "stdout"
        },
        {
          "output_type": "display_data",
          "data": {
            "application/vnd.jupyter.widget-view+json": {
              "model_id": "eb04416e72984a3698d082a46213d81c",
              "version_minor": 0,
              "version_major": 2
            },
            "text/plain": [
              "HBox(children=(FloatProgress(value=0.0, description='Downloading', max=440473133.0, style=ProgressStyle(descri…"
            ]
          },
          "metadata": {
            "tags": []
          }
        },
        {
          "output_type": "stream",
          "text": [
            "10/14/2020 13:32:05 - INFO - filelock -   Lock 140672128896024 released on (/content/drive/My Drive/PROJECT/kg_bert_baseline_data/geolit_data_output/cache_dir/f2ee78bdd635b758cc0a12352586868bef80e47401abe4c4fcc3832421e7338b.36ca03ab34a1a5d5fa7bc3d03d55c4fa650fed07220e2eeebc06ce58d0e9a157.lock\n"
          ],
          "name": "stderr"
        },
        {
          "output_type": "stream",
          "text": [
            "\n"
          ],
          "name": "stdout"
        },
        {
          "output_type": "stream",
          "text": [
            "Some weights of the model checkpoint at bert-base-uncased were not used when initializing BertForSequenceClassification: ['cls.predictions.bias', 'cls.predictions.transform.dense.weight', 'cls.predictions.transform.dense.bias', 'cls.predictions.decoder.weight', 'cls.seq_relationship.weight', 'cls.seq_relationship.bias', 'cls.predictions.transform.LayerNorm.weight', 'cls.predictions.transform.LayerNorm.bias']\n",
            "- This IS expected if you are initializing BertForSequenceClassification from the checkpoint of a model trained on another task or with another architecture (e.g. initializing a BertForSequenceClassification model from a BertForPretraining model).\n",
            "- This IS NOT expected if you are initializing BertForSequenceClassification from the checkpoint of a model that you expect to be exactly identical (initializing a BertForSequenceClassification model from a BertForSequenceClassification model).\n",
            "Some weights of BertForSequenceClassification were not initialized from the model checkpoint at bert-base-uncased and are newly initialized: ['classifier.weight', 'classifier.bias']\n",
            "You should probably TRAIN this model on a down-stream task to be able to use it for predictions and inference.\n",
            "10/14/2020 13:32:23 - INFO - __main__ -   Training/evaluation parameters %s\n",
            "10/14/2020 13:32:23 - INFO - __main__ -   Creating features from dataset file at /content/drive/My Drive/PROJECT/kg_bert_baseline_data/geolit_data\n",
            "10/14/2020 13:32:25 - INFO - __main__ -   Writing example 0 of 3858\n",
            "10/14/2020 13:32:25 - INFO - __main__ -   *** Example ***\n",
            "10/14/2020 13:32:25 - INFO - __main__ -   guid: train-0\n",
            "10/14/2020 13:32:25 - INFO - __main__ -   tokens: [CLS] the hope ##man sandstone formation is largely composed of clean sandstone ##s . the sandstone ##s are white , pale grey or red , and moderately to well sorted . grain size is mainly fine or medium , but intervals of coarse , pe ##bbly sandstone have been encountered in southernmost wells . the sandstone ##s have si ##lica , carbonate or an ##hy ##dr ##ite cement ##s , and are only locally [SEP] deposited in [SEP] the continental environment comprising of all ##u ##vial , ae ##oli ##an , flu ##vial and lac ##ust ##rine environments . [SEP]\n",
            "10/14/2020 13:32:25 - INFO - __main__ -   input_ids: 101 1996 3246 2386 11694 4195 2003 4321 3605 1997 4550 11694 2015 1012 1996 11694 2015 2024 2317 1010 5122 4462 2030 2417 1010 1998 17844 2000 2092 19616 1012 8982 2946 2003 3701 2986 2030 5396 1010 2021 14025 1997 20392 1010 21877 24200 11694 2031 2042 8567 1999 21787 7051 1012 1996 11694 2015 2031 9033 19341 1010 26427 2030 2019 10536 13626 4221 11297 2015 1010 1998 2024 2069 7246 102 14140 1999 102 1996 6803 4044 9605 1997 2035 2226 18660 1010 29347 10893 2319 1010 19857 18660 1998 18749 19966 11467 10058 1012 102\n",
            "10/14/2020 13:32:25 - INFO - __main__ -   input_mask: 1 1 1 1 1 1 1 1 1 1 1 1 1 1 1 1 1 1 1 1 1 1 1 1 1 1 1 1 1 1 1 1 1 1 1 1 1 1 1 1 1 1 1 1 1 1 1 1 1 1 1 1 1 1 1 1 1 1 1 1 1 1 1 1 1 1 1 1 1 1 1 1 1 1 1 1 1 1 1 1 1 1 1 1 1 1 1 1 1 1 1 1 1 1 1 1 1 1 1 1\n",
            "10/14/2020 13:32:25 - INFO - __main__ -   segment_ids: 0 0 0 0 0 0 0 0 0 0 0 0 0 0 0 0 0 0 0 0 0 0 0 0 0 0 0 0 0 0 0 0 0 0 0 0 0 0 0 0 0 0 0 0 0 0 0 0 0 0 0 0 0 0 0 0 0 0 0 0 0 0 0 0 0 0 0 0 0 0 0 0 0 0 0 1 1 1 0 0 0 0 0 0 0 0 0 0 0 0 0 0 0 0 0 0 0 0 0 0\n",
            "10/14/2020 13:32:25 - INFO - __main__ -   label: 1 (id = 1)\n",
            "10/14/2020 13:32:25 - INFO - __main__ -   *** Example ***\n",
            "10/14/2020 13:32:25 - INFO - __main__ -   guid: train_corrupt-0\n",
            "10/14/2020 13:32:25 - INFO - __main__ -   tokens: [CLS] the hope ##man sandstone formation is largely composed of clean sandstone ##s . the sandstone ##s are white , pale grey or red , and moderately to well sorted . grain size is mainly fine or medium , but intervals of coarse , pe ##bbly sandstone have [SEP] deposited in [SEP] most of the rot ##lie ##gen ##d group consists of sandstone ##s , mud ##stones and local basal conglomerate ##s deposited in an arid or semi - arid , tropical - desert environment . these sediments rest un ##con ##form ##ably on strata ranging from early devon [SEP]\n",
            "10/14/2020 13:32:25 - INFO - __main__ -   input_ids: 101 1996 3246 2386 11694 4195 2003 4321 3605 1997 4550 11694 2015 1012 1996 11694 2015 2024 2317 1010 5122 4462 2030 2417 1010 1998 17844 2000 2092 19616 1012 8982 2946 2003 3701 2986 2030 5396 1010 2021 14025 1997 20392 1010 21877 24200 11694 2031 102 14140 1999 102 2087 1997 1996 18672 8751 6914 2094 2177 3774 1997 11694 2015 1010 8494 29423 1998 2334 15191 22453 2015 14140 1999 2019 17511 2030 4100 1011 17511 1010 5133 1011 5532 4044 1012 2122 20476 2717 4895 8663 14192 8231 2006 22913 7478 2013 2220 7614 102\n",
            "10/14/2020 13:32:25 - INFO - __main__ -   input_mask: 1 1 1 1 1 1 1 1 1 1 1 1 1 1 1 1 1 1 1 1 1 1 1 1 1 1 1 1 1 1 1 1 1 1 1 1 1 1 1 1 1 1 1 1 1 1 1 1 1 1 1 1 1 1 1 1 1 1 1 1 1 1 1 1 1 1 1 1 1 1 1 1 1 1 1 1 1 1 1 1 1 1 1 1 1 1 1 1 1 1 1 1 1 1 1 1 1 1 1 1\n",
            "10/14/2020 13:32:25 - INFO - __main__ -   segment_ids: 0 0 0 0 0 0 0 0 0 0 0 0 0 0 0 0 0 0 0 0 0 0 0 0 0 0 0 0 0 0 0 0 0 0 0 0 0 0 0 0 0 0 0 0 0 0 0 0 0 1 1 1 0 0 0 0 0 0 0 0 0 0 0 0 0 0 0 0 0 0 0 0 0 0 0 0 0 0 0 0 0 0 0 0 0 0 0 0 0 0 0 0 0 0 0 0 0 0 0 0\n",
            "10/14/2020 13:32:25 - INFO - __main__ -   label: 0 (id = 0)\n",
            "10/14/2020 13:32:25 - INFO - __main__ -   *** Example ***\n",
            "10/14/2020 13:32:25 - INFO - __main__ -   guid: train_corrupt-0\n",
            "10/14/2020 13:32:25 - INFO - __main__ -   tokens: [CLS] the hope ##man sandstone formation is largely composed of clean sandstone ##s . the sandstone ##s are white , pale grey or red , and moderately to well sorted . grain size is mainly fine or medium , but intervals of coarse , pe ##bbly sandstone have [SEP] deposited in [SEP] the we ##rra ##an ##hy ##dr ##it formation are characterized by thick an ##hy ##dr ##ite with subordinate inter ##bed ##ded do ##lom ##ite and hal ##ite . the an ##hy ##dr ##ite is generally described as white or yellowish white to pale grey , soft to [SEP]\n",
            "10/14/2020 13:32:25 - INFO - __main__ -   input_ids: 101 1996 3246 2386 11694 4195 2003 4321 3605 1997 4550 11694 2015 1012 1996 11694 2015 2024 2317 1010 5122 4462 2030 2417 1010 1998 17844 2000 2092 19616 1012 8982 2946 2003 3701 2986 2030 5396 1010 2021 14025 1997 20392 1010 21877 24200 11694 2031 102 14140 1999 102 1996 2057 11335 2319 10536 13626 4183 4195 2024 7356 2011 4317 2019 10536 13626 4221 2007 15144 6970 8270 5732 2079 21297 4221 1998 11085 4221 1012 1996 2019 10536 13626 4221 2003 3227 2649 2004 2317 2030 17804 2317 2000 5122 4462 1010 3730 2000 102\n",
            "10/14/2020 13:32:25 - INFO - __main__ -   input_mask: 1 1 1 1 1 1 1 1 1 1 1 1 1 1 1 1 1 1 1 1 1 1 1 1 1 1 1 1 1 1 1 1 1 1 1 1 1 1 1 1 1 1 1 1 1 1 1 1 1 1 1 1 1 1 1 1 1 1 1 1 1 1 1 1 1 1 1 1 1 1 1 1 1 1 1 1 1 1 1 1 1 1 1 1 1 1 1 1 1 1 1 1 1 1 1 1 1 1 1 1\n",
            "10/14/2020 13:32:25 - INFO - __main__ -   segment_ids: 0 0 0 0 0 0 0 0 0 0 0 0 0 0 0 0 0 0 0 0 0 0 0 0 0 0 0 0 0 0 0 0 0 0 0 0 0 0 0 0 0 0 0 0 0 0 0 0 0 1 1 1 0 0 0 0 0 0 0 0 0 0 0 0 0 0 0 0 0 0 0 0 0 0 0 0 0 0 0 0 0 0 0 0 0 0 0 0 0 0 0 0 0 0 0 0 0 0 0 0\n",
            "10/14/2020 13:32:25 - INFO - __main__ -   label: 0 (id = 0)\n",
            "10/14/2020 13:32:25 - INFO - __main__ -   *** Example ***\n",
            "10/14/2020 13:32:25 - INFO - __main__ -   guid: train_corrupt-0\n",
            "10/14/2020 13:32:25 - INFO - __main__ -   tokens: [CLS] the hope ##man sandstone formation is largely composed of clean sandstone ##s . the sandstone ##s are white , pale grey or red , and moderately to well sorted . grain size is mainly fine or medium , but intervals of coarse , pe ##bbly sandstone have been encountered in southernmost [SEP] deposited in [SEP] organic - rich sedimentary rocks are a specific type of sedimentary rock that contains significant amounts ( > 3 % ) of organic carbon . the most common types include coal , li ##gni ##te , oil shale , or black shale . [SEP]\n",
            "10/14/2020 13:32:25 - INFO - __main__ -   input_ids: 101 1996 3246 2386 11694 4195 2003 4321 3605 1997 4550 11694 2015 1012 1996 11694 2015 2024 2317 1010 5122 4462 2030 2417 1010 1998 17844 2000 2092 19616 1012 8982 2946 2003 3701 2986 2030 5396 1010 2021 14025 1997 20392 1010 21877 24200 11694 2031 2042 8567 1999 21787 102 14140 1999 102 7554 1011 4138 25503 5749 2024 1037 3563 2828 1997 25503 2600 2008 3397 3278 8310 1006 1028 1017 1003 1007 1997 7554 6351 1012 1996 2087 2691 4127 2421 5317 1010 5622 29076 2618 1010 3514 18488 1010 2030 2304 18488 1012 102\n",
            "10/14/2020 13:32:25 - INFO - __main__ -   input_mask: 1 1 1 1 1 1 1 1 1 1 1 1 1 1 1 1 1 1 1 1 1 1 1 1 1 1 1 1 1 1 1 1 1 1 1 1 1 1 1 1 1 1 1 1 1 1 1 1 1 1 1 1 1 1 1 1 1 1 1 1 1 1 1 1 1 1 1 1 1 1 1 1 1 1 1 1 1 1 1 1 1 1 1 1 1 1 1 1 1 1 1 1 1 1 1 1 1 1 1 1\n",
            "10/14/2020 13:32:25 - INFO - __main__ -   segment_ids: 0 0 0 0 0 0 0 0 0 0 0 0 0 0 0 0 0 0 0 0 0 0 0 0 0 0 0 0 0 0 0 0 0 0 0 0 0 0 0 0 0 0 0 0 0 0 0 0 0 0 0 0 0 1 1 1 0 0 0 0 0 0 0 0 0 0 0 0 0 0 0 0 0 0 0 0 0 0 0 0 0 0 0 0 0 0 0 0 0 0 0 0 0 0 0 0 0 0 0 0\n",
            "10/14/2020 13:32:25 - INFO - __main__ -   label: 0 (id = 0)\n",
            "10/14/2020 13:32:25 - INFO - __main__ -   *** Example ***\n",
            "10/14/2020 13:32:25 - INFO - __main__ -   guid: train_corrupt-0\n",
            "10/14/2020 13:32:25 - INFO - __main__ -   tokens: [CLS] the hope ##man sandstone formation is largely composed of clean sandstone ##s . the sandstone ##s are white , pale grey or red , and moderately to well sorted . grain size is mainly fine or medium , but intervals of coarse , pe ##bbly sandstone have been encountered in southernmost wells . the sandstone ##s have [SEP] deposited in [SEP] sc ##his ##t is a medium - grade meta ##morphic rock formed from mud ##stone or shale . sc ##his ##t has medium to large , flat , sheet - like grains in a preferred orientation . [SEP]\n",
            "10/14/2020 13:32:25 - INFO - __main__ -   input_ids: 101 1996 3246 2386 11694 4195 2003 4321 3605 1997 4550 11694 2015 1012 1996 11694 2015 2024 2317 1010 5122 4462 2030 2417 1010 1998 17844 2000 2092 19616 1012 8982 2946 2003 3701 2986 2030 5396 1010 2021 14025 1997 20392 1010 21877 24200 11694 2031 2042 8567 1999 21787 7051 1012 1996 11694 2015 2031 102 14140 1999 102 8040 24158 2102 2003 1037 5396 1011 3694 18804 18078 2600 2719 2013 8494 9221 2030 18488 1012 8040 24158 2102 2038 5396 2000 2312 1010 4257 1010 7123 1011 2066 17588 1999 1037 6871 10296 1012 102\n",
            "10/14/2020 13:32:25 - INFO - __main__ -   input_mask: 1 1 1 1 1 1 1 1 1 1 1 1 1 1 1 1 1 1 1 1 1 1 1 1 1 1 1 1 1 1 1 1 1 1 1 1 1 1 1 1 1 1 1 1 1 1 1 1 1 1 1 1 1 1 1 1 1 1 1 1 1 1 1 1 1 1 1 1 1 1 1 1 1 1 1 1 1 1 1 1 1 1 1 1 1 1 1 1 1 1 1 1 1 1 1 1 1 1 1 1\n",
            "10/14/2020 13:32:25 - INFO - __main__ -   segment_ids: 0 0 0 0 0 0 0 0 0 0 0 0 0 0 0 0 0 0 0 0 0 0 0 0 0 0 0 0 0 0 0 0 0 0 0 0 0 0 0 0 0 0 0 0 0 0 0 0 0 0 0 0 0 0 0 0 0 0 0 1 1 1 0 0 0 0 0 0 0 0 0 0 0 0 0 0 0 0 0 0 0 0 0 0 0 0 0 0 0 0 0 0 0 0 0 0 0 0 0 0\n",
            "10/14/2020 13:32:25 - INFO - __main__ -   label: 0 (id = 0)\n",
            "10/14/2020 13:32:31 - INFO - __main__ -   Saving features into cached file /content/drive/My Drive/PROJECT/kg_bert_baseline_data/geolit_data/cached_train_bert-base-uncased_100_kg\n",
            "10/14/2020 13:32:31 - INFO - __main__ -   Writing example 0 of 3858\n",
            "10/14/2020 13:32:31 - INFO - __main__ -   *** Example ***\n",
            "10/14/2020 13:32:31 - INFO - __main__ -   guid: train-0\n",
            "10/14/2020 13:32:31 - INFO - __main__ -   tokens: [CLS] the hope ##man sandstone formation is largely composed of clean sandstone ##s . the sandstone ##s are white , pale grey or red , and moderately to well sorted . grain size is mainly fine or medium , but intervals of coarse , pe ##bbly sandstone have been encountered in southernmost wells . the sandstone ##s have si ##lica , carbonate or an ##hy ##dr ##ite cement ##s , and are only locally [SEP] deposited in [SEP] the continental environment comprising of all ##u ##vial , ae ##oli ##an , flu ##vial and lac ##ust ##rine environments . [SEP]\n",
            "10/14/2020 13:32:31 - INFO - __main__ -   input_ids: 101 1996 3246 2386 11694 4195 2003 4321 3605 1997 4550 11694 2015 1012 1996 11694 2015 2024 2317 1010 5122 4462 2030 2417 1010 1998 17844 2000 2092 19616 1012 8982 2946 2003 3701 2986 2030 5396 1010 2021 14025 1997 20392 1010 21877 24200 11694 2031 2042 8567 1999 21787 7051 1012 1996 11694 2015 2031 9033 19341 1010 26427 2030 2019 10536 13626 4221 11297 2015 1010 1998 2024 2069 7246 102 14140 1999 102 1996 6803 4044 9605 1997 2035 2226 18660 1010 29347 10893 2319 1010 19857 18660 1998 18749 19966 11467 10058 1012 102\n",
            "10/14/2020 13:32:31 - INFO - __main__ -   input_mask: 1 1 1 1 1 1 1 1 1 1 1 1 1 1 1 1 1 1 1 1 1 1 1 1 1 1 1 1 1 1 1 1 1 1 1 1 1 1 1 1 1 1 1 1 1 1 1 1 1 1 1 1 1 1 1 1 1 1 1 1 1 1 1 1 1 1 1 1 1 1 1 1 1 1 1 1 1 1 1 1 1 1 1 1 1 1 1 1 1 1 1 1 1 1 1 1 1 1 1 1\n",
            "10/14/2020 13:32:31 - INFO - __main__ -   segment_ids: 0 0 0 0 0 0 0 0 0 0 0 0 0 0 0 0 0 0 0 0 0 0 0 0 0 0 0 0 0 0 0 0 0 0 0 0 0 0 0 0 0 0 0 0 0 0 0 0 0 0 0 0 0 0 0 0 0 0 0 0 0 0 0 0 0 0 0 0 0 0 0 0 0 0 0 1 1 1 0 0 0 0 0 0 0 0 0 0 0 0 0 0 0 0 0 0 0 0 0 0\n",
            "10/14/2020 13:32:31 - INFO - __main__ -   label: 1 (id = 1)\n",
            "10/14/2020 13:32:31 - INFO - __main__ -   *** Example ***\n",
            "10/14/2020 13:32:31 - INFO - __main__ -   guid: train_corrupt-0\n",
            "10/14/2020 13:32:31 - INFO - __main__ -   tokens: [CLS] the hope ##man sandstone formation is largely composed of clean sandstone ##s . the sandstone ##s are white , pale grey or red , and moderately to well sorted . grain size is mainly fine or medium , but intervals of coarse , pe ##bbly sandstone have [SEP] deposited in [SEP] most of the rot ##lie ##gen ##d group consists of sandstone ##s , mud ##stones and local basal conglomerate ##s deposited in an arid or semi - arid , tropical - desert environment . these sediments rest un ##con ##form ##ably on strata ranging from early devon [SEP]\n",
            "10/14/2020 13:32:31 - INFO - __main__ -   input_ids: 101 1996 3246 2386 11694 4195 2003 4321 3605 1997 4550 11694 2015 1012 1996 11694 2015 2024 2317 1010 5122 4462 2030 2417 1010 1998 17844 2000 2092 19616 1012 8982 2946 2003 3701 2986 2030 5396 1010 2021 14025 1997 20392 1010 21877 24200 11694 2031 102 14140 1999 102 2087 1997 1996 18672 8751 6914 2094 2177 3774 1997 11694 2015 1010 8494 29423 1998 2334 15191 22453 2015 14140 1999 2019 17511 2030 4100 1011 17511 1010 5133 1011 5532 4044 1012 2122 20476 2717 4895 8663 14192 8231 2006 22913 7478 2013 2220 7614 102\n",
            "10/14/2020 13:32:31 - INFO - __main__ -   input_mask: 1 1 1 1 1 1 1 1 1 1 1 1 1 1 1 1 1 1 1 1 1 1 1 1 1 1 1 1 1 1 1 1 1 1 1 1 1 1 1 1 1 1 1 1 1 1 1 1 1 1 1 1 1 1 1 1 1 1 1 1 1 1 1 1 1 1 1 1 1 1 1 1 1 1 1 1 1 1 1 1 1 1 1 1 1 1 1 1 1 1 1 1 1 1 1 1 1 1 1 1\n",
            "10/14/2020 13:32:31 - INFO - __main__ -   segment_ids: 0 0 0 0 0 0 0 0 0 0 0 0 0 0 0 0 0 0 0 0 0 0 0 0 0 0 0 0 0 0 0 0 0 0 0 0 0 0 0 0 0 0 0 0 0 0 0 0 0 1 1 1 0 0 0 0 0 0 0 0 0 0 0 0 0 0 0 0 0 0 0 0 0 0 0 0 0 0 0 0 0 0 0 0 0 0 0 0 0 0 0 0 0 0 0 0 0 0 0 0\n",
            "10/14/2020 13:32:31 - INFO - __main__ -   label: 0 (id = 0)\n",
            "10/14/2020 13:32:31 - INFO - __main__ -   *** Example ***\n",
            "10/14/2020 13:32:31 - INFO - __main__ -   guid: train_corrupt-0\n",
            "10/14/2020 13:32:31 - INFO - __main__ -   tokens: [CLS] the hope ##man sandstone formation is largely composed of clean sandstone ##s . the sandstone ##s are white , pale grey or red , and moderately to well sorted . grain size is mainly fine or medium , but intervals of coarse , pe ##bbly sandstone have [SEP] deposited in [SEP] the we ##rra ##an ##hy ##dr ##it formation are characterized by thick an ##hy ##dr ##ite with subordinate inter ##bed ##ded do ##lom ##ite and hal ##ite . the an ##hy ##dr ##ite is generally described as white or yellowish white to pale grey , soft to [SEP]\n",
            "10/14/2020 13:32:31 - INFO - __main__ -   input_ids: 101 1996 3246 2386 11694 4195 2003 4321 3605 1997 4550 11694 2015 1012 1996 11694 2015 2024 2317 1010 5122 4462 2030 2417 1010 1998 17844 2000 2092 19616 1012 8982 2946 2003 3701 2986 2030 5396 1010 2021 14025 1997 20392 1010 21877 24200 11694 2031 102 14140 1999 102 1996 2057 11335 2319 10536 13626 4183 4195 2024 7356 2011 4317 2019 10536 13626 4221 2007 15144 6970 8270 5732 2079 21297 4221 1998 11085 4221 1012 1996 2019 10536 13626 4221 2003 3227 2649 2004 2317 2030 17804 2317 2000 5122 4462 1010 3730 2000 102\n",
            "10/14/2020 13:32:31 - INFO - __main__ -   input_mask: 1 1 1 1 1 1 1 1 1 1 1 1 1 1 1 1 1 1 1 1 1 1 1 1 1 1 1 1 1 1 1 1 1 1 1 1 1 1 1 1 1 1 1 1 1 1 1 1 1 1 1 1 1 1 1 1 1 1 1 1 1 1 1 1 1 1 1 1 1 1 1 1 1 1 1 1 1 1 1 1 1 1 1 1 1 1 1 1 1 1 1 1 1 1 1 1 1 1 1 1\n",
            "10/14/2020 13:32:31 - INFO - __main__ -   segment_ids: 0 0 0 0 0 0 0 0 0 0 0 0 0 0 0 0 0 0 0 0 0 0 0 0 0 0 0 0 0 0 0 0 0 0 0 0 0 0 0 0 0 0 0 0 0 0 0 0 0 1 1 1 0 0 0 0 0 0 0 0 0 0 0 0 0 0 0 0 0 0 0 0 0 0 0 0 0 0 0 0 0 0 0 0 0 0 0 0 0 0 0 0 0 0 0 0 0 0 0 0\n",
            "10/14/2020 13:32:31 - INFO - __main__ -   label: 0 (id = 0)\n",
            "10/14/2020 13:32:31 - INFO - __main__ -   *** Example ***\n",
            "10/14/2020 13:32:31 - INFO - __main__ -   guid: train_corrupt-0\n",
            "10/14/2020 13:32:31 - INFO - __main__ -   tokens: [CLS] the hope ##man sandstone formation is largely composed of clean sandstone ##s . the sandstone ##s are white , pale grey or red , and moderately to well sorted . grain size is mainly fine or medium , but intervals of coarse , pe ##bbly sandstone have been encountered in southernmost [SEP] deposited in [SEP] organic - rich sedimentary rocks are a specific type of sedimentary rock that contains significant amounts ( > 3 % ) of organic carbon . the most common types include coal , li ##gni ##te , oil shale , or black shale . [SEP]\n",
            "10/14/2020 13:32:31 - INFO - __main__ -   input_ids: 101 1996 3246 2386 11694 4195 2003 4321 3605 1997 4550 11694 2015 1012 1996 11694 2015 2024 2317 1010 5122 4462 2030 2417 1010 1998 17844 2000 2092 19616 1012 8982 2946 2003 3701 2986 2030 5396 1010 2021 14025 1997 20392 1010 21877 24200 11694 2031 2042 8567 1999 21787 102 14140 1999 102 7554 1011 4138 25503 5749 2024 1037 3563 2828 1997 25503 2600 2008 3397 3278 8310 1006 1028 1017 1003 1007 1997 7554 6351 1012 1996 2087 2691 4127 2421 5317 1010 5622 29076 2618 1010 3514 18488 1010 2030 2304 18488 1012 102\n",
            "10/14/2020 13:32:31 - INFO - __main__ -   input_mask: 1 1 1 1 1 1 1 1 1 1 1 1 1 1 1 1 1 1 1 1 1 1 1 1 1 1 1 1 1 1 1 1 1 1 1 1 1 1 1 1 1 1 1 1 1 1 1 1 1 1 1 1 1 1 1 1 1 1 1 1 1 1 1 1 1 1 1 1 1 1 1 1 1 1 1 1 1 1 1 1 1 1 1 1 1 1 1 1 1 1 1 1 1 1 1 1 1 1 1 1\n",
            "10/14/2020 13:32:31 - INFO - __main__ -   segment_ids: 0 0 0 0 0 0 0 0 0 0 0 0 0 0 0 0 0 0 0 0 0 0 0 0 0 0 0 0 0 0 0 0 0 0 0 0 0 0 0 0 0 0 0 0 0 0 0 0 0 0 0 0 0 1 1 1 0 0 0 0 0 0 0 0 0 0 0 0 0 0 0 0 0 0 0 0 0 0 0 0 0 0 0 0 0 0 0 0 0 0 0 0 0 0 0 0 0 0 0 0\n",
            "10/14/2020 13:32:31 - INFO - __main__ -   label: 0 (id = 0)\n",
            "10/14/2020 13:32:31 - INFO - __main__ -   *** Example ***\n",
            "10/14/2020 13:32:31 - INFO - __main__ -   guid: train_corrupt-0\n",
            "10/14/2020 13:32:31 - INFO - __main__ -   tokens: [CLS] the hope ##man sandstone formation is largely composed of clean sandstone ##s . the sandstone ##s are white , pale grey or red , and moderately to well sorted . grain size is mainly fine or medium , but intervals of coarse , pe ##bbly sandstone have been encountered in southernmost wells . the sandstone ##s have [SEP] deposited in [SEP] sc ##his ##t is a medium - grade meta ##morphic rock formed from mud ##stone or shale . sc ##his ##t has medium to large , flat , sheet - like grains in a preferred orientation . [SEP]\n",
            "10/14/2020 13:32:31 - INFO - __main__ -   input_ids: 101 1996 3246 2386 11694 4195 2003 4321 3605 1997 4550 11694 2015 1012 1996 11694 2015 2024 2317 1010 5122 4462 2030 2417 1010 1998 17844 2000 2092 19616 1012 8982 2946 2003 3701 2986 2030 5396 1010 2021 14025 1997 20392 1010 21877 24200 11694 2031 2042 8567 1999 21787 7051 1012 1996 11694 2015 2031 102 14140 1999 102 8040 24158 2102 2003 1037 5396 1011 3694 18804 18078 2600 2719 2013 8494 9221 2030 18488 1012 8040 24158 2102 2038 5396 2000 2312 1010 4257 1010 7123 1011 2066 17588 1999 1037 6871 10296 1012 102\n",
            "10/14/2020 13:32:31 - INFO - __main__ -   input_mask: 1 1 1 1 1 1 1 1 1 1 1 1 1 1 1 1 1 1 1 1 1 1 1 1 1 1 1 1 1 1 1 1 1 1 1 1 1 1 1 1 1 1 1 1 1 1 1 1 1 1 1 1 1 1 1 1 1 1 1 1 1 1 1 1 1 1 1 1 1 1 1 1 1 1 1 1 1 1 1 1 1 1 1 1 1 1 1 1 1 1 1 1 1 1 1 1 1 1 1 1\n",
            "10/14/2020 13:32:31 - INFO - __main__ -   segment_ids: 0 0 0 0 0 0 0 0 0 0 0 0 0 0 0 0 0 0 0 0 0 0 0 0 0 0 0 0 0 0 0 0 0 0 0 0 0 0 0 0 0 0 0 0 0 0 0 0 0 0 0 0 0 0 0 0 0 0 0 1 1 1 0 0 0 0 0 0 0 0 0 0 0 0 0 0 0 0 0 0 0 0 0 0 0 0 0 0 0 0 0 0 0 0 0 0 0 0 0 0\n",
            "10/14/2020 13:32:31 - INFO - __main__ -   label: 0 (id = 0)\n",
            "10/14/2020 13:32:38 - INFO - __main__ -   ***** Running training *****\n",
            "10/14/2020 13:32:38 - INFO - __main__ -     Num examples = 3858\n",
            "10/14/2020 13:32:38 - INFO - __main__ -     Num Epochs = 5\n",
            "10/14/2020 13:32:38 - INFO - __main__ -     Total train batch size (w. parallel, distributed & accumulation) = 32\n",
            "10/14/2020 13:32:38 - INFO - __main__ -     Gradient Accumulation steps = 1\n",
            "10/14/2020 13:32:38 - INFO - __main__ -     Total optimization steps = 605\n",
            "Epoch:   0%|          | 0/5 [00:00<?, ?it/s]\n",
            "Iteration:   0%|          | 0/121 [00:00<?, ?it/s]\u001b[A\n",
            "Iteration:   1%|          | 1/121 [00:00<01:20,  1.50it/s]\u001b[A\n",
            "Iteration:   2%|▏         | 2/121 [00:00<01:07,  1.77it/s]\u001b[A\n",
            "Iteration:   2%|▏         | 3/121 [00:01<00:57,  2.04it/s]\u001b[A\n",
            "Iteration:   3%|▎         | 4/121 [00:01<00:51,  2.28it/s]\u001b[A\n",
            "Iteration:   4%|▍         | 5/121 [00:01<00:46,  2.48it/s]\u001b[A\n",
            "Iteration:   5%|▍         | 6/121 [00:02<00:43,  2.65it/s]\u001b[A\n",
            "Iteration:   6%|▌         | 7/121 [00:02<00:40,  2.79it/s]\u001b[A\n",
            "Iteration:   7%|▋         | 8/121 [00:02<00:39,  2.88it/s]\u001b[A\n",
            "Iteration:   7%|▋         | 9/121 [00:03<00:38,  2.93it/s]\u001b[A\n",
            "Iteration:   8%|▊         | 10/121 [00:03<00:37,  2.97it/s]\u001b[A\n",
            "Iteration:   9%|▉         | 11/121 [00:03<00:36,  3.03it/s]\u001b[A\n",
            "Iteration:  10%|▉         | 12/121 [00:04<00:35,  3.07it/s]\u001b[A\n",
            "Iteration:  11%|█         | 13/121 [00:04<00:34,  3.10it/s]\u001b[A\n",
            "Iteration:  12%|█▏        | 14/121 [00:04<00:34,  3.11it/s]\u001b[A\n",
            "Iteration:  12%|█▏        | 15/121 [00:05<00:34,  3.12it/s]\u001b[A\n",
            "Iteration:  13%|█▎        | 16/121 [00:05<00:33,  3.12it/s]\u001b[A\n",
            "Iteration:  14%|█▍        | 17/121 [00:05<00:33,  3.14it/s]\u001b[A\n",
            "Iteration:  15%|█▍        | 18/121 [00:06<00:33,  3.11it/s]\u001b[A\n",
            "Iteration:  16%|█▌        | 19/121 [00:06<00:32,  3.13it/s]\u001b[A\n",
            "Iteration:  17%|█▋        | 20/121 [00:06<00:32,  3.13it/s]\u001b[A\n",
            "Iteration:  17%|█▋        | 21/121 [00:07<00:31,  3.13it/s]\u001b[A\n",
            "Iteration:  18%|█▊        | 22/121 [00:07<00:31,  3.12it/s]\u001b[A\n",
            "Iteration:  19%|█▉        | 23/121 [00:07<00:31,  3.14it/s]\u001b[A\n",
            "Iteration:  20%|█▉        | 24/121 [00:08<00:30,  3.15it/s]\u001b[A\n",
            "Iteration:  21%|██        | 25/121 [00:08<00:30,  3.16it/s]\u001b[A\n",
            "Iteration:  21%|██▏       | 26/121 [00:08<00:30,  3.15it/s]\u001b[A\n",
            "Iteration:  22%|██▏       | 27/121 [00:08<00:29,  3.14it/s]\u001b[A\n",
            "Iteration:  23%|██▎       | 28/121 [00:09<00:29,  3.14it/s]\u001b[A\n",
            "Iteration:  24%|██▍       | 29/121 [00:09<00:29,  3.14it/s]\u001b[A\n",
            "Iteration:  25%|██▍       | 30/121 [00:09<00:29,  3.11it/s]\u001b[A\n",
            "Iteration:  26%|██▌       | 31/121 [00:10<00:28,  3.11it/s]\u001b[A\n",
            "Iteration:  26%|██▋       | 32/121 [00:10<00:28,  3.12it/s]\u001b[A\n",
            "Iteration:  27%|██▋       | 33/121 [00:10<00:28,  3.14it/s]\u001b[A\n",
            "Iteration:  28%|██▊       | 34/121 [00:11<00:27,  3.16it/s]\u001b[A\n",
            "Iteration:  29%|██▉       | 35/121 [00:11<00:27,  3.16it/s]\u001b[A\n",
            "Iteration:  30%|██▉       | 36/121 [00:11<00:26,  3.17it/s]\u001b[A\n",
            "Iteration:  31%|███       | 37/121 [00:12<00:26,  3.14it/s]\u001b[A\n",
            "Iteration:  31%|███▏      | 38/121 [00:12<00:26,  3.14it/s]\u001b[A\n",
            "Iteration:  32%|███▏      | 39/121 [00:12<00:26,  3.14it/s]\u001b[A\n",
            "Iteration:  33%|███▎      | 40/121 [00:13<00:25,  3.15it/s]\u001b[A\n",
            "Iteration:  34%|███▍      | 41/121 [00:13<00:25,  3.16it/s]\u001b[A\n",
            "Iteration:  35%|███▍      | 42/121 [00:13<00:25,  3.15it/s]\u001b[A\n",
            "Iteration:  36%|███▌      | 43/121 [00:14<00:24,  3.16it/s]\u001b[A\n",
            "Iteration:  36%|███▋      | 44/121 [00:14<00:24,  3.14it/s]\u001b[A\n",
            "Iteration:  37%|███▋      | 45/121 [00:14<00:24,  3.15it/s]\u001b[A\n",
            "Iteration:  38%|███▊      | 46/121 [00:15<00:23,  3.14it/s]\u001b[A\n",
            "Iteration:  39%|███▉      | 47/121 [00:15<00:23,  3.15it/s]\u001b[A\n",
            "Iteration:  40%|███▉      | 48/121 [00:15<00:23,  3.16it/s]\u001b[A\n",
            "Iteration:  40%|████      | 49/121 [00:15<00:22,  3.15it/s]\u001b[A\n",
            "Iteration:  41%|████▏     | 50/121 [00:16<00:22,  3.15it/s]\u001b[A\n",
            "Iteration:  42%|████▏     | 51/121 [00:16<00:22,  3.11it/s]\u001b[A\n",
            "Iteration:  43%|████▎     | 52/121 [00:16<00:22,  3.12it/s]\u001b[A\n",
            "Iteration:  44%|████▍     | 53/121 [00:17<00:21,  3.14it/s]\u001b[A\n",
            "Iteration:  45%|████▍     | 54/121 [00:17<00:21,  3.15it/s]\u001b[A\n",
            "Iteration:  45%|████▌     | 55/121 [00:17<00:20,  3.16it/s]\u001b[A\n",
            "Iteration:  46%|████▋     | 56/121 [00:18<00:20,  3.13it/s]\u001b[A\n",
            "Iteration:  47%|████▋     | 57/121 [00:18<00:20,  3.14it/s]\u001b[A\n",
            "Iteration:  48%|████▊     | 58/121 [00:18<00:20,  3.12it/s]\u001b[A\n",
            "Iteration:  49%|████▉     | 59/121 [00:19<00:19,  3.12it/s]\u001b[A\n",
            "Iteration:  50%|████▉     | 60/121 [00:19<00:19,  3.13it/s]\u001b[A\n",
            "Iteration:  50%|█████     | 61/121 [00:19<00:19,  3.14it/s]\u001b[A\n",
            "Iteration:  51%|█████     | 62/121 [00:20<00:18,  3.15it/s]\u001b[A\n",
            "Iteration:  52%|█████▏    | 63/121 [00:20<00:18,  3.16it/s]\u001b[A\n",
            "Iteration:  53%|█████▎    | 64/121 [00:20<00:18,  3.17it/s]\u001b[A\n",
            "Iteration:  54%|█████▎    | 65/121 [00:21<00:17,  3.15it/s]\u001b[A\n",
            "Iteration:  55%|█████▍    | 66/121 [00:21<00:17,  3.16it/s]\u001b[A\n",
            "Iteration:  55%|█████▌    | 67/121 [00:21<00:17,  3.15it/s]\u001b[A\n",
            "Iteration:  56%|█████▌    | 68/121 [00:21<00:16,  3.16it/s]\u001b[A\n",
            "Iteration:  57%|█████▋    | 69/121 [00:22<00:16,  3.17it/s]\u001b[A\n",
            "Iteration:  58%|█████▊    | 70/121 [00:22<00:16,  3.16it/s]\u001b[A\n",
            "Iteration:  59%|█████▊    | 71/121 [00:22<00:15,  3.15it/s]\u001b[A\n",
            "Iteration:  60%|█████▉    | 72/121 [00:23<00:15,  3.15it/s]\u001b[A\n",
            "Iteration:  60%|██████    | 73/121 [00:23<00:15,  3.15it/s]\u001b[A\n",
            "Iteration:  61%|██████    | 74/121 [00:23<00:15,  3.11it/s]\u001b[A\n",
            "Iteration:  62%|██████▏   | 75/121 [00:24<00:14,  3.11it/s]\u001b[A\n",
            "Iteration:  63%|██████▎   | 76/121 [00:24<00:14,  3.12it/s]\u001b[A\n",
            "Iteration:  64%|██████▎   | 77/121 [00:24<00:14,  3.13it/s]\u001b[A\n",
            "Iteration:  64%|██████▍   | 78/121 [00:25<00:13,  3.15it/s]\u001b[A\n",
            "Iteration:  65%|██████▌   | 79/121 [00:25<00:13,  3.16it/s]\u001b[A\n",
            "Iteration:  66%|██████▌   | 80/121 [00:25<00:12,  3.16it/s]\u001b[A\n",
            "Iteration:  67%|██████▋   | 81/121 [00:26<00:12,  3.16it/s]\u001b[A\n",
            "Iteration:  68%|██████▊   | 82/121 [00:26<00:12,  3.15it/s]\u001b[A\n",
            "Iteration:  69%|██████▊   | 83/121 [00:26<00:12,  3.16it/s]\u001b[A\n",
            "Iteration:  69%|██████▉   | 84/121 [00:27<00:11,  3.16it/s]\u001b[A\n",
            "Iteration:  70%|███████   | 85/121 [00:27<00:11,  3.17it/s]\u001b[A\n",
            "Iteration:  71%|███████   | 86/121 [00:27<00:11,  3.16it/s]\u001b[A\n",
            "Iteration:  72%|███████▏  | 87/121 [00:28<00:10,  3.15it/s]\u001b[A\n",
            "Iteration:  73%|███████▎  | 88/121 [00:28<00:10,  3.14it/s]\u001b[A\n",
            "Iteration:  74%|███████▎  | 89/121 [00:28<00:10,  3.15it/s]\u001b[A\n",
            "Iteration:  74%|███████▍  | 90/121 [00:28<00:09,  3.15it/s]\u001b[A\n",
            "Iteration:  75%|███████▌  | 91/121 [00:29<00:09,  3.11it/s]\u001b[A\n",
            "Iteration:  76%|███████▌  | 92/121 [00:29<00:09,  3.11it/s]\u001b[A\n",
            "Iteration:  77%|███████▋  | 93/121 [00:29<00:09,  3.10it/s]\u001b[A\n",
            "Iteration:  78%|███████▊  | 94/121 [00:30<00:08,  3.12it/s]\u001b[A\n",
            "Iteration:  79%|███████▊  | 95/121 [00:30<00:08,  3.14it/s]\u001b[A\n",
            "Iteration:  79%|███████▉  | 96/121 [00:30<00:07,  3.15it/s]\u001b[A\n",
            "Iteration:  80%|████████  | 97/121 [00:31<00:07,  3.16it/s]\u001b[A\n",
            "Iteration:  81%|████████  | 98/121 [00:31<00:07,  3.16it/s]\u001b[A\n",
            "Iteration:  82%|████████▏ | 99/121 [00:31<00:06,  3.15it/s]\u001b[A/usr/local/lib/python3.6/dist-packages/torch/optim/lr_scheduler.py:231: UserWarning: To get the last learning rate computed by the scheduler, please use `get_last_lr()`.\n",
            "  warnings.warn(\"To get the last learning rate computed by the scheduler, \"\n"
          ],
          "name": "stderr"
        },
        {
          "output_type": "stream",
          "text": [
            "{\"learning_rate\": 1.666944490748458e-05, \"loss\": 0.45717674180865286, \"step\": 100}\n"
          ],
          "name": "stdout"
        },
        {
          "output_type": "stream",
          "text": [
            "10/14/2020 13:33:12 - INFO - __main__ -   Saving model checkpoint to /content/drive/My Drive/PROJECT/kg_bert_baseline_data/geolit_data_output/link_prediction-2020-10-14 13:31:57.307212/checkpoint-100\n",
            "10/14/2020 13:33:12 - INFO - __main__ -   Elapsed time: 0:00:34\n",
            "\n",
            "Iteration:  83%|████████▎ | 100/121 [00:33<00:18,  1.16it/s]\u001b[A\n",
            "Iteration:  83%|████████▎ | 101/121 [00:34<00:13,  1.43it/s]\u001b[A\n",
            "Iteration:  84%|████████▍ | 102/121 [00:34<00:11,  1.70it/s]\u001b[A\n",
            "Iteration:  85%|████████▌ | 103/121 [00:34<00:09,  1.98it/s]\u001b[A\n",
            "Iteration:  86%|████████▌ | 104/121 [00:35<00:07,  2.22it/s]\u001b[A\n",
            "Iteration:  87%|████████▋ | 105/121 [00:35<00:06,  2.44it/s]\u001b[A\n",
            "Iteration:  88%|████████▊ | 106/121 [00:35<00:05,  2.62it/s]\u001b[A\n",
            "Iteration:  88%|████████▊ | 107/121 [00:36<00:05,  2.75it/s]\u001b[A\n",
            "Iteration:  89%|████████▉ | 108/121 [00:36<00:04,  2.87it/s]\u001b[A\n",
            "Iteration:  90%|█████████ | 109/121 [00:36<00:04,  2.95it/s]\u001b[A\n",
            "Iteration:  91%|█████████ | 110/121 [00:37<00:03,  2.99it/s]\u001b[A\n",
            "Iteration:  92%|█████████▏| 111/121 [00:37<00:03,  3.04it/s]\u001b[A\n",
            "Iteration:  93%|█████████▎| 112/121 [00:37<00:02,  3.07it/s]\u001b[A\n",
            "Iteration:  93%|█████████▎| 113/121 [00:38<00:02,  3.06it/s]\u001b[A\n",
            "Iteration:  94%|█████████▍| 114/121 [00:38<00:02,  3.09it/s]\u001b[A\n",
            "Iteration:  95%|█████████▌| 115/121 [00:38<00:01,  3.12it/s]\u001b[A\n",
            "Iteration:  96%|█████████▌| 116/121 [00:39<00:01,  3.12it/s]\u001b[A\n",
            "Iteration:  97%|█████████▋| 117/121 [00:39<00:01,  3.14it/s]\u001b[A\n",
            "Iteration:  98%|█████████▊| 118/121 [00:39<00:00,  3.15it/s]\u001b[A\n",
            "Iteration:  98%|█████████▊| 119/121 [00:40<00:00,  3.14it/s]\u001b[A\n",
            "Iteration:  99%|█████████▉| 120/121 [00:40<00:00,  3.15it/s]\u001b[A\n",
            "Iteration: 100%|██████████| 121/121 [00:40<00:00,  2.98it/s]\n",
            "Epoch:  20%|██        | 1/5 [00:40<02:42, 40.57s/it]\n",
            "Iteration:   0%|          | 0/121 [00:00<?, ?it/s]\u001b[A"
          ],
          "name": "stderr"
        },
        {
          "output_type": "stream",
          "text": [
            "Training loss:  54.36507235467434\n"
          ],
          "name": "stdout"
        },
        {
          "output_type": "stream",
          "text": [
            "\n",
            "Iteration:   1%|          | 1/121 [00:00<00:38,  3.10it/s]\u001b[A\n",
            "Iteration:   2%|▏         | 2/121 [00:00<00:38,  3.12it/s]\u001b[A\n",
            "Iteration:   2%|▏         | 3/121 [00:00<00:37,  3.11it/s]\u001b[A\n",
            "Iteration:   3%|▎         | 4/121 [00:01<00:37,  3.09it/s]\u001b[A\n",
            "Iteration:   4%|▍         | 5/121 [00:01<00:37,  3.08it/s]\u001b[A\n",
            "Iteration:   5%|▍         | 6/121 [00:01<00:37,  3.05it/s]\u001b[A\n",
            "Iteration:   6%|▌         | 7/121 [00:02<00:37,  3.04it/s]\u001b[A\n",
            "Iteration:   7%|▋         | 8/121 [00:02<00:37,  3.04it/s]\u001b[A\n",
            "Iteration:   7%|▋         | 9/121 [00:02<00:36,  3.04it/s]\u001b[A\n",
            "Iteration:   8%|▊         | 10/121 [00:03<00:36,  3.06it/s]\u001b[A\n",
            "Iteration:   9%|▉         | 11/121 [00:03<00:35,  3.09it/s]\u001b[A\n",
            "Iteration:  10%|▉         | 12/121 [00:03<00:35,  3.08it/s]\u001b[A\n",
            "Iteration:  11%|█         | 13/121 [00:04<00:35,  3.08it/s]\u001b[A\n",
            "Iteration:  12%|█▏        | 14/121 [00:04<00:34,  3.09it/s]\u001b[A\n",
            "Iteration:  12%|█▏        | 15/121 [00:04<00:34,  3.09it/s]\u001b[A\n",
            "Iteration:  13%|█▎        | 16/121 [00:05<00:34,  3.08it/s]\u001b[A\n",
            "Iteration:  14%|█▍        | 17/121 [00:05<00:33,  3.07it/s]\u001b[A\n",
            "Iteration:  15%|█▍        | 18/121 [00:05<00:33,  3.08it/s]\u001b[A\n",
            "Iteration:  16%|█▌        | 19/121 [00:06<00:32,  3.10it/s]\u001b[A\n",
            "Iteration:  17%|█▋        | 20/121 [00:06<00:32,  3.09it/s]\u001b[A\n",
            "Iteration:  17%|█▋        | 21/121 [00:06<00:32,  3.08it/s]\u001b[A\n",
            "Iteration:  18%|█▊        | 22/121 [00:07<00:31,  3.10it/s]\u001b[A\n",
            "Iteration:  19%|█▉        | 23/121 [00:07<00:31,  3.12it/s]\u001b[A\n",
            "Iteration:  20%|█▉        | 24/121 [00:07<00:31,  3.12it/s]\u001b[A\n",
            "Iteration:  21%|██        | 25/121 [00:08<00:30,  3.14it/s]\u001b[A\n",
            "Iteration:  21%|██▏       | 26/121 [00:08<00:30,  3.15it/s]\u001b[A\n",
            "Iteration:  22%|██▏       | 27/121 [00:08<00:29,  3.16it/s]\u001b[A\n",
            "Iteration:  23%|██▎       | 28/121 [00:09<00:29,  3.15it/s]\u001b[A\n",
            "Iteration:  24%|██▍       | 29/121 [00:09<00:29,  3.14it/s]\u001b[A\n",
            "Iteration:  25%|██▍       | 30/121 [00:09<00:28,  3.14it/s]\u001b[A\n",
            "Iteration:  26%|██▌       | 31/121 [00:10<00:28,  3.13it/s]\u001b[A\n",
            "Iteration:  26%|██▋       | 32/121 [00:10<00:28,  3.12it/s]\u001b[A\n",
            "Iteration:  27%|██▋       | 33/121 [00:10<00:28,  3.14it/s]\u001b[A\n",
            "Iteration:  28%|██▊       | 34/121 [00:10<00:27,  3.15it/s]\u001b[A\n",
            "Iteration:  29%|██▉       | 35/121 [00:11<00:27,  3.16it/s]\u001b[A\n",
            "Iteration:  30%|██▉       | 36/121 [00:11<00:26,  3.15it/s]\u001b[A\n",
            "Iteration:  31%|███       | 37/121 [00:11<00:26,  3.13it/s]\u001b[A\n",
            "Iteration:  31%|███▏      | 38/121 [00:12<00:26,  3.14it/s]\u001b[A\n",
            "Iteration:  32%|███▏      | 39/121 [00:12<00:26,  3.15it/s]\u001b[A\n",
            "Iteration:  33%|███▎      | 40/121 [00:12<00:25,  3.16it/s]\u001b[A\n",
            "Iteration:  34%|███▍      | 41/121 [00:13<00:25,  3.14it/s]\u001b[A\n",
            "Iteration:  35%|███▍      | 42/121 [00:13<00:25,  3.14it/s]\u001b[A\n",
            "Iteration:  36%|███▌      | 43/121 [00:13<00:24,  3.15it/s]\u001b[A\n",
            "Iteration:  36%|███▋      | 44/121 [00:14<00:24,  3.14it/s]\u001b[A\n",
            "Iteration:  37%|███▋      | 45/121 [00:14<00:24,  3.15it/s]\u001b[A\n",
            "Iteration:  38%|███▊      | 46/121 [00:14<00:23,  3.15it/s]\u001b[A\n",
            "Iteration:  39%|███▉      | 47/121 [00:15<00:23,  3.14it/s]\u001b[A\n",
            "Iteration:  40%|███▉      | 48/121 [00:15<00:23,  3.12it/s]\u001b[A\n",
            "Iteration:  40%|████      | 49/121 [00:15<00:22,  3.14it/s]\u001b[A\n",
            "Iteration:  41%|████▏     | 50/121 [00:16<00:22,  3.14it/s]\u001b[A\n",
            "Iteration:  42%|████▏     | 51/121 [00:16<00:22,  3.14it/s]\u001b[A\n",
            "Iteration:  43%|████▎     | 52/121 [00:16<00:21,  3.15it/s]\u001b[A\n",
            "Iteration:  44%|████▍     | 53/121 [00:17<00:21,  3.14it/s]\u001b[A\n",
            "Iteration:  45%|████▍     | 54/121 [00:17<00:21,  3.13it/s]\u001b[A\n",
            "Iteration:  45%|████▌     | 55/121 [00:17<00:20,  3.14it/s]\u001b[A\n",
            "Iteration:  46%|████▋     | 56/121 [00:17<00:20,  3.15it/s]\u001b[A\n",
            "Iteration:  47%|████▋     | 57/121 [00:18<00:20,  3.15it/s]\u001b[A\n",
            "Iteration:  48%|████▊     | 58/121 [00:18<00:19,  3.16it/s]\u001b[A\n",
            "Iteration:  49%|████▉     | 59/121 [00:18<00:19,  3.17it/s]\u001b[A\n",
            "Iteration:  50%|████▉     | 60/121 [00:19<00:19,  3.17it/s]\u001b[A\n",
            "Iteration:  50%|█████     | 61/121 [00:19<00:18,  3.17it/s]\u001b[A\n",
            "Iteration:  51%|█████     | 62/121 [00:19<00:18,  3.17it/s]\u001b[A\n",
            "Iteration:  52%|█████▏    | 63/121 [00:20<00:18,  3.16it/s]\u001b[A\n",
            "Iteration:  53%|█████▎    | 64/121 [00:20<00:18,  3.14it/s]\u001b[A\n",
            "Iteration:  54%|█████▎    | 65/121 [00:20<00:17,  3.13it/s]\u001b[A\n",
            "Iteration:  55%|█████▍    | 66/121 [00:21<00:17,  3.15it/s]\u001b[A\n",
            "Iteration:  55%|█████▌    | 67/121 [00:21<00:17,  3.16it/s]\u001b[A\n",
            "Iteration:  56%|█████▌    | 68/121 [00:21<00:16,  3.16it/s]\u001b[A\n",
            "Iteration:  57%|█████▋    | 69/121 [00:22<00:16,  3.12it/s]\u001b[A\n",
            "Iteration:  58%|█████▊    | 70/121 [00:22<00:16,  3.13it/s]\u001b[A\n",
            "Iteration:  59%|█████▊    | 71/121 [00:22<00:15,  3.14it/s]\u001b[A\n",
            "Iteration:  60%|█████▉    | 72/121 [00:23<00:15,  3.15it/s]\u001b[A\n",
            "Iteration:  60%|██████    | 73/121 [00:23<00:15,  3.15it/s]\u001b[A\n",
            "Iteration:  61%|██████    | 74/121 [00:23<00:14,  3.16it/s]\u001b[A\n",
            "Iteration:  62%|██████▏   | 75/121 [00:23<00:14,  3.14it/s]\u001b[A\n",
            "Iteration:  63%|██████▎   | 76/121 [00:24<00:14,  3.15it/s]\u001b[A\n",
            "Iteration:  64%|██████▎   | 77/121 [00:24<00:13,  3.14it/s]\u001b[A\n",
            "Iteration:  64%|██████▍   | 78/121 [00:24<00:13,  3.15it/s]\u001b[A"
          ],
          "name": "stderr"
        },
        {
          "output_type": "stream",
          "text": [
            "{\"learning_rate\": 1.3335555925987667e-05, \"loss\": -0.1859850812703371, \"step\": 200}\n"
          ],
          "name": "stdout"
        },
        {
          "output_type": "stream",
          "text": [
            "10/14/2020 13:33:45 - INFO - __main__ -   Saving model checkpoint to /content/drive/My Drive/PROJECT/kg_bert_baseline_data/geolit_data_output/link_prediction-2020-10-14 13:31:57.307212/checkpoint-200\n",
            "10/14/2020 13:33:45 - INFO - __main__ -   Elapsed time: 0:01:08\n",
            "\n",
            "Iteration:  65%|██████▌   | 79/121 [00:27<00:36,  1.14it/s]\u001b[A\n",
            "Iteration:  66%|██████▌   | 80/121 [00:27<00:29,  1.40it/s]\u001b[A\n",
            "Iteration:  67%|██████▋   | 81/121 [00:27<00:23,  1.69it/s]\u001b[A\n",
            "Iteration:  68%|██████▊   | 82/121 [00:28<00:19,  1.96it/s]\u001b[A\n",
            "Iteration:  69%|██████▊   | 83/121 [00:28<00:17,  2.21it/s]\u001b[A\n",
            "Iteration:  69%|██████▉   | 84/121 [00:28<00:15,  2.43it/s]\u001b[A\n",
            "Iteration:  70%|███████   | 85/121 [00:29<00:13,  2.61it/s]\u001b[A\n",
            "Iteration:  71%|███████   | 86/121 [00:29<00:12,  2.74it/s]\u001b[A\n",
            "Iteration:  72%|███████▏  | 87/121 [00:29<00:11,  2.85it/s]\u001b[A\n",
            "Iteration:  73%|███████▎  | 88/121 [00:29<00:11,  2.93it/s]\u001b[A\n",
            "Iteration:  74%|███████▎  | 89/121 [00:30<00:10,  2.98it/s]\u001b[A\n",
            "Iteration:  74%|███████▍  | 90/121 [00:30<00:10,  3.01it/s]\u001b[A\n",
            "Iteration:  75%|███████▌  | 91/121 [00:30<00:09,  3.06it/s]\u001b[A\n",
            "Iteration:  76%|███████▌  | 92/121 [00:31<00:09,  3.09it/s]\u001b[A\n",
            "Iteration:  77%|███████▋  | 93/121 [00:31<00:09,  3.10it/s]\u001b[A\n",
            "Iteration:  78%|███████▊  | 94/121 [00:31<00:08,  3.11it/s]\u001b[A\n",
            "Iteration:  79%|███████▊  | 95/121 [00:32<00:08,  3.13it/s]\u001b[A\n",
            "Iteration:  79%|███████▉  | 96/121 [00:32<00:07,  3.13it/s]\u001b[A\n",
            "Iteration:  80%|████████  | 97/121 [00:32<00:07,  3.13it/s]\u001b[A\n",
            "Iteration:  81%|████████  | 98/121 [00:33<00:07,  3.14it/s]\u001b[A\n",
            "Iteration:  82%|████████▏ | 99/121 [00:33<00:07,  3.14it/s]\u001b[A\n",
            "Iteration:  83%|████████▎ | 100/121 [00:33<00:06,  3.15it/s]\u001b[A\n",
            "Iteration:  83%|████████▎ | 101/121 [00:34<00:06,  3.16it/s]\u001b[A\n",
            "Iteration:  84%|████████▍ | 102/121 [00:34<00:06,  3.16it/s]\u001b[A\n",
            "Iteration:  85%|████████▌ | 103/121 [00:34<00:05,  3.17it/s]\u001b[A\n",
            "Iteration:  86%|████████▌ | 104/121 [00:35<00:05,  3.17it/s]\u001b[A\n",
            "Iteration:  87%|████████▋ | 105/121 [00:35<00:05,  3.11it/s]\u001b[A\n",
            "Iteration:  88%|████████▊ | 106/121 [00:35<00:04,  3.13it/s]\u001b[A\n",
            "Iteration:  88%|████████▊ | 107/121 [00:36<00:04,  3.07it/s]\u001b[A\n",
            "Iteration:  89%|████████▉ | 108/121 [00:36<00:04,  3.07it/s]\u001b[A\n",
            "Iteration:  90%|█████████ | 109/121 [00:36<00:03,  3.08it/s]\u001b[A\n",
            "Iteration:  91%|█████████ | 110/121 [00:37<00:03,  3.08it/s]\u001b[A\n",
            "Iteration:  92%|█████████▏| 111/121 [00:37<00:03,  3.07it/s]\u001b[A\n",
            "Iteration:  93%|█████████▎| 112/121 [00:37<00:02,  3.07it/s]\u001b[A\n",
            "Iteration:  93%|█████████▎| 113/121 [00:38<00:02,  3.08it/s]\u001b[A\n",
            "Iteration:  94%|█████████▍| 114/121 [00:38<00:02,  3.07it/s]\u001b[A\n",
            "Iteration:  95%|█████████▌| 115/121 [00:38<00:01,  3.06it/s]\u001b[A\n",
            "Iteration:  96%|█████████▌| 116/121 [00:38<00:01,  3.06it/s]\u001b[A\n",
            "Iteration:  97%|█████████▋| 117/121 [00:39<00:01,  3.05it/s]\u001b[A\n",
            "Iteration:  98%|█████████▊| 118/121 [00:39<00:00,  3.04it/s]\u001b[A\n",
            "Iteration:  98%|█████████▊| 119/121 [00:39<00:00,  3.07it/s]\u001b[A\n",
            "Iteration:  99%|█████████▉| 120/121 [00:40<00:00,  3.07it/s]\u001b[A\n",
            "Iteration: 100%|██████████| 121/121 [00:40<00:00,  2.99it/s]\n",
            "Epoch:  40%|████      | 2/5 [01:21<02:01, 40.55s/it]\n",
            "Iteration:   0%|          | 0/121 [00:00<?, ?it/s]\u001b[A"
          ],
          "name": "stderr"
        },
        {
          "output_type": "stream",
          "text": [
            "Training loss:  39.3421223834157\n"
          ],
          "name": "stdout"
        },
        {
          "output_type": "stream",
          "text": [
            "\n",
            "Iteration:   1%|          | 1/121 [00:00<00:38,  3.10it/s]\u001b[A\n",
            "Iteration:   2%|▏         | 2/121 [00:00<00:38,  3.10it/s]\u001b[A\n",
            "Iteration:   2%|▏         | 3/121 [00:00<00:38,  3.06it/s]\u001b[A\n",
            "Iteration:   3%|▎         | 4/121 [00:01<00:38,  3.05it/s]\u001b[A\n",
            "Iteration:   4%|▍         | 5/121 [00:01<00:37,  3.07it/s]\u001b[A\n",
            "Iteration:   5%|▍         | 6/121 [00:01<00:37,  3.09it/s]\u001b[A\n",
            "Iteration:   6%|▌         | 7/121 [00:02<00:36,  3.10it/s]\u001b[A\n",
            "Iteration:   7%|▋         | 8/121 [00:02<00:36,  3.11it/s]\u001b[A\n",
            "Iteration:   7%|▋         | 9/121 [00:02<00:35,  3.11it/s]\u001b[A\n",
            "Iteration:   8%|▊         | 10/121 [00:03<00:35,  3.13it/s]\u001b[A\n",
            "Iteration:   9%|▉         | 11/121 [00:03<00:35,  3.12it/s]\u001b[A\n",
            "Iteration:  10%|▉         | 12/121 [00:03<00:34,  3.13it/s]\u001b[A\n",
            "Iteration:  11%|█         | 13/121 [00:04<00:34,  3.12it/s]\u001b[A\n",
            "Iteration:  12%|█▏        | 14/121 [00:04<00:34,  3.13it/s]\u001b[A\n",
            "Iteration:  12%|█▏        | 15/121 [00:04<00:33,  3.15it/s]\u001b[A\n",
            "Iteration:  13%|█▎        | 16/121 [00:05<00:33,  3.15it/s]\u001b[A\n",
            "Iteration:  14%|█▍        | 17/121 [00:05<00:33,  3.15it/s]\u001b[A\n",
            "Iteration:  15%|█▍        | 18/121 [00:05<00:32,  3.14it/s]\u001b[A\n",
            "Iteration:  16%|█▌        | 19/121 [00:06<00:32,  3.13it/s]\u001b[A\n",
            "Iteration:  17%|█▋        | 20/121 [00:06<00:32,  3.14it/s]\u001b[A\n",
            "Iteration:  17%|█▋        | 21/121 [00:06<00:31,  3.14it/s]\u001b[A\n",
            "Iteration:  18%|█▊        | 22/121 [00:07<00:31,  3.11it/s]\u001b[A\n",
            "Iteration:  19%|█▉        | 23/121 [00:07<00:31,  3.13it/s]\u001b[A\n",
            "Iteration:  20%|█▉        | 24/121 [00:07<00:30,  3.14it/s]\u001b[A\n",
            "Iteration:  21%|██        | 25/121 [00:08<00:30,  3.11it/s]\u001b[A\n",
            "Iteration:  21%|██▏       | 26/121 [00:08<00:30,  3.13it/s]\u001b[A\n",
            "Iteration:  22%|██▏       | 27/121 [00:08<00:30,  3.13it/s]\u001b[A\n",
            "Iteration:  23%|██▎       | 28/121 [00:08<00:29,  3.14it/s]\u001b[A\n",
            "Iteration:  24%|██▍       | 29/121 [00:09<00:29,  3.09it/s]\u001b[A\n",
            "Iteration:  25%|██▍       | 30/121 [00:09<00:29,  3.11it/s]\u001b[A\n",
            "Iteration:  26%|██▌       | 31/121 [00:09<00:28,  3.13it/s]\u001b[A\n",
            "Iteration:  26%|██▋       | 32/121 [00:10<00:28,  3.12it/s]\u001b[A\n",
            "Iteration:  27%|██▋       | 33/121 [00:10<00:28,  3.14it/s]\u001b[A\n",
            "Iteration:  28%|██▊       | 34/121 [00:10<00:27,  3.15it/s]\u001b[A\n",
            "Iteration:  29%|██▉       | 35/121 [00:11<00:27,  3.14it/s]\u001b[A\n",
            "Iteration:  30%|██▉       | 36/121 [00:11<00:27,  3.13it/s]\u001b[A\n",
            "Iteration:  31%|███       | 37/121 [00:11<00:26,  3.14it/s]\u001b[A\n",
            "Iteration:  31%|███▏      | 38/121 [00:12<00:26,  3.14it/s]\u001b[A\n",
            "Iteration:  32%|███▏      | 39/121 [00:12<00:26,  3.14it/s]\u001b[A\n",
            "Iteration:  33%|███▎      | 40/121 [00:12<00:25,  3.12it/s]\u001b[A\n",
            "Iteration:  34%|███▍      | 41/121 [00:13<00:25,  3.13it/s]\u001b[A\n",
            "Iteration:  35%|███▍      | 42/121 [00:13<00:25,  3.13it/s]\u001b[A\n",
            "Iteration:  36%|███▌      | 43/121 [00:13<00:24,  3.14it/s]\u001b[A\n",
            "Iteration:  36%|███▋      | 44/121 [00:14<00:24,  3.08it/s]\u001b[A\n",
            "Iteration:  37%|███▋      | 45/121 [00:14<00:24,  3.10it/s]\u001b[A\n",
            "Iteration:  38%|███▊      | 46/121 [00:14<00:24,  3.12it/s]\u001b[A\n",
            "Iteration:  39%|███▉      | 47/121 [00:15<00:23,  3.10it/s]\u001b[A\n",
            "Iteration:  40%|███▉      | 48/121 [00:15<00:23,  3.10it/s]\u001b[A\n",
            "Iteration:  40%|████      | 49/121 [00:15<00:23,  3.12it/s]\u001b[A\n",
            "Iteration:  41%|████▏     | 50/121 [00:16<00:22,  3.13it/s]\u001b[A\n",
            "Iteration:  42%|████▏     | 51/121 [00:16<00:22,  3.14it/s]\u001b[A\n",
            "Iteration:  43%|████▎     | 52/121 [00:16<00:22,  3.13it/s]\u001b[A\n",
            "Iteration:  44%|████▍     | 53/121 [00:16<00:21,  3.14it/s]\u001b[A\n",
            "Iteration:  45%|████▍     | 54/121 [00:17<00:21,  3.14it/s]\u001b[A\n",
            "Iteration:  45%|████▌     | 55/121 [00:17<00:20,  3.15it/s]\u001b[A\n",
            "Iteration:  46%|████▋     | 56/121 [00:17<00:20,  3.16it/s]\u001b[A\n",
            "Iteration:  47%|████▋     | 57/121 [00:18<00:20,  3.16it/s]\u001b[A"
          ],
          "name": "stderr"
        },
        {
          "output_type": "stream",
          "text": [
            "{\"learning_rate\": 1.0001666944490749e-05, \"loss\": -0.12509009458124637, \"step\": 300}\n"
          ],
          "name": "stdout"
        },
        {
          "output_type": "stream",
          "text": [
            "10/14/2020 13:34:19 - INFO - __main__ -   Saving model checkpoint to /content/drive/My Drive/PROJECT/kg_bert_baseline_data/geolit_data_output/link_prediction-2020-10-14 13:31:57.307212/checkpoint-300\n",
            "10/14/2020 13:34:19 - INFO - __main__ -   Elapsed time: 0:01:41\n",
            "\n",
            "Iteration:  48%|████▊     | 58/121 [00:20<00:53,  1.18it/s]\u001b[A\n",
            "Iteration:  49%|████▉     | 59/121 [00:20<00:42,  1.44it/s]\u001b[A\n",
            "Iteration:  50%|████▉     | 60/121 [00:20<00:35,  1.72it/s]\u001b[A\n",
            "Iteration:  50%|█████     | 61/121 [00:21<00:30,  2.00it/s]\u001b[A\n",
            "Iteration:  51%|█████     | 62/121 [00:21<00:26,  2.25it/s]\u001b[A\n",
            "Iteration:  52%|█████▏    | 63/121 [00:21<00:23,  2.47it/s]\u001b[A\n",
            "Iteration:  53%|█████▎    | 64/121 [00:22<00:21,  2.64it/s]\u001b[A\n",
            "Iteration:  54%|█████▎    | 65/121 [00:22<00:20,  2.78it/s]\u001b[A\n",
            "Iteration:  55%|█████▍    | 66/121 [00:22<00:19,  2.89it/s]\u001b[A\n",
            "Iteration:  55%|█████▌    | 67/121 [00:23<00:18,  2.98it/s]\u001b[A\n",
            "Iteration:  56%|█████▌    | 68/121 [00:23<00:17,  3.04it/s]\u001b[A\n",
            "Iteration:  57%|█████▋    | 69/121 [00:23<00:16,  3.07it/s]\u001b[A\n",
            "Iteration:  58%|█████▊    | 70/121 [00:24<00:16,  3.11it/s]\u001b[A\n",
            "Iteration:  59%|█████▊    | 71/121 [00:24<00:16,  3.11it/s]\u001b[A\n",
            "Iteration:  60%|█████▉    | 72/121 [00:24<00:15,  3.12it/s]\u001b[A\n",
            "Iteration:  60%|██████    | 73/121 [00:25<00:15,  3.13it/s]\u001b[A\n",
            "Iteration:  61%|██████    | 74/121 [00:25<00:14,  3.13it/s]\u001b[A\n",
            "Iteration:  62%|██████▏   | 75/121 [00:25<00:14,  3.14it/s]\u001b[A\n",
            "Iteration:  63%|██████▎   | 76/121 [00:26<00:14,  3.12it/s]\u001b[A\n",
            "Iteration:  64%|██████▎   | 77/121 [00:26<00:14,  3.11it/s]\u001b[A\n",
            "Iteration:  64%|██████▍   | 78/121 [00:26<00:13,  3.13it/s]\u001b[A\n",
            "Iteration:  65%|██████▌   | 79/121 [00:27<00:13,  3.11it/s]\u001b[A\n",
            "Iteration:  66%|██████▌   | 80/121 [00:27<00:13,  3.10it/s]\u001b[A\n",
            "Iteration:  67%|██████▋   | 81/121 [00:27<00:12,  3.08it/s]\u001b[A\n",
            "Iteration:  68%|██████▊   | 82/121 [00:27<00:12,  3.06it/s]\u001b[A\n",
            "Iteration:  69%|██████▊   | 83/121 [00:28<00:12,  3.06it/s]\u001b[A\n",
            "Iteration:  69%|██████▉   | 84/121 [00:28<00:12,  3.08it/s]\u001b[A\n",
            "Iteration:  70%|███████   | 85/121 [00:28<00:11,  3.08it/s]\u001b[A\n",
            "Iteration:  71%|███████   | 86/121 [00:29<00:11,  3.08it/s]\u001b[A\n",
            "Iteration:  72%|███████▏  | 87/121 [00:29<00:11,  3.09it/s]\u001b[A\n",
            "Iteration:  73%|███████▎  | 88/121 [00:29<00:10,  3.08it/s]\u001b[A\n",
            "Iteration:  74%|███████▎  | 89/121 [00:30<00:10,  3.09it/s]\u001b[A\n",
            "Iteration:  74%|███████▍  | 90/121 [00:30<00:10,  3.08it/s]\u001b[A\n",
            "Iteration:  75%|███████▌  | 91/121 [00:30<00:09,  3.08it/s]\u001b[A\n",
            "Iteration:  76%|███████▌  | 92/121 [00:31<00:09,  3.09it/s]\u001b[A\n",
            "Iteration:  77%|███████▋  | 93/121 [00:31<00:09,  3.07it/s]\u001b[A\n",
            "Iteration:  78%|███████▊  | 94/121 [00:31<00:08,  3.10it/s]\u001b[A\n",
            "Iteration:  79%|███████▊  | 95/121 [00:32<00:08,  3.11it/s]\u001b[A\n",
            "Iteration:  79%|███████▉  | 96/121 [00:32<00:08,  3.11it/s]\u001b[A\n",
            "Iteration:  80%|████████  | 97/121 [00:32<00:07,  3.10it/s]\u001b[A\n",
            "Iteration:  81%|████████  | 98/121 [00:33<00:07,  3.11it/s]\u001b[A\n",
            "Iteration:  82%|████████▏ | 99/121 [00:33<00:07,  3.10it/s]\u001b[A\n",
            "Iteration:  83%|████████▎ | 100/121 [00:33<00:06,  3.08it/s]\u001b[A\n",
            "Iteration:  83%|████████▎ | 101/121 [00:34<00:06,  3.10it/s]\u001b[A\n",
            "Iteration:  84%|████████▍ | 102/121 [00:34<00:06,  3.12it/s]\u001b[A\n",
            "Iteration:  85%|████████▌ | 103/121 [00:34<00:05,  3.14it/s]\u001b[A\n",
            "Iteration:  86%|████████▌ | 104/121 [00:35<00:05,  3.15it/s]\u001b[A\n",
            "Iteration:  87%|████████▋ | 105/121 [00:35<00:05,  3.16it/s]\u001b[A\n",
            "Iteration:  88%|████████▊ | 106/121 [00:35<00:04,  3.11it/s]\u001b[A\n",
            "Iteration:  88%|████████▊ | 107/121 [00:36<00:04,  3.13it/s]\u001b[A\n",
            "Iteration:  89%|████████▉ | 108/121 [00:36<00:04,  3.14it/s]\u001b[A\n",
            "Iteration:  90%|█████████ | 109/121 [00:36<00:03,  3.14it/s]\u001b[A\n",
            "Iteration:  91%|█████████ | 110/121 [00:36<00:03,  3.13it/s]\u001b[A\n",
            "Iteration:  92%|█████████▏| 111/121 [00:37<00:03,  3.14it/s]\u001b[A\n",
            "Iteration:  93%|█████████▎| 112/121 [00:37<00:02,  3.14it/s]\u001b[A\n",
            "Iteration:  93%|█████████▎| 113/121 [00:37<00:02,  3.13it/s]\u001b[A\n",
            "Iteration:  94%|█████████▍| 114/121 [00:38<00:02,  3.13it/s]\u001b[A\n",
            "Iteration:  95%|█████████▌| 115/121 [00:38<00:01,  3.15it/s]\u001b[A\n",
            "Iteration:  96%|█████████▌| 116/121 [00:38<00:01,  3.15it/s]\u001b[A\n",
            "Iteration:  97%|█████████▋| 117/121 [00:39<00:01,  3.15it/s]\u001b[A\n",
            "Iteration:  98%|█████████▊| 118/121 [00:39<00:00,  3.16it/s]\u001b[A\n",
            "Iteration:  98%|█████████▊| 119/121 [00:39<00:00,  3.16it/s]\u001b[A\n",
            "Iteration:  99%|█████████▉| 120/121 [00:40<00:00,  3.17it/s]\u001b[A\n",
            "Iteration: 100%|██████████| 121/121 [00:40<00:00,  3.00it/s]\n",
            "Epoch:  60%|██████    | 3/5 [02:01<01:21, 40.50s/it]\n",
            "Iteration:   0%|          | 0/121 [00:00<?, ?it/s]\u001b[A"
          ],
          "name": "stderr"
        },
        {
          "output_type": "stream",
          "text": [
            "Training loss:  29.19773107022047\n"
          ],
          "name": "stdout"
        },
        {
          "output_type": "stream",
          "text": [
            "\n",
            "Iteration:   1%|          | 1/121 [00:00<00:37,  3.18it/s]\u001b[A\n",
            "Iteration:   2%|▏         | 2/121 [00:00<00:37,  3.18it/s]\u001b[A\n",
            "Iteration:   2%|▏         | 3/121 [00:00<00:37,  3.18it/s]\u001b[A\n",
            "Iteration:   3%|▎         | 4/121 [00:01<00:36,  3.17it/s]\u001b[A\n",
            "Iteration:   4%|▍         | 5/121 [00:01<00:36,  3.17it/s]\u001b[A\n",
            "Iteration:   5%|▍         | 6/121 [00:01<00:36,  3.16it/s]\u001b[A\n",
            "Iteration:   6%|▌         | 7/121 [00:02<00:35,  3.17it/s]\u001b[A\n",
            "Iteration:   7%|▋         | 8/121 [00:02<00:35,  3.17it/s]\u001b[A\n",
            "Iteration:   7%|▋         | 9/121 [00:02<00:35,  3.16it/s]\u001b[A\n",
            "Iteration:   8%|▊         | 10/121 [00:03<00:35,  3.15it/s]\u001b[A\n",
            "Iteration:   9%|▉         | 11/121 [00:03<00:34,  3.15it/s]\u001b[A\n",
            "Iteration:  10%|▉         | 12/121 [00:03<00:34,  3.13it/s]\u001b[A\n",
            "Iteration:  11%|█         | 13/121 [00:04<00:34,  3.13it/s]\u001b[A\n",
            "Iteration:  12%|█▏        | 14/121 [00:04<00:34,  3.14it/s]\u001b[A\n",
            "Iteration:  12%|█▏        | 15/121 [00:04<00:33,  3.14it/s]\u001b[A\n",
            "Iteration:  13%|█▎        | 16/121 [00:05<00:33,  3.16it/s]\u001b[A\n",
            "Iteration:  14%|█▍        | 17/121 [00:05<00:32,  3.16it/s]\u001b[A\n",
            "Iteration:  15%|█▍        | 18/121 [00:05<00:32,  3.15it/s]\u001b[A\n",
            "Iteration:  16%|█▌        | 19/121 [00:06<00:32,  3.16it/s]\u001b[A\n",
            "Iteration:  17%|█▋        | 20/121 [00:06<00:31,  3.17it/s]\u001b[A\n",
            "Iteration:  17%|█▋        | 21/121 [00:06<00:31,  3.17it/s]\u001b[A\n",
            "Iteration:  18%|█▊        | 22/121 [00:06<00:31,  3.15it/s]\u001b[A\n",
            "Iteration:  19%|█▉        | 23/121 [00:07<00:31,  3.15it/s]\u001b[A\n",
            "Iteration:  20%|█▉        | 24/121 [00:07<00:30,  3.14it/s]\u001b[A\n",
            "Iteration:  21%|██        | 25/121 [00:07<00:30,  3.15it/s]\u001b[A\n",
            "Iteration:  21%|██▏       | 26/121 [00:08<00:30,  3.16it/s]\u001b[A\n",
            "Iteration:  22%|██▏       | 27/121 [00:08<00:29,  3.15it/s]\u001b[A\n",
            "Iteration:  23%|██▎       | 28/121 [00:08<00:29,  3.15it/s]\u001b[A\n",
            "Iteration:  24%|██▍       | 29/121 [00:09<00:29,  3.14it/s]\u001b[A\n",
            "Iteration:  25%|██▍       | 30/121 [00:09<00:28,  3.15it/s]\u001b[A\n",
            "Iteration:  26%|██▌       | 31/121 [00:09<00:28,  3.14it/s]\u001b[A\n",
            "Iteration:  26%|██▋       | 32/121 [00:10<00:28,  3.15it/s]\u001b[A\n",
            "Iteration:  27%|██▋       | 33/121 [00:10<00:27,  3.15it/s]\u001b[A\n",
            "Iteration:  28%|██▊       | 34/121 [00:10<00:27,  3.16it/s]\u001b[A\n",
            "Iteration:  29%|██▉       | 35/121 [00:11<00:27,  3.17it/s]\u001b[A\n",
            "Iteration:  30%|██▉       | 36/121 [00:11<00:26,  3.17it/s]\u001b[A"
          ],
          "name": "stderr"
        },
        {
          "output_type": "stream",
          "text": [
            "{\"learning_rate\": 6.667777962993833e-06, \"loss\": -0.06852491728961468, \"step\": 400}\n"
          ],
          "name": "stdout"
        },
        {
          "output_type": "stream",
          "text": [
            "10/14/2020 13:34:53 - INFO - __main__ -   Saving model checkpoint to /content/drive/My Drive/PROJECT/kg_bert_baseline_data/geolit_data_output/link_prediction-2020-10-14 13:31:57.307212/checkpoint-400\n",
            "10/14/2020 13:34:53 - INFO - __main__ -   Elapsed time: 0:02:15\n",
            "\n",
            "Iteration:  31%|███       | 37/121 [00:13<01:17,  1.09it/s]\u001b[A\n",
            "Iteration:  31%|███▏      | 38/121 [00:14<01:01,  1.35it/s]\u001b[A\n",
            "Iteration:  32%|███▏      | 39/121 [00:14<00:50,  1.63it/s]\u001b[A\n",
            "Iteration:  33%|███▎      | 40/121 [00:14<00:42,  1.91it/s]\u001b[A\n",
            "Iteration:  34%|███▍      | 41/121 [00:15<00:36,  2.16it/s]\u001b[A\n",
            "Iteration:  35%|███▍      | 42/121 [00:15<00:33,  2.39it/s]\u001b[A\n",
            "Iteration:  36%|███▌      | 43/121 [00:15<00:30,  2.58it/s]\u001b[A\n",
            "Iteration:  36%|███▋      | 44/121 [00:15<00:28,  2.71it/s]\u001b[A\n",
            "Iteration:  37%|███▋      | 45/121 [00:16<00:26,  2.83it/s]\u001b[A\n",
            "Iteration:  38%|███▊      | 46/121 [00:16<00:25,  2.93it/s]\u001b[A\n",
            "Iteration:  39%|███▉      | 47/121 [00:16<00:24,  3.00it/s]\u001b[A\n",
            "Iteration:  40%|███▉      | 48/121 [00:17<00:24,  3.04it/s]\u001b[A\n",
            "Iteration:  40%|████      | 49/121 [00:17<00:23,  3.06it/s]\u001b[A\n",
            "Iteration:  41%|████▏     | 50/121 [00:17<00:22,  3.10it/s]\u001b[A\n",
            "Iteration:  42%|████▏     | 51/121 [00:18<00:22,  3.12it/s]\u001b[A\n",
            "Iteration:  43%|████▎     | 52/121 [00:18<00:21,  3.14it/s]\u001b[A\n",
            "Iteration:  44%|████▍     | 53/121 [00:18<00:21,  3.12it/s]\u001b[A\n",
            "Iteration:  45%|████▍     | 54/121 [00:19<00:21,  3.07it/s]\u001b[A\n",
            "Iteration:  45%|████▌     | 55/121 [00:19<00:21,  3.06it/s]\u001b[A\n",
            "Iteration:  46%|████▋     | 56/121 [00:19<00:21,  3.04it/s]\u001b[A\n",
            "Iteration:  47%|████▋     | 57/121 [00:20<00:21,  3.03it/s]\u001b[A\n",
            "Iteration:  48%|████▊     | 58/121 [00:20<00:20,  3.02it/s]\u001b[A\n",
            "Iteration:  49%|████▉     | 59/121 [00:20<00:20,  3.04it/s]\u001b[A\n",
            "Iteration:  50%|████▉     | 60/121 [00:21<00:20,  3.05it/s]\u001b[A\n",
            "Iteration:  50%|█████     | 61/121 [00:21<00:19,  3.06it/s]\u001b[A\n",
            "Iteration:  51%|█████     | 62/121 [00:21<00:19,  3.04it/s]\u001b[A\n",
            "Iteration:  52%|█████▏    | 63/121 [00:22<00:18,  3.06it/s]\u001b[A\n",
            "Iteration:  53%|█████▎    | 64/121 [00:22<00:18,  3.05it/s]\u001b[A\n",
            "Iteration:  54%|█████▎    | 65/121 [00:22<00:18,  3.05it/s]\u001b[A\n",
            "Iteration:  55%|█████▍    | 66/121 [00:23<00:17,  3.06it/s]\u001b[A\n",
            "Iteration:  55%|█████▌    | 67/121 [00:23<00:17,  3.08it/s]\u001b[A\n",
            "Iteration:  56%|█████▌    | 68/121 [00:23<00:17,  3.08it/s]\u001b[A\n",
            "Iteration:  57%|█████▋    | 69/121 [00:24<00:16,  3.08it/s]\u001b[A\n",
            "Iteration:  58%|█████▊    | 70/121 [00:24<00:16,  3.06it/s]\u001b[A\n",
            "Iteration:  59%|█████▊    | 71/121 [00:24<00:16,  3.06it/s]\u001b[A\n",
            "Iteration:  60%|█████▉    | 72/121 [00:25<00:15,  3.07it/s]\u001b[A\n",
            "Iteration:  60%|██████    | 73/121 [00:25<00:15,  3.09it/s]\u001b[A\n",
            "Iteration:  61%|██████    | 74/121 [00:25<00:15,  3.09it/s]\u001b[A\n",
            "Iteration:  62%|██████▏   | 75/121 [00:26<00:14,  3.12it/s]\u001b[A\n",
            "Iteration:  63%|██████▎   | 76/121 [00:26<00:14,  3.13it/s]\u001b[A\n",
            "Iteration:  64%|██████▎   | 77/121 [00:26<00:14,  3.14it/s]\u001b[A\n",
            "Iteration:  64%|██████▍   | 78/121 [00:26<00:13,  3.15it/s]\u001b[A\n",
            "Iteration:  65%|██████▌   | 79/121 [00:27<00:13,  3.14it/s]\u001b[A\n",
            "Iteration:  66%|██████▌   | 80/121 [00:27<00:13,  3.15it/s]\u001b[A\n",
            "Iteration:  67%|██████▋   | 81/121 [00:27<00:12,  3.14it/s]\u001b[A\n",
            "Iteration:  68%|██████▊   | 82/121 [00:28<00:12,  3.15it/s]\u001b[A\n",
            "Iteration:  69%|██████▊   | 83/121 [00:28<00:12,  3.16it/s]\u001b[A\n",
            "Iteration:  69%|██████▉   | 84/121 [00:28<00:11,  3.16it/s]\u001b[A\n",
            "Iteration:  70%|███████   | 85/121 [00:29<00:11,  3.17it/s]\u001b[A\n",
            "Iteration:  71%|███████   | 86/121 [00:29<00:11,  3.17it/s]\u001b[A\n",
            "Iteration:  72%|███████▏  | 87/121 [00:29<00:10,  3.16it/s]\u001b[A\n",
            "Iteration:  73%|███████▎  | 88/121 [00:30<00:10,  3.16it/s]\u001b[A\n",
            "Iteration:  74%|███████▎  | 89/121 [00:30<00:10,  3.16it/s]\u001b[A\n",
            "Iteration:  74%|███████▍  | 90/121 [00:30<00:09,  3.13it/s]\u001b[A\n",
            "Iteration:  75%|███████▌  | 91/121 [00:31<00:09,  3.15it/s]\u001b[A\n",
            "Iteration:  76%|███████▌  | 92/121 [00:31<00:09,  3.13it/s]\u001b[A\n",
            "Iteration:  77%|███████▋  | 93/121 [00:31<00:08,  3.14it/s]\u001b[A\n",
            "Iteration:  78%|███████▊  | 94/121 [00:32<00:08,  3.15it/s]\u001b[A\n",
            "Iteration:  79%|███████▊  | 95/121 [00:32<00:08,  3.15it/s]\u001b[A\n",
            "Iteration:  79%|███████▉  | 96/121 [00:32<00:07,  3.16it/s]\u001b[A\n",
            "Iteration:  80%|████████  | 97/121 [00:32<00:07,  3.14it/s]\u001b[A\n",
            "Iteration:  81%|████████  | 98/121 [00:33<00:07,  3.15it/s]\u001b[A\n",
            "Iteration:  82%|████████▏ | 99/121 [00:33<00:07,  3.12it/s]\u001b[A\n",
            "Iteration:  83%|████████▎ | 100/121 [00:33<00:06,  3.11it/s]\u001b[A\n",
            "Iteration:  83%|████████▎ | 101/121 [00:34<00:06,  3.12it/s]\u001b[A\n",
            "Iteration:  84%|████████▍ | 102/121 [00:34<00:06,  3.12it/s]\u001b[A\n",
            "Iteration:  85%|████████▌ | 103/121 [00:34<00:05,  3.14it/s]\u001b[A\n",
            "Iteration:  86%|████████▌ | 104/121 [00:35<00:05,  3.15it/s]\u001b[A\n",
            "Iteration:  87%|████████▋ | 105/121 [00:35<00:05,  3.15it/s]\u001b[A\n",
            "Iteration:  88%|████████▊ | 106/121 [00:35<00:04,  3.14it/s]\u001b[A\n",
            "Iteration:  88%|████████▊ | 107/121 [00:36<00:04,  3.13it/s]\u001b[A\n",
            "Iteration:  89%|████████▉ | 108/121 [00:36<00:04,  3.13it/s]\u001b[A\n",
            "Iteration:  90%|█████████ | 109/121 [00:36<00:03,  3.15it/s]\u001b[A\n",
            "Iteration:  91%|█████████ | 110/121 [00:37<00:03,  3.15it/s]\u001b[A\n",
            "Iteration:  92%|█████████▏| 111/121 [00:37<00:03,  3.15it/s]\u001b[A\n",
            "Iteration:  93%|█████████▎| 112/121 [00:37<00:02,  3.16it/s]\u001b[A\n",
            "Iteration:  93%|█████████▎| 113/121 [00:38<00:02,  3.16it/s]\u001b[A\n",
            "Iteration:  94%|█████████▍| 114/121 [00:38<00:02,  3.16it/s]\u001b[A\n",
            "Iteration:  95%|█████████▌| 115/121 [00:38<00:01,  3.17it/s]\u001b[A\n",
            "Iteration:  96%|█████████▌| 116/121 [00:39<00:01,  3.17it/s]\u001b[A\n",
            "Iteration:  97%|█████████▋| 117/121 [00:39<00:01,  3.17it/s]\u001b[A\n",
            "Iteration:  98%|█████████▊| 118/121 [00:39<00:00,  3.16it/s]\u001b[A\n",
            "Iteration:  98%|█████████▊| 119/121 [00:39<00:00,  3.14it/s]\u001b[A\n",
            "Iteration:  99%|█████████▉| 120/121 [00:40<00:00,  3.14it/s]\u001b[A\n",
            "Iteration: 100%|██████████| 121/121 [00:40<00:00,  2.99it/s]\n",
            "Epoch:  80%|████████  | 4/5 [02:41<00:40, 40.51s/it]\n",
            "Iteration:   0%|          | 0/121 [00:00<?, ?it/s]\u001b[A"
          ],
          "name": "stderr"
        },
        {
          "output_type": "stream",
          "text": [
            "Training loss:  24.064989998936653\n"
          ],
          "name": "stdout"
        },
        {
          "output_type": "stream",
          "text": [
            "\n",
            "Iteration:   1%|          | 1/121 [00:00<00:37,  3.19it/s]\u001b[A\n",
            "Iteration:   2%|▏         | 2/121 [00:00<00:37,  3.19it/s]\u001b[A\n",
            "Iteration:   2%|▏         | 3/121 [00:00<00:37,  3.18it/s]\u001b[A\n",
            "Iteration:   3%|▎         | 4/121 [00:01<00:36,  3.18it/s]\u001b[A\n",
            "Iteration:   4%|▍         | 5/121 [00:01<00:36,  3.17it/s]\u001b[A\n",
            "Iteration:   5%|▍         | 6/121 [00:01<00:36,  3.18it/s]\u001b[A\n",
            "Iteration:   6%|▌         | 7/121 [00:02<00:35,  3.18it/s]\u001b[A\n",
            "Iteration:   7%|▋         | 8/121 [00:02<00:35,  3.18it/s]\u001b[A\n",
            "Iteration:   7%|▋         | 9/121 [00:02<00:35,  3.18it/s]\u001b[A\n",
            "Iteration:   8%|▊         | 10/121 [00:03<00:34,  3.18it/s]\u001b[A\n",
            "Iteration:   9%|▉         | 11/121 [00:03<00:34,  3.17it/s]\u001b[A\n",
            "Iteration:  10%|▉         | 12/121 [00:03<00:34,  3.15it/s]\u001b[A\n",
            "Iteration:  11%|█         | 13/121 [00:04<00:34,  3.13it/s]\u001b[A\n",
            "Iteration:  12%|█▏        | 14/121 [00:04<00:34,  3.13it/s]\u001b[A\n",
            "Iteration:  12%|█▏        | 15/121 [00:04<00:33,  3.14it/s]\u001b[A"
          ],
          "name": "stderr"
        },
        {
          "output_type": "stream",
          "text": [
            "{\"learning_rate\": 3.3338889814969167e-06, \"loss\": -0.04497453179210424, \"step\": 500}\n"
          ],
          "name": "stdout"
        },
        {
          "output_type": "stream",
          "text": [
            "10/14/2020 13:35:27 - INFO - __main__ -   Saving model checkpoint to /content/drive/My Drive/PROJECT/kg_bert_baseline_data/geolit_data_output/link_prediction-2020-10-14 13:31:57.307212/checkpoint-500\n",
            "10/14/2020 13:35:27 - INFO - __main__ -   Elapsed time: 0:02:49\n",
            "\n",
            "Iteration:  13%|█▎        | 16/121 [00:07<01:39,  1.05it/s]\u001b[A\n",
            "Iteration:  14%|█▍        | 17/121 [00:07<01:19,  1.31it/s]\u001b[A\n",
            "Iteration:  15%|█▍        | 18/121 [00:07<01:04,  1.59it/s]\u001b[A\n",
            "Iteration:  16%|█▌        | 19/121 [00:08<00:54,  1.87it/s]\u001b[A\n",
            "Iteration:  17%|█▋        | 20/121 [00:08<00:47,  2.13it/s]\u001b[A\n",
            "Iteration:  17%|█▋        | 21/121 [00:08<00:42,  2.35it/s]\u001b[A\n",
            "Iteration:  18%|█▊        | 22/121 [00:09<00:38,  2.55it/s]\u001b[A\n",
            "Iteration:  19%|█▉        | 23/121 [00:09<00:36,  2.70it/s]\u001b[A\n",
            "Iteration:  20%|█▉        | 24/121 [00:09<00:34,  2.83it/s]\u001b[A\n",
            "Iteration:  21%|██        | 25/121 [00:10<00:32,  2.93it/s]\u001b[A\n",
            "Iteration:  21%|██▏       | 26/121 [00:10<00:31,  3.00it/s]\u001b[A\n",
            "Iteration:  22%|██▏       | 27/121 [00:10<00:30,  3.03it/s]\u001b[A\n",
            "Iteration:  23%|██▎       | 28/121 [00:10<00:30,  3.08it/s]\u001b[A\n",
            "Iteration:  24%|██▍       | 29/121 [00:11<00:29,  3.09it/s]\u001b[A\n",
            "Iteration:  25%|██▍       | 30/121 [00:11<00:29,  3.11it/s]\u001b[A\n",
            "Iteration:  26%|██▌       | 31/121 [00:11<00:28,  3.12it/s]\u001b[A\n",
            "Iteration:  26%|██▋       | 32/121 [00:12<00:28,  3.13it/s]\u001b[A\n",
            "Iteration:  27%|██▋       | 33/121 [00:12<00:28,  3.13it/s]\u001b[A\n",
            "Iteration:  28%|██▊       | 34/121 [00:12<00:27,  3.14it/s]\u001b[A\n",
            "Iteration:  29%|██▉       | 35/121 [00:13<00:27,  3.15it/s]\u001b[A\n",
            "Iteration:  30%|██▉       | 36/121 [00:13<00:26,  3.16it/s]\u001b[A\n",
            "Iteration:  31%|███       | 37/121 [00:13<00:26,  3.15it/s]\u001b[A\n",
            "Iteration:  31%|███▏      | 38/121 [00:14<00:26,  3.16it/s]\u001b[A\n",
            "Iteration:  32%|███▏      | 39/121 [00:14<00:25,  3.16it/s]\u001b[A\n",
            "Iteration:  33%|███▎      | 40/121 [00:14<00:25,  3.17it/s]\u001b[A\n",
            "Iteration:  34%|███▍      | 41/121 [00:15<00:25,  3.17it/s]\u001b[A\n",
            "Iteration:  35%|███▍      | 42/121 [00:15<00:25,  3.16it/s]\u001b[A\n",
            "Iteration:  36%|███▌      | 43/121 [00:15<00:24,  3.17it/s]\u001b[A\n",
            "Iteration:  36%|███▋      | 44/121 [00:16<00:24,  3.15it/s]\u001b[A\n",
            "Iteration:  37%|███▋      | 45/121 [00:16<00:24,  3.12it/s]\u001b[A\n",
            "Iteration:  38%|███▊      | 46/121 [00:16<00:24,  3.10it/s]\u001b[A\n",
            "Iteration:  39%|███▉      | 47/121 [00:17<00:23,  3.10it/s]\u001b[A\n",
            "Iteration:  40%|███▉      | 48/121 [00:17<00:23,  3.11it/s]\u001b[A\n",
            "Iteration:  40%|████      | 49/121 [00:17<00:23,  3.11it/s]\u001b[A\n",
            "Iteration:  41%|████▏     | 50/121 [00:17<00:22,  3.10it/s]\u001b[A\n",
            "Iteration:  42%|████▏     | 51/121 [00:18<00:22,  3.10it/s]\u001b[A\n",
            "Iteration:  43%|████▎     | 52/121 [00:18<00:22,  3.10it/s]\u001b[A\n",
            "Iteration:  44%|████▍     | 53/121 [00:18<00:21,  3.11it/s]\u001b[A\n",
            "Iteration:  45%|████▍     | 54/121 [00:19<00:21,  3.11it/s]\u001b[A\n",
            "Iteration:  45%|████▌     | 55/121 [00:19<00:21,  3.12it/s]\u001b[A\n",
            "Iteration:  46%|████▋     | 56/121 [00:19<00:21,  3.08it/s]\u001b[A\n",
            "Iteration:  47%|████▋     | 57/121 [00:20<00:20,  3.08it/s]\u001b[A\n",
            "Iteration:  48%|████▊     | 58/121 [00:20<00:20,  3.09it/s]\u001b[A\n",
            "Iteration:  49%|████▉     | 59/121 [00:20<00:20,  3.10it/s]\u001b[A\n",
            "Iteration:  50%|████▉     | 60/121 [00:21<00:19,  3.09it/s]\u001b[A\n",
            "Iteration:  50%|█████     | 61/121 [00:21<00:19,  3.08it/s]\u001b[A\n",
            "Iteration:  51%|█████     | 62/121 [00:21<00:19,  3.06it/s]\u001b[A\n",
            "Iteration:  52%|█████▏    | 63/121 [00:22<00:18,  3.06it/s]\u001b[A\n",
            "Iteration:  53%|█████▎    | 64/121 [00:22<00:18,  3.09it/s]\u001b[A\n",
            "Iteration:  54%|█████▎    | 65/121 [00:22<00:17,  3.11it/s]\u001b[A\n",
            "Iteration:  55%|█████▍    | 66/121 [00:23<00:17,  3.13it/s]\u001b[A\n",
            "Iteration:  55%|█████▌    | 67/121 [00:23<00:17,  3.15it/s]\u001b[A\n",
            "Iteration:  56%|█████▌    | 68/121 [00:23<00:16,  3.16it/s]\u001b[A\n",
            "Iteration:  57%|█████▋    | 69/121 [00:24<00:16,  3.16it/s]\u001b[A\n",
            "Iteration:  58%|█████▊    | 70/121 [00:24<00:16,  3.15it/s]\u001b[A\n",
            "Iteration:  59%|█████▊    | 71/121 [00:24<00:15,  3.16it/s]\u001b[A\n",
            "Iteration:  60%|█████▉    | 72/121 [00:25<00:15,  3.11it/s]\u001b[A\n",
            "Iteration:  60%|██████    | 73/121 [00:25<00:15,  3.10it/s]\u001b[A\n",
            "Iteration:  61%|██████    | 74/121 [00:25<00:15,  3.13it/s]\u001b[A\n",
            "Iteration:  62%|██████▏   | 75/121 [00:26<00:14,  3.14it/s]\u001b[A\n",
            "Iteration:  63%|██████▎   | 76/121 [00:26<00:14,  3.15it/s]\u001b[A\n",
            "Iteration:  64%|██████▎   | 77/121 [00:26<00:13,  3.16it/s]\u001b[A\n",
            "Iteration:  64%|██████▍   | 78/121 [00:26<00:13,  3.16it/s]\u001b[A\n",
            "Iteration:  65%|██████▌   | 79/121 [00:27<00:13,  3.14it/s]\u001b[A\n",
            "Iteration:  66%|██████▌   | 80/121 [00:27<00:13,  3.15it/s]\u001b[A\n",
            "Iteration:  67%|██████▋   | 81/121 [00:27<00:12,  3.16it/s]\u001b[A\n",
            "Iteration:  68%|██████▊   | 82/121 [00:28<00:12,  3.16it/s]\u001b[A\n",
            "Iteration:  69%|██████▊   | 83/121 [00:28<00:12,  3.17it/s]\u001b[A\n",
            "Iteration:  69%|██████▉   | 84/121 [00:28<00:11,  3.17it/s]\u001b[A\n",
            "Iteration:  70%|███████   | 85/121 [00:29<00:11,  3.14it/s]\u001b[A\n",
            "Iteration:  71%|███████   | 86/121 [00:29<00:11,  3.14it/s]\u001b[A\n",
            "Iteration:  72%|███████▏  | 87/121 [00:29<00:10,  3.15it/s]\u001b[A\n",
            "Iteration:  73%|███████▎  | 88/121 [00:30<00:10,  3.15it/s]\u001b[A\n",
            "Iteration:  74%|███████▎  | 89/121 [00:30<00:10,  3.14it/s]\u001b[A\n",
            "Iteration:  74%|███████▍  | 90/121 [00:30<00:09,  3.15it/s]\u001b[A\n",
            "Iteration:  75%|███████▌  | 91/121 [00:31<00:09,  3.15it/s]\u001b[A\n",
            "Iteration:  76%|███████▌  | 92/121 [00:31<00:09,  3.15it/s]\u001b[A\n",
            "Iteration:  77%|███████▋  | 93/121 [00:31<00:08,  3.16it/s]\u001b[A\n",
            "Iteration:  78%|███████▊  | 94/121 [00:32<00:08,  3.15it/s]\u001b[A\n",
            "Iteration:  79%|███████▊  | 95/121 [00:32<00:08,  3.16it/s]\u001b[A\n",
            "Iteration:  79%|███████▉  | 96/121 [00:32<00:07,  3.14it/s]\u001b[A\n",
            "Iteration:  80%|████████  | 97/121 [00:32<00:07,  3.15it/s]\u001b[A\n",
            "Iteration:  81%|████████  | 98/121 [00:33<00:07,  3.15it/s]\u001b[A\n",
            "Iteration:  82%|████████▏ | 99/121 [00:33<00:06,  3.16it/s]\u001b[A\n",
            "Iteration:  83%|████████▎ | 100/121 [00:33<00:06,  3.16it/s]\u001b[A\n",
            "Iteration:  83%|████████▎ | 101/121 [00:34<00:06,  3.17it/s]\u001b[A\n",
            "Iteration:  84%|████████▍ | 102/121 [00:34<00:05,  3.18it/s]\u001b[A\n",
            "Iteration:  85%|████████▌ | 103/121 [00:34<00:05,  3.15it/s]\u001b[A\n",
            "Iteration:  86%|████████▌ | 104/121 [00:35<00:05,  3.16it/s]\u001b[A\n",
            "Iteration:  87%|████████▋ | 105/121 [00:35<00:05,  3.16it/s]\u001b[A\n",
            "Iteration:  88%|████████▊ | 106/121 [00:35<00:04,  3.17it/s]\u001b[A\n",
            "Iteration:  88%|████████▊ | 107/121 [00:36<00:04,  3.13it/s]\u001b[A\n",
            "Iteration:  89%|████████▉ | 108/121 [00:36<00:04,  3.14it/s]\u001b[A\n",
            "Iteration:  90%|█████████ | 109/121 [00:36<00:03,  3.15it/s]\u001b[A\n",
            "Iteration:  91%|█████████ | 110/121 [00:37<00:03,  3.14it/s]\u001b[A\n",
            "Iteration:  92%|█████████▏| 111/121 [00:37<00:03,  3.15it/s]\u001b[A\n",
            "Iteration:  93%|█████████▎| 112/121 [00:37<00:02,  3.15it/s]\u001b[A\n",
            "Iteration:  93%|█████████▎| 113/121 [00:38<00:02,  3.15it/s]\u001b[A\n",
            "Iteration:  94%|█████████▍| 114/121 [00:38<00:02,  3.16it/s]\u001b[A\n",
            "Iteration:  95%|█████████▌| 115/121 [00:38<00:01,  3.16it/s]\u001b[A"
          ],
          "name": "stderr"
        },
        {
          "output_type": "stream",
          "text": [
            "{\"learning_rate\": 0.0, \"loss\": 0.1744441468641162, \"step\": 600}\n"
          ],
          "name": "stdout"
        },
        {
          "output_type": "stream",
          "text": [
            "10/14/2020 13:36:01 - INFO - __main__ -   Saving model checkpoint to /content/drive/My Drive/PROJECT/kg_bert_baseline_data/geolit_data_output/link_prediction-2020-10-14 13:31:57.307212/checkpoint-600\n",
            "10/14/2020 13:36:01 - INFO - __main__ -   Elapsed time: 0:03:23\n",
            "\n",
            "Iteration:  96%|█████████▌| 116/121 [00:41<00:04,  1.08it/s]\u001b[A\n",
            "Iteration:  97%|█████████▋| 117/121 [00:41<00:02,  1.34it/s]\u001b[A\n",
            "Iteration:  98%|█████████▊| 118/121 [00:41<00:01,  1.62it/s]\u001b[A\n",
            "Iteration:  98%|█████████▊| 119/121 [00:41<00:01,  1.90it/s]\u001b[A\n",
            "Iteration:  99%|█████████▉| 120/121 [00:42<00:00,  2.15it/s]\u001b[A\n",
            "Iteration: 100%|██████████| 121/121 [00:42<00:00,  2.85it/s]\n",
            "Epoch: 100%|██████████| 5/5 [03:24<00:00, 40.90s/it]\n",
            "10/14/2020 13:36:02 - INFO - __main__ -    global_step = 605, average loss = 21.645495645701885\n",
            "10/14/2020 13:36:02 - INFO - __main__ -   Saving model checkpoint to /content/drive/My Drive/PROJECT/kg_bert_baseline_data/geolit_data_output/link_prediction-2020-10-14 13:31:57.307212\n"
          ],
          "name": "stderr"
        },
        {
          "output_type": "stream",
          "text": [
            "Training loss:  21.645495645701885\n",
            "Average training loss:  0.17888839376613128\n"
          ],
          "name": "stdout"
        },
        {
          "output_type": "stream",
          "text": [
            "10/14/2020 13:36:09 - INFO - __main__ -   Evaluate the following checkpoints: ['/content/drive/My Drive/PROJECT/kg_bert_baseline_data/geolit_data_output/link_prediction-2020-10-14 13:31:57.307212/checkpoint-100', '/content/drive/My Drive/PROJECT/kg_bert_baseline_data/geolit_data_output/link_prediction-2020-10-14 13:31:57.307212/checkpoint-200', '/content/drive/My Drive/PROJECT/kg_bert_baseline_data/geolit_data_output/link_prediction-2020-10-14 13:31:57.307212/checkpoint-300', '/content/drive/My Drive/PROJECT/kg_bert_baseline_data/geolit_data_output/link_prediction-2020-10-14 13:31:57.307212/checkpoint-400', '/content/drive/My Drive/PROJECT/kg_bert_baseline_data/geolit_data_output/link_prediction-2020-10-14 13:31:57.307212/checkpoint-500', '/content/drive/My Drive/PROJECT/kg_bert_baseline_data/geolit_data_output/link_prediction-2020-10-14 13:31:57.307212/checkpoint-600', '/content/drive/My Drive/PROJECT/kg_bert_baseline_data/geolit_data_output/link_prediction-2020-10-14 13:31:57.307212']\n",
            "10/14/2020 13:36:25 - INFO - __main__ -   Writing example 0 of 71\n",
            "10/14/2020 13:36:25 - INFO - __main__ -   *** Example ***\n",
            "10/14/2020 13:36:25 - INFO - __main__ -   guid: dev-0\n",
            "10/14/2020 13:36:25 - INFO - __main__ -   tokens: [CLS] the bun ##ter sandstone formation comprises red , orange , occasionally white or colour ##less , sandstone ##s , inter ##bed ##ded with red , grey , rarely green , occasionally do ##lom ##itic , mud ##stone and si ##lty or sandy mud ##stone . the sandstone varies [SEP] type [SEP] lit ##hos ##tra ##ti ##graphy is a sub - discipline of st ##rat ##igraphy , the geological science associated with the study of strata or rock layers . major focuses include geo ##ch ##ron ##ology , comparative geology , and petrol ##ogy . in general a st [SEP]\n",
            "10/14/2020 13:36:25 - INFO - __main__ -   input_ids: 101 1996 21122 3334 11694 4195 8681 2417 1010 4589 1010 5681 2317 2030 6120 3238 1010 11694 2015 1010 6970 8270 5732 2007 2417 1010 4462 1010 6524 2665 1010 5681 2079 21297 18291 1010 8494 9221 1998 9033 24228 2030 7525 8494 9221 1012 1996 11694 9783 102 2828 102 5507 15006 6494 3775 12565 2003 1037 4942 1011 9009 1997 2358 8609 23132 1010 1996 9843 2671 3378 2007 1996 2817 1997 22913 2030 2600 9014 1012 2350 7679 2421 20248 2818 4948 6779 1010 12596 13404 1010 1998 17141 15707 1012 1999 2236 1037 2358 102\n",
            "10/14/2020 13:36:25 - INFO - __main__ -   input_mask: 1 1 1 1 1 1 1 1 1 1 1 1 1 1 1 1 1 1 1 1 1 1 1 1 1 1 1 1 1 1 1 1 1 1 1 1 1 1 1 1 1 1 1 1 1 1 1 1 1 1 1 1 1 1 1 1 1 1 1 1 1 1 1 1 1 1 1 1 1 1 1 1 1 1 1 1 1 1 1 1 1 1 1 1 1 1 1 1 1 1 1 1 1 1 1 1 1 1 1 1\n",
            "10/14/2020 13:36:25 - INFO - __main__ -   segment_ids: 0 0 0 0 0 0 0 0 0 0 0 0 0 0 0 0 0 0 0 0 0 0 0 0 0 0 0 0 0 0 0 0 0 0 0 0 0 0 0 0 0 0 0 0 0 0 0 0 0 0 1 1 0 0 0 0 0 0 0 0 0 0 0 0 0 0 0 0 0 0 0 0 0 0 0 0 0 0 0 0 0 0 0 0 0 0 0 0 0 0 0 0 0 0 0 0 0 0 0 0\n",
            "10/14/2020 13:36:25 - INFO - __main__ -   label: 1 (id = 1)\n",
            "10/14/2020 13:36:25 - INFO - __main__ -   *** Example ***\n",
            "10/14/2020 13:36:25 - INFO - __main__ -   guid: dev-1\n",
            "10/14/2020 13:36:25 - INFO - __main__ -   tokens: [CLS] the mills ##tone grit formation is composed of variable proportions of grey , white and brown sandstone , and grey or dark grey , partly carbon ##aceous mud ##stone and si ##lts ##tone . some sections additionally contain rare thin coal seam ##s and seat ##ear ##ths . [SEP] type [SEP] lit ##hos ##tra ##ti ##graphy is a sub - discipline of st ##rat ##igraphy , the geological science associated with the study of strata or rock layers . major focuses include geo ##ch ##ron ##ology , comparative geology , and petrol ##ogy . in general a st [SEP]\n",
            "10/14/2020 13:36:25 - INFO - __main__ -   input_ids: 101 1996 6341 5524 24842 4195 2003 3605 1997 8023 19173 1997 4462 1010 2317 1998 2829 11694 1010 1998 4462 2030 2601 4462 1010 6576 6351 25560 8494 9221 1998 9033 21593 5524 1012 2070 5433 5678 5383 4678 4857 5317 25180 2015 1998 2835 14644 26830 1012 102 2828 102 5507 15006 6494 3775 12565 2003 1037 4942 1011 9009 1997 2358 8609 23132 1010 1996 9843 2671 3378 2007 1996 2817 1997 22913 2030 2600 9014 1012 2350 7679 2421 20248 2818 4948 6779 1010 12596 13404 1010 1998 17141 15707 1012 1999 2236 1037 2358 102\n",
            "10/14/2020 13:36:25 - INFO - __main__ -   input_mask: 1 1 1 1 1 1 1 1 1 1 1 1 1 1 1 1 1 1 1 1 1 1 1 1 1 1 1 1 1 1 1 1 1 1 1 1 1 1 1 1 1 1 1 1 1 1 1 1 1 1 1 1 1 1 1 1 1 1 1 1 1 1 1 1 1 1 1 1 1 1 1 1 1 1 1 1 1 1 1 1 1 1 1 1 1 1 1 1 1 1 1 1 1 1 1 1 1 1 1 1\n",
            "10/14/2020 13:36:25 - INFO - __main__ -   segment_ids: 0 0 0 0 0 0 0 0 0 0 0 0 0 0 0 0 0 0 0 0 0 0 0 0 0 0 0 0 0 0 0 0 0 0 0 0 0 0 0 0 0 0 0 0 0 0 0 0 0 0 1 1 0 0 0 0 0 0 0 0 0 0 0 0 0 0 0 0 0 0 0 0 0 0 0 0 0 0 0 0 0 0 0 0 0 0 0 0 0 0 0 0 0 0 0 0 0 0 0 0\n",
            "10/14/2020 13:36:25 - INFO - __main__ -   label: 1 (id = 1)\n",
            "10/14/2020 13:36:25 - INFO - __main__ -   *** Example ***\n",
            "10/14/2020 13:36:25 - INFO - __main__ -   guid: dev-2\n",
            "10/14/2020 13:36:25 - INFO - __main__ -   tokens: [CLS] the herring formation consists of hard to very hard , dense , crypt ##oc ##rys ##tal ##line limestone with inter ##bed ##ded ar ##gill ##aceous chalk ##y limestone and mud ##stone . traces of p ##yr ##ite , g ##lau ##con ##ite and cher ##t have been [SEP] constituted by [SEP] mud ##stone , a type of mud ##rock , is a fine - grain ##ed sedimentary rock whose original constituents were clay ##s or mud ##s . mud ##stone is distinguished from shale by its lack of fis ##sil ##ity ( parallel layer ##ing ) . the [SEP]\n",
            "10/14/2020 13:36:25 - INFO - __main__ -   input_ids: 101 1996 22103 4195 3774 1997 2524 2000 2200 2524 1010 9742 1010 19888 10085 24769 9080 4179 9771 2007 6970 8270 5732 12098 19791 25560 16833 2100 9771 1998 8494 9221 1012 10279 1997 1052 12541 4221 1010 1043 17298 8663 4221 1998 24188 2102 2031 2042 102 11846 2011 102 8494 9221 1010 1037 2828 1997 8494 16901 1010 2003 1037 2986 1011 8982 2098 25503 2600 3005 2434 24355 2020 5726 2015 2030 8494 2015 1012 8494 9221 2003 5182 2013 18488 2011 2049 3768 1997 27424 27572 3012 1006 5903 6741 2075 1007 1012 1996 102\n",
            "10/14/2020 13:36:25 - INFO - __main__ -   input_mask: 1 1 1 1 1 1 1 1 1 1 1 1 1 1 1 1 1 1 1 1 1 1 1 1 1 1 1 1 1 1 1 1 1 1 1 1 1 1 1 1 1 1 1 1 1 1 1 1 1 1 1 1 1 1 1 1 1 1 1 1 1 1 1 1 1 1 1 1 1 1 1 1 1 1 1 1 1 1 1 1 1 1 1 1 1 1 1 1 1 1 1 1 1 1 1 1 1 1 1 1\n",
            "10/14/2020 13:36:25 - INFO - __main__ -   segment_ids: 0 0 0 0 0 0 0 0 0 0 0 0 0 0 0 0 0 0 0 0 0 0 0 0 0 0 0 0 0 0 0 0 0 0 0 0 0 0 0 0 0 0 0 0 0 0 0 0 0 1 1 1 0 0 0 0 0 0 0 0 0 0 0 0 0 0 0 0 0 0 0 0 0 0 0 0 0 0 0 0 0 0 0 0 0 0 0 0 0 0 0 0 0 0 0 0 0 0 0 0\n",
            "10/14/2020 13:36:25 - INFO - __main__ -   label: 1 (id = 1)\n",
            "10/14/2020 13:36:25 - INFO - __main__ -   *** Example ***\n",
            "10/14/2020 13:36:25 - INFO - __main__ -   guid: dev-3\n",
            "10/14/2020 13:36:25 - INFO - __main__ -   tokens: [CLS] the fu ##lma ##r formation consists dominant ##ly of olive - grey to pale grey , fine to medium grain ##ed , occasionally pe ##bbly , generally ar ##gill ##aceous or carbonate ##ce ##ment ##ed , g ##lau ##con ##itic sandstone ##s . in core ##d sections , they are seen to be either massive with few structures or , in more distal sections , to be ar ##gill ##aceous and strongly bio ##tur ##bate ##d with a range of burr ##ow types , including the distinctive forms [SEP] deposited in [SEP] deposits in a marine setting . [SEP]\n",
            "10/14/2020 13:36:25 - INFO - __main__ -   input_ids: 101 1996 11865 19145 2099 4195 3774 7444 2135 1997 9724 1011 4462 2000 5122 4462 1010 2986 2000 5396 8982 2098 1010 5681 21877 24200 1010 3227 12098 19791 25560 2030 26427 3401 3672 2098 1010 1043 17298 8663 18291 11694 2015 1012 1999 4563 2094 5433 1010 2027 2024 2464 2000 2022 2593 5294 2007 2261 5090 2030 1010 1999 2062 29333 5433 1010 2000 2022 12098 19791 25560 1998 6118 16012 20689 20179 2094 2007 1037 2846 1997 22715 5004 4127 1010 2164 1996 8200 3596 102 14140 1999 102 10042 1999 1037 3884 4292 1012 102\n",
            "10/14/2020 13:36:25 - INFO - __main__ -   input_mask: 1 1 1 1 1 1 1 1 1 1 1 1 1 1 1 1 1 1 1 1 1 1 1 1 1 1 1 1 1 1 1 1 1 1 1 1 1 1 1 1 1 1 1 1 1 1 1 1 1 1 1 1 1 1 1 1 1 1 1 1 1 1 1 1 1 1 1 1 1 1 1 1 1 1 1 1 1 1 1 1 1 1 1 1 1 1 1 1 1 1 1 1 1 1 1 1 1 1 1 1\n",
            "10/14/2020 13:36:25 - INFO - __main__ -   segment_ids: 0 0 0 0 0 0 0 0 0 0 0 0 0 0 0 0 0 0 0 0 0 0 0 0 0 0 0 0 0 0 0 0 0 0 0 0 0 0 0 0 0 0 0 0 0 0 0 0 0 0 0 0 0 0 0 0 0 0 0 0 0 0 0 0 0 0 0 0 0 0 0 0 0 0 0 0 0 0 0 0 0 0 0 0 0 0 0 0 0 0 1 1 1 0 0 0 0 0 0 0\n",
            "10/14/2020 13:36:25 - INFO - __main__ -   label: 1 (id = 1)\n",
            "10/14/2020 13:36:25 - INFO - __main__ -   *** Example ***\n",
            "10/14/2020 13:36:25 - INFO - __main__ -   guid: dev-4\n",
            "10/14/2020 13:36:25 - INFO - __main__ -   tokens: [CLS] the mo ##usa formation consists predominantly of poorly consolidated , var ##ia ##bly g ##lau ##con ##itic , locally shelly , fine to coarse grain ##ed sandstone . in some sections , the sandstone ##s are massive ##ly bed ##ded ( e . g . 15 / 21 - 1 ) , whereas in others they are inter ##bed ##ded with thin mud ##stones . [SEP] located in [SEP] northern region of the north sea , a sea of the atlantic ocean . [SEP]\n",
            "10/14/2020 13:36:25 - INFO - __main__ -   input_ids: 101 1996 9587 10383 4195 3774 9197 1997 9996 10495 1010 13075 2401 6321 1043 17298 8663 18291 1010 7246 28360 1010 2986 2000 20392 8982 2098 11694 1012 1999 2070 5433 1010 1996 11694 2015 2024 5294 2135 2793 5732 1006 1041 1012 1043 1012 2321 1013 2538 1011 1015 1007 1010 6168 1999 2500 2027 2024 6970 8270 5732 2007 4857 8494 29423 1012 102 2284 1999 102 2642 2555 1997 1996 2167 2712 1010 1037 2712 1997 1996 4448 4153 1012 102 0 0 0 0 0 0 0 0 0 0 0 0 0 0 0\n",
            "10/14/2020 13:36:25 - INFO - __main__ -   input_mask: 1 1 1 1 1 1 1 1 1 1 1 1 1 1 1 1 1 1 1 1 1 1 1 1 1 1 1 1 1 1 1 1 1 1 1 1 1 1 1 1 1 1 1 1 1 1 1 1 1 1 1 1 1 1 1 1 1 1 1 1 1 1 1 1 1 1 1 1 1 1 1 1 1 1 1 1 1 1 1 1 1 1 1 1 1 0 0 0 0 0 0 0 0 0 0 0 0 0 0 0\n",
            "10/14/2020 13:36:25 - INFO - __main__ -   segment_ids: 0 0 0 0 0 0 0 0 0 0 0 0 0 0 0 0 0 0 0 0 0 0 0 0 0 0 0 0 0 0 0 0 0 0 0 0 0 0 0 0 0 0 0 0 0 0 0 0 0 0 0 0 0 0 0 0 0 0 0 0 0 0 0 0 0 0 0 1 1 1 0 0 0 0 0 0 0 0 0 0 0 0 0 0 0 0 0 0 0 0 0 0 0 0 0 0 0 0 0 0\n",
            "10/14/2020 13:36:25 - INFO - __main__ -   label: 1 (id = 1)\n",
            "10/14/2020 13:36:26 - INFO - __main__ -   ***** Running evaluation checkpoint-100 *****\n",
            "10/14/2020 13:36:26 - INFO - __main__ -     Num examples = 71\n",
            "10/14/2020 13:36:26 - INFO - __main__ -     Batch size = 300\n",
            "Evaluating: 100%|██████████| 1/1 [00:00<00:00,  4.73it/s]\n",
            "10/14/2020 13:36:26 - INFO - __main__ -   ***** Eval results checkpoint-100 *****\n",
            "10/14/2020 13:36:26 - INFO - __main__ -     acc = 0.04225352112676056\n",
            "10/14/2020 13:36:26 - INFO - __main__ -     eval_loss = 1.496653437614441\n",
            "10/14/2020 13:36:26 - INFO - __main__ -     global_step = 100\n",
            "10/14/2020 13:36:26 - INFO - __main__ -     loss = 0.17888839376613128\n",
            "10/14/2020 13:36:41 - INFO - __main__ -   Writing example 0 of 71\n",
            "10/14/2020 13:36:41 - INFO - __main__ -   *** Example ***\n",
            "10/14/2020 13:36:41 - INFO - __main__ -   guid: dev-0\n",
            "10/14/2020 13:36:41 - INFO - __main__ -   tokens: [CLS] the bun ##ter sandstone formation comprises red , orange , occasionally white or colour ##less , sandstone ##s , inter ##bed ##ded with red , grey , rarely green , occasionally do ##lom ##itic , mud ##stone and si ##lty or sandy mud ##stone . the sandstone varies [SEP] type [SEP] lit ##hos ##tra ##ti ##graphy is a sub - discipline of st ##rat ##igraphy , the geological science associated with the study of strata or rock layers . major focuses include geo ##ch ##ron ##ology , comparative geology , and petrol ##ogy . in general a st [SEP]\n",
            "10/14/2020 13:36:41 - INFO - __main__ -   input_ids: 101 1996 21122 3334 11694 4195 8681 2417 1010 4589 1010 5681 2317 2030 6120 3238 1010 11694 2015 1010 6970 8270 5732 2007 2417 1010 4462 1010 6524 2665 1010 5681 2079 21297 18291 1010 8494 9221 1998 9033 24228 2030 7525 8494 9221 1012 1996 11694 9783 102 2828 102 5507 15006 6494 3775 12565 2003 1037 4942 1011 9009 1997 2358 8609 23132 1010 1996 9843 2671 3378 2007 1996 2817 1997 22913 2030 2600 9014 1012 2350 7679 2421 20248 2818 4948 6779 1010 12596 13404 1010 1998 17141 15707 1012 1999 2236 1037 2358 102\n",
            "10/14/2020 13:36:41 - INFO - __main__ -   input_mask: 1 1 1 1 1 1 1 1 1 1 1 1 1 1 1 1 1 1 1 1 1 1 1 1 1 1 1 1 1 1 1 1 1 1 1 1 1 1 1 1 1 1 1 1 1 1 1 1 1 1 1 1 1 1 1 1 1 1 1 1 1 1 1 1 1 1 1 1 1 1 1 1 1 1 1 1 1 1 1 1 1 1 1 1 1 1 1 1 1 1 1 1 1 1 1 1 1 1 1 1\n",
            "10/14/2020 13:36:41 - INFO - __main__ -   segment_ids: 0 0 0 0 0 0 0 0 0 0 0 0 0 0 0 0 0 0 0 0 0 0 0 0 0 0 0 0 0 0 0 0 0 0 0 0 0 0 0 0 0 0 0 0 0 0 0 0 0 0 1 1 0 0 0 0 0 0 0 0 0 0 0 0 0 0 0 0 0 0 0 0 0 0 0 0 0 0 0 0 0 0 0 0 0 0 0 0 0 0 0 0 0 0 0 0 0 0 0 0\n",
            "10/14/2020 13:36:41 - INFO - __main__ -   label: 1 (id = 1)\n",
            "10/14/2020 13:36:41 - INFO - __main__ -   *** Example ***\n",
            "10/14/2020 13:36:41 - INFO - __main__ -   guid: dev-1\n",
            "10/14/2020 13:36:41 - INFO - __main__ -   tokens: [CLS] the mills ##tone grit formation is composed of variable proportions of grey , white and brown sandstone , and grey or dark grey , partly carbon ##aceous mud ##stone and si ##lts ##tone . some sections additionally contain rare thin coal seam ##s and seat ##ear ##ths . [SEP] type [SEP] lit ##hos ##tra ##ti ##graphy is a sub - discipline of st ##rat ##igraphy , the geological science associated with the study of strata or rock layers . major focuses include geo ##ch ##ron ##ology , comparative geology , and petrol ##ogy . in general a st [SEP]\n",
            "10/14/2020 13:36:41 - INFO - __main__ -   input_ids: 101 1996 6341 5524 24842 4195 2003 3605 1997 8023 19173 1997 4462 1010 2317 1998 2829 11694 1010 1998 4462 2030 2601 4462 1010 6576 6351 25560 8494 9221 1998 9033 21593 5524 1012 2070 5433 5678 5383 4678 4857 5317 25180 2015 1998 2835 14644 26830 1012 102 2828 102 5507 15006 6494 3775 12565 2003 1037 4942 1011 9009 1997 2358 8609 23132 1010 1996 9843 2671 3378 2007 1996 2817 1997 22913 2030 2600 9014 1012 2350 7679 2421 20248 2818 4948 6779 1010 12596 13404 1010 1998 17141 15707 1012 1999 2236 1037 2358 102\n",
            "10/14/2020 13:36:41 - INFO - __main__ -   input_mask: 1 1 1 1 1 1 1 1 1 1 1 1 1 1 1 1 1 1 1 1 1 1 1 1 1 1 1 1 1 1 1 1 1 1 1 1 1 1 1 1 1 1 1 1 1 1 1 1 1 1 1 1 1 1 1 1 1 1 1 1 1 1 1 1 1 1 1 1 1 1 1 1 1 1 1 1 1 1 1 1 1 1 1 1 1 1 1 1 1 1 1 1 1 1 1 1 1 1 1 1\n",
            "10/14/2020 13:36:41 - INFO - __main__ -   segment_ids: 0 0 0 0 0 0 0 0 0 0 0 0 0 0 0 0 0 0 0 0 0 0 0 0 0 0 0 0 0 0 0 0 0 0 0 0 0 0 0 0 0 0 0 0 0 0 0 0 0 0 1 1 0 0 0 0 0 0 0 0 0 0 0 0 0 0 0 0 0 0 0 0 0 0 0 0 0 0 0 0 0 0 0 0 0 0 0 0 0 0 0 0 0 0 0 0 0 0 0 0\n",
            "10/14/2020 13:36:41 - INFO - __main__ -   label: 1 (id = 1)\n",
            "10/14/2020 13:36:41 - INFO - __main__ -   *** Example ***\n",
            "10/14/2020 13:36:41 - INFO - __main__ -   guid: dev-2\n",
            "10/14/2020 13:36:41 - INFO - __main__ -   tokens: [CLS] the herring formation consists of hard to very hard , dense , crypt ##oc ##rys ##tal ##line limestone with inter ##bed ##ded ar ##gill ##aceous chalk ##y limestone and mud ##stone . traces of p ##yr ##ite , g ##lau ##con ##ite and cher ##t have been [SEP] constituted by [SEP] mud ##stone , a type of mud ##rock , is a fine - grain ##ed sedimentary rock whose original constituents were clay ##s or mud ##s . mud ##stone is distinguished from shale by its lack of fis ##sil ##ity ( parallel layer ##ing ) . the [SEP]\n",
            "10/14/2020 13:36:41 - INFO - __main__ -   input_ids: 101 1996 22103 4195 3774 1997 2524 2000 2200 2524 1010 9742 1010 19888 10085 24769 9080 4179 9771 2007 6970 8270 5732 12098 19791 25560 16833 2100 9771 1998 8494 9221 1012 10279 1997 1052 12541 4221 1010 1043 17298 8663 4221 1998 24188 2102 2031 2042 102 11846 2011 102 8494 9221 1010 1037 2828 1997 8494 16901 1010 2003 1037 2986 1011 8982 2098 25503 2600 3005 2434 24355 2020 5726 2015 2030 8494 2015 1012 8494 9221 2003 5182 2013 18488 2011 2049 3768 1997 27424 27572 3012 1006 5903 6741 2075 1007 1012 1996 102\n",
            "10/14/2020 13:36:41 - INFO - __main__ -   input_mask: 1 1 1 1 1 1 1 1 1 1 1 1 1 1 1 1 1 1 1 1 1 1 1 1 1 1 1 1 1 1 1 1 1 1 1 1 1 1 1 1 1 1 1 1 1 1 1 1 1 1 1 1 1 1 1 1 1 1 1 1 1 1 1 1 1 1 1 1 1 1 1 1 1 1 1 1 1 1 1 1 1 1 1 1 1 1 1 1 1 1 1 1 1 1 1 1 1 1 1 1\n",
            "10/14/2020 13:36:41 - INFO - __main__ -   segment_ids: 0 0 0 0 0 0 0 0 0 0 0 0 0 0 0 0 0 0 0 0 0 0 0 0 0 0 0 0 0 0 0 0 0 0 0 0 0 0 0 0 0 0 0 0 0 0 0 0 0 1 1 1 0 0 0 0 0 0 0 0 0 0 0 0 0 0 0 0 0 0 0 0 0 0 0 0 0 0 0 0 0 0 0 0 0 0 0 0 0 0 0 0 0 0 0 0 0 0 0 0\n",
            "10/14/2020 13:36:41 - INFO - __main__ -   label: 1 (id = 1)\n",
            "10/14/2020 13:36:41 - INFO - __main__ -   *** Example ***\n",
            "10/14/2020 13:36:41 - INFO - __main__ -   guid: dev-3\n",
            "10/14/2020 13:36:41 - INFO - __main__ -   tokens: [CLS] the fu ##lma ##r formation consists dominant ##ly of olive - grey to pale grey , fine to medium grain ##ed , occasionally pe ##bbly , generally ar ##gill ##aceous or carbonate ##ce ##ment ##ed , g ##lau ##con ##itic sandstone ##s . in core ##d sections , they are seen to be either massive with few structures or , in more distal sections , to be ar ##gill ##aceous and strongly bio ##tur ##bate ##d with a range of burr ##ow types , including the distinctive forms [SEP] deposited in [SEP] deposits in a marine setting . [SEP]\n",
            "10/14/2020 13:36:41 - INFO - __main__ -   input_ids: 101 1996 11865 19145 2099 4195 3774 7444 2135 1997 9724 1011 4462 2000 5122 4462 1010 2986 2000 5396 8982 2098 1010 5681 21877 24200 1010 3227 12098 19791 25560 2030 26427 3401 3672 2098 1010 1043 17298 8663 18291 11694 2015 1012 1999 4563 2094 5433 1010 2027 2024 2464 2000 2022 2593 5294 2007 2261 5090 2030 1010 1999 2062 29333 5433 1010 2000 2022 12098 19791 25560 1998 6118 16012 20689 20179 2094 2007 1037 2846 1997 22715 5004 4127 1010 2164 1996 8200 3596 102 14140 1999 102 10042 1999 1037 3884 4292 1012 102\n",
            "10/14/2020 13:36:41 - INFO - __main__ -   input_mask: 1 1 1 1 1 1 1 1 1 1 1 1 1 1 1 1 1 1 1 1 1 1 1 1 1 1 1 1 1 1 1 1 1 1 1 1 1 1 1 1 1 1 1 1 1 1 1 1 1 1 1 1 1 1 1 1 1 1 1 1 1 1 1 1 1 1 1 1 1 1 1 1 1 1 1 1 1 1 1 1 1 1 1 1 1 1 1 1 1 1 1 1 1 1 1 1 1 1 1 1\n",
            "10/14/2020 13:36:41 - INFO - __main__ -   segment_ids: 0 0 0 0 0 0 0 0 0 0 0 0 0 0 0 0 0 0 0 0 0 0 0 0 0 0 0 0 0 0 0 0 0 0 0 0 0 0 0 0 0 0 0 0 0 0 0 0 0 0 0 0 0 0 0 0 0 0 0 0 0 0 0 0 0 0 0 0 0 0 0 0 0 0 0 0 0 0 0 0 0 0 0 0 0 0 0 0 0 0 1 1 1 0 0 0 0 0 0 0\n",
            "10/14/2020 13:36:41 - INFO - __main__ -   label: 1 (id = 1)\n",
            "10/14/2020 13:36:41 - INFO - __main__ -   *** Example ***\n",
            "10/14/2020 13:36:41 - INFO - __main__ -   guid: dev-4\n",
            "10/14/2020 13:36:41 - INFO - __main__ -   tokens: [CLS] the mo ##usa formation consists predominantly of poorly consolidated , var ##ia ##bly g ##lau ##con ##itic , locally shelly , fine to coarse grain ##ed sandstone . in some sections , the sandstone ##s are massive ##ly bed ##ded ( e . g . 15 / 21 - 1 ) , whereas in others they are inter ##bed ##ded with thin mud ##stones . [SEP] located in [SEP] northern region of the north sea , a sea of the atlantic ocean . [SEP]\n",
            "10/14/2020 13:36:41 - INFO - __main__ -   input_ids: 101 1996 9587 10383 4195 3774 9197 1997 9996 10495 1010 13075 2401 6321 1043 17298 8663 18291 1010 7246 28360 1010 2986 2000 20392 8982 2098 11694 1012 1999 2070 5433 1010 1996 11694 2015 2024 5294 2135 2793 5732 1006 1041 1012 1043 1012 2321 1013 2538 1011 1015 1007 1010 6168 1999 2500 2027 2024 6970 8270 5732 2007 4857 8494 29423 1012 102 2284 1999 102 2642 2555 1997 1996 2167 2712 1010 1037 2712 1997 1996 4448 4153 1012 102 0 0 0 0 0 0 0 0 0 0 0 0 0 0 0\n",
            "10/14/2020 13:36:41 - INFO - __main__ -   input_mask: 1 1 1 1 1 1 1 1 1 1 1 1 1 1 1 1 1 1 1 1 1 1 1 1 1 1 1 1 1 1 1 1 1 1 1 1 1 1 1 1 1 1 1 1 1 1 1 1 1 1 1 1 1 1 1 1 1 1 1 1 1 1 1 1 1 1 1 1 1 1 1 1 1 1 1 1 1 1 1 1 1 1 1 1 1 0 0 0 0 0 0 0 0 0 0 0 0 0 0 0\n",
            "10/14/2020 13:36:41 - INFO - __main__ -   segment_ids: 0 0 0 0 0 0 0 0 0 0 0 0 0 0 0 0 0 0 0 0 0 0 0 0 0 0 0 0 0 0 0 0 0 0 0 0 0 0 0 0 0 0 0 0 0 0 0 0 0 0 0 0 0 0 0 0 0 0 0 0 0 0 0 0 0 0 0 1 1 1 0 0 0 0 0 0 0 0 0 0 0 0 0 0 0 0 0 0 0 0 0 0 0 0 0 0 0 0 0 0\n",
            "10/14/2020 13:36:41 - INFO - __main__ -   label: 1 (id = 1)\n",
            "10/14/2020 13:36:42 - INFO - __main__ -   ***** Running evaluation checkpoint-200 *****\n",
            "10/14/2020 13:36:42 - INFO - __main__ -     Num examples = 71\n",
            "10/14/2020 13:36:42 - INFO - __main__ -     Batch size = 300\n",
            "Evaluating: 100%|██████████| 1/1 [00:00<00:00,  5.00it/s]\n",
            "10/14/2020 13:36:42 - INFO - __main__ -   ***** Eval results checkpoint-200 *****\n",
            "10/14/2020 13:36:42 - INFO - __main__ -     acc = 0.38028169014084506\n",
            "10/14/2020 13:36:42 - INFO - __main__ -     eval_loss = 0.8982377648353577\n",
            "10/14/2020 13:36:42 - INFO - __main__ -     global_step = 200\n",
            "10/14/2020 13:36:42 - INFO - __main__ -     loss = 0.17888839376613128\n",
            "10/14/2020 13:36:57 - INFO - __main__ -   Writing example 0 of 71\n",
            "10/14/2020 13:36:57 - INFO - __main__ -   *** Example ***\n",
            "10/14/2020 13:36:57 - INFO - __main__ -   guid: dev-0\n",
            "10/14/2020 13:36:57 - INFO - __main__ -   tokens: [CLS] the bun ##ter sandstone formation comprises red , orange , occasionally white or colour ##less , sandstone ##s , inter ##bed ##ded with red , grey , rarely green , occasionally do ##lom ##itic , mud ##stone and si ##lty or sandy mud ##stone . the sandstone varies [SEP] type [SEP] lit ##hos ##tra ##ti ##graphy is a sub - discipline of st ##rat ##igraphy , the geological science associated with the study of strata or rock layers . major focuses include geo ##ch ##ron ##ology , comparative geology , and petrol ##ogy . in general a st [SEP]\n",
            "10/14/2020 13:36:57 - INFO - __main__ -   input_ids: 101 1996 21122 3334 11694 4195 8681 2417 1010 4589 1010 5681 2317 2030 6120 3238 1010 11694 2015 1010 6970 8270 5732 2007 2417 1010 4462 1010 6524 2665 1010 5681 2079 21297 18291 1010 8494 9221 1998 9033 24228 2030 7525 8494 9221 1012 1996 11694 9783 102 2828 102 5507 15006 6494 3775 12565 2003 1037 4942 1011 9009 1997 2358 8609 23132 1010 1996 9843 2671 3378 2007 1996 2817 1997 22913 2030 2600 9014 1012 2350 7679 2421 20248 2818 4948 6779 1010 12596 13404 1010 1998 17141 15707 1012 1999 2236 1037 2358 102\n",
            "10/14/2020 13:36:57 - INFO - __main__ -   input_mask: 1 1 1 1 1 1 1 1 1 1 1 1 1 1 1 1 1 1 1 1 1 1 1 1 1 1 1 1 1 1 1 1 1 1 1 1 1 1 1 1 1 1 1 1 1 1 1 1 1 1 1 1 1 1 1 1 1 1 1 1 1 1 1 1 1 1 1 1 1 1 1 1 1 1 1 1 1 1 1 1 1 1 1 1 1 1 1 1 1 1 1 1 1 1 1 1 1 1 1 1\n",
            "10/14/2020 13:36:57 - INFO - __main__ -   segment_ids: 0 0 0 0 0 0 0 0 0 0 0 0 0 0 0 0 0 0 0 0 0 0 0 0 0 0 0 0 0 0 0 0 0 0 0 0 0 0 0 0 0 0 0 0 0 0 0 0 0 0 1 1 0 0 0 0 0 0 0 0 0 0 0 0 0 0 0 0 0 0 0 0 0 0 0 0 0 0 0 0 0 0 0 0 0 0 0 0 0 0 0 0 0 0 0 0 0 0 0 0\n",
            "10/14/2020 13:36:57 - INFO - __main__ -   label: 1 (id = 1)\n",
            "10/14/2020 13:36:57 - INFO - __main__ -   *** Example ***\n",
            "10/14/2020 13:36:57 - INFO - __main__ -   guid: dev-1\n",
            "10/14/2020 13:36:57 - INFO - __main__ -   tokens: [CLS] the mills ##tone grit formation is composed of variable proportions of grey , white and brown sandstone , and grey or dark grey , partly carbon ##aceous mud ##stone and si ##lts ##tone . some sections additionally contain rare thin coal seam ##s and seat ##ear ##ths . [SEP] type [SEP] lit ##hos ##tra ##ti ##graphy is a sub - discipline of st ##rat ##igraphy , the geological science associated with the study of strata or rock layers . major focuses include geo ##ch ##ron ##ology , comparative geology , and petrol ##ogy . in general a st [SEP]\n",
            "10/14/2020 13:36:57 - INFO - __main__ -   input_ids: 101 1996 6341 5524 24842 4195 2003 3605 1997 8023 19173 1997 4462 1010 2317 1998 2829 11694 1010 1998 4462 2030 2601 4462 1010 6576 6351 25560 8494 9221 1998 9033 21593 5524 1012 2070 5433 5678 5383 4678 4857 5317 25180 2015 1998 2835 14644 26830 1012 102 2828 102 5507 15006 6494 3775 12565 2003 1037 4942 1011 9009 1997 2358 8609 23132 1010 1996 9843 2671 3378 2007 1996 2817 1997 22913 2030 2600 9014 1012 2350 7679 2421 20248 2818 4948 6779 1010 12596 13404 1010 1998 17141 15707 1012 1999 2236 1037 2358 102\n",
            "10/14/2020 13:36:57 - INFO - __main__ -   input_mask: 1 1 1 1 1 1 1 1 1 1 1 1 1 1 1 1 1 1 1 1 1 1 1 1 1 1 1 1 1 1 1 1 1 1 1 1 1 1 1 1 1 1 1 1 1 1 1 1 1 1 1 1 1 1 1 1 1 1 1 1 1 1 1 1 1 1 1 1 1 1 1 1 1 1 1 1 1 1 1 1 1 1 1 1 1 1 1 1 1 1 1 1 1 1 1 1 1 1 1 1\n",
            "10/14/2020 13:36:57 - INFO - __main__ -   segment_ids: 0 0 0 0 0 0 0 0 0 0 0 0 0 0 0 0 0 0 0 0 0 0 0 0 0 0 0 0 0 0 0 0 0 0 0 0 0 0 0 0 0 0 0 0 0 0 0 0 0 0 1 1 0 0 0 0 0 0 0 0 0 0 0 0 0 0 0 0 0 0 0 0 0 0 0 0 0 0 0 0 0 0 0 0 0 0 0 0 0 0 0 0 0 0 0 0 0 0 0 0\n",
            "10/14/2020 13:36:57 - INFO - __main__ -   label: 1 (id = 1)\n",
            "10/14/2020 13:36:57 - INFO - __main__ -   *** Example ***\n",
            "10/14/2020 13:36:57 - INFO - __main__ -   guid: dev-2\n",
            "10/14/2020 13:36:57 - INFO - __main__ -   tokens: [CLS] the herring formation consists of hard to very hard , dense , crypt ##oc ##rys ##tal ##line limestone with inter ##bed ##ded ar ##gill ##aceous chalk ##y limestone and mud ##stone . traces of p ##yr ##ite , g ##lau ##con ##ite and cher ##t have been [SEP] constituted by [SEP] mud ##stone , a type of mud ##rock , is a fine - grain ##ed sedimentary rock whose original constituents were clay ##s or mud ##s . mud ##stone is distinguished from shale by its lack of fis ##sil ##ity ( parallel layer ##ing ) . the [SEP]\n",
            "10/14/2020 13:36:57 - INFO - __main__ -   input_ids: 101 1996 22103 4195 3774 1997 2524 2000 2200 2524 1010 9742 1010 19888 10085 24769 9080 4179 9771 2007 6970 8270 5732 12098 19791 25560 16833 2100 9771 1998 8494 9221 1012 10279 1997 1052 12541 4221 1010 1043 17298 8663 4221 1998 24188 2102 2031 2042 102 11846 2011 102 8494 9221 1010 1037 2828 1997 8494 16901 1010 2003 1037 2986 1011 8982 2098 25503 2600 3005 2434 24355 2020 5726 2015 2030 8494 2015 1012 8494 9221 2003 5182 2013 18488 2011 2049 3768 1997 27424 27572 3012 1006 5903 6741 2075 1007 1012 1996 102\n",
            "10/14/2020 13:36:57 - INFO - __main__ -   input_mask: 1 1 1 1 1 1 1 1 1 1 1 1 1 1 1 1 1 1 1 1 1 1 1 1 1 1 1 1 1 1 1 1 1 1 1 1 1 1 1 1 1 1 1 1 1 1 1 1 1 1 1 1 1 1 1 1 1 1 1 1 1 1 1 1 1 1 1 1 1 1 1 1 1 1 1 1 1 1 1 1 1 1 1 1 1 1 1 1 1 1 1 1 1 1 1 1 1 1 1 1\n",
            "10/14/2020 13:36:57 - INFO - __main__ -   segment_ids: 0 0 0 0 0 0 0 0 0 0 0 0 0 0 0 0 0 0 0 0 0 0 0 0 0 0 0 0 0 0 0 0 0 0 0 0 0 0 0 0 0 0 0 0 0 0 0 0 0 1 1 1 0 0 0 0 0 0 0 0 0 0 0 0 0 0 0 0 0 0 0 0 0 0 0 0 0 0 0 0 0 0 0 0 0 0 0 0 0 0 0 0 0 0 0 0 0 0 0 0\n",
            "10/14/2020 13:36:57 - INFO - __main__ -   label: 1 (id = 1)\n",
            "10/14/2020 13:36:57 - INFO - __main__ -   *** Example ***\n",
            "10/14/2020 13:36:57 - INFO - __main__ -   guid: dev-3\n",
            "10/14/2020 13:36:57 - INFO - __main__ -   tokens: [CLS] the fu ##lma ##r formation consists dominant ##ly of olive - grey to pale grey , fine to medium grain ##ed , occasionally pe ##bbly , generally ar ##gill ##aceous or carbonate ##ce ##ment ##ed , g ##lau ##con ##itic sandstone ##s . in core ##d sections , they are seen to be either massive with few structures or , in more distal sections , to be ar ##gill ##aceous and strongly bio ##tur ##bate ##d with a range of burr ##ow types , including the distinctive forms [SEP] deposited in [SEP] deposits in a marine setting . [SEP]\n",
            "10/14/2020 13:36:57 - INFO - __main__ -   input_ids: 101 1996 11865 19145 2099 4195 3774 7444 2135 1997 9724 1011 4462 2000 5122 4462 1010 2986 2000 5396 8982 2098 1010 5681 21877 24200 1010 3227 12098 19791 25560 2030 26427 3401 3672 2098 1010 1043 17298 8663 18291 11694 2015 1012 1999 4563 2094 5433 1010 2027 2024 2464 2000 2022 2593 5294 2007 2261 5090 2030 1010 1999 2062 29333 5433 1010 2000 2022 12098 19791 25560 1998 6118 16012 20689 20179 2094 2007 1037 2846 1997 22715 5004 4127 1010 2164 1996 8200 3596 102 14140 1999 102 10042 1999 1037 3884 4292 1012 102\n",
            "10/14/2020 13:36:57 - INFO - __main__ -   input_mask: 1 1 1 1 1 1 1 1 1 1 1 1 1 1 1 1 1 1 1 1 1 1 1 1 1 1 1 1 1 1 1 1 1 1 1 1 1 1 1 1 1 1 1 1 1 1 1 1 1 1 1 1 1 1 1 1 1 1 1 1 1 1 1 1 1 1 1 1 1 1 1 1 1 1 1 1 1 1 1 1 1 1 1 1 1 1 1 1 1 1 1 1 1 1 1 1 1 1 1 1\n",
            "10/14/2020 13:36:57 - INFO - __main__ -   segment_ids: 0 0 0 0 0 0 0 0 0 0 0 0 0 0 0 0 0 0 0 0 0 0 0 0 0 0 0 0 0 0 0 0 0 0 0 0 0 0 0 0 0 0 0 0 0 0 0 0 0 0 0 0 0 0 0 0 0 0 0 0 0 0 0 0 0 0 0 0 0 0 0 0 0 0 0 0 0 0 0 0 0 0 0 0 0 0 0 0 0 0 1 1 1 0 0 0 0 0 0 0\n",
            "10/14/2020 13:36:57 - INFO - __main__ -   label: 1 (id = 1)\n",
            "10/14/2020 13:36:57 - INFO - __main__ -   *** Example ***\n",
            "10/14/2020 13:36:57 - INFO - __main__ -   guid: dev-4\n",
            "10/14/2020 13:36:57 - INFO - __main__ -   tokens: [CLS] the mo ##usa formation consists predominantly of poorly consolidated , var ##ia ##bly g ##lau ##con ##itic , locally shelly , fine to coarse grain ##ed sandstone . in some sections , the sandstone ##s are massive ##ly bed ##ded ( e . g . 15 / 21 - 1 ) , whereas in others they are inter ##bed ##ded with thin mud ##stones . [SEP] located in [SEP] northern region of the north sea , a sea of the atlantic ocean . [SEP]\n",
            "10/14/2020 13:36:57 - INFO - __main__ -   input_ids: 101 1996 9587 10383 4195 3774 9197 1997 9996 10495 1010 13075 2401 6321 1043 17298 8663 18291 1010 7246 28360 1010 2986 2000 20392 8982 2098 11694 1012 1999 2070 5433 1010 1996 11694 2015 2024 5294 2135 2793 5732 1006 1041 1012 1043 1012 2321 1013 2538 1011 1015 1007 1010 6168 1999 2500 2027 2024 6970 8270 5732 2007 4857 8494 29423 1012 102 2284 1999 102 2642 2555 1997 1996 2167 2712 1010 1037 2712 1997 1996 4448 4153 1012 102 0 0 0 0 0 0 0 0 0 0 0 0 0 0 0\n",
            "10/14/2020 13:36:57 - INFO - __main__ -   input_mask: 1 1 1 1 1 1 1 1 1 1 1 1 1 1 1 1 1 1 1 1 1 1 1 1 1 1 1 1 1 1 1 1 1 1 1 1 1 1 1 1 1 1 1 1 1 1 1 1 1 1 1 1 1 1 1 1 1 1 1 1 1 1 1 1 1 1 1 1 1 1 1 1 1 1 1 1 1 1 1 1 1 1 1 1 1 0 0 0 0 0 0 0 0 0 0 0 0 0 0 0\n",
            "10/14/2020 13:36:57 - INFO - __main__ -   segment_ids: 0 0 0 0 0 0 0 0 0 0 0 0 0 0 0 0 0 0 0 0 0 0 0 0 0 0 0 0 0 0 0 0 0 0 0 0 0 0 0 0 0 0 0 0 0 0 0 0 0 0 0 0 0 0 0 0 0 0 0 0 0 0 0 0 0 0 0 1 1 1 0 0 0 0 0 0 0 0 0 0 0 0 0 0 0 0 0 0 0 0 0 0 0 0 0 0 0 0 0 0\n",
            "10/14/2020 13:36:57 - INFO - __main__ -   label: 1 (id = 1)\n",
            "10/14/2020 13:36:57 - INFO - __main__ -   ***** Running evaluation checkpoint-300 *****\n",
            "10/14/2020 13:36:57 - INFO - __main__ -     Num examples = 71\n",
            "10/14/2020 13:36:57 - INFO - __main__ -     Batch size = 300\n",
            "Evaluating: 100%|██████████| 1/1 [00:00<00:00,  4.69it/s]\n",
            "10/14/2020 13:36:57 - INFO - __main__ -   ***** Eval results checkpoint-300 *****\n",
            "10/14/2020 13:36:57 - INFO - __main__ -     acc = 0.7464788732394366\n",
            "10/14/2020 13:36:57 - INFO - __main__ -     eval_loss = 0.5994390249252319\n",
            "10/14/2020 13:36:57 - INFO - __main__ -     global_step = 300\n",
            "10/14/2020 13:36:57 - INFO - __main__ -     loss = 0.17888839376613128\n",
            "10/14/2020 13:37:13 - INFO - __main__ -   Writing example 0 of 71\n",
            "10/14/2020 13:37:13 - INFO - __main__ -   *** Example ***\n",
            "10/14/2020 13:37:13 - INFO - __main__ -   guid: dev-0\n",
            "10/14/2020 13:37:13 - INFO - __main__ -   tokens: [CLS] the bun ##ter sandstone formation comprises red , orange , occasionally white or colour ##less , sandstone ##s , inter ##bed ##ded with red , grey , rarely green , occasionally do ##lom ##itic , mud ##stone and si ##lty or sandy mud ##stone . the sandstone varies [SEP] type [SEP] lit ##hos ##tra ##ti ##graphy is a sub - discipline of st ##rat ##igraphy , the geological science associated with the study of strata or rock layers . major focuses include geo ##ch ##ron ##ology , comparative geology , and petrol ##ogy . in general a st [SEP]\n",
            "10/14/2020 13:37:13 - INFO - __main__ -   input_ids: 101 1996 21122 3334 11694 4195 8681 2417 1010 4589 1010 5681 2317 2030 6120 3238 1010 11694 2015 1010 6970 8270 5732 2007 2417 1010 4462 1010 6524 2665 1010 5681 2079 21297 18291 1010 8494 9221 1998 9033 24228 2030 7525 8494 9221 1012 1996 11694 9783 102 2828 102 5507 15006 6494 3775 12565 2003 1037 4942 1011 9009 1997 2358 8609 23132 1010 1996 9843 2671 3378 2007 1996 2817 1997 22913 2030 2600 9014 1012 2350 7679 2421 20248 2818 4948 6779 1010 12596 13404 1010 1998 17141 15707 1012 1999 2236 1037 2358 102\n",
            "10/14/2020 13:37:13 - INFO - __main__ -   input_mask: 1 1 1 1 1 1 1 1 1 1 1 1 1 1 1 1 1 1 1 1 1 1 1 1 1 1 1 1 1 1 1 1 1 1 1 1 1 1 1 1 1 1 1 1 1 1 1 1 1 1 1 1 1 1 1 1 1 1 1 1 1 1 1 1 1 1 1 1 1 1 1 1 1 1 1 1 1 1 1 1 1 1 1 1 1 1 1 1 1 1 1 1 1 1 1 1 1 1 1 1\n",
            "10/14/2020 13:37:13 - INFO - __main__ -   segment_ids: 0 0 0 0 0 0 0 0 0 0 0 0 0 0 0 0 0 0 0 0 0 0 0 0 0 0 0 0 0 0 0 0 0 0 0 0 0 0 0 0 0 0 0 0 0 0 0 0 0 0 1 1 0 0 0 0 0 0 0 0 0 0 0 0 0 0 0 0 0 0 0 0 0 0 0 0 0 0 0 0 0 0 0 0 0 0 0 0 0 0 0 0 0 0 0 0 0 0 0 0\n",
            "10/14/2020 13:37:13 - INFO - __main__ -   label: 1 (id = 1)\n",
            "10/14/2020 13:37:13 - INFO - __main__ -   *** Example ***\n",
            "10/14/2020 13:37:13 - INFO - __main__ -   guid: dev-1\n",
            "10/14/2020 13:37:13 - INFO - __main__ -   tokens: [CLS] the mills ##tone grit formation is composed of variable proportions of grey , white and brown sandstone , and grey or dark grey , partly carbon ##aceous mud ##stone and si ##lts ##tone . some sections additionally contain rare thin coal seam ##s and seat ##ear ##ths . [SEP] type [SEP] lit ##hos ##tra ##ti ##graphy is a sub - discipline of st ##rat ##igraphy , the geological science associated with the study of strata or rock layers . major focuses include geo ##ch ##ron ##ology , comparative geology , and petrol ##ogy . in general a st [SEP]\n",
            "10/14/2020 13:37:13 - INFO - __main__ -   input_ids: 101 1996 6341 5524 24842 4195 2003 3605 1997 8023 19173 1997 4462 1010 2317 1998 2829 11694 1010 1998 4462 2030 2601 4462 1010 6576 6351 25560 8494 9221 1998 9033 21593 5524 1012 2070 5433 5678 5383 4678 4857 5317 25180 2015 1998 2835 14644 26830 1012 102 2828 102 5507 15006 6494 3775 12565 2003 1037 4942 1011 9009 1997 2358 8609 23132 1010 1996 9843 2671 3378 2007 1996 2817 1997 22913 2030 2600 9014 1012 2350 7679 2421 20248 2818 4948 6779 1010 12596 13404 1010 1998 17141 15707 1012 1999 2236 1037 2358 102\n",
            "10/14/2020 13:37:13 - INFO - __main__ -   input_mask: 1 1 1 1 1 1 1 1 1 1 1 1 1 1 1 1 1 1 1 1 1 1 1 1 1 1 1 1 1 1 1 1 1 1 1 1 1 1 1 1 1 1 1 1 1 1 1 1 1 1 1 1 1 1 1 1 1 1 1 1 1 1 1 1 1 1 1 1 1 1 1 1 1 1 1 1 1 1 1 1 1 1 1 1 1 1 1 1 1 1 1 1 1 1 1 1 1 1 1 1\n",
            "10/14/2020 13:37:13 - INFO - __main__ -   segment_ids: 0 0 0 0 0 0 0 0 0 0 0 0 0 0 0 0 0 0 0 0 0 0 0 0 0 0 0 0 0 0 0 0 0 0 0 0 0 0 0 0 0 0 0 0 0 0 0 0 0 0 1 1 0 0 0 0 0 0 0 0 0 0 0 0 0 0 0 0 0 0 0 0 0 0 0 0 0 0 0 0 0 0 0 0 0 0 0 0 0 0 0 0 0 0 0 0 0 0 0 0\n",
            "10/14/2020 13:37:13 - INFO - __main__ -   label: 1 (id = 1)\n",
            "10/14/2020 13:37:13 - INFO - __main__ -   *** Example ***\n",
            "10/14/2020 13:37:13 - INFO - __main__ -   guid: dev-2\n",
            "10/14/2020 13:37:13 - INFO - __main__ -   tokens: [CLS] the herring formation consists of hard to very hard , dense , crypt ##oc ##rys ##tal ##line limestone with inter ##bed ##ded ar ##gill ##aceous chalk ##y limestone and mud ##stone . traces of p ##yr ##ite , g ##lau ##con ##ite and cher ##t have been [SEP] constituted by [SEP] mud ##stone , a type of mud ##rock , is a fine - grain ##ed sedimentary rock whose original constituents were clay ##s or mud ##s . mud ##stone is distinguished from shale by its lack of fis ##sil ##ity ( parallel layer ##ing ) . the [SEP]\n",
            "10/14/2020 13:37:13 - INFO - __main__ -   input_ids: 101 1996 22103 4195 3774 1997 2524 2000 2200 2524 1010 9742 1010 19888 10085 24769 9080 4179 9771 2007 6970 8270 5732 12098 19791 25560 16833 2100 9771 1998 8494 9221 1012 10279 1997 1052 12541 4221 1010 1043 17298 8663 4221 1998 24188 2102 2031 2042 102 11846 2011 102 8494 9221 1010 1037 2828 1997 8494 16901 1010 2003 1037 2986 1011 8982 2098 25503 2600 3005 2434 24355 2020 5726 2015 2030 8494 2015 1012 8494 9221 2003 5182 2013 18488 2011 2049 3768 1997 27424 27572 3012 1006 5903 6741 2075 1007 1012 1996 102\n",
            "10/14/2020 13:37:13 - INFO - __main__ -   input_mask: 1 1 1 1 1 1 1 1 1 1 1 1 1 1 1 1 1 1 1 1 1 1 1 1 1 1 1 1 1 1 1 1 1 1 1 1 1 1 1 1 1 1 1 1 1 1 1 1 1 1 1 1 1 1 1 1 1 1 1 1 1 1 1 1 1 1 1 1 1 1 1 1 1 1 1 1 1 1 1 1 1 1 1 1 1 1 1 1 1 1 1 1 1 1 1 1 1 1 1 1\n",
            "10/14/2020 13:37:13 - INFO - __main__ -   segment_ids: 0 0 0 0 0 0 0 0 0 0 0 0 0 0 0 0 0 0 0 0 0 0 0 0 0 0 0 0 0 0 0 0 0 0 0 0 0 0 0 0 0 0 0 0 0 0 0 0 0 1 1 1 0 0 0 0 0 0 0 0 0 0 0 0 0 0 0 0 0 0 0 0 0 0 0 0 0 0 0 0 0 0 0 0 0 0 0 0 0 0 0 0 0 0 0 0 0 0 0 0\n",
            "10/14/2020 13:37:13 - INFO - __main__ -   label: 1 (id = 1)\n",
            "10/14/2020 13:37:13 - INFO - __main__ -   *** Example ***\n",
            "10/14/2020 13:37:13 - INFO - __main__ -   guid: dev-3\n",
            "10/14/2020 13:37:13 - INFO - __main__ -   tokens: [CLS] the fu ##lma ##r formation consists dominant ##ly of olive - grey to pale grey , fine to medium grain ##ed , occasionally pe ##bbly , generally ar ##gill ##aceous or carbonate ##ce ##ment ##ed , g ##lau ##con ##itic sandstone ##s . in core ##d sections , they are seen to be either massive with few structures or , in more distal sections , to be ar ##gill ##aceous and strongly bio ##tur ##bate ##d with a range of burr ##ow types , including the distinctive forms [SEP] deposited in [SEP] deposits in a marine setting . [SEP]\n",
            "10/14/2020 13:37:13 - INFO - __main__ -   input_ids: 101 1996 11865 19145 2099 4195 3774 7444 2135 1997 9724 1011 4462 2000 5122 4462 1010 2986 2000 5396 8982 2098 1010 5681 21877 24200 1010 3227 12098 19791 25560 2030 26427 3401 3672 2098 1010 1043 17298 8663 18291 11694 2015 1012 1999 4563 2094 5433 1010 2027 2024 2464 2000 2022 2593 5294 2007 2261 5090 2030 1010 1999 2062 29333 5433 1010 2000 2022 12098 19791 25560 1998 6118 16012 20689 20179 2094 2007 1037 2846 1997 22715 5004 4127 1010 2164 1996 8200 3596 102 14140 1999 102 10042 1999 1037 3884 4292 1012 102\n",
            "10/14/2020 13:37:13 - INFO - __main__ -   input_mask: 1 1 1 1 1 1 1 1 1 1 1 1 1 1 1 1 1 1 1 1 1 1 1 1 1 1 1 1 1 1 1 1 1 1 1 1 1 1 1 1 1 1 1 1 1 1 1 1 1 1 1 1 1 1 1 1 1 1 1 1 1 1 1 1 1 1 1 1 1 1 1 1 1 1 1 1 1 1 1 1 1 1 1 1 1 1 1 1 1 1 1 1 1 1 1 1 1 1 1 1\n",
            "10/14/2020 13:37:13 - INFO - __main__ -   segment_ids: 0 0 0 0 0 0 0 0 0 0 0 0 0 0 0 0 0 0 0 0 0 0 0 0 0 0 0 0 0 0 0 0 0 0 0 0 0 0 0 0 0 0 0 0 0 0 0 0 0 0 0 0 0 0 0 0 0 0 0 0 0 0 0 0 0 0 0 0 0 0 0 0 0 0 0 0 0 0 0 0 0 0 0 0 0 0 0 0 0 0 1 1 1 0 0 0 0 0 0 0\n",
            "10/14/2020 13:37:13 - INFO - __main__ -   label: 1 (id = 1)\n",
            "10/14/2020 13:37:13 - INFO - __main__ -   *** Example ***\n",
            "10/14/2020 13:37:13 - INFO - __main__ -   guid: dev-4\n",
            "10/14/2020 13:37:13 - INFO - __main__ -   tokens: [CLS] the mo ##usa formation consists predominantly of poorly consolidated , var ##ia ##bly g ##lau ##con ##itic , locally shelly , fine to coarse grain ##ed sandstone . in some sections , the sandstone ##s are massive ##ly bed ##ded ( e . g . 15 / 21 - 1 ) , whereas in others they are inter ##bed ##ded with thin mud ##stones . [SEP] located in [SEP] northern region of the north sea , a sea of the atlantic ocean . [SEP]\n",
            "10/14/2020 13:37:13 - INFO - __main__ -   input_ids: 101 1996 9587 10383 4195 3774 9197 1997 9996 10495 1010 13075 2401 6321 1043 17298 8663 18291 1010 7246 28360 1010 2986 2000 20392 8982 2098 11694 1012 1999 2070 5433 1010 1996 11694 2015 2024 5294 2135 2793 5732 1006 1041 1012 1043 1012 2321 1013 2538 1011 1015 1007 1010 6168 1999 2500 2027 2024 6970 8270 5732 2007 4857 8494 29423 1012 102 2284 1999 102 2642 2555 1997 1996 2167 2712 1010 1037 2712 1997 1996 4448 4153 1012 102 0 0 0 0 0 0 0 0 0 0 0 0 0 0 0\n",
            "10/14/2020 13:37:13 - INFO - __main__ -   input_mask: 1 1 1 1 1 1 1 1 1 1 1 1 1 1 1 1 1 1 1 1 1 1 1 1 1 1 1 1 1 1 1 1 1 1 1 1 1 1 1 1 1 1 1 1 1 1 1 1 1 1 1 1 1 1 1 1 1 1 1 1 1 1 1 1 1 1 1 1 1 1 1 1 1 1 1 1 1 1 1 1 1 1 1 1 1 0 0 0 0 0 0 0 0 0 0 0 0 0 0 0\n",
            "10/14/2020 13:37:13 - INFO - __main__ -   segment_ids: 0 0 0 0 0 0 0 0 0 0 0 0 0 0 0 0 0 0 0 0 0 0 0 0 0 0 0 0 0 0 0 0 0 0 0 0 0 0 0 0 0 0 0 0 0 0 0 0 0 0 0 0 0 0 0 0 0 0 0 0 0 0 0 0 0 0 0 1 1 1 0 0 0 0 0 0 0 0 0 0 0 0 0 0 0 0 0 0 0 0 0 0 0 0 0 0 0 0 0 0\n",
            "10/14/2020 13:37:13 - INFO - __main__ -   label: 1 (id = 1)\n",
            "10/14/2020 13:37:13 - INFO - __main__ -   ***** Running evaluation checkpoint-400 *****\n",
            "10/14/2020 13:37:13 - INFO - __main__ -     Num examples = 71\n",
            "10/14/2020 13:37:13 - INFO - __main__ -     Batch size = 300\n",
            "Evaluating: 100%|██████████| 1/1 [00:00<00:00,  4.96it/s]\n",
            "10/14/2020 13:37:13 - INFO - __main__ -   ***** Eval results checkpoint-400 *****\n",
            "10/14/2020 13:37:13 - INFO - __main__ -     acc = 0.8591549295774648\n",
            "10/14/2020 13:37:13 - INFO - __main__ -     eval_loss = 0.5581989884376526\n",
            "10/14/2020 13:37:13 - INFO - __main__ -     global_step = 400\n",
            "10/14/2020 13:37:13 - INFO - __main__ -     loss = 0.17888839376613128\n",
            "10/14/2020 13:37:28 - INFO - __main__ -   Writing example 0 of 71\n",
            "10/14/2020 13:37:28 - INFO - __main__ -   *** Example ***\n",
            "10/14/2020 13:37:28 - INFO - __main__ -   guid: dev-0\n",
            "10/14/2020 13:37:28 - INFO - __main__ -   tokens: [CLS] the bun ##ter sandstone formation comprises red , orange , occasionally white or colour ##less , sandstone ##s , inter ##bed ##ded with red , grey , rarely green , occasionally do ##lom ##itic , mud ##stone and si ##lty or sandy mud ##stone . the sandstone varies [SEP] type [SEP] lit ##hos ##tra ##ti ##graphy is a sub - discipline of st ##rat ##igraphy , the geological science associated with the study of strata or rock layers . major focuses include geo ##ch ##ron ##ology , comparative geology , and petrol ##ogy . in general a st [SEP]\n",
            "10/14/2020 13:37:28 - INFO - __main__ -   input_ids: 101 1996 21122 3334 11694 4195 8681 2417 1010 4589 1010 5681 2317 2030 6120 3238 1010 11694 2015 1010 6970 8270 5732 2007 2417 1010 4462 1010 6524 2665 1010 5681 2079 21297 18291 1010 8494 9221 1998 9033 24228 2030 7525 8494 9221 1012 1996 11694 9783 102 2828 102 5507 15006 6494 3775 12565 2003 1037 4942 1011 9009 1997 2358 8609 23132 1010 1996 9843 2671 3378 2007 1996 2817 1997 22913 2030 2600 9014 1012 2350 7679 2421 20248 2818 4948 6779 1010 12596 13404 1010 1998 17141 15707 1012 1999 2236 1037 2358 102\n",
            "10/14/2020 13:37:28 - INFO - __main__ -   input_mask: 1 1 1 1 1 1 1 1 1 1 1 1 1 1 1 1 1 1 1 1 1 1 1 1 1 1 1 1 1 1 1 1 1 1 1 1 1 1 1 1 1 1 1 1 1 1 1 1 1 1 1 1 1 1 1 1 1 1 1 1 1 1 1 1 1 1 1 1 1 1 1 1 1 1 1 1 1 1 1 1 1 1 1 1 1 1 1 1 1 1 1 1 1 1 1 1 1 1 1 1\n",
            "10/14/2020 13:37:28 - INFO - __main__ -   segment_ids: 0 0 0 0 0 0 0 0 0 0 0 0 0 0 0 0 0 0 0 0 0 0 0 0 0 0 0 0 0 0 0 0 0 0 0 0 0 0 0 0 0 0 0 0 0 0 0 0 0 0 1 1 0 0 0 0 0 0 0 0 0 0 0 0 0 0 0 0 0 0 0 0 0 0 0 0 0 0 0 0 0 0 0 0 0 0 0 0 0 0 0 0 0 0 0 0 0 0 0 0\n",
            "10/14/2020 13:37:28 - INFO - __main__ -   label: 1 (id = 1)\n",
            "10/14/2020 13:37:28 - INFO - __main__ -   *** Example ***\n",
            "10/14/2020 13:37:28 - INFO - __main__ -   guid: dev-1\n",
            "10/14/2020 13:37:28 - INFO - __main__ -   tokens: [CLS] the mills ##tone grit formation is composed of variable proportions of grey , white and brown sandstone , and grey or dark grey , partly carbon ##aceous mud ##stone and si ##lts ##tone . some sections additionally contain rare thin coal seam ##s and seat ##ear ##ths . [SEP] type [SEP] lit ##hos ##tra ##ti ##graphy is a sub - discipline of st ##rat ##igraphy , the geological science associated with the study of strata or rock layers . major focuses include geo ##ch ##ron ##ology , comparative geology , and petrol ##ogy . in general a st [SEP]\n",
            "10/14/2020 13:37:28 - INFO - __main__ -   input_ids: 101 1996 6341 5524 24842 4195 2003 3605 1997 8023 19173 1997 4462 1010 2317 1998 2829 11694 1010 1998 4462 2030 2601 4462 1010 6576 6351 25560 8494 9221 1998 9033 21593 5524 1012 2070 5433 5678 5383 4678 4857 5317 25180 2015 1998 2835 14644 26830 1012 102 2828 102 5507 15006 6494 3775 12565 2003 1037 4942 1011 9009 1997 2358 8609 23132 1010 1996 9843 2671 3378 2007 1996 2817 1997 22913 2030 2600 9014 1012 2350 7679 2421 20248 2818 4948 6779 1010 12596 13404 1010 1998 17141 15707 1012 1999 2236 1037 2358 102\n",
            "10/14/2020 13:37:28 - INFO - __main__ -   input_mask: 1 1 1 1 1 1 1 1 1 1 1 1 1 1 1 1 1 1 1 1 1 1 1 1 1 1 1 1 1 1 1 1 1 1 1 1 1 1 1 1 1 1 1 1 1 1 1 1 1 1 1 1 1 1 1 1 1 1 1 1 1 1 1 1 1 1 1 1 1 1 1 1 1 1 1 1 1 1 1 1 1 1 1 1 1 1 1 1 1 1 1 1 1 1 1 1 1 1 1 1\n",
            "10/14/2020 13:37:28 - INFO - __main__ -   segment_ids: 0 0 0 0 0 0 0 0 0 0 0 0 0 0 0 0 0 0 0 0 0 0 0 0 0 0 0 0 0 0 0 0 0 0 0 0 0 0 0 0 0 0 0 0 0 0 0 0 0 0 1 1 0 0 0 0 0 0 0 0 0 0 0 0 0 0 0 0 0 0 0 0 0 0 0 0 0 0 0 0 0 0 0 0 0 0 0 0 0 0 0 0 0 0 0 0 0 0 0 0\n",
            "10/14/2020 13:37:28 - INFO - __main__ -   label: 1 (id = 1)\n",
            "10/14/2020 13:37:28 - INFO - __main__ -   *** Example ***\n",
            "10/14/2020 13:37:28 - INFO - __main__ -   guid: dev-2\n",
            "10/14/2020 13:37:28 - INFO - __main__ -   tokens: [CLS] the herring formation consists of hard to very hard , dense , crypt ##oc ##rys ##tal ##line limestone with inter ##bed ##ded ar ##gill ##aceous chalk ##y limestone and mud ##stone . traces of p ##yr ##ite , g ##lau ##con ##ite and cher ##t have been [SEP] constituted by [SEP] mud ##stone , a type of mud ##rock , is a fine - grain ##ed sedimentary rock whose original constituents were clay ##s or mud ##s . mud ##stone is distinguished from shale by its lack of fis ##sil ##ity ( parallel layer ##ing ) . the [SEP]\n",
            "10/14/2020 13:37:28 - INFO - __main__ -   input_ids: 101 1996 22103 4195 3774 1997 2524 2000 2200 2524 1010 9742 1010 19888 10085 24769 9080 4179 9771 2007 6970 8270 5732 12098 19791 25560 16833 2100 9771 1998 8494 9221 1012 10279 1997 1052 12541 4221 1010 1043 17298 8663 4221 1998 24188 2102 2031 2042 102 11846 2011 102 8494 9221 1010 1037 2828 1997 8494 16901 1010 2003 1037 2986 1011 8982 2098 25503 2600 3005 2434 24355 2020 5726 2015 2030 8494 2015 1012 8494 9221 2003 5182 2013 18488 2011 2049 3768 1997 27424 27572 3012 1006 5903 6741 2075 1007 1012 1996 102\n",
            "10/14/2020 13:37:28 - INFO - __main__ -   input_mask: 1 1 1 1 1 1 1 1 1 1 1 1 1 1 1 1 1 1 1 1 1 1 1 1 1 1 1 1 1 1 1 1 1 1 1 1 1 1 1 1 1 1 1 1 1 1 1 1 1 1 1 1 1 1 1 1 1 1 1 1 1 1 1 1 1 1 1 1 1 1 1 1 1 1 1 1 1 1 1 1 1 1 1 1 1 1 1 1 1 1 1 1 1 1 1 1 1 1 1 1\n",
            "10/14/2020 13:37:28 - INFO - __main__ -   segment_ids: 0 0 0 0 0 0 0 0 0 0 0 0 0 0 0 0 0 0 0 0 0 0 0 0 0 0 0 0 0 0 0 0 0 0 0 0 0 0 0 0 0 0 0 0 0 0 0 0 0 1 1 1 0 0 0 0 0 0 0 0 0 0 0 0 0 0 0 0 0 0 0 0 0 0 0 0 0 0 0 0 0 0 0 0 0 0 0 0 0 0 0 0 0 0 0 0 0 0 0 0\n",
            "10/14/2020 13:37:28 - INFO - __main__ -   label: 1 (id = 1)\n",
            "10/14/2020 13:37:28 - INFO - __main__ -   *** Example ***\n",
            "10/14/2020 13:37:28 - INFO - __main__ -   guid: dev-3\n",
            "10/14/2020 13:37:28 - INFO - __main__ -   tokens: [CLS] the fu ##lma ##r formation consists dominant ##ly of olive - grey to pale grey , fine to medium grain ##ed , occasionally pe ##bbly , generally ar ##gill ##aceous or carbonate ##ce ##ment ##ed , g ##lau ##con ##itic sandstone ##s . in core ##d sections , they are seen to be either massive with few structures or , in more distal sections , to be ar ##gill ##aceous and strongly bio ##tur ##bate ##d with a range of burr ##ow types , including the distinctive forms [SEP] deposited in [SEP] deposits in a marine setting . [SEP]\n",
            "10/14/2020 13:37:28 - INFO - __main__ -   input_ids: 101 1996 11865 19145 2099 4195 3774 7444 2135 1997 9724 1011 4462 2000 5122 4462 1010 2986 2000 5396 8982 2098 1010 5681 21877 24200 1010 3227 12098 19791 25560 2030 26427 3401 3672 2098 1010 1043 17298 8663 18291 11694 2015 1012 1999 4563 2094 5433 1010 2027 2024 2464 2000 2022 2593 5294 2007 2261 5090 2030 1010 1999 2062 29333 5433 1010 2000 2022 12098 19791 25560 1998 6118 16012 20689 20179 2094 2007 1037 2846 1997 22715 5004 4127 1010 2164 1996 8200 3596 102 14140 1999 102 10042 1999 1037 3884 4292 1012 102\n",
            "10/14/2020 13:37:28 - INFO - __main__ -   input_mask: 1 1 1 1 1 1 1 1 1 1 1 1 1 1 1 1 1 1 1 1 1 1 1 1 1 1 1 1 1 1 1 1 1 1 1 1 1 1 1 1 1 1 1 1 1 1 1 1 1 1 1 1 1 1 1 1 1 1 1 1 1 1 1 1 1 1 1 1 1 1 1 1 1 1 1 1 1 1 1 1 1 1 1 1 1 1 1 1 1 1 1 1 1 1 1 1 1 1 1 1\n",
            "10/14/2020 13:37:28 - INFO - __main__ -   segment_ids: 0 0 0 0 0 0 0 0 0 0 0 0 0 0 0 0 0 0 0 0 0 0 0 0 0 0 0 0 0 0 0 0 0 0 0 0 0 0 0 0 0 0 0 0 0 0 0 0 0 0 0 0 0 0 0 0 0 0 0 0 0 0 0 0 0 0 0 0 0 0 0 0 0 0 0 0 0 0 0 0 0 0 0 0 0 0 0 0 0 0 1 1 1 0 0 0 0 0 0 0\n",
            "10/14/2020 13:37:28 - INFO - __main__ -   label: 1 (id = 1)\n",
            "10/14/2020 13:37:28 - INFO - __main__ -   *** Example ***\n",
            "10/14/2020 13:37:28 - INFO - __main__ -   guid: dev-4\n",
            "10/14/2020 13:37:28 - INFO - __main__ -   tokens: [CLS] the mo ##usa formation consists predominantly of poorly consolidated , var ##ia ##bly g ##lau ##con ##itic , locally shelly , fine to coarse grain ##ed sandstone . in some sections , the sandstone ##s are massive ##ly bed ##ded ( e . g . 15 / 21 - 1 ) , whereas in others they are inter ##bed ##ded with thin mud ##stones . [SEP] located in [SEP] northern region of the north sea , a sea of the atlantic ocean . [SEP]\n",
            "10/14/2020 13:37:28 - INFO - __main__ -   input_ids: 101 1996 9587 10383 4195 3774 9197 1997 9996 10495 1010 13075 2401 6321 1043 17298 8663 18291 1010 7246 28360 1010 2986 2000 20392 8982 2098 11694 1012 1999 2070 5433 1010 1996 11694 2015 2024 5294 2135 2793 5732 1006 1041 1012 1043 1012 2321 1013 2538 1011 1015 1007 1010 6168 1999 2500 2027 2024 6970 8270 5732 2007 4857 8494 29423 1012 102 2284 1999 102 2642 2555 1997 1996 2167 2712 1010 1037 2712 1997 1996 4448 4153 1012 102 0 0 0 0 0 0 0 0 0 0 0 0 0 0 0\n",
            "10/14/2020 13:37:28 - INFO - __main__ -   input_mask: 1 1 1 1 1 1 1 1 1 1 1 1 1 1 1 1 1 1 1 1 1 1 1 1 1 1 1 1 1 1 1 1 1 1 1 1 1 1 1 1 1 1 1 1 1 1 1 1 1 1 1 1 1 1 1 1 1 1 1 1 1 1 1 1 1 1 1 1 1 1 1 1 1 1 1 1 1 1 1 1 1 1 1 1 1 0 0 0 0 0 0 0 0 0 0 0 0 0 0 0\n",
            "10/14/2020 13:37:28 - INFO - __main__ -   segment_ids: 0 0 0 0 0 0 0 0 0 0 0 0 0 0 0 0 0 0 0 0 0 0 0 0 0 0 0 0 0 0 0 0 0 0 0 0 0 0 0 0 0 0 0 0 0 0 0 0 0 0 0 0 0 0 0 0 0 0 0 0 0 0 0 0 0 0 0 1 1 1 0 0 0 0 0 0 0 0 0 0 0 0 0 0 0 0 0 0 0 0 0 0 0 0 0 0 0 0 0 0\n",
            "10/14/2020 13:37:28 - INFO - __main__ -   label: 1 (id = 1)\n",
            "10/14/2020 13:37:29 - INFO - __main__ -   ***** Running evaluation checkpoint-500 *****\n",
            "10/14/2020 13:37:29 - INFO - __main__ -     Num examples = 71\n",
            "10/14/2020 13:37:29 - INFO - __main__ -     Batch size = 300\n",
            "Evaluating: 100%|██████████| 1/1 [00:00<00:00,  5.01it/s]\n",
            "10/14/2020 13:37:29 - INFO - __main__ -   ***** Eval results checkpoint-500 *****\n",
            "10/14/2020 13:37:29 - INFO - __main__ -     acc = 0.8732394366197183\n",
            "10/14/2020 13:37:29 - INFO - __main__ -     eval_loss = 0.5266785025596619\n",
            "10/14/2020 13:37:29 - INFO - __main__ -     global_step = 500\n",
            "10/14/2020 13:37:29 - INFO - __main__ -     loss = 0.17888839376613128\n",
            "10/14/2020 13:37:44 - INFO - __main__ -   Writing example 0 of 71\n",
            "10/14/2020 13:37:44 - INFO - __main__ -   *** Example ***\n",
            "10/14/2020 13:37:44 - INFO - __main__ -   guid: dev-0\n",
            "10/14/2020 13:37:44 - INFO - __main__ -   tokens: [CLS] the bun ##ter sandstone formation comprises red , orange , occasionally white or colour ##less , sandstone ##s , inter ##bed ##ded with red , grey , rarely green , occasionally do ##lom ##itic , mud ##stone and si ##lty or sandy mud ##stone . the sandstone varies [SEP] type [SEP] lit ##hos ##tra ##ti ##graphy is a sub - discipline of st ##rat ##igraphy , the geological science associated with the study of strata or rock layers . major focuses include geo ##ch ##ron ##ology , comparative geology , and petrol ##ogy . in general a st [SEP]\n",
            "10/14/2020 13:37:44 - INFO - __main__ -   input_ids: 101 1996 21122 3334 11694 4195 8681 2417 1010 4589 1010 5681 2317 2030 6120 3238 1010 11694 2015 1010 6970 8270 5732 2007 2417 1010 4462 1010 6524 2665 1010 5681 2079 21297 18291 1010 8494 9221 1998 9033 24228 2030 7525 8494 9221 1012 1996 11694 9783 102 2828 102 5507 15006 6494 3775 12565 2003 1037 4942 1011 9009 1997 2358 8609 23132 1010 1996 9843 2671 3378 2007 1996 2817 1997 22913 2030 2600 9014 1012 2350 7679 2421 20248 2818 4948 6779 1010 12596 13404 1010 1998 17141 15707 1012 1999 2236 1037 2358 102\n",
            "10/14/2020 13:37:44 - INFO - __main__ -   input_mask: 1 1 1 1 1 1 1 1 1 1 1 1 1 1 1 1 1 1 1 1 1 1 1 1 1 1 1 1 1 1 1 1 1 1 1 1 1 1 1 1 1 1 1 1 1 1 1 1 1 1 1 1 1 1 1 1 1 1 1 1 1 1 1 1 1 1 1 1 1 1 1 1 1 1 1 1 1 1 1 1 1 1 1 1 1 1 1 1 1 1 1 1 1 1 1 1 1 1 1 1\n",
            "10/14/2020 13:37:44 - INFO - __main__ -   segment_ids: 0 0 0 0 0 0 0 0 0 0 0 0 0 0 0 0 0 0 0 0 0 0 0 0 0 0 0 0 0 0 0 0 0 0 0 0 0 0 0 0 0 0 0 0 0 0 0 0 0 0 1 1 0 0 0 0 0 0 0 0 0 0 0 0 0 0 0 0 0 0 0 0 0 0 0 0 0 0 0 0 0 0 0 0 0 0 0 0 0 0 0 0 0 0 0 0 0 0 0 0\n",
            "10/14/2020 13:37:44 - INFO - __main__ -   label: 1 (id = 1)\n",
            "10/14/2020 13:37:44 - INFO - __main__ -   *** Example ***\n",
            "10/14/2020 13:37:44 - INFO - __main__ -   guid: dev-1\n",
            "10/14/2020 13:37:44 - INFO - __main__ -   tokens: [CLS] the mills ##tone grit formation is composed of variable proportions of grey , white and brown sandstone , and grey or dark grey , partly carbon ##aceous mud ##stone and si ##lts ##tone . some sections additionally contain rare thin coal seam ##s and seat ##ear ##ths . [SEP] type [SEP] lit ##hos ##tra ##ti ##graphy is a sub - discipline of st ##rat ##igraphy , the geological science associated with the study of strata or rock layers . major focuses include geo ##ch ##ron ##ology , comparative geology , and petrol ##ogy . in general a st [SEP]\n",
            "10/14/2020 13:37:44 - INFO - __main__ -   input_ids: 101 1996 6341 5524 24842 4195 2003 3605 1997 8023 19173 1997 4462 1010 2317 1998 2829 11694 1010 1998 4462 2030 2601 4462 1010 6576 6351 25560 8494 9221 1998 9033 21593 5524 1012 2070 5433 5678 5383 4678 4857 5317 25180 2015 1998 2835 14644 26830 1012 102 2828 102 5507 15006 6494 3775 12565 2003 1037 4942 1011 9009 1997 2358 8609 23132 1010 1996 9843 2671 3378 2007 1996 2817 1997 22913 2030 2600 9014 1012 2350 7679 2421 20248 2818 4948 6779 1010 12596 13404 1010 1998 17141 15707 1012 1999 2236 1037 2358 102\n",
            "10/14/2020 13:37:44 - INFO - __main__ -   input_mask: 1 1 1 1 1 1 1 1 1 1 1 1 1 1 1 1 1 1 1 1 1 1 1 1 1 1 1 1 1 1 1 1 1 1 1 1 1 1 1 1 1 1 1 1 1 1 1 1 1 1 1 1 1 1 1 1 1 1 1 1 1 1 1 1 1 1 1 1 1 1 1 1 1 1 1 1 1 1 1 1 1 1 1 1 1 1 1 1 1 1 1 1 1 1 1 1 1 1 1 1\n",
            "10/14/2020 13:37:44 - INFO - __main__ -   segment_ids: 0 0 0 0 0 0 0 0 0 0 0 0 0 0 0 0 0 0 0 0 0 0 0 0 0 0 0 0 0 0 0 0 0 0 0 0 0 0 0 0 0 0 0 0 0 0 0 0 0 0 1 1 0 0 0 0 0 0 0 0 0 0 0 0 0 0 0 0 0 0 0 0 0 0 0 0 0 0 0 0 0 0 0 0 0 0 0 0 0 0 0 0 0 0 0 0 0 0 0 0\n",
            "10/14/2020 13:37:44 - INFO - __main__ -   label: 1 (id = 1)\n",
            "10/14/2020 13:37:44 - INFO - __main__ -   *** Example ***\n",
            "10/14/2020 13:37:44 - INFO - __main__ -   guid: dev-2\n",
            "10/14/2020 13:37:44 - INFO - __main__ -   tokens: [CLS] the herring formation consists of hard to very hard , dense , crypt ##oc ##rys ##tal ##line limestone with inter ##bed ##ded ar ##gill ##aceous chalk ##y limestone and mud ##stone . traces of p ##yr ##ite , g ##lau ##con ##ite and cher ##t have been [SEP] constituted by [SEP] mud ##stone , a type of mud ##rock , is a fine - grain ##ed sedimentary rock whose original constituents were clay ##s or mud ##s . mud ##stone is distinguished from shale by its lack of fis ##sil ##ity ( parallel layer ##ing ) . the [SEP]\n",
            "10/14/2020 13:37:44 - INFO - __main__ -   input_ids: 101 1996 22103 4195 3774 1997 2524 2000 2200 2524 1010 9742 1010 19888 10085 24769 9080 4179 9771 2007 6970 8270 5732 12098 19791 25560 16833 2100 9771 1998 8494 9221 1012 10279 1997 1052 12541 4221 1010 1043 17298 8663 4221 1998 24188 2102 2031 2042 102 11846 2011 102 8494 9221 1010 1037 2828 1997 8494 16901 1010 2003 1037 2986 1011 8982 2098 25503 2600 3005 2434 24355 2020 5726 2015 2030 8494 2015 1012 8494 9221 2003 5182 2013 18488 2011 2049 3768 1997 27424 27572 3012 1006 5903 6741 2075 1007 1012 1996 102\n",
            "10/14/2020 13:37:44 - INFO - __main__ -   input_mask: 1 1 1 1 1 1 1 1 1 1 1 1 1 1 1 1 1 1 1 1 1 1 1 1 1 1 1 1 1 1 1 1 1 1 1 1 1 1 1 1 1 1 1 1 1 1 1 1 1 1 1 1 1 1 1 1 1 1 1 1 1 1 1 1 1 1 1 1 1 1 1 1 1 1 1 1 1 1 1 1 1 1 1 1 1 1 1 1 1 1 1 1 1 1 1 1 1 1 1 1\n",
            "10/14/2020 13:37:44 - INFO - __main__ -   segment_ids: 0 0 0 0 0 0 0 0 0 0 0 0 0 0 0 0 0 0 0 0 0 0 0 0 0 0 0 0 0 0 0 0 0 0 0 0 0 0 0 0 0 0 0 0 0 0 0 0 0 1 1 1 0 0 0 0 0 0 0 0 0 0 0 0 0 0 0 0 0 0 0 0 0 0 0 0 0 0 0 0 0 0 0 0 0 0 0 0 0 0 0 0 0 0 0 0 0 0 0 0\n",
            "10/14/2020 13:37:44 - INFO - __main__ -   label: 1 (id = 1)\n",
            "10/14/2020 13:37:44 - INFO - __main__ -   *** Example ***\n",
            "10/14/2020 13:37:44 - INFO - __main__ -   guid: dev-3\n",
            "10/14/2020 13:37:44 - INFO - __main__ -   tokens: [CLS] the fu ##lma ##r formation consists dominant ##ly of olive - grey to pale grey , fine to medium grain ##ed , occasionally pe ##bbly , generally ar ##gill ##aceous or carbonate ##ce ##ment ##ed , g ##lau ##con ##itic sandstone ##s . in core ##d sections , they are seen to be either massive with few structures or , in more distal sections , to be ar ##gill ##aceous and strongly bio ##tur ##bate ##d with a range of burr ##ow types , including the distinctive forms [SEP] deposited in [SEP] deposits in a marine setting . [SEP]\n",
            "10/14/2020 13:37:44 - INFO - __main__ -   input_ids: 101 1996 11865 19145 2099 4195 3774 7444 2135 1997 9724 1011 4462 2000 5122 4462 1010 2986 2000 5396 8982 2098 1010 5681 21877 24200 1010 3227 12098 19791 25560 2030 26427 3401 3672 2098 1010 1043 17298 8663 18291 11694 2015 1012 1999 4563 2094 5433 1010 2027 2024 2464 2000 2022 2593 5294 2007 2261 5090 2030 1010 1999 2062 29333 5433 1010 2000 2022 12098 19791 25560 1998 6118 16012 20689 20179 2094 2007 1037 2846 1997 22715 5004 4127 1010 2164 1996 8200 3596 102 14140 1999 102 10042 1999 1037 3884 4292 1012 102\n",
            "10/14/2020 13:37:44 - INFO - __main__ -   input_mask: 1 1 1 1 1 1 1 1 1 1 1 1 1 1 1 1 1 1 1 1 1 1 1 1 1 1 1 1 1 1 1 1 1 1 1 1 1 1 1 1 1 1 1 1 1 1 1 1 1 1 1 1 1 1 1 1 1 1 1 1 1 1 1 1 1 1 1 1 1 1 1 1 1 1 1 1 1 1 1 1 1 1 1 1 1 1 1 1 1 1 1 1 1 1 1 1 1 1 1 1\n",
            "10/14/2020 13:37:44 - INFO - __main__ -   segment_ids: 0 0 0 0 0 0 0 0 0 0 0 0 0 0 0 0 0 0 0 0 0 0 0 0 0 0 0 0 0 0 0 0 0 0 0 0 0 0 0 0 0 0 0 0 0 0 0 0 0 0 0 0 0 0 0 0 0 0 0 0 0 0 0 0 0 0 0 0 0 0 0 0 0 0 0 0 0 0 0 0 0 0 0 0 0 0 0 0 0 0 1 1 1 0 0 0 0 0 0 0\n",
            "10/14/2020 13:37:44 - INFO - __main__ -   label: 1 (id = 1)\n",
            "10/14/2020 13:37:44 - INFO - __main__ -   *** Example ***\n",
            "10/14/2020 13:37:44 - INFO - __main__ -   guid: dev-4\n",
            "10/14/2020 13:37:44 - INFO - __main__ -   tokens: [CLS] the mo ##usa formation consists predominantly of poorly consolidated , var ##ia ##bly g ##lau ##con ##itic , locally shelly , fine to coarse grain ##ed sandstone . in some sections , the sandstone ##s are massive ##ly bed ##ded ( e . g . 15 / 21 - 1 ) , whereas in others they are inter ##bed ##ded with thin mud ##stones . [SEP] located in [SEP] northern region of the north sea , a sea of the atlantic ocean . [SEP]\n",
            "10/14/2020 13:37:44 - INFO - __main__ -   input_ids: 101 1996 9587 10383 4195 3774 9197 1997 9996 10495 1010 13075 2401 6321 1043 17298 8663 18291 1010 7246 28360 1010 2986 2000 20392 8982 2098 11694 1012 1999 2070 5433 1010 1996 11694 2015 2024 5294 2135 2793 5732 1006 1041 1012 1043 1012 2321 1013 2538 1011 1015 1007 1010 6168 1999 2500 2027 2024 6970 8270 5732 2007 4857 8494 29423 1012 102 2284 1999 102 2642 2555 1997 1996 2167 2712 1010 1037 2712 1997 1996 4448 4153 1012 102 0 0 0 0 0 0 0 0 0 0 0 0 0 0 0\n",
            "10/14/2020 13:37:44 - INFO - __main__ -   input_mask: 1 1 1 1 1 1 1 1 1 1 1 1 1 1 1 1 1 1 1 1 1 1 1 1 1 1 1 1 1 1 1 1 1 1 1 1 1 1 1 1 1 1 1 1 1 1 1 1 1 1 1 1 1 1 1 1 1 1 1 1 1 1 1 1 1 1 1 1 1 1 1 1 1 1 1 1 1 1 1 1 1 1 1 1 1 0 0 0 0 0 0 0 0 0 0 0 0 0 0 0\n",
            "10/14/2020 13:37:44 - INFO - __main__ -   segment_ids: 0 0 0 0 0 0 0 0 0 0 0 0 0 0 0 0 0 0 0 0 0 0 0 0 0 0 0 0 0 0 0 0 0 0 0 0 0 0 0 0 0 0 0 0 0 0 0 0 0 0 0 0 0 0 0 0 0 0 0 0 0 0 0 0 0 0 0 1 1 1 0 0 0 0 0 0 0 0 0 0 0 0 0 0 0 0 0 0 0 0 0 0 0 0 0 0 0 0 0 0\n",
            "10/14/2020 13:37:44 - INFO - __main__ -   label: 1 (id = 1)\n",
            "10/14/2020 13:37:44 - INFO - __main__ -   ***** Running evaluation checkpoint-600 *****\n",
            "10/14/2020 13:37:44 - INFO - __main__ -     Num examples = 71\n",
            "10/14/2020 13:37:44 - INFO - __main__ -     Batch size = 300\n",
            "Evaluating: 100%|██████████| 1/1 [00:00<00:00,  4.46it/s]\n",
            "10/14/2020 13:37:45 - INFO - __main__ -   ***** Eval results checkpoint-600 *****\n",
            "10/14/2020 13:37:45 - INFO - __main__ -     acc = 0.9014084507042254\n",
            "10/14/2020 13:37:45 - INFO - __main__ -     eval_loss = 0.5315102338790894\n",
            "10/14/2020 13:37:45 - INFO - __main__ -     global_step = 600\n",
            "10/14/2020 13:37:45 - INFO - __main__ -     loss = 0.17888839376613128\n",
            "10/14/2020 13:37:48 - INFO - __main__ -   Writing example 0 of 71\n",
            "10/14/2020 13:37:48 - INFO - __main__ -   *** Example ***\n",
            "10/14/2020 13:37:48 - INFO - __main__ -   guid: dev-0\n",
            "10/14/2020 13:37:48 - INFO - __main__ -   tokens: [CLS] the bun ##ter sandstone formation comprises red , orange , occasionally white or colour ##less , sandstone ##s , inter ##bed ##ded with red , grey , rarely green , occasionally do ##lom ##itic , mud ##stone and si ##lty or sandy mud ##stone . the sandstone varies [SEP] type [SEP] lit ##hos ##tra ##ti ##graphy is a sub - discipline of st ##rat ##igraphy , the geological science associated with the study of strata or rock layers . major focuses include geo ##ch ##ron ##ology , comparative geology , and petrol ##ogy . in general a st [SEP]\n",
            "10/14/2020 13:37:48 - INFO - __main__ -   input_ids: 101 1996 21122 3334 11694 4195 8681 2417 1010 4589 1010 5681 2317 2030 6120 3238 1010 11694 2015 1010 6970 8270 5732 2007 2417 1010 4462 1010 6524 2665 1010 5681 2079 21297 18291 1010 8494 9221 1998 9033 24228 2030 7525 8494 9221 1012 1996 11694 9783 102 2828 102 5507 15006 6494 3775 12565 2003 1037 4942 1011 9009 1997 2358 8609 23132 1010 1996 9843 2671 3378 2007 1996 2817 1997 22913 2030 2600 9014 1012 2350 7679 2421 20248 2818 4948 6779 1010 12596 13404 1010 1998 17141 15707 1012 1999 2236 1037 2358 102\n",
            "10/14/2020 13:37:48 - INFO - __main__ -   input_mask: 1 1 1 1 1 1 1 1 1 1 1 1 1 1 1 1 1 1 1 1 1 1 1 1 1 1 1 1 1 1 1 1 1 1 1 1 1 1 1 1 1 1 1 1 1 1 1 1 1 1 1 1 1 1 1 1 1 1 1 1 1 1 1 1 1 1 1 1 1 1 1 1 1 1 1 1 1 1 1 1 1 1 1 1 1 1 1 1 1 1 1 1 1 1 1 1 1 1 1 1\n",
            "10/14/2020 13:37:48 - INFO - __main__ -   segment_ids: 0 0 0 0 0 0 0 0 0 0 0 0 0 0 0 0 0 0 0 0 0 0 0 0 0 0 0 0 0 0 0 0 0 0 0 0 0 0 0 0 0 0 0 0 0 0 0 0 0 0 1 1 0 0 0 0 0 0 0 0 0 0 0 0 0 0 0 0 0 0 0 0 0 0 0 0 0 0 0 0 0 0 0 0 0 0 0 0 0 0 0 0 0 0 0 0 0 0 0 0\n",
            "10/14/2020 13:37:48 - INFO - __main__ -   label: 1 (id = 1)\n",
            "10/14/2020 13:37:48 - INFO - __main__ -   *** Example ***\n",
            "10/14/2020 13:37:48 - INFO - __main__ -   guid: dev-1\n",
            "10/14/2020 13:37:48 - INFO - __main__ -   tokens: [CLS] the mills ##tone grit formation is composed of variable proportions of grey , white and brown sandstone , and grey or dark grey , partly carbon ##aceous mud ##stone and si ##lts ##tone . some sections additionally contain rare thin coal seam ##s and seat ##ear ##ths . [SEP] type [SEP] lit ##hos ##tra ##ti ##graphy is a sub - discipline of st ##rat ##igraphy , the geological science associated with the study of strata or rock layers . major focuses include geo ##ch ##ron ##ology , comparative geology , and petrol ##ogy . in general a st [SEP]\n",
            "10/14/2020 13:37:48 - INFO - __main__ -   input_ids: 101 1996 6341 5524 24842 4195 2003 3605 1997 8023 19173 1997 4462 1010 2317 1998 2829 11694 1010 1998 4462 2030 2601 4462 1010 6576 6351 25560 8494 9221 1998 9033 21593 5524 1012 2070 5433 5678 5383 4678 4857 5317 25180 2015 1998 2835 14644 26830 1012 102 2828 102 5507 15006 6494 3775 12565 2003 1037 4942 1011 9009 1997 2358 8609 23132 1010 1996 9843 2671 3378 2007 1996 2817 1997 22913 2030 2600 9014 1012 2350 7679 2421 20248 2818 4948 6779 1010 12596 13404 1010 1998 17141 15707 1012 1999 2236 1037 2358 102\n",
            "10/14/2020 13:37:48 - INFO - __main__ -   input_mask: 1 1 1 1 1 1 1 1 1 1 1 1 1 1 1 1 1 1 1 1 1 1 1 1 1 1 1 1 1 1 1 1 1 1 1 1 1 1 1 1 1 1 1 1 1 1 1 1 1 1 1 1 1 1 1 1 1 1 1 1 1 1 1 1 1 1 1 1 1 1 1 1 1 1 1 1 1 1 1 1 1 1 1 1 1 1 1 1 1 1 1 1 1 1 1 1 1 1 1 1\n",
            "10/14/2020 13:37:48 - INFO - __main__ -   segment_ids: 0 0 0 0 0 0 0 0 0 0 0 0 0 0 0 0 0 0 0 0 0 0 0 0 0 0 0 0 0 0 0 0 0 0 0 0 0 0 0 0 0 0 0 0 0 0 0 0 0 0 1 1 0 0 0 0 0 0 0 0 0 0 0 0 0 0 0 0 0 0 0 0 0 0 0 0 0 0 0 0 0 0 0 0 0 0 0 0 0 0 0 0 0 0 0 0 0 0 0 0\n",
            "10/14/2020 13:37:48 - INFO - __main__ -   label: 1 (id = 1)\n",
            "10/14/2020 13:37:49 - INFO - __main__ -   *** Example ***\n",
            "10/14/2020 13:37:49 - INFO - __main__ -   guid: dev-2\n",
            "10/14/2020 13:37:49 - INFO - __main__ -   tokens: [CLS] the herring formation consists of hard to very hard , dense , crypt ##oc ##rys ##tal ##line limestone with inter ##bed ##ded ar ##gill ##aceous chalk ##y limestone and mud ##stone . traces of p ##yr ##ite , g ##lau ##con ##ite and cher ##t have been [SEP] constituted by [SEP] mud ##stone , a type of mud ##rock , is a fine - grain ##ed sedimentary rock whose original constituents were clay ##s or mud ##s . mud ##stone is distinguished from shale by its lack of fis ##sil ##ity ( parallel layer ##ing ) . the [SEP]\n",
            "10/14/2020 13:37:49 - INFO - __main__ -   input_ids: 101 1996 22103 4195 3774 1997 2524 2000 2200 2524 1010 9742 1010 19888 10085 24769 9080 4179 9771 2007 6970 8270 5732 12098 19791 25560 16833 2100 9771 1998 8494 9221 1012 10279 1997 1052 12541 4221 1010 1043 17298 8663 4221 1998 24188 2102 2031 2042 102 11846 2011 102 8494 9221 1010 1037 2828 1997 8494 16901 1010 2003 1037 2986 1011 8982 2098 25503 2600 3005 2434 24355 2020 5726 2015 2030 8494 2015 1012 8494 9221 2003 5182 2013 18488 2011 2049 3768 1997 27424 27572 3012 1006 5903 6741 2075 1007 1012 1996 102\n",
            "10/14/2020 13:37:49 - INFO - __main__ -   input_mask: 1 1 1 1 1 1 1 1 1 1 1 1 1 1 1 1 1 1 1 1 1 1 1 1 1 1 1 1 1 1 1 1 1 1 1 1 1 1 1 1 1 1 1 1 1 1 1 1 1 1 1 1 1 1 1 1 1 1 1 1 1 1 1 1 1 1 1 1 1 1 1 1 1 1 1 1 1 1 1 1 1 1 1 1 1 1 1 1 1 1 1 1 1 1 1 1 1 1 1 1\n",
            "10/14/2020 13:37:49 - INFO - __main__ -   segment_ids: 0 0 0 0 0 0 0 0 0 0 0 0 0 0 0 0 0 0 0 0 0 0 0 0 0 0 0 0 0 0 0 0 0 0 0 0 0 0 0 0 0 0 0 0 0 0 0 0 0 1 1 1 0 0 0 0 0 0 0 0 0 0 0 0 0 0 0 0 0 0 0 0 0 0 0 0 0 0 0 0 0 0 0 0 0 0 0 0 0 0 0 0 0 0 0 0 0 0 0 0\n",
            "10/14/2020 13:37:49 - INFO - __main__ -   label: 1 (id = 1)\n",
            "10/14/2020 13:37:49 - INFO - __main__ -   *** Example ***\n",
            "10/14/2020 13:37:49 - INFO - __main__ -   guid: dev-3\n",
            "10/14/2020 13:37:49 - INFO - __main__ -   tokens: [CLS] the fu ##lma ##r formation consists dominant ##ly of olive - grey to pale grey , fine to medium grain ##ed , occasionally pe ##bbly , generally ar ##gill ##aceous or carbonate ##ce ##ment ##ed , g ##lau ##con ##itic sandstone ##s . in core ##d sections , they are seen to be either massive with few structures or , in more distal sections , to be ar ##gill ##aceous and strongly bio ##tur ##bate ##d with a range of burr ##ow types , including the distinctive forms [SEP] deposited in [SEP] deposits in a marine setting . [SEP]\n",
            "10/14/2020 13:37:49 - INFO - __main__ -   input_ids: 101 1996 11865 19145 2099 4195 3774 7444 2135 1997 9724 1011 4462 2000 5122 4462 1010 2986 2000 5396 8982 2098 1010 5681 21877 24200 1010 3227 12098 19791 25560 2030 26427 3401 3672 2098 1010 1043 17298 8663 18291 11694 2015 1012 1999 4563 2094 5433 1010 2027 2024 2464 2000 2022 2593 5294 2007 2261 5090 2030 1010 1999 2062 29333 5433 1010 2000 2022 12098 19791 25560 1998 6118 16012 20689 20179 2094 2007 1037 2846 1997 22715 5004 4127 1010 2164 1996 8200 3596 102 14140 1999 102 10042 1999 1037 3884 4292 1012 102\n",
            "10/14/2020 13:37:49 - INFO - __main__ -   input_mask: 1 1 1 1 1 1 1 1 1 1 1 1 1 1 1 1 1 1 1 1 1 1 1 1 1 1 1 1 1 1 1 1 1 1 1 1 1 1 1 1 1 1 1 1 1 1 1 1 1 1 1 1 1 1 1 1 1 1 1 1 1 1 1 1 1 1 1 1 1 1 1 1 1 1 1 1 1 1 1 1 1 1 1 1 1 1 1 1 1 1 1 1 1 1 1 1 1 1 1 1\n",
            "10/14/2020 13:37:49 - INFO - __main__ -   segment_ids: 0 0 0 0 0 0 0 0 0 0 0 0 0 0 0 0 0 0 0 0 0 0 0 0 0 0 0 0 0 0 0 0 0 0 0 0 0 0 0 0 0 0 0 0 0 0 0 0 0 0 0 0 0 0 0 0 0 0 0 0 0 0 0 0 0 0 0 0 0 0 0 0 0 0 0 0 0 0 0 0 0 0 0 0 0 0 0 0 0 0 1 1 1 0 0 0 0 0 0 0\n",
            "10/14/2020 13:37:49 - INFO - __main__ -   label: 1 (id = 1)\n",
            "10/14/2020 13:37:49 - INFO - __main__ -   *** Example ***\n",
            "10/14/2020 13:37:49 - INFO - __main__ -   guid: dev-4\n",
            "10/14/2020 13:37:49 - INFO - __main__ -   tokens: [CLS] the mo ##usa formation consists predominantly of poorly consolidated , var ##ia ##bly g ##lau ##con ##itic , locally shelly , fine to coarse grain ##ed sandstone . in some sections , the sandstone ##s are massive ##ly bed ##ded ( e . g . 15 / 21 - 1 ) , whereas in others they are inter ##bed ##ded with thin mud ##stones . [SEP] located in [SEP] northern region of the north sea , a sea of the atlantic ocean . [SEP]\n",
            "10/14/2020 13:37:49 - INFO - __main__ -   input_ids: 101 1996 9587 10383 4195 3774 9197 1997 9996 10495 1010 13075 2401 6321 1043 17298 8663 18291 1010 7246 28360 1010 2986 2000 20392 8982 2098 11694 1012 1999 2070 5433 1010 1996 11694 2015 2024 5294 2135 2793 5732 1006 1041 1012 1043 1012 2321 1013 2538 1011 1015 1007 1010 6168 1999 2500 2027 2024 6970 8270 5732 2007 4857 8494 29423 1012 102 2284 1999 102 2642 2555 1997 1996 2167 2712 1010 1037 2712 1997 1996 4448 4153 1012 102 0 0 0 0 0 0 0 0 0 0 0 0 0 0 0\n",
            "10/14/2020 13:37:49 - INFO - __main__ -   input_mask: 1 1 1 1 1 1 1 1 1 1 1 1 1 1 1 1 1 1 1 1 1 1 1 1 1 1 1 1 1 1 1 1 1 1 1 1 1 1 1 1 1 1 1 1 1 1 1 1 1 1 1 1 1 1 1 1 1 1 1 1 1 1 1 1 1 1 1 1 1 1 1 1 1 1 1 1 1 1 1 1 1 1 1 1 1 0 0 0 0 0 0 0 0 0 0 0 0 0 0 0\n",
            "10/14/2020 13:37:49 - INFO - __main__ -   segment_ids: 0 0 0 0 0 0 0 0 0 0 0 0 0 0 0 0 0 0 0 0 0 0 0 0 0 0 0 0 0 0 0 0 0 0 0 0 0 0 0 0 0 0 0 0 0 0 0 0 0 0 0 0 0 0 0 0 0 0 0 0 0 0 0 0 0 0 0 1 1 1 0 0 0 0 0 0 0 0 0 0 0 0 0 0 0 0 0 0 0 0 0 0 0 0 0 0 0 0 0 0\n",
            "10/14/2020 13:37:49 - INFO - __main__ -   label: 1 (id = 1)\n",
            "10/14/2020 13:37:49 - INFO - __main__ -   ***** Running evaluation  *****\n",
            "10/14/2020 13:37:49 - INFO - __main__ -     Num examples = 71\n",
            "10/14/2020 13:37:49 - INFO - __main__ -     Batch size = 300\n",
            "Evaluating: 100%|██████████| 1/1 [00:00<00:00,  4.98it/s]\n",
            "10/14/2020 13:37:49 - INFO - __main__ -   ***** Eval results  *****\n",
            "10/14/2020 13:37:49 - INFO - __main__ -     acc = 0.9014084507042254\n",
            "10/14/2020 13:37:49 - INFO - __main__ -     eval_loss = 0.5315102338790894\n",
            "10/14/2020 13:37:49 - INFO - __main__ -     global_step = 14 13:31:57.307212\n",
            "10/14/2020 13:37:49 - INFO - __main__ -     loss = 0.17888839376613128\n",
            "10/14/2020 13:37:49 - INFO - __main__ -   Writing example 0 of 179\n",
            "10/14/2020 13:37:49 - INFO - __main__ -   *** Example ***\n",
            "10/14/2020 13:37:49 - INFO - __main__ -   guid: test-0\n",
            "10/14/2020 13:37:49 - INFO - __main__ -   tokens: [CLS] the lark formation consists of a mono ##ton ##ous succession of brown - grey to grey - brown mud ##stone , si ##lty in part , and locally grading upwards into sandstone ##s of the ska ##de formation . thin sandstone ##s of presumed shelf origin occur near [SEP] type [SEP] lit ##hos ##tra ##ti ##graphy is a sub - discipline of st ##rat ##igraphy , the geological science associated with the study of strata or rock layers . major focuses include geo ##ch ##ron ##ology , comparative geology , and petrol ##ogy . in general a st [SEP]\n",
            "10/14/2020 13:37:49 - INFO - __main__ -   input_ids: 101 1996 23404 4195 3774 1997 1037 18847 2669 3560 8338 1997 2829 1011 4462 2000 4462 1011 2829 8494 9221 1010 9033 24228 1999 2112 1010 1998 7246 26886 14873 2046 11694 2015 1997 1996 24053 3207 4195 1012 4857 11694 2015 1997 14609 11142 4761 5258 2379 102 2828 102 5507 15006 6494 3775 12565 2003 1037 4942 1011 9009 1997 2358 8609 23132 1010 1996 9843 2671 3378 2007 1996 2817 1997 22913 2030 2600 9014 1012 2350 7679 2421 20248 2818 4948 6779 1010 12596 13404 1010 1998 17141 15707 1012 1999 2236 1037 2358 102\n",
            "10/14/2020 13:37:49 - INFO - __main__ -   input_mask: 1 1 1 1 1 1 1 1 1 1 1 1 1 1 1 1 1 1 1 1 1 1 1 1 1 1 1 1 1 1 1 1 1 1 1 1 1 1 1 1 1 1 1 1 1 1 1 1 1 1 1 1 1 1 1 1 1 1 1 1 1 1 1 1 1 1 1 1 1 1 1 1 1 1 1 1 1 1 1 1 1 1 1 1 1 1 1 1 1 1 1 1 1 1 1 1 1 1 1 1\n",
            "10/14/2020 13:37:49 - INFO - __main__ -   segment_ids: 0 0 0 0 0 0 0 0 0 0 0 0 0 0 0 0 0 0 0 0 0 0 0 0 0 0 0 0 0 0 0 0 0 0 0 0 0 0 0 0 0 0 0 0 0 0 0 0 0 0 1 1 0 0 0 0 0 0 0 0 0 0 0 0 0 0 0 0 0 0 0 0 0 0 0 0 0 0 0 0 0 0 0 0 0 0 0 0 0 0 0 0 0 0 0 0 0 0 0 0\n",
            "10/14/2020 13:37:49 - INFO - __main__ -   label: 1 (id = 1)\n",
            "10/14/2020 13:37:49 - INFO - __main__ -   *** Example ***\n",
            "10/14/2020 13:37:49 - INFO - __main__ -   guid: test-1\n",
            "10/14/2020 13:37:49 - INFO - __main__ -   tokens: [CLS] the peg ##mat ##itan ##hy ##dr ##it formation consists of distinctive , white to grey , occasionally pale orange an ##hy ##dr ##ite that is var ##ia ##bly soft , firm or hard , amor ##ph ##ous or crystalline ( su ##cr ##osi ##c ) to micro ##cr [SEP] type [SEP] lit ##hos ##tra ##ti ##graphy is a sub - discipline of st ##rat ##igraphy , the geological science associated with the study of strata or rock layers . major focuses include geo ##ch ##ron ##ology , comparative geology , and petrol ##ogy . in general a st [SEP]\n",
            "10/14/2020 13:37:49 - INFO - __main__ -   input_ids: 101 1996 25039 18900 25451 10536 13626 4183 4195 3774 1997 8200 1010 2317 2000 4462 1010 5681 5122 4589 2019 10536 13626 4221 2008 2003 13075 2401 6321 3730 1010 3813 2030 2524 1010 16095 8458 3560 2030 24628 1006 10514 26775 20049 2278 1007 2000 12702 26775 102 2828 102 5507 15006 6494 3775 12565 2003 1037 4942 1011 9009 1997 2358 8609 23132 1010 1996 9843 2671 3378 2007 1996 2817 1997 22913 2030 2600 9014 1012 2350 7679 2421 20248 2818 4948 6779 1010 12596 13404 1010 1998 17141 15707 1012 1999 2236 1037 2358 102\n",
            "10/14/2020 13:37:49 - INFO - __main__ -   input_mask: 1 1 1 1 1 1 1 1 1 1 1 1 1 1 1 1 1 1 1 1 1 1 1 1 1 1 1 1 1 1 1 1 1 1 1 1 1 1 1 1 1 1 1 1 1 1 1 1 1 1 1 1 1 1 1 1 1 1 1 1 1 1 1 1 1 1 1 1 1 1 1 1 1 1 1 1 1 1 1 1 1 1 1 1 1 1 1 1 1 1 1 1 1 1 1 1 1 1 1 1\n",
            "10/14/2020 13:37:49 - INFO - __main__ -   segment_ids: 0 0 0 0 0 0 0 0 0 0 0 0 0 0 0 0 0 0 0 0 0 0 0 0 0 0 0 0 0 0 0 0 0 0 0 0 0 0 0 0 0 0 0 0 0 0 0 0 0 0 1 1 0 0 0 0 0 0 0 0 0 0 0 0 0 0 0 0 0 0 0 0 0 0 0 0 0 0 0 0 0 0 0 0 0 0 0 0 0 0 0 0 0 0 0 0 0 0 0 0\n",
            "10/14/2020 13:37:49 - INFO - __main__ -   label: 1 (id = 1)\n",
            "10/14/2020 13:37:49 - INFO - __main__ -   *** Example ***\n",
            "10/14/2020 13:37:49 - INFO - __main__ -   guid: test-2\n",
            "10/14/2020 13:37:49 - INFO - __main__ -   tokens: [CLS] the britannia sandstone formation consists of sandstone ##s with inter ##bed ##ded mud ##stones . the sandstone ##s are pale grey or tan coloured and mainly fine to medium , but locally coarse grain ##ed . they vary from hard to fr ##iable , with a patch ##y cal ##care ##ous cement . reworked jurassic and barre ##mian micro ##fl ##ora are common . the inter ##bed ##ded mud ##stones are typical of the val ##hall and carr ##ack formations . [SEP] deposited in [SEP] deposits in a marine setting . [SEP]\n",
            "10/14/2020 13:37:49 - INFO - __main__ -   input_ids: 101 1996 24677 11694 4195 3774 1997 11694 2015 2007 6970 8270 5732 8494 29423 1012 1996 11694 2015 2024 5122 4462 2030 9092 11401 1998 3701 2986 2000 5396 1010 2021 7246 20392 8982 2098 1012 2027 8137 2013 2524 2000 10424 19210 1010 2007 1037 8983 2100 10250 16302 3560 11297 1012 27575 19996 1998 23189 20924 12702 10258 6525 2024 2691 1012 1996 6970 8270 5732 8494 29423 2024 5171 1997 1996 11748 9892 1998 12385 8684 13197 1012 102 14140 1999 102 10042 1999 1037 3884 4292 1012 102 0 0 0 0 0 0 0\n",
            "10/14/2020 13:37:49 - INFO - __main__ -   input_mask: 1 1 1 1 1 1 1 1 1 1 1 1 1 1 1 1 1 1 1 1 1 1 1 1 1 1 1 1 1 1 1 1 1 1 1 1 1 1 1 1 1 1 1 1 1 1 1 1 1 1 1 1 1 1 1 1 1 1 1 1 1 1 1 1 1 1 1 1 1 1 1 1 1 1 1 1 1 1 1 1 1 1 1 1 1 1 1 1 1 1 1 1 1 0 0 0 0 0 0 0\n",
            "10/14/2020 13:37:49 - INFO - __main__ -   segment_ids: 0 0 0 0 0 0 0 0 0 0 0 0 0 0 0 0 0 0 0 0 0 0 0 0 0 0 0 0 0 0 0 0 0 0 0 0 0 0 0 0 0 0 0 0 0 0 0 0 0 0 0 0 0 0 0 0 0 0 0 0 0 0 0 0 0 0 0 0 0 0 0 0 0 0 0 0 0 0 0 0 0 0 0 1 1 1 0 0 0 0 0 0 0 0 0 0 0 0 0 0\n",
            "10/14/2020 13:37:49 - INFO - __main__ -   label: 1 (id = 1)\n",
            "10/14/2020 13:37:49 - INFO - __main__ -   *** Example ***\n",
            "10/14/2020 13:37:49 - INFO - __main__ -   guid: test-3\n",
            "10/14/2020 13:37:49 - INFO - __main__ -   tokens: [CLS] in marginal , shelf sections , the basal ##an ##hy ##dr ##it formation typically consists of white to pale grey , amor ##ph ##ous , micro ##cr ##yst ##all ##ine an ##hy ##dr ##ite and ar ##gill ##aceous an ##hy ##dr ##ite with local inter ##cala ##tions of pale grey to pale brown micro ##cr ##yst ##all ##ine do ##lom ##ite and ar ##gill ##aceous do ##lom ##ite . [SEP] deposited in [SEP] the transitional deposition ##al region between the continental deposition ##al environment and the marine deposition ##al environment . [SEP]\n",
            "10/14/2020 13:37:49 - INFO - __main__ -   input_ids: 101 1999 14785 1010 11142 5433 1010 1996 15191 2319 10536 13626 4183 4195 4050 3774 1997 2317 2000 5122 4462 1010 16095 8458 3560 1010 12702 26775 27268 8095 3170 2019 10536 13626 4221 1998 12098 19791 25560 2019 10536 13626 4221 2007 2334 6970 25015 9285 1997 5122 4462 2000 5122 2829 12702 26775 27268 8095 3170 2079 21297 4221 1998 12098 19791 25560 2079 21297 4221 1012 102 14140 1999 102 1996 17459 19806 2389 2555 2090 1996 6803 19806 2389 4044 1998 1996 3884 19806 2389 4044 1012 102 0 0 0 0 0 0 0\n",
            "10/14/2020 13:37:49 - INFO - __main__ -   input_mask: 1 1 1 1 1 1 1 1 1 1 1 1 1 1 1 1 1 1 1 1 1 1 1 1 1 1 1 1 1 1 1 1 1 1 1 1 1 1 1 1 1 1 1 1 1 1 1 1 1 1 1 1 1 1 1 1 1 1 1 1 1 1 1 1 1 1 1 1 1 1 1 1 1 1 1 1 1 1 1 1 1 1 1 1 1 1 1 1 1 1 1 1 1 0 0 0 0 0 0 0\n",
            "10/14/2020 13:37:49 - INFO - __main__ -   segment_ids: 0 0 0 0 0 0 0 0 0 0 0 0 0 0 0 0 0 0 0 0 0 0 0 0 0 0 0 0 0 0 0 0 0 0 0 0 0 0 0 0 0 0 0 0 0 0 0 0 0 0 0 0 0 0 0 0 0 0 0 0 0 0 0 0 0 0 0 0 0 0 0 1 1 1 0 0 0 0 0 0 0 0 0 0 0 0 0 0 0 0 0 0 0 0 0 0 0 0 0 0\n",
            "10/14/2020 13:37:49 - INFO - __main__ -   label: 1 (id = 1)\n",
            "10/14/2020 13:37:49 - INFO - __main__ -   *** Example ***\n",
            "10/14/2020 13:37:49 - INFO - __main__ -   guid: test-4\n",
            "10/14/2020 13:37:49 - INFO - __main__ -   tokens: [CLS] the carr ##ack formation consists of essentially non - cal ##care ##ous , carbon ##aceous , p ##yr ##itic , mic ##aceous mud ##stones and si ##lts ##tones with local ##ised mass - flow sandstone ##s . the mud ##stones are mainly medium to dark grey to [SEP] is member of [SEP] the cr ##ome ##r kn ##oll group of the uk central north sea is revised to include a red ##efined val ##hall formation , the r ##ø ##db ##y formation and the new carr ##ack , britannia sandstone and wi ##ck sandstone formations . the val [SEP]\n",
            "10/14/2020 13:37:49 - INFO - __main__ -   input_ids: 101 1996 12385 8684 4195 3774 1997 7687 2512 1011 10250 16302 3560 1010 6351 25560 1010 1052 12541 18291 1010 23025 25560 8494 29423 1998 9033 21593 11115 2007 2334 5084 3742 1011 4834 11694 2015 1012 1996 8494 29423 2024 3701 5396 2000 2601 4462 2000 102 2003 2266 1997 102 1996 13675 8462 2099 14161 14511 2177 1997 1996 2866 2430 2167 2712 2003 8001 2000 2421 1037 2417 28344 11748 9892 4195 1010 1996 1054 16415 18939 2100 4195 1998 1996 2047 12385 8684 1010 24677 11694 1998 15536 3600 11694 13197 1012 1996 11748 102\n",
            "10/14/2020 13:37:49 - INFO - __main__ -   input_mask: 1 1 1 1 1 1 1 1 1 1 1 1 1 1 1 1 1 1 1 1 1 1 1 1 1 1 1 1 1 1 1 1 1 1 1 1 1 1 1 1 1 1 1 1 1 1 1 1 1 1 1 1 1 1 1 1 1 1 1 1 1 1 1 1 1 1 1 1 1 1 1 1 1 1 1 1 1 1 1 1 1 1 1 1 1 1 1 1 1 1 1 1 1 1 1 1 1 1 1 1\n",
            "10/14/2020 13:37:49 - INFO - __main__ -   segment_ids: 0 0 0 0 0 0 0 0 0 0 0 0 0 0 0 0 0 0 0 0 0 0 0 0 0 0 0 0 0 0 0 0 0 0 0 0 0 0 0 0 0 0 0 0 0 0 0 0 0 1 1 1 1 0 0 0 0 0 0 0 0 0 0 0 0 0 0 0 0 0 0 0 0 0 0 0 0 0 0 0 0 0 0 0 0 0 0 0 0 0 0 0 0 0 0 0 0 0 0 0\n",
            "10/14/2020 13:37:49 - INFO - __main__ -   label: 1 (id = 1)\n",
            "10/14/2020 13:37:50 - INFO - __main__ -   ***** Running Prediction *****\n",
            "10/14/2020 13:37:50 - INFO - __main__ -     Num examples = 179\n",
            "10/14/2020 13:37:50 - INFO - __main__ -     Batch size = 300\n",
            "Testing: 100%|██████████| 1/1 [00:00<00:00,  1.97it/s]\n",
            "10/14/2020 13:37:54 - INFO - __main__ -   ***** Eval results  *****\n",
            "10/14/2020 13:37:54 - INFO - __main__ -     acc = 0.9050279329608939\n",
            "10/14/2020 13:37:54 - INFO - __main__ -     eval_loss = 0.2675766348838806\n",
            "10/14/2020 13:37:54 - INFO - __main__ -     global_step = 14 13:31:57.307212\n",
            "10/14/2020 13:37:54 - INFO - __main__ -     loss = 0.17888839376613128\n"
          ],
          "name": "stderr"
        },
        {
          "output_type": "stream",
          "text": [
            "171\n"
          ],
          "name": "stdout"
        },
        {
          "output_type": "stream",
          "text": [
            "Testing: 100%|██████████| 1/1 [00:00<00:00,  2.05it/s]\n"
          ],
          "name": "stderr"
        },
        {
          "output_type": "stream",
          "text": [
            "left:  1\n"
          ],
          "name": "stdout"
        },
        {
          "output_type": "stream",
          "text": [
            "Testing: 100%|██████████| 1/1 [00:00<00:00,  1.25it/s]\n",
            "10/14/2020 13:37:56 - INFO - __main__ -   Hits left @1: 0.0\n",
            "10/14/2020 13:37:56 - INFO - __main__ -   Hits right @1: 0.0\n",
            "10/14/2020 13:37:56 - INFO - __main__ -   Hits @1: 0.0\n",
            "10/14/2020 13:37:56 - INFO - __main__ -   Hits left @3: 1.0\n",
            "10/14/2020 13:37:56 - INFO - __main__ -   Hits right @3: 1.0\n",
            "10/14/2020 13:37:56 - INFO - __main__ -   Hits @3: 1.0\n",
            "10/14/2020 13:37:56 - INFO - __main__ -   Hits left @10: 1.0\n",
            "10/14/2020 13:37:56 - INFO - __main__ -   Hits right @10: 1.0\n",
            "10/14/2020 13:37:56 - INFO - __main__ -   Hits @10: 1.0\n",
            "10/14/2020 13:37:56 - INFO - __main__ -   Mean rank left: 2.0\n",
            "10/14/2020 13:37:56 - INFO - __main__ -   Mean rank right: 2.0\n",
            "10/14/2020 13:37:56 - INFO - __main__ -   Mean rank: 2.0\n",
            "10/14/2020 13:37:56 - INFO - __main__ -   Mean reciprocal rank left: 0.5\n",
            "10/14/2020 13:37:56 - INFO - __main__ -   Mean reciprocal rank right: 0.5\n",
            "10/14/2020 13:37:56 - INFO - __main__ -   Mean reciprocal rank: 0.5\n"
          ],
          "name": "stderr"
        },
        {
          "output_type": "stream",
          "text": [
            "right:  1\n",
            "mean rank until now:  2.0\n",
            "hit@10 until now:  1.0\n",
            "171\n"
          ],
          "name": "stdout"
        },
        {
          "output_type": "stream",
          "text": [
            "Testing: 100%|██████████| 1/1 [00:00<00:00,  2.08it/s]\n"
          ],
          "name": "stderr"
        },
        {
          "output_type": "stream",
          "text": [
            "left:  1\n"
          ],
          "name": "stdout"
        },
        {
          "output_type": "stream",
          "text": [
            "Testing: 100%|██████████| 1/1 [00:00<00:00,  1.24it/s]\n",
            "10/14/2020 13:37:58 - INFO - __main__ -   Hits left @1: 0.0\n",
            "10/14/2020 13:37:58 - INFO - __main__ -   Hits right @1: 0.0\n",
            "10/14/2020 13:37:58 - INFO - __main__ -   Hits @1: 0.0\n",
            "10/14/2020 13:37:58 - INFO - __main__ -   Hits left @3: 1.0\n",
            "10/14/2020 13:37:58 - INFO - __main__ -   Hits right @3: 0.5\n",
            "10/14/2020 13:37:58 - INFO - __main__ -   Hits @3: 0.75\n",
            "10/14/2020 13:37:58 - INFO - __main__ -   Hits left @10: 1.0\n",
            "10/14/2020 13:37:58 - INFO - __main__ -   Hits right @10: 1.0\n",
            "10/14/2020 13:37:58 - INFO - __main__ -   Hits @10: 1.0\n",
            "10/14/2020 13:37:58 - INFO - __main__ -   Mean rank left: 2.0\n",
            "10/14/2020 13:37:58 - INFO - __main__ -   Mean rank right: 3.0\n",
            "10/14/2020 13:37:58 - INFO - __main__ -   Mean rank: 2.5\n",
            "10/14/2020 13:37:58 - INFO - __main__ -   Mean reciprocal rank left: 0.5\n",
            "10/14/2020 13:37:58 - INFO - __main__ -   Mean reciprocal rank right: 0.375\n",
            "10/14/2020 13:37:58 - INFO - __main__ -   Mean reciprocal rank: 0.4375\n"
          ],
          "name": "stderr"
        },
        {
          "output_type": "stream",
          "text": [
            "right:  3\n",
            "mean rank until now:  2.5\n",
            "hit@10 until now:  1.0\n",
            "241\n"
          ],
          "name": "stdout"
        },
        {
          "output_type": "stream",
          "text": [
            "Testing: 100%|██████████| 1/1 [00:00<00:00,  1.48it/s]\n"
          ],
          "name": "stderr"
        },
        {
          "output_type": "stream",
          "text": [
            "left:  27\n"
          ],
          "name": "stdout"
        },
        {
          "output_type": "stream",
          "text": [
            "Testing: 100%|██████████| 1/1 [00:00<00:00,  1.24it/s]\n",
            "10/14/2020 13:38:01 - INFO - __main__ -   Hits left @1: 0.0\n",
            "10/14/2020 13:38:01 - INFO - __main__ -   Hits right @1: 0.0\n",
            "10/14/2020 13:38:01 - INFO - __main__ -   Hits @1: 0.0\n",
            "10/14/2020 13:38:01 - INFO - __main__ -   Hits left @3: 0.6666666666666666\n",
            "10/14/2020 13:38:01 - INFO - __main__ -   Hits right @3: 0.3333333333333333\n",
            "10/14/2020 13:38:01 - INFO - __main__ -   Hits @3: 0.5\n",
            "10/14/2020 13:38:01 - INFO - __main__ -   Hits left @10: 0.6666666666666666\n",
            "10/14/2020 13:38:01 - INFO - __main__ -   Hits right @10: 1.0\n",
            "10/14/2020 13:38:01 - INFO - __main__ -   Hits @10: 0.8333333333333334\n",
            "10/14/2020 13:38:01 - INFO - __main__ -   Mean rank left: 10.666666666666666\n",
            "10/14/2020 13:38:01 - INFO - __main__ -   Mean rank right: 3.3333333333333335\n",
            "10/14/2020 13:38:01 - INFO - __main__ -   Mean rank: 7.0\n",
            "10/14/2020 13:38:01 - INFO - __main__ -   Mean reciprocal rank left: 0.3452380952380953\n",
            "10/14/2020 13:38:01 - INFO - __main__ -   Mean reciprocal rank right: 0.3333333333333333\n",
            "10/14/2020 13:38:01 - INFO - __main__ -   Mean reciprocal rank: 0.33928571428571425\n"
          ],
          "name": "stderr"
        },
        {
          "output_type": "stream",
          "text": [
            "right:  3\n",
            "mean rank until now:  7.0\n",
            "hit@10 until now:  0.8333333333333334\n",
            "267\n"
          ],
          "name": "stdout"
        },
        {
          "output_type": "stream",
          "text": [
            "Testing: 100%|██████████| 1/1 [00:00<00:00,  1.35it/s]\n"
          ],
          "name": "stderr"
        },
        {
          "output_type": "stream",
          "text": [
            "left:  63\n"
          ],
          "name": "stdout"
        },
        {
          "output_type": "stream",
          "text": [
            "Testing: 100%|██████████| 1/1 [00:00<00:00,  1.24it/s]\n",
            "10/14/2020 13:38:03 - INFO - __main__ -   Hits left @1: 0.0\n",
            "10/14/2020 13:38:03 - INFO - __main__ -   Hits right @1: 0.0\n",
            "10/14/2020 13:38:03 - INFO - __main__ -   Hits @1: 0.0\n",
            "10/14/2020 13:38:03 - INFO - __main__ -   Hits left @3: 0.5\n",
            "10/14/2020 13:38:03 - INFO - __main__ -   Hits right @3: 0.5\n",
            "10/14/2020 13:38:03 - INFO - __main__ -   Hits @3: 0.5\n",
            "10/14/2020 13:38:03 - INFO - __main__ -   Hits left @10: 0.5\n",
            "10/14/2020 13:38:03 - INFO - __main__ -   Hits right @10: 1.0\n",
            "10/14/2020 13:38:03 - INFO - __main__ -   Hits @10: 0.75\n",
            "10/14/2020 13:38:03 - INFO - __main__ -   Mean rank left: 24.0\n",
            "10/14/2020 13:38:03 - INFO - __main__ -   Mean rank right: 3.25\n",
            "10/14/2020 13:38:03 - INFO - __main__ -   Mean rank: 13.625\n",
            "10/14/2020 13:38:03 - INFO - __main__ -   Mean reciprocal rank left: 0.26283482142857145\n",
            "10/14/2020 13:38:03 - INFO - __main__ -   Mean reciprocal rank right: 0.3333333333333333\n",
            "10/14/2020 13:38:03 - INFO - __main__ -   Mean reciprocal rank: 0.2980840773809524\n"
          ],
          "name": "stderr"
        },
        {
          "output_type": "stream",
          "text": [
            "right:  2\n",
            "mean rank until now:  13.625\n",
            "hit@10 until now:  0.75\n",
            "285\n"
          ],
          "name": "stdout"
        },
        {
          "output_type": "stream",
          "text": [
            "Testing: 100%|██████████| 1/1 [00:00<00:00,  1.28it/s]\n"
          ],
          "name": "stderr"
        },
        {
          "output_type": "stream",
          "text": [
            "left:  57\n"
          ],
          "name": "stdout"
        },
        {
          "output_type": "stream",
          "text": [
            "Testing: 100%|██████████| 1/1 [00:00<00:00,  1.25it/s]\n",
            "10/14/2020 13:38:06 - INFO - __main__ -   Hits left @1: 0.0\n",
            "10/14/2020 13:38:06 - INFO - __main__ -   Hits right @1: 0.0\n",
            "10/14/2020 13:38:06 - INFO - __main__ -   Hits @1: 0.0\n",
            "10/14/2020 13:38:06 - INFO - __main__ -   Hits left @3: 0.4\n",
            "10/14/2020 13:38:06 - INFO - __main__ -   Hits right @3: 0.4\n",
            "10/14/2020 13:38:06 - INFO - __main__ -   Hits @3: 0.4\n",
            "10/14/2020 13:38:06 - INFO - __main__ -   Hits left @10: 0.4\n",
            "10/14/2020 13:38:06 - INFO - __main__ -   Hits right @10: 0.8\n",
            "10/14/2020 13:38:06 - INFO - __main__ -   Hits @10: 0.6\n",
            "10/14/2020 13:38:06 - INFO - __main__ -   Mean rank left: 30.8\n",
            "10/14/2020 13:38:06 - INFO - __main__ -   Mean rank right: 5.0\n",
            "10/14/2020 13:38:06 - INFO - __main__ -   Mean rank: 17.9\n",
            "10/14/2020 13:38:06 - INFO - __main__ -   Mean reciprocal rank left: 0.21371613300492612\n",
            "10/14/2020 13:38:06 - INFO - __main__ -   Mean reciprocal rank right: 0.2833333333333333\n",
            "10/14/2020 13:38:06 - INFO - __main__ -   Mean reciprocal rank: 0.24852473316912974\n"
          ],
          "name": "stderr"
        },
        {
          "output_type": "stream",
          "text": [
            "right:  11\n",
            "mean rank until now:  17.9\n",
            "hit@10 until now:  0.6\n",
            "244\n"
          ],
          "name": "stdout"
        },
        {
          "output_type": "stream",
          "text": [
            "Testing: 100%|██████████| 1/1 [00:01<00:00,  1.35s/it]\n"
          ],
          "name": "stderr"
        },
        {
          "output_type": "stream",
          "text": [
            "left:  0\n"
          ],
          "name": "stdout"
        },
        {
          "output_type": "stream",
          "text": [
            "Testing: 100%|██████████| 1/1 [00:00<00:00,  1.25it/s]\n",
            "10/14/2020 13:38:09 - INFO - __main__ -   Hits left @1: 0.16666666666666666\n",
            "10/14/2020 13:38:09 - INFO - __main__ -   Hits right @1: 0.16666666666666666\n",
            "10/14/2020 13:38:09 - INFO - __main__ -   Hits @1: 0.16666666666666666\n",
            "10/14/2020 13:38:09 - INFO - __main__ -   Hits left @3: 0.5\n",
            "10/14/2020 13:38:09 - INFO - __main__ -   Hits right @3: 0.5\n",
            "10/14/2020 13:38:09 - INFO - __main__ -   Hits @3: 0.5\n",
            "10/14/2020 13:38:09 - INFO - __main__ -   Hits left @10: 0.5\n",
            "10/14/2020 13:38:09 - INFO - __main__ -   Hits right @10: 0.8333333333333334\n",
            "10/14/2020 13:38:09 - INFO - __main__ -   Hits @10: 0.6666666666666666\n",
            "10/14/2020 13:38:09 - INFO - __main__ -   Mean rank left: 25.833333333333332\n",
            "10/14/2020 13:38:09 - INFO - __main__ -   Mean rank right: 4.333333333333333\n",
            "10/14/2020 13:38:09 - INFO - __main__ -   Mean rank: 15.083333333333334\n",
            "10/14/2020 13:38:09 - INFO - __main__ -   Mean reciprocal rank left: 0.3447634441707718\n",
            "10/14/2020 13:38:09 - INFO - __main__ -   Mean reciprocal rank right: 0.40277777777777773\n",
            "10/14/2020 13:38:09 - INFO - __main__ -   Mean reciprocal rank: 0.37377061097427483\n"
          ],
          "name": "stderr"
        },
        {
          "output_type": "stream",
          "text": [
            "right:  0\n",
            "mean rank until now:  15.083333333333334\n",
            "hit@10 until now:  0.6666666666666666\n",
            "287\n"
          ],
          "name": "stdout"
        },
        {
          "output_type": "stream",
          "text": [
            "Testing: 100%|██████████| 1/1 [00:00<00:00,  1.25it/s]\n"
          ],
          "name": "stderr"
        },
        {
          "output_type": "stream",
          "text": [
            "left:  84\n"
          ],
          "name": "stdout"
        },
        {
          "output_type": "stream",
          "text": [
            "Testing: 100%|██████████| 1/1 [00:00<00:00,  1.24it/s]\n",
            "10/14/2020 13:38:12 - INFO - __main__ -   Hits left @1: 0.14285714285714285\n",
            "10/14/2020 13:38:12 - INFO - __main__ -   Hits right @1: 0.14285714285714285\n",
            "10/14/2020 13:38:12 - INFO - __main__ -   Hits @1: 0.14285714285714285\n",
            "10/14/2020 13:38:12 - INFO - __main__ -   Hits left @3: 0.42857142857142855\n",
            "10/14/2020 13:38:12 - INFO - __main__ -   Hits right @3: 0.42857142857142855\n",
            "10/14/2020 13:38:12 - INFO - __main__ -   Hits @3: 0.42857142857142855\n",
            "10/14/2020 13:38:12 - INFO - __main__ -   Hits left @10: 0.42857142857142855\n",
            "10/14/2020 13:38:12 - INFO - __main__ -   Hits right @10: 0.7142857142857143\n",
            "10/14/2020 13:38:12 - INFO - __main__ -   Hits @10: 0.5714285714285714\n",
            "10/14/2020 13:38:12 - INFO - __main__ -   Mean rank left: 34.285714285714285\n",
            "10/14/2020 13:38:12 - INFO - __main__ -   Mean rank right: 5.571428571428571\n",
            "10/14/2020 13:38:12 - INFO - __main__ -   Mean rank: 19.928571428571427\n",
            "10/14/2020 13:38:12 - INFO - __main__ -   Mean reciprocal rank left: 0.2971921958438548\n",
            "10/14/2020 13:38:12 - INFO - __main__ -   Mean reciprocal rank right: 0.35622710622710624\n",
            "10/14/2020 13:38:12 - INFO - __main__ -   Mean reciprocal rank: 0.3267096510354805\n"
          ],
          "name": "stderr"
        },
        {
          "output_type": "stream",
          "text": [
            "right:  12\n",
            "mean rank until now:  19.928571428571427\n",
            "hit@10 until now:  0.5714285714285714\n",
            "278\n"
          ],
          "name": "stdout"
        },
        {
          "output_type": "stream",
          "text": [
            "Testing: 100%|██████████| 1/1 [00:00<00:00,  1.30it/s]\n"
          ],
          "name": "stderr"
        },
        {
          "output_type": "stream",
          "text": [
            "left:  49\n"
          ],
          "name": "stdout"
        },
        {
          "output_type": "stream",
          "text": [
            "Testing: 100%|██████████| 1/1 [00:00<00:00,  1.25it/s]\n",
            "10/14/2020 13:38:14 - INFO - __main__ -   Hits left @1: 0.125\n",
            "10/14/2020 13:38:14 - INFO - __main__ -   Hits right @1: 0.25\n",
            "10/14/2020 13:38:14 - INFO - __main__ -   Hits @1: 0.1875\n",
            "10/14/2020 13:38:14 - INFO - __main__ -   Hits left @3: 0.375\n",
            "10/14/2020 13:38:14 - INFO - __main__ -   Hits right @3: 0.5\n",
            "10/14/2020 13:38:14 - INFO - __main__ -   Hits @3: 0.4375\n",
            "10/14/2020 13:38:14 - INFO - __main__ -   Hits left @10: 0.375\n",
            "10/14/2020 13:38:14 - INFO - __main__ -   Hits right @10: 0.75\n",
            "10/14/2020 13:38:14 - INFO - __main__ -   Hits @10: 0.5625\n",
            "10/14/2020 13:38:14 - INFO - __main__ -   Mean rank left: 36.25\n",
            "10/14/2020 13:38:14 - INFO - __main__ -   Mean rank right: 5.0\n",
            "10/14/2020 13:38:14 - INFO - __main__ -   Mean rank: 20.625\n",
            "10/14/2020 13:38:14 - INFO - __main__ -   Mean reciprocal rank left: 0.2625431713633729\n",
            "10/14/2020 13:38:14 - INFO - __main__ -   Mean reciprocal rank right: 0.43669871794871795\n",
            "10/14/2020 13:38:14 - INFO - __main__ -   Mean reciprocal rank: 0.34962094465604543\n"
          ],
          "name": "stderr"
        },
        {
          "output_type": "stream",
          "text": [
            "right:  0\n",
            "mean rank until now:  20.625\n",
            "hit@10 until now:  0.5625\n",
            "171\n"
          ],
          "name": "stdout"
        },
        {
          "output_type": "stream",
          "text": [
            "Testing: 100%|██████████| 1/1 [00:00<00:00,  2.07it/s]\n"
          ],
          "name": "stderr"
        },
        {
          "output_type": "stream",
          "text": [
            "left:  1\n"
          ],
          "name": "stdout"
        },
        {
          "output_type": "stream",
          "text": [
            "Testing: 100%|██████████| 1/1 [00:00<00:00,  1.25it/s]\n",
            "10/14/2020 13:38:16 - INFO - __main__ -   Hits left @1: 0.1111111111111111\n",
            "10/14/2020 13:38:16 - INFO - __main__ -   Hits right @1: 0.2222222222222222\n",
            "10/14/2020 13:38:16 - INFO - __main__ -   Hits @1: 0.16666666666666666\n",
            "10/14/2020 13:38:16 - INFO - __main__ -   Hits left @3: 0.4444444444444444\n",
            "10/14/2020 13:38:16 - INFO - __main__ -   Hits right @3: 0.4444444444444444\n",
            "10/14/2020 13:38:16 - INFO - __main__ -   Hits @3: 0.4444444444444444\n",
            "10/14/2020 13:38:16 - INFO - __main__ -   Hits left @10: 0.4444444444444444\n",
            "10/14/2020 13:38:16 - INFO - __main__ -   Hits right @10: 0.7777777777777778\n",
            "10/14/2020 13:38:16 - INFO - __main__ -   Hits @10: 0.6111111111111112\n",
            "10/14/2020 13:38:16 - INFO - __main__ -   Mean rank left: 32.44444444444444\n",
            "10/14/2020 13:38:16 - INFO - __main__ -   Mean rank right: 4.888888888888889\n",
            "10/14/2020 13:38:16 - INFO - __main__ -   Mean rank: 18.666666666666668\n",
            "10/14/2020 13:38:16 - INFO - __main__ -   Mean reciprocal rank left: 0.28892726343410924\n",
            "10/14/2020 13:38:16 - INFO - __main__ -   Mean reciprocal rank right: 0.41595441595441596\n",
            "10/14/2020 13:38:16 - INFO - __main__ -   Mean reciprocal rank: 0.3524408396942626\n"
          ],
          "name": "stderr"
        },
        {
          "output_type": "stream",
          "text": [
            "right:  3\n",
            "mean rank until now:  18.666666666666668\n",
            "hit@10 until now:  0.6111111111111112\n",
            "224\n"
          ],
          "name": "stdout"
        },
        {
          "output_type": "stream",
          "text": [
            "Testing: 100%|██████████| 1/1 [00:00<00:00,  1.60it/s]\n"
          ],
          "name": "stderr"
        },
        {
          "output_type": "stream",
          "text": [
            "left:  2\n"
          ],
          "name": "stdout"
        },
        {
          "output_type": "stream",
          "text": [
            "Testing: 100%|██████████| 1/1 [00:00<00:00,  1.25it/s]\n",
            "10/14/2020 13:38:19 - INFO - __main__ -   Hits left @1: 0.1\n",
            "10/14/2020 13:38:19 - INFO - __main__ -   Hits right @1: 0.3\n",
            "10/14/2020 13:38:19 - INFO - __main__ -   Hits @1: 0.2\n",
            "10/14/2020 13:38:19 - INFO - __main__ -   Hits left @3: 0.5\n",
            "10/14/2020 13:38:19 - INFO - __main__ -   Hits right @3: 0.5\n",
            "10/14/2020 13:38:19 - INFO - __main__ -   Hits @3: 0.5\n",
            "10/14/2020 13:38:19 - INFO - __main__ -   Hits left @10: 0.5\n",
            "10/14/2020 13:38:19 - INFO - __main__ -   Hits right @10: 0.8\n",
            "10/14/2020 13:38:19 - INFO - __main__ -   Hits @10: 0.65\n",
            "10/14/2020 13:38:19 - INFO - __main__ -   Mean rank left: 29.5\n",
            "10/14/2020 13:38:19 - INFO - __main__ -   Mean rank right: 4.5\n",
            "10/14/2020 13:38:19 - INFO - __main__ -   Mean rank: 17.0\n",
            "10/14/2020 13:38:19 - INFO - __main__ -   Mean reciprocal rank left: 0.2933678704240317\n",
            "10/14/2020 13:38:19 - INFO - __main__ -   Mean reciprocal rank right: 0.47435897435897434\n",
            "10/14/2020 13:38:19 - INFO - __main__ -   Mean reciprocal rank: 0.383863422391503\n"
          ],
          "name": "stderr"
        },
        {
          "output_type": "stream",
          "text": [
            "right:  0\n",
            "mean rank until now:  17.0\n",
            "hit@10 until now:  0.65\n",
            "171\n"
          ],
          "name": "stdout"
        },
        {
          "output_type": "stream",
          "text": [
            "Testing: 100%|██████████| 1/1 [00:00<00:00,  2.08it/s]\n"
          ],
          "name": "stderr"
        },
        {
          "output_type": "stream",
          "text": [
            "left:  1\n"
          ],
          "name": "stdout"
        },
        {
          "output_type": "stream",
          "text": [
            "Testing: 100%|██████████| 1/1 [00:00<00:00,  1.24it/s]\n",
            "10/14/2020 13:38:21 - INFO - __main__ -   Hits left @1: 0.09090909090909091\n",
            "10/14/2020 13:38:21 - INFO - __main__ -   Hits right @1: 0.2727272727272727\n",
            "10/14/2020 13:38:21 - INFO - __main__ -   Hits @1: 0.18181818181818182\n",
            "10/14/2020 13:38:21 - INFO - __main__ -   Hits left @3: 0.5454545454545454\n",
            "10/14/2020 13:38:21 - INFO - __main__ -   Hits right @3: 0.5454545454545454\n",
            "10/14/2020 13:38:21 - INFO - __main__ -   Hits @3: 0.5454545454545454\n",
            "10/14/2020 13:38:21 - INFO - __main__ -   Hits left @10: 0.5454545454545454\n",
            "10/14/2020 13:38:21 - INFO - __main__ -   Hits right @10: 0.8181818181818182\n",
            "10/14/2020 13:38:21 - INFO - __main__ -   Hits @10: 0.6818181818181818\n",
            "10/14/2020 13:38:21 - INFO - __main__ -   Mean rank left: 27.0\n",
            "10/14/2020 13:38:21 - INFO - __main__ -   Mean rank right: 4.2727272727272725\n",
            "10/14/2020 13:38:21 - INFO - __main__ -   Mean rank: 15.636363636363637\n",
            "10/14/2020 13:38:21 - INFO - __main__ -   Mean reciprocal rank left: 0.31215260947639245\n",
            "10/14/2020 13:38:21 - INFO - __main__ -   Mean reciprocal rank right: 0.4766899766899767\n",
            "10/14/2020 13:38:21 - INFO - __main__ -   Mean reciprocal rank: 0.3944212930831845\n"
          ],
          "name": "stderr"
        },
        {
          "output_type": "stream",
          "text": [
            "right:  1\n",
            "mean rank until now:  15.636363636363637\n",
            "hit@10 until now:  0.6818181818181818\n",
            "288\n"
          ],
          "name": "stdout"
        },
        {
          "output_type": "stream",
          "text": [
            "Testing: 100%|██████████| 1/1 [00:00<00:00,  1.25it/s]\n"
          ],
          "name": "stderr"
        },
        {
          "output_type": "stream",
          "text": [
            "left:  14\n"
          ],
          "name": "stdout"
        },
        {
          "output_type": "stream",
          "text": [
            "Testing: 100%|██████████| 1/1 [00:00<00:00,  1.25it/s]\n",
            "10/14/2020 13:38:24 - INFO - __main__ -   Hits left @1: 0.08333333333333333\n",
            "10/14/2020 13:38:24 - INFO - __main__ -   Hits right @1: 0.25\n",
            "10/14/2020 13:38:24 - INFO - __main__ -   Hits @1: 0.16666666666666666\n",
            "10/14/2020 13:38:24 - INFO - __main__ -   Hits left @3: 0.5\n",
            "10/14/2020 13:38:24 - INFO - __main__ -   Hits right @3: 0.5\n",
            "10/14/2020 13:38:24 - INFO - __main__ -   Hits @3: 0.5\n",
            "10/14/2020 13:38:24 - INFO - __main__ -   Hits left @10: 0.5\n",
            "10/14/2020 13:38:24 - INFO - __main__ -   Hits right @10: 0.75\n",
            "10/14/2020 13:38:24 - INFO - __main__ -   Hits @10: 0.625\n",
            "10/14/2020 13:38:24 - INFO - __main__ -   Mean rank left: 26.0\n",
            "10/14/2020 13:38:24 - INFO - __main__ -   Mean rank right: 4.916666666666667\n",
            "10/14/2020 13:38:24 - INFO - __main__ -   Mean rank: 15.458333333333334\n",
            "10/14/2020 13:38:24 - INFO - __main__ -   Mean reciprocal rank left: 0.29169544757558197\n",
            "10/14/2020 13:38:24 - INFO - __main__ -   Mean reciprocal rank right: 0.4439102564102564\n",
            "10/14/2020 13:38:24 - INFO - __main__ -   Mean reciprocal rank: 0.36780285199291923\n"
          ],
          "name": "stderr"
        },
        {
          "output_type": "stream",
          "text": [
            "right:  11\n",
            "mean rank until now:  15.458333333333334\n",
            "hit@10 until now:  0.625\n",
            "286\n"
          ],
          "name": "stdout"
        },
        {
          "output_type": "stream",
          "text": [
            "Testing: 100%|██████████| 1/1 [00:00<00:00,  1.28it/s]\n"
          ],
          "name": "stderr"
        },
        {
          "output_type": "stream",
          "text": [
            "left:  51\n"
          ],
          "name": "stdout"
        },
        {
          "output_type": "stream",
          "text": [
            "Testing: 100%|██████████| 1/1 [00:00<00:00,  1.25it/s]\n",
            "10/14/2020 13:38:27 - INFO - __main__ -   Hits left @1: 0.07692307692307693\n",
            "10/14/2020 13:38:27 - INFO - __main__ -   Hits right @1: 0.23076923076923078\n",
            "10/14/2020 13:38:27 - INFO - __main__ -   Hits @1: 0.15384615384615385\n",
            "10/14/2020 13:38:27 - INFO - __main__ -   Hits left @3: 0.46153846153846156\n",
            "10/14/2020 13:38:27 - INFO - __main__ -   Hits right @3: 0.46153846153846156\n",
            "10/14/2020 13:38:27 - INFO - __main__ -   Hits @3: 0.46153846153846156\n",
            "10/14/2020 13:38:27 - INFO - __main__ -   Hits left @10: 0.46153846153846156\n",
            "10/14/2020 13:38:27 - INFO - __main__ -   Hits right @10: 0.7692307692307693\n",
            "10/14/2020 13:38:27 - INFO - __main__ -   Hits @10: 0.6153846153846154\n",
            "10/14/2020 13:38:27 - INFO - __main__ -   Mean rank left: 28.0\n",
            "10/14/2020 13:38:27 - INFO - __main__ -   Mean rank right: 5.3076923076923075\n",
            "10/14/2020 13:38:27 - INFO - __main__ -   Mean rank: 16.653846153846153\n",
            "10/14/2020 13:38:27 - INFO - __main__ -   Mean reciprocal rank left: 0.2707366261644425\n",
            "10/14/2020 13:38:27 - INFO - __main__ -   Mean reciprocal rank right: 0.4174556213017751\n",
            "10/14/2020 13:38:27 - INFO - __main__ -   Mean reciprocal rank: 0.3440961237331089\n"
          ],
          "name": "stderr"
        },
        {
          "output_type": "stream",
          "text": [
            "right:  9\n",
            "mean rank until now:  16.653846153846153\n",
            "hit@10 until now:  0.6153846153846154\n",
            "224\n"
          ],
          "name": "stdout"
        },
        {
          "output_type": "stream",
          "text": [
            "Testing: 100%|██████████| 1/1 [00:00<00:00,  1.60it/s]\n"
          ],
          "name": "stderr"
        },
        {
          "output_type": "stream",
          "text": [
            "left:  1\n"
          ],
          "name": "stdout"
        },
        {
          "output_type": "stream",
          "text": [
            "Testing: 100%|██████████| 1/1 [00:00<00:00,  1.25it/s]\n",
            "10/14/2020 13:38:29 - INFO - __main__ -   Hits left @1: 0.07142857142857142\n",
            "10/14/2020 13:38:29 - INFO - __main__ -   Hits right @1: 0.2857142857142857\n",
            "10/14/2020 13:38:29 - INFO - __main__ -   Hits @1: 0.17857142857142858\n",
            "10/14/2020 13:38:29 - INFO - __main__ -   Hits left @3: 0.5\n",
            "10/14/2020 13:38:29 - INFO - __main__ -   Hits right @3: 0.5\n",
            "10/14/2020 13:38:29 - INFO - __main__ -   Hits @3: 0.5\n",
            "10/14/2020 13:38:29 - INFO - __main__ -   Hits left @10: 0.5\n",
            "10/14/2020 13:38:29 - INFO - __main__ -   Hits right @10: 0.7857142857142857\n",
            "10/14/2020 13:38:29 - INFO - __main__ -   Hits @10: 0.6428571428571429\n",
            "10/14/2020 13:38:29 - INFO - __main__ -   Mean rank left: 26.142857142857142\n",
            "10/14/2020 13:38:29 - INFO - __main__ -   Mean rank right: 5.0\n",
            "10/14/2020 13:38:29 - INFO - __main__ -   Mean rank: 15.571428571428571\n",
            "10/14/2020 13:38:29 - INFO - __main__ -   Mean reciprocal rank left: 0.2871125814384109\n",
            "10/14/2020 13:38:29 - INFO - __main__ -   Mean reciprocal rank right: 0.45906593406593404\n",
            "10/14/2020 13:38:29 - INFO - __main__ -   Mean reciprocal rank: 0.37308925775217255\n"
          ],
          "name": "stderr"
        },
        {
          "output_type": "stream",
          "text": [
            "right:  0\n",
            "mean rank until now:  15.571428571428571\n",
            "hit@10 until now:  0.6428571428571429\n",
            "241\n"
          ],
          "name": "stdout"
        },
        {
          "output_type": "stream",
          "text": [
            "Testing: 100%|██████████| 1/1 [00:00<00:00,  1.48it/s]\n"
          ],
          "name": "stderr"
        },
        {
          "output_type": "stream",
          "text": [
            "left:  30\n"
          ],
          "name": "stdout"
        },
        {
          "output_type": "stream",
          "text": [
            "Testing: 100%|██████████| 1/1 [00:00<00:00,  1.25it/s]\n",
            "10/14/2020 13:38:31 - INFO - __main__ -   Hits left @1: 0.06666666666666667\n",
            "10/14/2020 13:38:31 - INFO - __main__ -   Hits right @1: 0.26666666666666666\n",
            "10/14/2020 13:38:31 - INFO - __main__ -   Hits @1: 0.16666666666666666\n",
            "10/14/2020 13:38:31 - INFO - __main__ -   Hits left @3: 0.4666666666666667\n",
            "10/14/2020 13:38:31 - INFO - __main__ -   Hits right @3: 0.5333333333333333\n",
            "10/14/2020 13:38:31 - INFO - __main__ -   Hits @3: 0.5\n",
            "10/14/2020 13:38:31 - INFO - __main__ -   Hits left @10: 0.4666666666666667\n",
            "10/14/2020 13:38:31 - INFO - __main__ -   Hits right @10: 0.8\n",
            "10/14/2020 13:38:31 - INFO - __main__ -   Hits @10: 0.6333333333333333\n",
            "10/14/2020 13:38:31 - INFO - __main__ -   Mean rank left: 26.466666666666665\n",
            "10/14/2020 13:38:31 - INFO - __main__ -   Mean rank right: 4.8\n",
            "10/14/2020 13:38:31 - INFO - __main__ -   Mean rank: 15.633333333333333\n",
            "10/14/2020 13:38:31 - INFO - __main__ -   Mean reciprocal rank left: 0.2701222803102588\n",
            "10/14/2020 13:38:32 - INFO - __main__ -   Mean reciprocal rank right: 0.4617948717948718\n",
            "10/14/2020 13:38:32 - INFO - __main__ -   Mean reciprocal rank: 0.3659585760525654\n"
          ],
          "name": "stderr"
        },
        {
          "output_type": "stream",
          "text": [
            "right:  1\n",
            "mean rank until now:  15.633333333333333\n",
            "hit@10 until now:  0.6333333333333333\n",
            "241\n"
          ],
          "name": "stdout"
        },
        {
          "output_type": "stream",
          "text": [
            "Testing: 100%|██████████| 1/1 [00:00<00:00,  1.48it/s]\n"
          ],
          "name": "stderr"
        },
        {
          "output_type": "stream",
          "text": [
            "left:  34\n"
          ],
          "name": "stdout"
        },
        {
          "output_type": "stream",
          "text": [
            "Testing: 100%|██████████| 1/1 [00:00<00:00,  1.25it/s]\n",
            "10/14/2020 13:38:34 - INFO - __main__ -   Hits left @1: 0.0625\n",
            "10/14/2020 13:38:34 - INFO - __main__ -   Hits right @1: 0.25\n",
            "10/14/2020 13:38:34 - INFO - __main__ -   Hits @1: 0.15625\n",
            "10/14/2020 13:38:34 - INFO - __main__ -   Hits left @3: 0.4375\n",
            "10/14/2020 13:38:34 - INFO - __main__ -   Hits right @3: 0.5625\n",
            "10/14/2020 13:38:34 - INFO - __main__ -   Hits @3: 0.5\n",
            "10/14/2020 13:38:34 - INFO - __main__ -   Hits left @10: 0.4375\n",
            "10/14/2020 13:38:34 - INFO - __main__ -   Hits right @10: 0.8125\n",
            "10/14/2020 13:38:34 - INFO - __main__ -   Hits @10: 0.625\n",
            "10/14/2020 13:38:34 - INFO - __main__ -   Mean rank left: 27.0\n",
            "10/14/2020 13:38:34 - INFO - __main__ -   Mean rank right: 4.6875\n",
            "10/14/2020 13:38:34 - INFO - __main__ -   Mean rank: 15.84375\n",
            "10/14/2020 13:38:34 - INFO - __main__ -   Mean reciprocal rank left: 0.2550253520765819\n",
            "10/14/2020 13:38:34 - INFO - __main__ -   Mean reciprocal rank right: 0.45376602564102564\n",
            "10/14/2020 13:38:34 - INFO - __main__ -   Mean reciprocal rank: 0.35439568885880374\n"
          ],
          "name": "stderr"
        },
        {
          "output_type": "stream",
          "text": [
            "right:  2\n",
            "mean rank until now:  15.84375\n",
            "hit@10 until now:  0.625\n",
            "264\n"
          ],
          "name": "stdout"
        },
        {
          "output_type": "stream",
          "text": [
            "Testing: 100%|██████████| 1/1 [00:00<00:00,  1.35it/s]\n"
          ],
          "name": "stderr"
        },
        {
          "output_type": "stream",
          "text": [
            "left:  33\n"
          ],
          "name": "stdout"
        },
        {
          "output_type": "stream",
          "text": [
            "Testing: 100%|██████████| 1/1 [00:00<00:00,  1.24it/s]\n",
            "10/14/2020 13:38:36 - INFO - __main__ -   Hits left @1: 0.058823529411764705\n",
            "10/14/2020 13:38:36 - INFO - __main__ -   Hits right @1: 0.23529411764705882\n",
            "10/14/2020 13:38:36 - INFO - __main__ -   Hits @1: 0.14705882352941177\n",
            "10/14/2020 13:38:36 - INFO - __main__ -   Hits left @3: 0.4117647058823529\n",
            "10/14/2020 13:38:36 - INFO - __main__ -   Hits right @3: 0.5882352941176471\n",
            "10/14/2020 13:38:36 - INFO - __main__ -   Hits @3: 0.5\n",
            "10/14/2020 13:38:36 - INFO - __main__ -   Hits left @10: 0.4117647058823529\n",
            "10/14/2020 13:38:36 - INFO - __main__ -   Hits right @10: 0.8235294117647058\n",
            "10/14/2020 13:38:36 - INFO - __main__ -   Hits @10: 0.6176470588235294\n",
            "10/14/2020 13:38:36 - INFO - __main__ -   Mean rank left: 27.41176470588235\n",
            "10/14/2020 13:38:36 - INFO - __main__ -   Mean rank right: 4.529411764705882\n",
            "10/14/2020 13:38:36 - INFO - __main__ -   Mean rank: 15.970588235294118\n",
            "10/14/2020 13:38:36 - INFO - __main__ -   Mean reciprocal rank left: 0.2417539645841878\n",
            "10/14/2020 13:38:36 - INFO - __main__ -   Mean reciprocal rank right: 0.45648567119155353\n",
            "10/14/2020 13:38:36 - INFO - __main__ -   Mean reciprocal rank: 0.34911981788787066\n"
          ],
          "name": "stderr"
        },
        {
          "output_type": "stream",
          "text": [
            "right:  1\n",
            "mean rank until now:  15.970588235294118\n",
            "hit@10 until now:  0.6176470588235294\n",
            "171\n"
          ],
          "name": "stdout"
        },
        {
          "output_type": "stream",
          "text": [
            "Testing: 100%|██████████| 1/1 [00:00<00:00,  2.07it/s]\n"
          ],
          "name": "stderr"
        },
        {
          "output_type": "stream",
          "text": [
            "left:  1\n"
          ],
          "name": "stdout"
        },
        {
          "output_type": "stream",
          "text": [
            "Testing: 100%|██████████| 1/1 [00:00<00:00,  1.25it/s]\n",
            "10/14/2020 13:38:38 - INFO - __main__ -   Hits left @1: 0.05555555555555555\n",
            "10/14/2020 13:38:38 - INFO - __main__ -   Hits right @1: 0.2222222222222222\n",
            "10/14/2020 13:38:38 - INFO - __main__ -   Hits @1: 0.1388888888888889\n",
            "10/14/2020 13:38:38 - INFO - __main__ -   Hits left @3: 0.4444444444444444\n",
            "10/14/2020 13:38:38 - INFO - __main__ -   Hits right @3: 0.5555555555555556\n",
            "10/14/2020 13:38:38 - INFO - __main__ -   Hits @3: 0.5\n",
            "10/14/2020 13:38:38 - INFO - __main__ -   Hits left @10: 0.4444444444444444\n",
            "10/14/2020 13:38:38 - INFO - __main__ -   Hits right @10: 0.8333333333333334\n",
            "10/14/2020 13:38:38 - INFO - __main__ -   Hits @10: 0.6388888888888888\n",
            "10/14/2020 13:38:38 - INFO - __main__ -   Mean rank left: 26.0\n",
            "10/14/2020 13:38:38 - INFO - __main__ -   Mean rank right: 4.555555555555555\n",
            "10/14/2020 13:38:38 - INFO - __main__ -   Mean rank: 15.277777777777779\n",
            "10/14/2020 13:38:38 - INFO - __main__ -   Mean reciprocal rank left: 0.2561009665517329\n",
            "10/14/2020 13:38:38 - INFO - __main__ -   Mean reciprocal rank right: 0.44223646723646726\n",
            "10/14/2020 13:38:38 - INFO - __main__ -   Mean reciprocal rank: 0.3491687168941\n"
          ],
          "name": "stderr"
        },
        {
          "output_type": "stream",
          "text": [
            "right:  4\n",
            "mean rank until now:  15.277777777777779\n",
            "hit@10 until now:  0.6388888888888888\n",
            "262\n"
          ],
          "name": "stdout"
        },
        {
          "output_type": "stream",
          "text": [
            "Testing: 100%|██████████| 1/1 [00:00<00:00,  1.39it/s]\n"
          ],
          "name": "stderr"
        },
        {
          "output_type": "stream",
          "text": [
            "left:  55\n"
          ],
          "name": "stdout"
        },
        {
          "output_type": "stream",
          "text": [
            "Testing: 100%|██████████| 1/1 [00:00<00:00,  1.25it/s]\n",
            "10/14/2020 13:38:41 - INFO - __main__ -   Hits left @1: 0.05263157894736842\n",
            "10/14/2020 13:38:41 - INFO - __main__ -   Hits right @1: 0.2631578947368421\n",
            "10/14/2020 13:38:41 - INFO - __main__ -   Hits @1: 0.15789473684210525\n",
            "10/14/2020 13:38:41 - INFO - __main__ -   Hits left @3: 0.42105263157894735\n",
            "10/14/2020 13:38:41 - INFO - __main__ -   Hits right @3: 0.5789473684210527\n",
            "10/14/2020 13:38:41 - INFO - __main__ -   Hits @3: 0.5\n",
            "10/14/2020 13:38:41 - INFO - __main__ -   Hits left @10: 0.42105263157894735\n",
            "10/14/2020 13:38:41 - INFO - __main__ -   Hits right @10: 0.8421052631578947\n",
            "10/14/2020 13:38:41 - INFO - __main__ -   Hits @10: 0.631578947368421\n",
            "10/14/2020 13:38:41 - INFO - __main__ -   Mean rank left: 27.57894736842105\n",
            "10/14/2020 13:38:41 - INFO - __main__ -   Mean rank right: 4.368421052631579\n",
            "10/14/2020 13:38:41 - INFO - __main__ -   Mean rank: 15.973684210526315\n",
            "10/14/2020 13:38:41 - INFO - __main__ -   Mean reciprocal rank left: 0.2435618179362282\n",
            "10/14/2020 13:38:41 - INFO - __main__ -   Mean reciprocal rank right: 0.47159244264507416\n",
            "10/14/2020 13:38:41 - INFO - __main__ -   Mean reciprocal rank: 0.35757713029065114\n"
          ],
          "name": "stderr"
        },
        {
          "output_type": "stream",
          "text": [
            "right:  0\n",
            "mean rank until now:  15.973684210526315\n",
            "hit@10 until now:  0.631578947368421\n",
            "244\n"
          ],
          "name": "stdout"
        },
        {
          "output_type": "stream",
          "text": [
            "Testing: 100%|██████████| 1/1 [00:00<00:00,  1.47it/s]\n"
          ],
          "name": "stderr"
        },
        {
          "output_type": "stream",
          "text": [
            "left:  15\n"
          ],
          "name": "stdout"
        },
        {
          "output_type": "stream",
          "text": [
            "Testing: 100%|██████████| 1/1 [00:00<00:00,  1.24it/s]\n",
            "10/14/2020 13:38:43 - INFO - __main__ -   Hits left @1: 0.05\n",
            "10/14/2020 13:38:43 - INFO - __main__ -   Hits right @1: 0.25\n",
            "10/14/2020 13:38:43 - INFO - __main__ -   Hits @1: 0.15\n",
            "10/14/2020 13:38:43 - INFO - __main__ -   Hits left @3: 0.4\n",
            "10/14/2020 13:38:43 - INFO - __main__ -   Hits right @3: 0.6\n",
            "10/14/2020 13:38:43 - INFO - __main__ -   Hits @3: 0.5\n",
            "10/14/2020 13:38:43 - INFO - __main__ -   Hits left @10: 0.4\n",
            "10/14/2020 13:38:43 - INFO - __main__ -   Hits right @10: 0.85\n",
            "10/14/2020 13:38:43 - INFO - __main__ -   Hits @10: 0.625\n",
            "10/14/2020 13:38:43 - INFO - __main__ -   Mean rank left: 27.0\n",
            "10/14/2020 13:38:43 - INFO - __main__ -   Mean rank right: 4.25\n",
            "10/14/2020 13:38:43 - INFO - __main__ -   Mean rank: 15.625\n",
            "10/14/2020 13:38:43 - INFO - __main__ -   Mean reciprocal rank left: 0.23450872703941678\n",
            "10/14/2020 13:38:43 - INFO - __main__ -   Mean reciprocal rank right: 0.47301282051282045\n",
            "10/14/2020 13:38:43 - INFO - __main__ -   Mean reciprocal rank: 0.35376077377611864\n"
          ],
          "name": "stderr"
        },
        {
          "output_type": "stream",
          "text": [
            "right:  1\n",
            "mean rank until now:  15.625\n",
            "hit@10 until now:  0.625\n",
            "171\n"
          ],
          "name": "stdout"
        },
        {
          "output_type": "stream",
          "text": [
            "Testing: 100%|██████████| 1/1 [00:00<00:00,  2.07it/s]\n"
          ],
          "name": "stderr"
        },
        {
          "output_type": "stream",
          "text": [
            "left:  1\n"
          ],
          "name": "stdout"
        },
        {
          "output_type": "stream",
          "text": [
            "Testing: 100%|██████████| 1/1 [00:00<00:00,  1.25it/s]\n",
            "10/14/2020 13:38:46 - INFO - __main__ -   Hits left @1: 0.047619047619047616\n",
            "10/14/2020 13:38:46 - INFO - __main__ -   Hits right @1: 0.23809523809523808\n",
            "10/14/2020 13:38:46 - INFO - __main__ -   Hits @1: 0.14285714285714285\n",
            "10/14/2020 13:38:46 - INFO - __main__ -   Hits left @3: 0.42857142857142855\n",
            "10/14/2020 13:38:46 - INFO - __main__ -   Hits right @3: 0.6190476190476191\n",
            "10/14/2020 13:38:46 - INFO - __main__ -   Hits @3: 0.5238095238095238\n",
            "10/14/2020 13:38:46 - INFO - __main__ -   Hits left @10: 0.42857142857142855\n",
            "10/14/2020 13:38:46 - INFO - __main__ -   Hits right @10: 0.8571428571428571\n",
            "10/14/2020 13:38:46 - INFO - __main__ -   Hits @10: 0.6428571428571429\n",
            "10/14/2020 13:38:46 - INFO - __main__ -   Mean rank left: 25.80952380952381\n",
            "10/14/2020 13:38:46 - INFO - __main__ -   Mean rank right: 4.190476190476191\n",
            "10/14/2020 13:38:46 - INFO - __main__ -   Mean rank: 15.0\n",
            "10/14/2020 13:38:46 - INFO - __main__ -   Mean reciprocal rank left: 0.24715116860896838\n",
            "10/14/2020 13:38:46 - INFO - __main__ -   Mean reciprocal rank right: 0.46636141636141637\n",
            "10/14/2020 13:38:46 - INFO - __main__ -   Mean reciprocal rank: 0.35675629248519236\n"
          ],
          "name": "stderr"
        },
        {
          "output_type": "stream",
          "text": [
            "right:  2\n",
            "mean rank until now:  15.0\n",
            "hit@10 until now:  0.6428571428571429\n",
            "241\n"
          ],
          "name": "stdout"
        },
        {
          "output_type": "stream",
          "text": [
            "Testing: 100%|██████████| 1/1 [00:00<00:00,  1.47it/s]\n"
          ],
          "name": "stderr"
        },
        {
          "output_type": "stream",
          "text": [
            "left:  48\n"
          ],
          "name": "stdout"
        },
        {
          "output_type": "stream",
          "text": [
            "Testing: 100%|██████████| 1/1 [00:00<00:00,  1.25it/s]\n",
            "10/14/2020 13:38:48 - INFO - __main__ -   Hits left @1: 0.045454545454545456\n",
            "10/14/2020 13:38:48 - INFO - __main__ -   Hits right @1: 0.22727272727272727\n",
            "10/14/2020 13:38:48 - INFO - __main__ -   Hits @1: 0.13636363636363635\n",
            "10/14/2020 13:38:48 - INFO - __main__ -   Hits left @3: 0.4090909090909091\n",
            "10/14/2020 13:38:48 - INFO - __main__ -   Hits right @3: 0.5909090909090909\n",
            "10/14/2020 13:38:48 - INFO - __main__ -   Hits @3: 0.5\n",
            "10/14/2020 13:38:48 - INFO - __main__ -   Hits left @10: 0.4090909090909091\n",
            "10/14/2020 13:38:48 - INFO - __main__ -   Hits right @10: 0.8181818181818182\n",
            "10/14/2020 13:38:48 - INFO - __main__ -   Hits @10: 0.6136363636363636\n",
            "10/14/2020 13:38:48 - INFO - __main__ -   Mean rank left: 26.863636363636363\n",
            "10/14/2020 13:38:48 - INFO - __main__ -   Mean rank right: 4.545454545454546\n",
            "10/14/2020 13:38:48 - INFO - __main__ -   Mean rank: 15.704545454545455\n",
            "10/14/2020 13:38:48 - INFO - __main__ -   Mean reciprocal rank left: 0.23684466836607462\n",
            "10/14/2020 13:38:48 - INFO - __main__ -   Mean reciprocal rank right: 0.448951048951049\n",
            "10/14/2020 13:38:48 - INFO - __main__ -   Mean reciprocal rank: 0.3428978586585618\n"
          ],
          "name": "stderr"
        },
        {
          "output_type": "stream",
          "text": [
            "right:  11\n",
            "mean rank until now:  15.704545454545455\n",
            "hit@10 until now:  0.6136363636363636\n",
            "257\n"
          ],
          "name": "stdout"
        },
        {
          "output_type": "stream",
          "text": [
            "Testing: 100%|██████████| 1/1 [00:00<00:00,  1.41it/s]\n"
          ],
          "name": "stderr"
        },
        {
          "output_type": "stream",
          "text": [
            "left:  54\n"
          ],
          "name": "stdout"
        },
        {
          "output_type": "stream",
          "text": [
            "Testing: 100%|██████████| 1/1 [00:00<00:00,  1.24it/s]\n",
            "10/14/2020 13:38:51 - INFO - __main__ -   Hits left @1: 0.043478260869565216\n",
            "10/14/2020 13:38:51 - INFO - __main__ -   Hits right @1: 0.21739130434782608\n",
            "10/14/2020 13:38:51 - INFO - __main__ -   Hits @1: 0.13043478260869565\n",
            "10/14/2020 13:38:51 - INFO - __main__ -   Hits left @3: 0.391304347826087\n",
            "10/14/2020 13:38:51 - INFO - __main__ -   Hits right @3: 0.6086956521739131\n",
            "10/14/2020 13:38:51 - INFO - __main__ -   Hits @3: 0.5\n",
            "10/14/2020 13:38:51 - INFO - __main__ -   Hits left @10: 0.391304347826087\n",
            "10/14/2020 13:38:51 - INFO - __main__ -   Hits right @10: 0.8260869565217391\n",
            "10/14/2020 13:38:51 - INFO - __main__ -   Hits @10: 0.6086956521739131\n",
            "10/14/2020 13:38:51 - INFO - __main__ -   Mean rank left: 28.08695652173913\n",
            "10/14/2020 13:38:51 - INFO - __main__ -   Mean rank right: 4.478260869565218\n",
            "10/14/2020 13:38:51 - INFO - __main__ -   Mean rank: 16.282608695652176\n",
            "10/14/2020 13:38:51 - INFO - __main__ -   Mean reciprocal rank left: 0.22733758792328088\n",
            "10/14/2020 13:38:51 - INFO - __main__ -   Mean reciprocal rank right: 0.44392419175027875\n",
            "10/14/2020 13:38:51 - INFO - __main__ -   Mean reciprocal rank: 0.3356308898367798\n"
          ],
          "name": "stderr"
        },
        {
          "output_type": "stream",
          "text": [
            "right:  2\n",
            "mean rank until now:  16.282608695652176\n",
            "hit@10 until now:  0.6086956521739131\n",
            "271\n"
          ],
          "name": "stdout"
        },
        {
          "output_type": "stream",
          "text": [
            "Testing: 100%|██████████| 1/1 [00:00<00:00,  1.33it/s]\n"
          ],
          "name": "stderr"
        },
        {
          "output_type": "stream",
          "text": [
            "left:  3\n"
          ],
          "name": "stdout"
        },
        {
          "output_type": "stream",
          "text": [
            "Testing: 100%|██████████| 1/1 [00:00<00:00,  1.25it/s]\n",
            "10/14/2020 13:38:53 - INFO - __main__ -   Hits left @1: 0.041666666666666664\n",
            "10/14/2020 13:38:53 - INFO - __main__ -   Hits right @1: 0.20833333333333334\n",
            "10/14/2020 13:38:53 - INFO - __main__ -   Hits @1: 0.125\n",
            "10/14/2020 13:38:53 - INFO - __main__ -   Hits left @3: 0.375\n",
            "10/14/2020 13:38:53 - INFO - __main__ -   Hits right @3: 0.625\n",
            "10/14/2020 13:38:53 - INFO - __main__ -   Hits @3: 0.5\n",
            "10/14/2020 13:38:53 - INFO - __main__ -   Hits left @10: 0.4166666666666667\n",
            "10/14/2020 13:38:53 - INFO - __main__ -   Hits right @10: 0.8333333333333334\n",
            "10/14/2020 13:38:53 - INFO - __main__ -   Hits @10: 0.625\n",
            "10/14/2020 13:38:53 - INFO - __main__ -   Mean rank left: 27.083333333333332\n",
            "10/14/2020 13:38:53 - INFO - __main__ -   Mean rank right: 4.375\n",
            "10/14/2020 13:38:53 - INFO - __main__ -   Mean rank: 15.729166666666666\n",
            "10/14/2020 13:38:53 - INFO - __main__ -   Mean reciprocal rank left: 0.22828185509314416\n",
            "10/14/2020 13:38:53 - INFO - __main__ -   Mean reciprocal rank right: 0.4462606837606838\n",
            "10/14/2020 13:38:53 - INFO - __main__ -   Mean reciprocal rank: 0.337271269426914\n"
          ],
          "name": "stderr"
        },
        {
          "output_type": "stream",
          "text": [
            "right:  1\n",
            "mean rank until now:  15.729166666666666\n",
            "hit@10 until now:  0.625\n",
            "224\n"
          ],
          "name": "stdout"
        },
        {
          "output_type": "stream",
          "text": [
            "Testing: 100%|██████████| 1/1 [00:00<00:00,  1.60it/s]\n"
          ],
          "name": "stderr"
        },
        {
          "output_type": "stream",
          "text": [
            "left:  95\n"
          ],
          "name": "stdout"
        },
        {
          "output_type": "stream",
          "text": [
            "Testing: 100%|██████████| 1/1 [00:00<00:00,  1.25it/s]\n",
            "10/14/2020 13:38:56 - INFO - __main__ -   Hits left @1: 0.04\n",
            "10/14/2020 13:38:56 - INFO - __main__ -   Hits right @1: 0.2\n",
            "10/14/2020 13:38:56 - INFO - __main__ -   Hits @1: 0.12\n",
            "10/14/2020 13:38:56 - INFO - __main__ -   Hits left @3: 0.36\n",
            "10/14/2020 13:38:56 - INFO - __main__ -   Hits right @3: 0.6\n",
            "10/14/2020 13:38:56 - INFO - __main__ -   Hits @3: 0.48\n",
            "10/14/2020 13:38:56 - INFO - __main__ -   Hits left @10: 0.4\n",
            "10/14/2020 13:38:56 - INFO - __main__ -   Hits right @10: 0.8\n",
            "10/14/2020 13:38:56 - INFO - __main__ -   Hits @10: 0.6\n",
            "10/14/2020 13:38:56 - INFO - __main__ -   Mean rank left: 29.84\n",
            "10/14/2020 13:38:56 - INFO - __main__ -   Mean rank right: 6.24\n",
            "10/14/2020 13:38:56 - INFO - __main__ -   Mean rank: 18.04\n",
            "10/14/2020 13:38:56 - INFO - __main__ -   Mean reciprocal rank left: 0.2195672475560851\n",
            "10/14/2020 13:38:56 - INFO - __main__ -   Mean reciprocal rank right: 0.42919457013574663\n",
            "10/14/2020 13:38:56 - INFO - __main__ -   Mean reciprocal rank: 0.32438090884591586\n"
          ],
          "name": "stderr"
        },
        {
          "output_type": "stream",
          "text": [
            "right:  50\n",
            "mean rank until now:  18.04\n",
            "hit@10 until now:  0.6\n",
            "250\n"
          ],
          "name": "stdout"
        },
        {
          "output_type": "stream",
          "text": [
            "Testing: 100%|██████████| 1/1 [00:00<00:00,  1.43it/s]\n"
          ],
          "name": "stderr"
        },
        {
          "output_type": "stream",
          "text": [
            "left:  1\n"
          ],
          "name": "stdout"
        },
        {
          "output_type": "stream",
          "text": [
            "Testing: 100%|██████████| 1/1 [00:00<00:00,  1.24it/s]\n",
            "10/14/2020 13:38:58 - INFO - __main__ -   Hits left @1: 0.038461538461538464\n",
            "10/14/2020 13:38:58 - INFO - __main__ -   Hits right @1: 0.19230769230769232\n",
            "10/14/2020 13:38:58 - INFO - __main__ -   Hits @1: 0.11538461538461539\n",
            "10/14/2020 13:38:58 - INFO - __main__ -   Hits left @3: 0.38461538461538464\n",
            "10/14/2020 13:38:58 - INFO - __main__ -   Hits right @3: 0.6153846153846154\n",
            "10/14/2020 13:38:58 - INFO - __main__ -   Hits @3: 0.5\n",
            "10/14/2020 13:38:58 - INFO - __main__ -   Hits left @10: 0.4230769230769231\n",
            "10/14/2020 13:38:58 - INFO - __main__ -   Hits right @10: 0.8076923076923077\n",
            "10/14/2020 13:38:58 - INFO - __main__ -   Hits @10: 0.6153846153846154\n",
            "10/14/2020 13:38:58 - INFO - __main__ -   Mean rank left: 28.76923076923077\n",
            "10/14/2020 13:38:58 - INFO - __main__ -   Mean rank right: 6.076923076923077\n",
            "10/14/2020 13:38:58 - INFO - __main__ -   Mean rank: 17.423076923076923\n",
            "10/14/2020 13:38:58 - INFO - __main__ -   Mean reciprocal rank left: 0.23035312265008182\n",
            "10/14/2020 13:38:58 - INFO - __main__ -   Mean reciprocal rank right: 0.4319178558997564\n",
            "10/14/2020 13:38:58 - INFO - __main__ -   Mean reciprocal rank: 0.3311354892749191\n"
          ],
          "name": "stderr"
        },
        {
          "output_type": "stream",
          "text": [
            "right:  1\n",
            "mean rank until now:  17.423076923076923\n",
            "hit@10 until now:  0.6153846153846154\n",
            "171\n"
          ],
          "name": "stdout"
        },
        {
          "output_type": "stream",
          "text": [
            "Testing: 100%|██████████| 1/1 [00:00<00:00,  2.08it/s]\n"
          ],
          "name": "stderr"
        },
        {
          "output_type": "stream",
          "text": [
            "left:  1\n"
          ],
          "name": "stdout"
        },
        {
          "output_type": "stream",
          "text": [
            "Testing: 100%|██████████| 1/1 [00:00<00:00,  1.24it/s]\n",
            "10/14/2020 13:39:00 - INFO - __main__ -   Hits left @1: 0.037037037037037035\n",
            "10/14/2020 13:39:00 - INFO - __main__ -   Hits right @1: 0.18518518518518517\n",
            "10/14/2020 13:39:00 - INFO - __main__ -   Hits @1: 0.1111111111111111\n",
            "10/14/2020 13:39:00 - INFO - __main__ -   Hits left @3: 0.4074074074074074\n",
            "10/14/2020 13:39:00 - INFO - __main__ -   Hits right @3: 0.5925925925925926\n",
            "10/14/2020 13:39:00 - INFO - __main__ -   Hits @3: 0.5\n",
            "10/14/2020 13:39:00 - INFO - __main__ -   Hits left @10: 0.4444444444444444\n",
            "10/14/2020 13:39:00 - INFO - __main__ -   Hits right @10: 0.8148148148148148\n",
            "10/14/2020 13:39:00 - INFO - __main__ -   Hits @10: 0.6296296296296297\n",
            "10/14/2020 13:39:00 - INFO - __main__ -   Mean rank left: 27.77777777777778\n",
            "10/14/2020 13:39:00 - INFO - __main__ -   Mean rank right: 6.0\n",
            "10/14/2020 13:39:00 - INFO - __main__ -   Mean rank: 16.88888888888889\n",
            "10/14/2020 13:39:00 - INFO - __main__ -   Mean reciprocal rank left: 0.2403400440334121\n",
            "10/14/2020 13:39:00 - INFO - __main__ -   Mean reciprocal rank right: 0.42518015753309873\n",
            "10/14/2020 13:39:00 - INFO - __main__ -   Mean reciprocal rank: 0.33276010078325546\n"
          ],
          "name": "stderr"
        },
        {
          "output_type": "stream",
          "text": [
            "right:  3\n",
            "mean rank until now:  16.88888888888889\n",
            "hit@10 until now:  0.6296296296296297\n",
            "244\n"
          ],
          "name": "stdout"
        },
        {
          "output_type": "stream",
          "text": [
            "Testing: 100%|██████████| 1/1 [00:00<00:00,  1.47it/s]\n"
          ],
          "name": "stderr"
        },
        {
          "output_type": "stream",
          "text": [
            "left:  1\n"
          ],
          "name": "stdout"
        },
        {
          "output_type": "stream",
          "text": [
            "Testing: 100%|██████████| 1/1 [00:00<00:00,  1.25it/s]\n",
            "10/14/2020 13:39:03 - INFO - __main__ -   Hits left @1: 0.03571428571428571\n",
            "10/14/2020 13:39:03 - INFO - __main__ -   Hits right @1: 0.21428571428571427\n",
            "10/14/2020 13:39:03 - INFO - __main__ -   Hits @1: 0.125\n",
            "10/14/2020 13:39:03 - INFO - __main__ -   Hits left @3: 0.42857142857142855\n",
            "10/14/2020 13:39:03 - INFO - __main__ -   Hits right @3: 0.6071428571428571\n",
            "10/14/2020 13:39:03 - INFO - __main__ -   Hits @3: 0.5178571428571429\n",
            "10/14/2020 13:39:03 - INFO - __main__ -   Hits left @10: 0.4642857142857143\n",
            "10/14/2020 13:39:03 - INFO - __main__ -   Hits right @10: 0.8214285714285714\n",
            "10/14/2020 13:39:03 - INFO - __main__ -   Hits @10: 0.6428571428571429\n",
            "10/14/2020 13:39:03 - INFO - __main__ -   Mean rank left: 26.857142857142858\n",
            "10/14/2020 13:39:03 - INFO - __main__ -   Mean rank right: 5.821428571428571\n",
            "10/14/2020 13:39:03 - INFO - __main__ -   Mean rank: 16.339285714285715\n",
            "10/14/2020 13:39:03 - INFO - __main__ -   Mean reciprocal rank left: 0.24961361388936168\n",
            "10/14/2020 13:39:03 - INFO - __main__ -   Mean reciprocal rank right: 0.44570943762120235\n",
            "10/14/2020 13:39:03 - INFO - __main__ -   Mean reciprocal rank: 0.347661525755282\n"
          ],
          "name": "stderr"
        },
        {
          "output_type": "stream",
          "text": [
            "right:  0\n",
            "mean rank until now:  16.339285714285715\n",
            "hit@10 until now:  0.6428571428571429\n",
            "224\n"
          ],
          "name": "stdout"
        },
        {
          "output_type": "stream",
          "text": [
            "Testing: 100%|██████████| 1/1 [00:00<00:00,  1.60it/s]\n"
          ],
          "name": "stderr"
        },
        {
          "output_type": "stream",
          "text": [
            "left:  7\n"
          ],
          "name": "stdout"
        },
        {
          "output_type": "stream",
          "text": [
            "Testing: 100%|██████████| 1/1 [00:00<00:00,  1.25it/s]\n",
            "10/14/2020 13:39:06 - INFO - __main__ -   Hits left @1: 0.034482758620689655\n",
            "10/14/2020 13:39:06 - INFO - __main__ -   Hits right @1: 0.20689655172413793\n",
            "10/14/2020 13:39:06 - INFO - __main__ -   Hits @1: 0.1206896551724138\n",
            "10/14/2020 13:39:06 - INFO - __main__ -   Hits left @3: 0.41379310344827586\n",
            "10/14/2020 13:39:06 - INFO - __main__ -   Hits right @3: 0.6206896551724138\n",
            "10/14/2020 13:39:06 - INFO - __main__ -   Hits @3: 0.5172413793103449\n",
            "10/14/2020 13:39:06 - INFO - __main__ -   Hits left @10: 0.4827586206896552\n",
            "10/14/2020 13:39:06 - INFO - __main__ -   Hits right @10: 0.8275862068965517\n",
            "10/14/2020 13:39:06 - INFO - __main__ -   Hits @10: 0.6551724137931034\n",
            "10/14/2020 13:39:06 - INFO - __main__ -   Mean rank left: 26.20689655172414\n",
            "10/14/2020 13:39:06 - INFO - __main__ -   Mean rank right: 5.689655172413793\n",
            "10/14/2020 13:39:06 - INFO - __main__ -   Mean rank: 15.948275862068966\n",
            "10/14/2020 13:39:06 - INFO - __main__ -   Mean reciprocal rank left: 0.245316592720763\n",
            "10/14/2020 13:39:06 - INFO - __main__ -   Mean reciprocal rank right: 0.44758152597909195\n",
            "10/14/2020 13:39:06 - INFO - __main__ -   Mean reciprocal rank: 0.3464490593499274\n"
          ],
          "name": "stderr"
        },
        {
          "output_type": "stream",
          "text": [
            "right:  1\n",
            "mean rank until now:  15.948275862068966\n",
            "hit@10 until now:  0.6551724137931034\n",
            "241\n"
          ],
          "name": "stdout"
        },
        {
          "output_type": "stream",
          "text": [
            "Testing: 100%|██████████| 1/1 [00:00<00:00,  1.47it/s]\n"
          ],
          "name": "stderr"
        },
        {
          "output_type": "stream",
          "text": [
            "left:  17\n"
          ],
          "name": "stdout"
        },
        {
          "output_type": "stream",
          "text": [
            "Testing: 100%|██████████| 1/1 [00:00<00:00,  1.25it/s]\n",
            "10/14/2020 13:39:08 - INFO - __main__ -   Hits left @1: 0.03333333333333333\n",
            "10/14/2020 13:39:08 - INFO - __main__ -   Hits right @1: 0.2\n",
            "10/14/2020 13:39:08 - INFO - __main__ -   Hits @1: 0.11666666666666667\n",
            "10/14/2020 13:39:08 - INFO - __main__ -   Hits left @3: 0.4\n",
            "10/14/2020 13:39:08 - INFO - __main__ -   Hits right @3: 0.6\n",
            "10/14/2020 13:39:08 - INFO - __main__ -   Hits @3: 0.5\n",
            "10/14/2020 13:39:08 - INFO - __main__ -   Hits left @10: 0.4666666666666667\n",
            "10/14/2020 13:39:08 - INFO - __main__ -   Hits right @10: 0.8333333333333334\n",
            "10/14/2020 13:39:08 - INFO - __main__ -   Hits @10: 0.65\n",
            "10/14/2020 13:39:08 - INFO - __main__ -   Mean rank left: 25.933333333333334\n",
            "10/14/2020 13:39:08 - INFO - __main__ -   Mean rank right: 5.666666666666667\n",
            "10/14/2020 13:39:08 - INFO - __main__ -   Mean rank: 15.8\n",
            "10/14/2020 13:39:08 - INFO - __main__ -   Mean reciprocal rank left: 0.2389912248152561\n",
            "10/14/2020 13:39:08 - INFO - __main__ -   Mean reciprocal rank right: 0.4393288084464555\n",
            "10/14/2020 13:39:08 - INFO - __main__ -   Mean reciprocal rank: 0.33916001663085577\n"
          ],
          "name": "stderr"
        },
        {
          "output_type": "stream",
          "text": [
            "right:  4\n",
            "mean rank until now:  15.8\n",
            "hit@10 until now:  0.65\n",
            "271\n"
          ],
          "name": "stdout"
        },
        {
          "output_type": "stream",
          "text": [
            "Testing: 100%|██████████| 1/1 [00:00<00:00,  1.34it/s]\n"
          ],
          "name": "stderr"
        },
        {
          "output_type": "stream",
          "text": [
            "left:  0\n"
          ],
          "name": "stdout"
        },
        {
          "output_type": "stream",
          "text": [
            "Testing: 100%|██████████| 1/1 [00:00<00:00,  1.25it/s]\n",
            "10/14/2020 13:39:11 - INFO - __main__ -   Hits left @1: 0.06451612903225806\n",
            "10/14/2020 13:39:11 - INFO - __main__ -   Hits right @1: 0.22580645161290322\n",
            "10/14/2020 13:39:11 - INFO - __main__ -   Hits @1: 0.14516129032258066\n",
            "10/14/2020 13:39:11 - INFO - __main__ -   Hits left @3: 0.41935483870967744\n",
            "10/14/2020 13:39:11 - INFO - __main__ -   Hits right @3: 0.6129032258064516\n",
            "10/14/2020 13:39:11 - INFO - __main__ -   Hits @3: 0.5161290322580645\n",
            "10/14/2020 13:39:11 - INFO - __main__ -   Hits left @10: 0.4838709677419355\n",
            "10/14/2020 13:39:11 - INFO - __main__ -   Hits right @10: 0.8387096774193549\n",
            "10/14/2020 13:39:11 - INFO - __main__ -   Hits @10: 0.6612903225806451\n",
            "10/14/2020 13:39:11 - INFO - __main__ -   Mean rank left: 25.129032258064516\n",
            "10/14/2020 13:39:11 - INFO - __main__ -   Mean rank right: 5.516129032258065\n",
            "10/14/2020 13:39:11 - INFO - __main__ -   Mean rank: 15.32258064516129\n",
            "10/14/2020 13:39:11 - INFO - __main__ -   Mean reciprocal rank left: 0.2635398949825059\n",
            "10/14/2020 13:39:11 - INFO - __main__ -   Mean reciprocal rank right: 0.45741497591592467\n",
            "10/14/2020 13:39:11 - INFO - __main__ -   Mean reciprocal rank: 0.3604774354492153\n"
          ],
          "name": "stderr"
        },
        {
          "output_type": "stream",
          "text": [
            "right:  0\n",
            "mean rank until now:  15.32258064516129\n",
            "hit@10 until now:  0.6612903225806451\n",
            "264\n"
          ],
          "name": "stdout"
        },
        {
          "output_type": "stream",
          "text": [
            "Testing: 100%|██████████| 1/1 [00:00<00:00,  1.36it/s]\n"
          ],
          "name": "stderr"
        },
        {
          "output_type": "stream",
          "text": [
            "left:  20\n"
          ],
          "name": "stdout"
        },
        {
          "output_type": "stream",
          "text": [
            "Testing: 100%|██████████| 1/1 [00:00<00:00,  1.25it/s]\n",
            "10/14/2020 13:39:13 - INFO - __main__ -   Hits left @1: 0.0625\n",
            "10/14/2020 13:39:13 - INFO - __main__ -   Hits right @1: 0.21875\n",
            "10/14/2020 13:39:13 - INFO - __main__ -   Hits @1: 0.140625\n",
            "10/14/2020 13:39:13 - INFO - __main__ -   Hits left @3: 0.40625\n",
            "10/14/2020 13:39:13 - INFO - __main__ -   Hits right @3: 0.625\n",
            "10/14/2020 13:39:13 - INFO - __main__ -   Hits @3: 0.515625\n",
            "10/14/2020 13:39:13 - INFO - __main__ -   Hits left @10: 0.46875\n",
            "10/14/2020 13:39:13 - INFO - __main__ -   Hits right @10: 0.84375\n",
            "10/14/2020 13:39:13 - INFO - __main__ -   Hits @10: 0.65625\n",
            "10/14/2020 13:39:13 - INFO - __main__ -   Mean rank left: 25.0\n",
            "10/14/2020 13:39:13 - INFO - __main__ -   Mean rank right: 5.4375\n",
            "10/14/2020 13:39:13 - INFO - __main__ -   Mean rank: 15.21875\n",
            "10/14/2020 13:39:13 - INFO - __main__ -   Mean reciprocal rank left: 0.2567923685023978\n",
            "10/14/2020 13:39:13 - INFO - __main__ -   Mean reciprocal rank right: 0.45353742458521873\n",
            "10/14/2020 13:39:13 - INFO - __main__ -   Mean reciprocal rank: 0.35516489654380823\n"
          ],
          "name": "stderr"
        },
        {
          "output_type": "stream",
          "text": [
            "right:  2\n",
            "mean rank until now:  15.21875\n",
            "hit@10 until now:  0.65625\n",
            "273\n"
          ],
          "name": "stdout"
        },
        {
          "output_type": "stream",
          "text": [
            "Testing: 100%|██████████| 1/1 [00:00<00:00,  1.32it/s]\n"
          ],
          "name": "stderr"
        },
        {
          "output_type": "stream",
          "text": [
            "left:  24\n"
          ],
          "name": "stdout"
        },
        {
          "output_type": "stream",
          "text": [
            "Testing: 100%|██████████| 1/1 [00:00<00:00,  1.25it/s]\n",
            "10/14/2020 13:39:16 - INFO - __main__ -   Hits left @1: 0.06060606060606061\n",
            "10/14/2020 13:39:16 - INFO - __main__ -   Hits right @1: 0.21212121212121213\n",
            "10/14/2020 13:39:16 - INFO - __main__ -   Hits @1: 0.13636363636363635\n",
            "10/14/2020 13:39:16 - INFO - __main__ -   Hits left @3: 0.3939393939393939\n",
            "10/14/2020 13:39:16 - INFO - __main__ -   Hits right @3: 0.6060606060606061\n",
            "10/14/2020 13:39:16 - INFO - __main__ -   Hits @3: 0.5\n",
            "10/14/2020 13:39:16 - INFO - __main__ -   Hits left @10: 0.45454545454545453\n",
            "10/14/2020 13:39:16 - INFO - __main__ -   Hits right @10: 0.8181818181818182\n",
            "10/14/2020 13:39:16 - INFO - __main__ -   Hits @10: 0.6363636363636364\n",
            "10/14/2020 13:39:16 - INFO - __main__ -   Mean rank left: 25.0\n",
            "10/14/2020 13:39:16 - INFO - __main__ -   Mean rank right: 5.606060606060606\n",
            "10/14/2020 13:39:16 - INFO - __main__ -   Mean rank: 15.303030303030303\n",
            "10/14/2020 13:39:16 - INFO - __main__ -   Mean reciprocal rank left: 0.25022290279020387\n",
            "10/14/2020 13:39:16 - INFO - __main__ -   Mean reciprocal rank right: 0.4425486872010937\n",
            "10/14/2020 13:39:16 - INFO - __main__ -   Mean reciprocal rank: 0.3463857949956487\n"
          ],
          "name": "stderr"
        },
        {
          "output_type": "stream",
          "text": [
            "right:  10\n",
            "mean rank until now:  15.303030303030303\n",
            "hit@10 until now:  0.6363636363636364\n",
            "281\n"
          ],
          "name": "stdout"
        },
        {
          "output_type": "stream",
          "text": [
            "Testing: 100%|██████████| 1/1 [00:00<00:00,  1.29it/s]\n"
          ],
          "name": "stderr"
        },
        {
          "output_type": "stream",
          "text": [
            "left:  81\n"
          ],
          "name": "stdout"
        },
        {
          "output_type": "stream",
          "text": [
            "Testing: 100%|██████████| 1/1 [00:00<00:00,  1.25it/s]\n",
            "10/14/2020 13:39:18 - INFO - __main__ -   Hits left @1: 0.058823529411764705\n",
            "10/14/2020 13:39:18 - INFO - __main__ -   Hits right @1: 0.20588235294117646\n",
            "10/14/2020 13:39:18 - INFO - __main__ -   Hits @1: 0.1323529411764706\n",
            "10/14/2020 13:39:18 - INFO - __main__ -   Hits left @3: 0.38235294117647056\n",
            "10/14/2020 13:39:18 - INFO - __main__ -   Hits right @3: 0.6176470588235294\n",
            "10/14/2020 13:39:18 - INFO - __main__ -   Hits @3: 0.5\n",
            "10/14/2020 13:39:18 - INFO - __main__ -   Hits left @10: 0.4411764705882353\n",
            "10/14/2020 13:39:18 - INFO - __main__ -   Hits right @10: 0.8235294117647058\n",
            "10/14/2020 13:39:18 - INFO - __main__ -   Hits @10: 0.6323529411764706\n",
            "10/14/2020 13:39:18 - INFO - __main__ -   Mean rank left: 26.676470588235293\n",
            "10/14/2020 13:39:18 - INFO - __main__ -   Mean rank right: 5.529411764705882\n",
            "10/14/2020 13:39:18 - INFO - __main__ -   Mean rank: 16.102941176470587\n",
            "10/14/2020 13:39:18 - INFO - __main__ -   Mean reciprocal rank left: 0.24322208570670434\n",
            "10/14/2020 13:39:18 - INFO - __main__ -   Mean reciprocal rank right: 0.4393364709108654\n",
            "10/14/2020 13:39:18 - INFO - __main__ -   Mean reciprocal rank: 0.3412792783087848\n"
          ],
          "name": "stderr"
        },
        {
          "output_type": "stream",
          "text": [
            "right:  2\n",
            "mean rank until now:  16.102941176470587\n",
            "hit@10 until now:  0.6323529411764706\n",
            "257\n"
          ],
          "name": "stdout"
        },
        {
          "output_type": "stream",
          "text": [
            "Testing: 100%|██████████| 1/1 [00:00<00:00,  1.41it/s]\n"
          ],
          "name": "stderr"
        },
        {
          "output_type": "stream",
          "text": [
            "left:  57\n"
          ],
          "name": "stdout"
        },
        {
          "output_type": "stream",
          "text": [
            "Testing: 100%|██████████| 1/1 [00:00<00:00,  1.25it/s]\n",
            "10/14/2020 13:39:21 - INFO - __main__ -   Hits left @1: 0.05714285714285714\n",
            "10/14/2020 13:39:21 - INFO - __main__ -   Hits right @1: 0.22857142857142856\n",
            "10/14/2020 13:39:21 - INFO - __main__ -   Hits @1: 0.14285714285714285\n",
            "10/14/2020 13:39:21 - INFO - __main__ -   Hits left @3: 0.37142857142857144\n",
            "10/14/2020 13:39:21 - INFO - __main__ -   Hits right @3: 0.6285714285714286\n",
            "10/14/2020 13:39:21 - INFO - __main__ -   Hits @3: 0.5\n",
            "10/14/2020 13:39:21 - INFO - __main__ -   Hits left @10: 0.42857142857142855\n",
            "10/14/2020 13:39:21 - INFO - __main__ -   Hits right @10: 0.8285714285714286\n",
            "10/14/2020 13:39:21 - INFO - __main__ -   Hits @10: 0.6285714285714286\n",
            "10/14/2020 13:39:21 - INFO - __main__ -   Mean rank left: 27.571428571428573\n",
            "10/14/2020 13:39:21 - INFO - __main__ -   Mean rank right: 5.4\n",
            "10/14/2020 13:39:21 - INFO - __main__ -   Mean rank: 16.485714285714284\n",
            "10/14/2020 13:39:21 - INFO - __main__ -   Mean reciprocal rank left: 0.23676549409537978\n",
            "10/14/2020 13:39:21 - INFO - __main__ -   Mean reciprocal rank right: 0.4553554288848407\n",
            "10/14/2020 13:39:21 - INFO - __main__ -   Mean reciprocal rank: 0.34606046149011016\n"
          ],
          "name": "stderr"
        },
        {
          "output_type": "stream",
          "text": [
            "right:  0\n",
            "mean rank until now:  16.485714285714284\n",
            "hit@10 until now:  0.6285714285714286\n",
            "285\n"
          ],
          "name": "stdout"
        },
        {
          "output_type": "stream",
          "text": [
            "Testing: 100%|██████████| 1/1 [00:00<00:00,  1.28it/s]\n"
          ],
          "name": "stderr"
        },
        {
          "output_type": "stream",
          "text": [
            "left:  73\n"
          ],
          "name": "stdout"
        },
        {
          "output_type": "stream",
          "text": [
            "Testing: 100%|██████████| 1/1 [00:00<00:00,  1.24it/s]\n",
            "10/14/2020 13:39:23 - INFO - __main__ -   Hits left @1: 0.05555555555555555\n",
            "10/14/2020 13:39:23 - INFO - __main__ -   Hits right @1: 0.2222222222222222\n",
            "10/14/2020 13:39:23 - INFO - __main__ -   Hits @1: 0.1388888888888889\n",
            "10/14/2020 13:39:23 - INFO - __main__ -   Hits left @3: 0.3611111111111111\n",
            "10/14/2020 13:39:23 - INFO - __main__ -   Hits right @3: 0.6111111111111112\n",
            "10/14/2020 13:39:23 - INFO - __main__ -   Hits @3: 0.4861111111111111\n",
            "10/14/2020 13:39:23 - INFO - __main__ -   Hits left @10: 0.4166666666666667\n",
            "10/14/2020 13:39:23 - INFO - __main__ -   Hits right @10: 0.8055555555555556\n",
            "10/14/2020 13:39:23 - INFO - __main__ -   Hits @10: 0.6111111111111112\n",
            "10/14/2020 13:39:23 - INFO - __main__ -   Mean rank left: 28.86111111111111\n",
            "10/14/2020 13:39:23 - INFO - __main__ -   Mean rank right: 5.694444444444445\n",
            "10/14/2020 13:39:23 - INFO - __main__ -   Mean rank: 17.27777777777778\n",
            "10/14/2020 13:39:23 - INFO - __main__ -   Mean reciprocal rank left: 0.23056405019032797\n",
            "10/14/2020 13:39:23 - INFO - __main__ -   Mean reciprocal rank right: 0.444442778082484\n",
            "10/14/2020 13:39:23 - INFO - __main__ -   Mean reciprocal rank: 0.33750341413640594\n"
          ],
          "name": "stderr"
        },
        {
          "output_type": "stream",
          "text": [
            "right:  15\n",
            "mean rank until now:  17.27777777777778\n",
            "hit@10 until now:  0.6111111111111112\n",
            "262\n"
          ],
          "name": "stdout"
        },
        {
          "output_type": "stream",
          "text": [
            "Testing: 100%|██████████| 1/1 [00:00<00:00,  1.39it/s]\n"
          ],
          "name": "stderr"
        },
        {
          "output_type": "stream",
          "text": [
            "left:  48\n"
          ],
          "name": "stdout"
        },
        {
          "output_type": "stream",
          "text": [
            "Testing: 100%|██████████| 1/1 [00:00<00:00,  1.25it/s]\n",
            "10/14/2020 13:39:26 - INFO - __main__ -   Hits left @1: 0.05405405405405406\n",
            "10/14/2020 13:39:26 - INFO - __main__ -   Hits right @1: 0.21621621621621623\n",
            "10/14/2020 13:39:26 - INFO - __main__ -   Hits @1: 0.13513513513513514\n",
            "10/14/2020 13:39:26 - INFO - __main__ -   Hits left @3: 0.35135135135135137\n",
            "10/14/2020 13:39:26 - INFO - __main__ -   Hits right @3: 0.6216216216216216\n",
            "10/14/2020 13:39:26 - INFO - __main__ -   Hits @3: 0.4864864864864865\n",
            "10/14/2020 13:39:26 - INFO - __main__ -   Hits left @10: 0.40540540540540543\n",
            "10/14/2020 13:39:26 - INFO - __main__ -   Hits right @10: 0.8108108108108109\n",
            "10/14/2020 13:39:26 - INFO - __main__ -   Hits @10: 0.6081081081081081\n",
            "10/14/2020 13:39:26 - INFO - __main__ -   Mean rank left: 29.405405405405407\n",
            "10/14/2020 13:39:26 - INFO - __main__ -   Mean rank right: 5.621621621621622\n",
            "10/14/2020 13:39:26 - INFO - __main__ -   Mean rank: 17.513513513513512\n",
            "10/14/2020 13:39:26 - INFO - __main__ -   Mean reciprocal rank left: 0.22488416135451658\n",
            "10/14/2020 13:39:26 - INFO - __main__ -   Mean reciprocal rank right: 0.44143982011629074\n",
            "10/14/2020 13:39:26 - INFO - __main__ -   Mean reciprocal rank: 0.3331619907354036\n"
          ],
          "name": "stderr"
        },
        {
          "output_type": "stream",
          "text": [
            "right:  2\n",
            "mean rank until now:  17.513513513513512\n",
            "hit@10 until now:  0.6081081081081081\n",
            "286\n"
          ],
          "name": "stdout"
        },
        {
          "output_type": "stream",
          "text": [
            "Testing: 100%|██████████| 1/1 [00:00<00:00,  1.28it/s]\n"
          ],
          "name": "stderr"
        },
        {
          "output_type": "stream",
          "text": [
            "left:  51\n"
          ],
          "name": "stdout"
        },
        {
          "output_type": "stream",
          "text": [
            "Testing: 100%|██████████| 1/1 [00:00<00:00,  1.24it/s]\n",
            "10/14/2020 13:39:28 - INFO - __main__ -   Hits left @1: 0.05263157894736842\n",
            "10/14/2020 13:39:28 - INFO - __main__ -   Hits right @1: 0.21052631578947367\n",
            "10/14/2020 13:39:28 - INFO - __main__ -   Hits @1: 0.13157894736842105\n",
            "10/14/2020 13:39:28 - INFO - __main__ -   Hits left @3: 0.34210526315789475\n",
            "10/14/2020 13:39:28 - INFO - __main__ -   Hits right @3: 0.6052631578947368\n",
            "10/14/2020 13:39:28 - INFO - __main__ -   Hits @3: 0.47368421052631576\n",
            "10/14/2020 13:39:28 - INFO - __main__ -   Hits left @10: 0.39473684210526316\n",
            "10/14/2020 13:39:28 - INFO - __main__ -   Hits right @10: 0.8157894736842105\n",
            "10/14/2020 13:39:28 - INFO - __main__ -   Hits @10: 0.6052631578947368\n",
            "10/14/2020 13:39:28 - INFO - __main__ -   Mean rank left: 30.0\n",
            "10/14/2020 13:39:28 - INFO - __main__ -   Mean rank right: 5.605263157894737\n",
            "10/14/2020 13:39:28 - INFO - __main__ -   Mean rank: 17.80263157894737\n",
            "10/14/2020 13:39:28 - INFO - __main__ -   Mean reciprocal rank left: 0.21947222998283902\n",
            "10/14/2020 13:39:28 - INFO - __main__ -   Mean reciprocal rank right: 0.4350861406395462\n",
            "10/14/2020 13:39:28 - INFO - __main__ -   Mean reciprocal rank: 0.32727918531119254\n"
          ],
          "name": "stderr"
        },
        {
          "output_type": "stream",
          "text": [
            "right:  4\n",
            "mean rank until now:  17.80263157894737\n",
            "hit@10 until now:  0.6052631578947368\n",
            "287\n"
          ],
          "name": "stdout"
        },
        {
          "output_type": "stream",
          "text": [
            "Testing: 100%|██████████| 1/1 [00:00<00:00,  1.25it/s]\n"
          ],
          "name": "stderr"
        },
        {
          "output_type": "stream",
          "text": [
            "left:  13\n"
          ],
          "name": "stdout"
        },
        {
          "output_type": "stream",
          "text": [
            "Testing: 100%|██████████| 1/1 [00:00<00:00,  1.25it/s]\n",
            "10/14/2020 13:39:31 - INFO - __main__ -   Hits left @1: 0.05128205128205128\n",
            "10/14/2020 13:39:31 - INFO - __main__ -   Hits right @1: 0.20512820512820512\n",
            "10/14/2020 13:39:31 - INFO - __main__ -   Hits @1: 0.1282051282051282\n",
            "10/14/2020 13:39:31 - INFO - __main__ -   Hits left @3: 0.3333333333333333\n",
            "10/14/2020 13:39:31 - INFO - __main__ -   Hits right @3: 0.5897435897435898\n",
            "10/14/2020 13:39:31 - INFO - __main__ -   Hits @3: 0.46153846153846156\n",
            "10/14/2020 13:39:31 - INFO - __main__ -   Hits left @10: 0.38461538461538464\n",
            "10/14/2020 13:39:31 - INFO - __main__ -   Hits right @10: 0.8205128205128205\n",
            "10/14/2020 13:39:31 - INFO - __main__ -   Hits @10: 0.6025641025641025\n",
            "10/14/2020 13:39:31 - INFO - __main__ -   Mean rank left: 29.58974358974359\n",
            "10/14/2020 13:39:31 - INFO - __main__ -   Mean rank right: 5.6923076923076925\n",
            "10/14/2020 13:39:31 - INFO - __main__ -   Mean rank: 17.641025641025642\n",
            "10/14/2020 13:39:31 - INFO - __main__ -   Mean reciprocal rank left: 0.21567623873785782\n",
            "10/14/2020 13:39:31 - INFO - __main__ -   Mean reciprocal rank right: 0.42677908860035557\n",
            "10/14/2020 13:39:31 - INFO - __main__ -   Mean reciprocal rank: 0.32122766366910666\n"
          ],
          "name": "stderr"
        },
        {
          "output_type": "stream",
          "text": [
            "right:  8\n",
            "mean rank until now:  17.641025641025642\n",
            "hit@10 until now:  0.6025641025641025\n",
            "171\n"
          ],
          "name": "stdout"
        },
        {
          "output_type": "stream",
          "text": [
            "Testing: 100%|██████████| 1/1 [00:00<00:00,  2.08it/s]\n"
          ],
          "name": "stderr"
        },
        {
          "output_type": "stream",
          "text": [
            "left:  1\n"
          ],
          "name": "stdout"
        },
        {
          "output_type": "stream",
          "text": [
            "Testing: 100%|██████████| 1/1 [00:00<00:00,  1.24it/s]\n",
            "10/14/2020 13:39:33 - INFO - __main__ -   Hits left @1: 0.05\n",
            "10/14/2020 13:39:33 - INFO - __main__ -   Hits right @1: 0.2\n",
            "10/14/2020 13:39:33 - INFO - __main__ -   Hits @1: 0.125\n",
            "10/14/2020 13:39:33 - INFO - __main__ -   Hits left @3: 0.35\n",
            "10/14/2020 13:39:33 - INFO - __main__ -   Hits right @3: 0.6\n",
            "10/14/2020 13:39:33 - INFO - __main__ -   Hits @3: 0.475\n",
            "10/14/2020 13:39:33 - INFO - __main__ -   Hits left @10: 0.4\n",
            "10/14/2020 13:39:33 - INFO - __main__ -   Hits right @10: 0.825\n",
            "10/14/2020 13:39:33 - INFO - __main__ -   Hits @10: 0.6125\n",
            "10/14/2020 13:39:33 - INFO - __main__ -   Mean rank left: 28.9\n",
            "10/14/2020 13:39:33 - INFO - __main__ -   Mean rank right: 5.625\n",
            "10/14/2020 13:39:33 - INFO - __main__ -   Mean rank: 17.2625\n",
            "10/14/2020 13:39:33 - INFO - __main__ -   Mean reciprocal rank left: 0.22278433276941137\n",
            "10/14/2020 13:39:33 - INFO - __main__ -   Mean reciprocal rank right: 0.42444294471868\n",
            "10/14/2020 13:39:33 - INFO - __main__ -   Mean reciprocal rank: 0.3236136387440457\n"
          ],
          "name": "stderr"
        },
        {
          "output_type": "stream",
          "text": [
            "right:  2\n",
            "mean rank until now:  17.2625\n",
            "hit@10 until now:  0.6125\n",
            "171\n"
          ],
          "name": "stdout"
        },
        {
          "output_type": "stream",
          "text": [
            "Testing: 100%|██████████| 1/1 [00:00<00:00,  2.07it/s]\n"
          ],
          "name": "stderr"
        },
        {
          "output_type": "stream",
          "text": [
            "left:  1\n"
          ],
          "name": "stdout"
        },
        {
          "output_type": "stream",
          "text": [
            "Testing: 100%|██████████| 1/1 [00:00<00:00,  1.25it/s]\n",
            "10/14/2020 13:39:35 - INFO - __main__ -   Hits left @1: 0.04878048780487805\n",
            "10/14/2020 13:39:35 - INFO - __main__ -   Hits right @1: 0.1951219512195122\n",
            "10/14/2020 13:39:35 - INFO - __main__ -   Hits @1: 0.12195121951219512\n",
            "10/14/2020 13:39:35 - INFO - __main__ -   Hits left @3: 0.36585365853658536\n",
            "10/14/2020 13:39:35 - INFO - __main__ -   Hits right @3: 0.5853658536585366\n",
            "10/14/2020 13:39:35 - INFO - __main__ -   Hits @3: 0.47560975609756095\n",
            "10/14/2020 13:39:35 - INFO - __main__ -   Hits left @10: 0.4146341463414634\n",
            "10/14/2020 13:39:35 - INFO - __main__ -   Hits right @10: 0.8292682926829268\n",
            "10/14/2020 13:39:35 - INFO - __main__ -   Hits @10: 0.6219512195121951\n",
            "10/14/2020 13:39:35 - INFO - __main__ -   Mean rank left: 28.24390243902439\n",
            "10/14/2020 13:39:35 - INFO - __main__ -   Mean rank right: 5.585365853658536\n",
            "10/14/2020 13:39:35 - INFO - __main__ -   Mean rank: 16.914634146341463\n",
            "10/14/2020 13:39:35 - INFO - __main__ -   Mean reciprocal rank left: 0.22954569050674278\n",
            "10/14/2020 13:39:35 - INFO - __main__ -   Mean reciprocal rank right: 0.42018823874993166\n",
            "10/14/2020 13:39:35 - INFO - __main__ -   Mean reciprocal rank: 0.32486696462833725\n"
          ],
          "name": "stderr"
        },
        {
          "output_type": "stream",
          "text": [
            "right:  3\n",
            "mean rank until now:  16.914634146341463\n",
            "hit@10 until now:  0.6219512195121951\n",
            "171\n"
          ],
          "name": "stdout"
        },
        {
          "output_type": "stream",
          "text": [
            "Testing: 100%|██████████| 1/1 [00:00<00:00,  2.07it/s]\n"
          ],
          "name": "stderr"
        },
        {
          "output_type": "stream",
          "text": [
            "left:  1\n"
          ],
          "name": "stdout"
        },
        {
          "output_type": "stream",
          "text": [
            "Testing: 100%|██████████| 1/1 [00:00<00:00,  1.25it/s]\n",
            "10/14/2020 13:39:38 - INFO - __main__ -   Hits left @1: 0.047619047619047616\n",
            "10/14/2020 13:39:38 - INFO - __main__ -   Hits right @1: 0.19047619047619047\n",
            "10/14/2020 13:39:38 - INFO - __main__ -   Hits @1: 0.11904761904761904\n",
            "10/14/2020 13:39:38 - INFO - __main__ -   Hits left @3: 0.38095238095238093\n",
            "10/14/2020 13:39:38 - INFO - __main__ -   Hits right @3: 0.5714285714285714\n",
            "10/14/2020 13:39:38 - INFO - __main__ -   Hits @3: 0.47619047619047616\n",
            "10/14/2020 13:39:38 - INFO - __main__ -   Hits left @10: 0.42857142857142855\n",
            "10/14/2020 13:39:38 - INFO - __main__ -   Hits right @10: 0.8333333333333334\n",
            "10/14/2020 13:39:38 - INFO - __main__ -   Hits @10: 0.6309523809523809\n",
            "10/14/2020 13:39:38 - INFO - __main__ -   Mean rank left: 27.61904761904762\n",
            "10/14/2020 13:39:38 - INFO - __main__ -   Mean rank right: 5.5476190476190474\n",
            "10/14/2020 13:39:38 - INFO - __main__ -   Mean rank: 16.583333333333332\n",
            "10/14/2020 13:39:38 - INFO - __main__ -   Mean reciprocal rank left: 0.2359850788280108\n",
            "10/14/2020 13:39:38 - INFO - __main__ -   Mean reciprocal rank right: 0.4161361378273143\n",
            "10/14/2020 13:39:38 - INFO - __main__ -   Mean reciprocal rank: 0.32606060832766254\n"
          ],
          "name": "stderr"
        },
        {
          "output_type": "stream",
          "text": [
            "right:  3\n",
            "mean rank until now:  16.583333333333332\n",
            "hit@10 until now:  0.6309523809523809\n",
            "262\n"
          ],
          "name": "stdout"
        },
        {
          "output_type": "stream",
          "text": [
            "Testing: 100%|██████████| 1/1 [00:00<00:00,  1.40it/s]\n"
          ],
          "name": "stderr"
        },
        {
          "output_type": "stream",
          "text": [
            "left:  20\n"
          ],
          "name": "stdout"
        },
        {
          "output_type": "stream",
          "text": [
            "Testing: 100%|██████████| 1/1 [00:00<00:00,  1.25it/s]\n",
            "10/14/2020 13:39:40 - INFO - __main__ -   Hits left @1: 0.046511627906976744\n",
            "10/14/2020 13:39:40 - INFO - __main__ -   Hits right @1: 0.20930232558139536\n",
            "10/14/2020 13:39:40 - INFO - __main__ -   Hits @1: 0.12790697674418605\n",
            "10/14/2020 13:39:40 - INFO - __main__ -   Hits left @3: 0.37209302325581395\n",
            "10/14/2020 13:39:40 - INFO - __main__ -   Hits right @3: 0.5813953488372093\n",
            "10/14/2020 13:39:40 - INFO - __main__ -   Hits @3: 0.47674418604651164\n",
            "10/14/2020 13:39:40 - INFO - __main__ -   Hits left @10: 0.4186046511627907\n",
            "10/14/2020 13:39:40 - INFO - __main__ -   Hits right @10: 0.8372093023255814\n",
            "10/14/2020 13:39:40 - INFO - __main__ -   Hits @10: 0.627906976744186\n",
            "10/14/2020 13:39:40 - INFO - __main__ -   Mean rank left: 27.46511627906977\n",
            "10/14/2020 13:39:40 - INFO - __main__ -   Mean rank right: 5.441860465116279\n",
            "10/14/2020 13:39:40 - INFO - __main__ -   Mean rank: 16.453488372093023\n",
            "10/14/2020 13:39:40 - INFO - __main__ -   Mean reciprocal rank left: 0.2316044734510582\n",
            "10/14/2020 13:39:40 - INFO - __main__ -   Mean reciprocal rank right: 0.4297143671801674\n",
            "10/14/2020 13:39:40 - INFO - __main__ -   Mean reciprocal rank: 0.3306594203156128\n"
          ],
          "name": "stderr"
        },
        {
          "output_type": "stream",
          "text": [
            "right:  0\n",
            "mean rank until now:  16.453488372093023\n",
            "hit@10 until now:  0.627906976744186\n",
            "257\n"
          ],
          "name": "stdout"
        },
        {
          "output_type": "stream",
          "text": [
            "Testing: 100%|██████████| 1/1 [00:00<00:00,  1.41it/s]\n"
          ],
          "name": "stderr"
        },
        {
          "output_type": "stream",
          "text": [
            "left:  4\n"
          ],
          "name": "stdout"
        },
        {
          "output_type": "stream",
          "text": [
            "Testing: 100%|██████████| 1/1 [00:00<00:00,  1.25it/s]\n",
            "10/14/2020 13:39:43 - INFO - __main__ -   Hits left @1: 0.045454545454545456\n",
            "10/14/2020 13:39:43 - INFO - __main__ -   Hits right @1: 0.22727272727272727\n",
            "10/14/2020 13:39:43 - INFO - __main__ -   Hits @1: 0.13636363636363635\n",
            "10/14/2020 13:39:43 - INFO - __main__ -   Hits left @3: 0.36363636363636365\n",
            "10/14/2020 13:39:43 - INFO - __main__ -   Hits right @3: 0.5909090909090909\n",
            "10/14/2020 13:39:43 - INFO - __main__ -   Hits @3: 0.4772727272727273\n",
            "10/14/2020 13:39:43 - INFO - __main__ -   Hits left @10: 0.4318181818181818\n",
            "10/14/2020 13:39:43 - INFO - __main__ -   Hits right @10: 0.8409090909090909\n",
            "10/14/2020 13:39:43 - INFO - __main__ -   Hits @10: 0.6363636363636364\n",
            "10/14/2020 13:39:43 - INFO - __main__ -   Mean rank left: 26.954545454545453\n",
            "10/14/2020 13:39:43 - INFO - __main__ -   Mean rank right: 5.340909090909091\n",
            "10/14/2020 13:39:43 - INFO - __main__ -   Mean rank: 16.147727272727273\n",
            "10/14/2020 13:39:43 - INFO - __main__ -   Mean reciprocal rank left: 0.23088618996353413\n",
            "10/14/2020 13:39:43 - INFO - __main__ -   Mean reciprocal rank right: 0.4426754042897091\n",
            "10/14/2020 13:39:43 - INFO - __main__ -   Mean reciprocal rank: 0.3367807971266216\n"
          ],
          "name": "stderr"
        },
        {
          "output_type": "stream",
          "text": [
            "right:  0\n",
            "mean rank until now:  16.147727272727273\n",
            "hit@10 until now:  0.6363636363636364\n",
            "171\n"
          ],
          "name": "stdout"
        },
        {
          "output_type": "stream",
          "text": [
            "Testing: 100%|██████████| 1/1 [00:00<00:00,  2.07it/s]\n"
          ],
          "name": "stderr"
        },
        {
          "output_type": "stream",
          "text": [
            "left:  1\n"
          ],
          "name": "stdout"
        },
        {
          "output_type": "stream",
          "text": [
            "Testing: 100%|██████████| 1/1 [00:00<00:00,  1.25it/s]\n",
            "10/14/2020 13:39:45 - INFO - __main__ -   Hits left @1: 0.044444444444444446\n",
            "10/14/2020 13:39:45 - INFO - __main__ -   Hits right @1: 0.2222222222222222\n",
            "10/14/2020 13:39:45 - INFO - __main__ -   Hits @1: 0.13333333333333333\n",
            "10/14/2020 13:39:45 - INFO - __main__ -   Hits left @3: 0.37777777777777777\n",
            "10/14/2020 13:39:45 - INFO - __main__ -   Hits right @3: 0.6\n",
            "10/14/2020 13:39:45 - INFO - __main__ -   Hits @3: 0.4888888888888889\n",
            "10/14/2020 13:39:45 - INFO - __main__ -   Hits left @10: 0.4444444444444444\n",
            "10/14/2020 13:39:45 - INFO - __main__ -   Hits right @10: 0.8444444444444444\n",
            "10/14/2020 13:39:45 - INFO - __main__ -   Hits @10: 0.6444444444444445\n",
            "10/14/2020 13:39:45 - INFO - __main__ -   Mean rank left: 26.4\n",
            "10/14/2020 13:39:45 - INFO - __main__ -   Mean rank right: 5.266666666666667\n",
            "10/14/2020 13:39:45 - INFO - __main__ -   Mean rank: 15.833333333333334\n",
            "10/14/2020 13:39:45 - INFO - __main__ -   Mean reciprocal rank left: 0.23686649685323335\n",
            "10/14/2020 13:39:45 - INFO - __main__ -   Mean reciprocal rank right: 0.44394928419438223\n",
            "10/14/2020 13:39:45 - INFO - __main__ -   Mean reciprocal rank: 0.34040789052380777\n"
          ],
          "name": "stderr"
        },
        {
          "output_type": "stream",
          "text": [
            "right:  1\n",
            "mean rank until now:  15.833333333333334\n",
            "hit@10 until now:  0.6444444444444445\n",
            "270\n"
          ],
          "name": "stdout"
        },
        {
          "output_type": "stream",
          "text": [
            "Testing: 100%|██████████| 1/1 [00:00<00:00,  1.33it/s]\n"
          ],
          "name": "stderr"
        },
        {
          "output_type": "stream",
          "text": [
            "left:  73\n"
          ],
          "name": "stdout"
        },
        {
          "output_type": "stream",
          "text": [
            "Testing: 100%|██████████| 1/1 [00:00<00:00,  1.25it/s]\n",
            "10/14/2020 13:39:47 - INFO - __main__ -   Hits left @1: 0.043478260869565216\n",
            "10/14/2020 13:39:47 - INFO - __main__ -   Hits right @1: 0.21739130434782608\n",
            "10/14/2020 13:39:47 - INFO - __main__ -   Hits @1: 0.13043478260869565\n",
            "10/14/2020 13:39:47 - INFO - __main__ -   Hits left @3: 0.3695652173913043\n",
            "10/14/2020 13:39:47 - INFO - __main__ -   Hits right @3: 0.5869565217391305\n",
            "10/14/2020 13:39:47 - INFO - __main__ -   Hits @3: 0.4782608695652174\n",
            "10/14/2020 13:39:47 - INFO - __main__ -   Hits left @10: 0.43478260869565216\n",
            "10/14/2020 13:39:47 - INFO - __main__ -   Hits right @10: 0.8260869565217391\n",
            "10/14/2020 13:39:47 - INFO - __main__ -   Hits @10: 0.6304347826086957\n",
            "10/14/2020 13:39:47 - INFO - __main__ -   Mean rank left: 27.434782608695652\n",
            "10/14/2020 13:39:47 - INFO - __main__ -   Mean rank right: 5.391304347826087\n",
            "10/14/2020 13:39:47 - INFO - __main__ -   Mean rank: 16.41304347826087\n",
            "10/14/2020 13:39:47 - INFO - __main__ -   Mean reciprocal rank left: 0.23201099721541338\n",
            "10/14/2020 13:39:47 - INFO - __main__ -   Mean reciprocal rank right: 0.4362744973838324\n",
            "10/14/2020 13:39:47 - INFO - __main__ -   Mean reciprocal rank: 0.33414274729962284\n"
          ],
          "name": "stderr"
        },
        {
          "output_type": "stream",
          "text": [
            "right:  10\n",
            "mean rank until now:  16.41304347826087\n",
            "hit@10 until now:  0.6304347826086957\n",
            "262\n"
          ],
          "name": "stdout"
        },
        {
          "output_type": "stream",
          "text": [
            "Testing: 100%|██████████| 1/1 [00:00<00:00,  1.39it/s]\n"
          ],
          "name": "stderr"
        },
        {
          "output_type": "stream",
          "text": [
            "left:  6\n"
          ],
          "name": "stdout"
        },
        {
          "output_type": "stream",
          "text": [
            "Testing: 100%|██████████| 1/1 [00:00<00:00,  1.25it/s]\n",
            "10/14/2020 13:39:50 - INFO - __main__ -   Hits left @1: 0.0425531914893617\n",
            "10/14/2020 13:39:50 - INFO - __main__ -   Hits right @1: 0.23404255319148937\n",
            "10/14/2020 13:39:50 - INFO - __main__ -   Hits @1: 0.13829787234042554\n",
            "10/14/2020 13:39:50 - INFO - __main__ -   Hits left @3: 0.3617021276595745\n",
            "10/14/2020 13:39:50 - INFO - __main__ -   Hits right @3: 0.5957446808510638\n",
            "10/14/2020 13:39:50 - INFO - __main__ -   Hits @3: 0.4787234042553192\n",
            "10/14/2020 13:39:50 - INFO - __main__ -   Hits left @10: 0.44680851063829785\n",
            "10/14/2020 13:39:50 - INFO - __main__ -   Hits right @10: 0.8297872340425532\n",
            "10/14/2020 13:39:50 - INFO - __main__ -   Hits @10: 0.6382978723404256\n",
            "10/14/2020 13:39:50 - INFO - __main__ -   Mean rank left: 27.0\n",
            "10/14/2020 13:39:50 - INFO - __main__ -   Mean rank right: 5.297872340425532\n",
            "10/14/2020 13:39:50 - INFO - __main__ -   Mean rank: 16.148936170212767\n",
            "10/14/2020 13:39:50 - INFO - __main__ -   Mean reciprocal rank left: 0.2301141066971523\n",
            "10/14/2020 13:39:50 - INFO - __main__ -   Mean reciprocal rank right: 0.4482686570139636\n",
            "10/14/2020 13:39:50 - INFO - __main__ -   Mean reciprocal rank: 0.3391913818555579\n"
          ],
          "name": "stderr"
        },
        {
          "output_type": "stream",
          "text": [
            "right:  0\n",
            "mean rank until now:  16.148936170212767\n",
            "hit@10 until now:  0.6382978723404256\n",
            "171\n"
          ],
          "name": "stdout"
        },
        {
          "output_type": "stream",
          "text": [
            "Testing: 100%|██████████| 1/1 [00:00<00:00,  2.07it/s]\n"
          ],
          "name": "stderr"
        },
        {
          "output_type": "stream",
          "text": [
            "left:  1\n"
          ],
          "name": "stdout"
        },
        {
          "output_type": "stream",
          "text": [
            "Testing: 100%|██████████| 1/1 [00:00<00:00,  1.25it/s]\n",
            "10/14/2020 13:39:52 - INFO - __main__ -   Hits left @1: 0.041666666666666664\n",
            "10/14/2020 13:39:52 - INFO - __main__ -   Hits right @1: 0.22916666666666666\n",
            "10/14/2020 13:39:52 - INFO - __main__ -   Hits @1: 0.13541666666666666\n",
            "10/14/2020 13:39:52 - INFO - __main__ -   Hits left @3: 0.375\n",
            "10/14/2020 13:39:52 - INFO - __main__ -   Hits right @3: 0.6041666666666666\n",
            "10/14/2020 13:39:52 - INFO - __main__ -   Hits @3: 0.4895833333333333\n",
            "10/14/2020 13:39:52 - INFO - __main__ -   Hits left @10: 0.4583333333333333\n",
            "10/14/2020 13:39:52 - INFO - __main__ -   Hits right @10: 0.8333333333333334\n",
            "10/14/2020 13:39:52 - INFO - __main__ -   Hits @10: 0.6458333333333334\n",
            "10/14/2020 13:39:52 - INFO - __main__ -   Mean rank left: 26.479166666666668\n",
            "10/14/2020 13:39:52 - INFO - __main__ -   Mean rank right: 5.25\n",
            "10/14/2020 13:39:52 - INFO - __main__ -   Mean rank: 15.864583333333334\n",
            "10/14/2020 13:39:52 - INFO - __main__ -   Mean reciprocal rank left: 0.235736729474295\n",
            "10/14/2020 13:39:52 - INFO - __main__ -   Mean reciprocal rank right: 0.4458741711039505\n",
            "10/14/2020 13:39:52 - INFO - __main__ -   Mean reciprocal rank: 0.34080545028912274\n"
          ],
          "name": "stderr"
        },
        {
          "output_type": "stream",
          "text": [
            "right:  2\n",
            "mean rank until now:  15.864583333333334\n",
            "hit@10 until now:  0.6458333333333334\n",
            "286\n"
          ],
          "name": "stdout"
        },
        {
          "output_type": "stream",
          "text": [
            "Testing: 100%|██████████| 1/1 [00:00<00:00,  1.28it/s]\n"
          ],
          "name": "stderr"
        },
        {
          "output_type": "stream",
          "text": [
            "left:  2\n"
          ],
          "name": "stdout"
        },
        {
          "output_type": "stream",
          "text": [
            "Testing: 100%|██████████| 1/1 [00:00<00:00,  1.25it/s]\n",
            "10/14/2020 13:39:55 - INFO - __main__ -   Hits left @1: 0.04081632653061224\n",
            "10/14/2020 13:39:55 - INFO - __main__ -   Hits right @1: 0.22448979591836735\n",
            "10/14/2020 13:39:55 - INFO - __main__ -   Hits @1: 0.1326530612244898\n",
            "10/14/2020 13:39:55 - INFO - __main__ -   Hits left @3: 0.3877551020408163\n",
            "10/14/2020 13:39:55 - INFO - __main__ -   Hits right @3: 0.6122448979591837\n",
            "10/14/2020 13:39:55 - INFO - __main__ -   Hits @3: 0.5\n",
            "10/14/2020 13:39:55 - INFO - __main__ -   Hits left @10: 0.46938775510204084\n",
            "10/14/2020 13:39:55 - INFO - __main__ -   Hits right @10: 0.8367346938775511\n",
            "10/14/2020 13:39:55 - INFO - __main__ -   Hits @10: 0.6530612244897959\n",
            "10/14/2020 13:39:55 - INFO - __main__ -   Mean rank left: 26.0\n",
            "10/14/2020 13:39:55 - INFO - __main__ -   Mean rank right: 5.204081632653061\n",
            "10/14/2020 13:39:55 - INFO - __main__ -   Mean rank: 15.60204081632653\n",
            "10/14/2020 13:39:55 - INFO - __main__ -   Mean reciprocal rank left: 0.23772849689998965\n",
            "10/14/2020 13:39:55 - INFO - __main__ -   Mean reciprocal rank right: 0.4435774193127134\n",
            "10/14/2020 13:39:55 - INFO - __main__ -   Mean reciprocal rank: 0.3406529581063516\n"
          ],
          "name": "stderr"
        },
        {
          "output_type": "stream",
          "text": [
            "right:  2\n",
            "mean rank until now:  15.60204081632653\n",
            "hit@10 until now:  0.6530612244897959\n",
            "264\n"
          ],
          "name": "stdout"
        },
        {
          "output_type": "stream",
          "text": [
            "Testing: 100%|██████████| 1/1 [00:00<00:00,  1.36it/s]\n"
          ],
          "name": "stderr"
        },
        {
          "output_type": "stream",
          "text": [
            "left:  38\n"
          ],
          "name": "stdout"
        },
        {
          "output_type": "stream",
          "text": [
            "Testing: 100%|██████████| 1/1 [00:00<00:00,  1.25it/s]\n",
            "10/14/2020 13:39:57 - INFO - __main__ -   Hits left @1: 0.04\n",
            "10/14/2020 13:39:57 - INFO - __main__ -   Hits right @1: 0.22\n",
            "10/14/2020 13:39:57 - INFO - __main__ -   Hits @1: 0.13\n",
            "10/14/2020 13:39:57 - INFO - __main__ -   Hits left @3: 0.38\n",
            "10/14/2020 13:39:57 - INFO - __main__ -   Hits right @3: 0.6\n",
            "10/14/2020 13:39:57 - INFO - __main__ -   Hits @3: 0.49\n",
            "10/14/2020 13:39:57 - INFO - __main__ -   Hits left @10: 0.46\n",
            "10/14/2020 13:39:57 - INFO - __main__ -   Hits right @10: 0.84\n",
            "10/14/2020 13:39:57 - INFO - __main__ -   Hits @10: 0.65\n",
            "10/14/2020 13:39:57 - INFO - __main__ -   Mean rank left: 26.26\n",
            "10/14/2020 13:39:57 - INFO - __main__ -   Mean rank right: 5.22\n",
            "10/14/2020 13:39:57 - INFO - __main__ -   Mean rank: 15.74\n",
            "10/14/2020 13:39:57 - INFO - __main__ -   Mean reciprocal rank left: 0.23348674747481038\n",
            "10/14/2020 13:39:57 - INFO - __main__ -   Mean reciprocal rank right: 0.4380392042597925\n",
            "10/14/2020 13:39:57 - INFO - __main__ -   Mean reciprocal rank: 0.33576297586730147\n"
          ],
          "name": "stderr"
        },
        {
          "output_type": "stream",
          "text": [
            "right:  5\n",
            "mean rank until now:  15.74\n",
            "hit@10 until now:  0.65\n",
            "281\n"
          ],
          "name": "stdout"
        },
        {
          "output_type": "stream",
          "text": [
            "Testing: 100%|██████████| 1/1 [00:00<00:00,  1.29it/s]\n"
          ],
          "name": "stderr"
        },
        {
          "output_type": "stream",
          "text": [
            "left:  68\n"
          ],
          "name": "stdout"
        },
        {
          "output_type": "stream",
          "text": [
            "Testing: 100%|██████████| 1/1 [00:00<00:00,  1.25it/s]\n",
            "10/14/2020 13:40:00 - INFO - __main__ -   Hits left @1: 0.0392156862745098\n",
            "10/14/2020 13:40:00 - INFO - __main__ -   Hits right @1: 0.21568627450980393\n",
            "10/14/2020 13:40:00 - INFO - __main__ -   Hits @1: 0.12745098039215685\n",
            "10/14/2020 13:40:00 - INFO - __main__ -   Hits left @3: 0.37254901960784315\n",
            "10/14/2020 13:40:00 - INFO - __main__ -   Hits right @3: 0.5882352941176471\n",
            "10/14/2020 13:40:00 - INFO - __main__ -   Hits @3: 0.4803921568627451\n",
            "10/14/2020 13:40:00 - INFO - __main__ -   Hits left @10: 0.45098039215686275\n",
            "10/14/2020 13:40:00 - INFO - __main__ -   Hits right @10: 0.8431372549019608\n",
            "10/14/2020 13:40:00 - INFO - __main__ -   Hits @10: 0.6470588235294118\n",
            "10/14/2020 13:40:00 - INFO - __main__ -   Mean rank left: 27.098039215686274\n",
            "10/14/2020 13:40:00 - INFO - __main__ -   Mean rank right: 5.313725490196078\n",
            "10/14/2020 13:40:00 - INFO - __main__ -   Mean rank: 16.205882352941178\n",
            "10/14/2020 13:40:00 - INFO - __main__ -   Mean reciprocal rank left: 0.22919274759536679\n",
            "10/14/2020 13:40:00 - INFO - __main__ -   Mean reciprocal rank right: 0.431410984568424\n",
            "10/14/2020 13:40:00 - INFO - __main__ -   Mean reciprocal rank: 0.3303018660818955\n"
          ],
          "name": "stderr"
        },
        {
          "output_type": "stream",
          "text": [
            "right:  9\n",
            "mean rank until now:  16.205882352941178\n",
            "hit@10 until now:  0.6470588235294118\n",
            "171\n"
          ],
          "name": "stdout"
        },
        {
          "output_type": "stream",
          "text": [
            "Testing: 100%|██████████| 1/1 [00:00<00:00,  2.08it/s]\n"
          ],
          "name": "stderr"
        },
        {
          "output_type": "stream",
          "text": [
            "left:  1\n"
          ],
          "name": "stdout"
        },
        {
          "output_type": "stream",
          "text": [
            "Testing: 100%|██████████| 1/1 [00:00<00:00,  1.24it/s]\n",
            "10/14/2020 13:40:02 - INFO - __main__ -   Hits left @1: 0.038461538461538464\n",
            "10/14/2020 13:40:02 - INFO - __main__ -   Hits right @1: 0.21153846153846154\n",
            "10/14/2020 13:40:02 - INFO - __main__ -   Hits @1: 0.125\n",
            "10/14/2020 13:40:02 - INFO - __main__ -   Hits left @3: 0.38461538461538464\n",
            "10/14/2020 13:40:02 - INFO - __main__ -   Hits right @3: 0.5961538461538461\n",
            "10/14/2020 13:40:02 - INFO - __main__ -   Hits @3: 0.49038461538461536\n",
            "10/14/2020 13:40:02 - INFO - __main__ -   Hits left @10: 0.46153846153846156\n",
            "10/14/2020 13:40:02 - INFO - __main__ -   Hits right @10: 0.8461538461538461\n",
            "10/14/2020 13:40:02 - INFO - __main__ -   Hits @10: 0.6538461538461539\n",
            "10/14/2020 13:40:02 - INFO - __main__ -   Mean rank left: 26.615384615384617\n",
            "10/14/2020 13:40:02 - INFO - __main__ -   Mean rank right: 5.25\n",
            "10/14/2020 13:40:02 - INFO - __main__ -   Mean rank: 15.932692307692308\n",
            "10/14/2020 13:40:02 - INFO - __main__ -   Mean reciprocal rank left: 0.23440057937237896\n",
            "10/14/2020 13:40:02 - INFO - __main__ -   Mean reciprocal rank right: 0.43273000409595436\n",
            "10/14/2020 13:40:02 - INFO - __main__ -   Mean reciprocal rank: 0.3335652917341666\n"
          ],
          "name": "stderr"
        },
        {
          "output_type": "stream",
          "text": [
            "right:  1\n",
            "mean rank until now:  15.932692307692308\n",
            "hit@10 until now:  0.6538461538461539\n",
            "286\n"
          ],
          "name": "stdout"
        },
        {
          "output_type": "stream",
          "text": [
            "Testing: 100%|██████████| 1/1 [00:00<00:00,  1.28it/s]\n"
          ],
          "name": "stderr"
        },
        {
          "output_type": "stream",
          "text": [
            "left:  83\n"
          ],
          "name": "stdout"
        },
        {
          "output_type": "stream",
          "text": [
            "Testing: 100%|██████████| 1/1 [00:00<00:00,  1.25it/s]\n",
            "10/14/2020 13:40:04 - INFO - __main__ -   Hits left @1: 0.03773584905660377\n",
            "10/14/2020 13:40:04 - INFO - __main__ -   Hits right @1: 0.20754716981132076\n",
            "10/14/2020 13:40:04 - INFO - __main__ -   Hits @1: 0.12264150943396226\n",
            "10/14/2020 13:40:04 - INFO - __main__ -   Hits left @3: 0.37735849056603776\n",
            "10/14/2020 13:40:04 - INFO - __main__ -   Hits right @3: 0.5849056603773585\n",
            "10/14/2020 13:40:04 - INFO - __main__ -   Hits @3: 0.4811320754716981\n",
            "10/14/2020 13:40:04 - INFO - __main__ -   Hits left @10: 0.4528301886792453\n",
            "10/14/2020 13:40:04 - INFO - __main__ -   Hits right @10: 0.8301886792452831\n",
            "10/14/2020 13:40:04 - INFO - __main__ -   Hits @10: 0.6415094339622641\n",
            "10/14/2020 13:40:04 - INFO - __main__ -   Mean rank left: 27.69811320754717\n",
            "10/14/2020 13:40:04 - INFO - __main__ -   Mean rank right: 5.509433962264151\n",
            "10/14/2020 13:40:04 - INFO - __main__ -   Mean rank: 16.60377358490566\n",
            "10/14/2020 13:40:04 - INFO - __main__ -   Mean reciprocal rank left: 0.23020254508053717\n",
            "10/14/2020 13:40:04 - INFO - __main__ -   Mean reciprocal rank right: 0.4255583356969245\n",
            "10/14/2020 13:40:04 - INFO - __main__ -   Mean reciprocal rank: 0.3278804403887307\n"
          ],
          "name": "stderr"
        },
        {
          "output_type": "stream",
          "text": [
            "right:  18\n",
            "mean rank until now:  16.60377358490566\n",
            "hit@10 until now:  0.6415094339622641\n",
            "171\n"
          ],
          "name": "stdout"
        },
        {
          "output_type": "stream",
          "text": [
            "Testing: 100%|██████████| 1/1 [00:00<00:00,  2.08it/s]\n"
          ],
          "name": "stderr"
        },
        {
          "output_type": "stream",
          "text": [
            "left:  1\n"
          ],
          "name": "stdout"
        },
        {
          "output_type": "stream",
          "text": [
            "Testing: 100%|██████████| 1/1 [00:00<00:00,  1.25it/s]\n",
            "10/14/2020 13:40:07 - INFO - __main__ -   Hits left @1: 0.037037037037037035\n",
            "10/14/2020 13:40:07 - INFO - __main__ -   Hits right @1: 0.2037037037037037\n",
            "10/14/2020 13:40:07 - INFO - __main__ -   Hits @1: 0.12037037037037036\n",
            "10/14/2020 13:40:07 - INFO - __main__ -   Hits left @3: 0.3888888888888889\n",
            "10/14/2020 13:40:07 - INFO - __main__ -   Hits right @3: 0.5925925925925926\n",
            "10/14/2020 13:40:07 - INFO - __main__ -   Hits @3: 0.49074074074074076\n",
            "10/14/2020 13:40:07 - INFO - __main__ -   Hits left @10: 0.46296296296296297\n",
            "10/14/2020 13:40:07 - INFO - __main__ -   Hits right @10: 0.8333333333333334\n",
            "10/14/2020 13:40:07 - INFO - __main__ -   Hits @10: 0.6481481481481481\n",
            "10/14/2020 13:40:07 - INFO - __main__ -   Mean rank left: 27.22222222222222\n",
            "10/14/2020 13:40:07 - INFO - __main__ -   Mean rank right: 5.462962962962963\n",
            "10/14/2020 13:40:07 - INFO - __main__ -   Mean rank: 16.34259259259259\n",
            "10/14/2020 13:40:07 - INFO - __main__ -   Mean reciprocal rank left: 0.23519879424571238\n",
            "10/14/2020 13:40:07 - INFO - __main__ -   Mean reciprocal rank right: 0.42385046528278386\n",
            "10/14/2020 13:40:07 - INFO - __main__ -   Mean reciprocal rank: 0.32952462976424807\n"
          ],
          "name": "stderr"
        },
        {
          "output_type": "stream",
          "text": [
            "right:  2\n",
            "mean rank until now:  16.34259259259259\n",
            "hit@10 until now:  0.6481481481481481\n",
            "224\n"
          ],
          "name": "stdout"
        },
        {
          "output_type": "stream",
          "text": [
            "Testing: 100%|██████████| 1/1 [00:00<00:00,  1.60it/s]\n"
          ],
          "name": "stderr"
        },
        {
          "output_type": "stream",
          "text": [
            "left:  1\n"
          ],
          "name": "stdout"
        },
        {
          "output_type": "stream",
          "text": [
            "Testing: 100%|██████████| 1/1 [00:00<00:00,  1.25it/s]\n",
            "10/14/2020 13:40:09 - INFO - __main__ -   Hits left @1: 0.03636363636363636\n",
            "10/14/2020 13:40:09 - INFO - __main__ -   Hits right @1: 0.21818181818181817\n",
            "10/14/2020 13:40:09 - INFO - __main__ -   Hits @1: 0.12727272727272726\n",
            "10/14/2020 13:40:09 - INFO - __main__ -   Hits left @3: 0.4\n",
            "10/14/2020 13:40:09 - INFO - __main__ -   Hits right @3: 0.6\n",
            "10/14/2020 13:40:09 - INFO - __main__ -   Hits @3: 0.5\n",
            "10/14/2020 13:40:09 - INFO - __main__ -   Hits left @10: 0.4727272727272727\n",
            "10/14/2020 13:40:09 - INFO - __main__ -   Hits right @10: 0.8363636363636363\n",
            "10/14/2020 13:40:09 - INFO - __main__ -   Hits @10: 0.6545454545454545\n",
            "10/14/2020 13:40:09 - INFO - __main__ -   Mean rank left: 26.763636363636362\n",
            "10/14/2020 13:40:09 - INFO - __main__ -   Mean rank right: 5.381818181818182\n",
            "10/14/2020 13:40:09 - INFO - __main__ -   Mean rank: 16.072727272727274\n",
            "10/14/2020 13:40:09 - INFO - __main__ -   Mean reciprocal rank left: 0.24001336162306308\n",
            "10/14/2020 13:40:09 - INFO - __main__ -   Mean reciprocal rank right: 0.4343259113685514\n",
            "10/14/2020 13:40:09 - INFO - __main__ -   Mean reciprocal rank: 0.33716963649580717\n"
          ],
          "name": "stderr"
        },
        {
          "output_type": "stream",
          "text": [
            "right:  0\n",
            "mean rank until now:  16.072727272727274\n",
            "hit@10 until now:  0.6545454545454545\n",
            "250\n"
          ],
          "name": "stdout"
        },
        {
          "output_type": "stream",
          "text": [
            "Testing: 100%|██████████| 1/1 [00:00<00:00,  1.43it/s]\n"
          ],
          "name": "stderr"
        },
        {
          "output_type": "stream",
          "text": [
            "left:  56\n"
          ],
          "name": "stdout"
        },
        {
          "output_type": "stream",
          "text": [
            "Testing: 100%|██████████| 1/1 [00:00<00:00,  1.25it/s]\n",
            "10/14/2020 13:40:11 - INFO - __main__ -   Hits left @1: 0.03571428571428571\n",
            "10/14/2020 13:40:11 - INFO - __main__ -   Hits right @1: 0.23214285714285715\n",
            "10/14/2020 13:40:11 - INFO - __main__ -   Hits @1: 0.13392857142857142\n",
            "10/14/2020 13:40:11 - INFO - __main__ -   Hits left @3: 0.39285714285714285\n",
            "10/14/2020 13:40:11 - INFO - __main__ -   Hits right @3: 0.6071428571428571\n",
            "10/14/2020 13:40:11 - INFO - __main__ -   Hits @3: 0.5\n",
            "10/14/2020 13:40:11 - INFO - __main__ -   Hits left @10: 0.4642857142857143\n",
            "10/14/2020 13:40:11 - INFO - __main__ -   Hits right @10: 0.8392857142857143\n",
            "10/14/2020 13:40:11 - INFO - __main__ -   Hits @10: 0.6517857142857143\n",
            "10/14/2020 13:40:11 - INFO - __main__ -   Mean rank left: 27.303571428571427\n",
            "10/14/2020 13:40:11 - INFO - __main__ -   Mean rank right: 5.303571428571429\n",
            "10/14/2020 13:40:11 - INFO - __main__ -   Mean rank: 16.303571428571427\n",
            "10/14/2020 13:40:11 - INFO - __main__ -   Mean reciprocal rank left: 0.23604069194495697\n",
            "10/14/2020 13:40:11 - INFO - __main__ -   Mean reciprocal rank right: 0.4444272343798273\n",
            "10/14/2020 13:40:11 - INFO - __main__ -   Mean reciprocal rank: 0.3402339631623921\n"
          ],
          "name": "stderr"
        },
        {
          "output_type": "stream",
          "text": [
            "right:  0\n",
            "mean rank until now:  16.303571428571427\n",
            "hit@10 until now:  0.6517857142857143\n",
            "224\n"
          ],
          "name": "stdout"
        },
        {
          "output_type": "stream",
          "text": [
            "Testing: 100%|██████████| 1/1 [00:00<00:00,  1.60it/s]\n"
          ],
          "name": "stderr"
        },
        {
          "output_type": "stream",
          "text": [
            "left:  1\n"
          ],
          "name": "stdout"
        },
        {
          "output_type": "stream",
          "text": [
            "Testing: 100%|██████████| 1/1 [00:00<00:00,  1.24it/s]\n",
            "10/14/2020 13:40:14 - INFO - __main__ -   Hits left @1: 0.03508771929824561\n",
            "10/14/2020 13:40:14 - INFO - __main__ -   Hits right @1: 0.24561403508771928\n",
            "10/14/2020 13:40:14 - INFO - __main__ -   Hits @1: 0.14035087719298245\n",
            "10/14/2020 13:40:14 - INFO - __main__ -   Hits left @3: 0.40350877192982454\n",
            "10/14/2020 13:40:14 - INFO - __main__ -   Hits right @3: 0.6140350877192983\n",
            "10/14/2020 13:40:14 - INFO - __main__ -   Hits @3: 0.5087719298245614\n",
            "10/14/2020 13:40:14 - INFO - __main__ -   Hits left @10: 0.47368421052631576\n",
            "10/14/2020 13:40:14 - INFO - __main__ -   Hits right @10: 0.8421052631578947\n",
            "10/14/2020 13:40:14 - INFO - __main__ -   Hits @10: 0.6578947368421053\n",
            "10/14/2020 13:40:14 - INFO - __main__ -   Mean rank left: 26.859649122807017\n",
            "10/14/2020 13:40:14 - INFO - __main__ -   Mean rank right: 5.228070175438597\n",
            "10/14/2020 13:40:14 - INFO - __main__ -   Mean rank: 16.04385964912281\n",
            "10/14/2020 13:40:14 - INFO - __main__ -   Mean reciprocal rank left: 0.24067155699855422\n",
            "10/14/2020 13:40:14 - INFO - __main__ -   Mean reciprocal rank right: 0.4541741250047426\n",
            "10/14/2020 13:40:14 - INFO - __main__ -   Mean reciprocal rank: 0.34742284100164833\n"
          ],
          "name": "stderr"
        },
        {
          "output_type": "stream",
          "text": [
            "right:  0\n",
            "mean rank until now:  16.04385964912281\n",
            "hit@10 until now:  0.6578947368421053\n",
            "250\n"
          ],
          "name": "stdout"
        },
        {
          "output_type": "stream",
          "text": [
            "Testing: 100%|██████████| 1/1 [00:00<00:00,  1.43it/s]\n"
          ],
          "name": "stderr"
        },
        {
          "output_type": "stream",
          "text": [
            "left:  25\n"
          ],
          "name": "stdout"
        },
        {
          "output_type": "stream",
          "text": [
            "Testing: 100%|██████████| 1/1 [00:00<00:00,  1.24it/s]\n",
            "10/14/2020 13:40:16 - INFO - __main__ -   Hits left @1: 0.034482758620689655\n",
            "10/14/2020 13:40:16 - INFO - __main__ -   Hits right @1: 0.2413793103448276\n",
            "10/14/2020 13:40:16 - INFO - __main__ -   Hits @1: 0.13793103448275862\n",
            "10/14/2020 13:40:16 - INFO - __main__ -   Hits left @3: 0.39655172413793105\n",
            "10/14/2020 13:40:16 - INFO - __main__ -   Hits right @3: 0.6206896551724138\n",
            "10/14/2020 13:40:16 - INFO - __main__ -   Hits @3: 0.5086206896551724\n",
            "10/14/2020 13:40:16 - INFO - __main__ -   Hits left @10: 0.46551724137931033\n",
            "10/14/2020 13:40:16 - INFO - __main__ -   Hits right @10: 0.8448275862068966\n",
            "10/14/2020 13:40:16 - INFO - __main__ -   Hits @10: 0.6551724137931034\n",
            "10/14/2020 13:40:16 - INFO - __main__ -   Mean rank left: 26.844827586206897\n",
            "10/14/2020 13:40:16 - INFO - __main__ -   Mean rank right: 5.172413793103448\n",
            "10/14/2020 13:40:16 - INFO - __main__ -   Mean rank: 16.00862068965517\n",
            "10/14/2020 13:40:16 - INFO - __main__ -   Mean reciprocal rank left: 0.23718517736860567\n",
            "10/14/2020 13:40:16 - INFO - __main__ -   Mean reciprocal rank right: 0.4549642262977643\n",
            "10/14/2020 13:40:16 - INFO - __main__ -   Mean reciprocal rank: 0.34607470183318495\n"
          ],
          "name": "stderr"
        },
        {
          "output_type": "stream",
          "text": [
            "right:  1\n",
            "mean rank until now:  16.00862068965517\n",
            "hit@10 until now:  0.6551724137931034\n",
            "244\n"
          ],
          "name": "stdout"
        },
        {
          "output_type": "stream",
          "text": [
            "Testing: 100%|██████████| 1/1 [00:00<00:00,  1.47it/s]\n"
          ],
          "name": "stderr"
        },
        {
          "output_type": "stream",
          "text": [
            "left:  39\n"
          ],
          "name": "stdout"
        },
        {
          "output_type": "stream",
          "text": [
            "Testing: 100%|██████████| 1/1 [00:00<00:00,  1.25it/s]\n",
            "10/14/2020 13:40:19 - INFO - __main__ -   Hits left @1: 0.03389830508474576\n",
            "10/14/2020 13:40:19 - INFO - __main__ -   Hits right @1: 0.23728813559322035\n",
            "10/14/2020 13:40:19 - INFO - __main__ -   Hits @1: 0.13559322033898305\n",
            "10/14/2020 13:40:19 - INFO - __main__ -   Hits left @3: 0.3898305084745763\n",
            "10/14/2020 13:40:19 - INFO - __main__ -   Hits right @3: 0.6101694915254238\n",
            "10/14/2020 13:40:19 - INFO - __main__ -   Hits @3: 0.5\n",
            "10/14/2020 13:40:19 - INFO - __main__ -   Hits left @10: 0.4576271186440678\n",
            "10/14/2020 13:40:19 - INFO - __main__ -   Hits right @10: 0.847457627118644\n",
            "10/14/2020 13:40:19 - INFO - __main__ -   Hits @10: 0.652542372881356\n",
            "10/14/2020 13:40:19 - INFO - __main__ -   Mean rank left: 27.06779661016949\n",
            "10/14/2020 13:40:19 - INFO - __main__ -   Mean rank right: 5.203389830508475\n",
            "10/14/2020 13:40:19 - INFO - __main__ -   Mean rank: 16.135593220338983\n",
            "10/14/2020 13:40:19 - INFO - __main__ -   Mean reciprocal rank left: 0.23358881843015475\n",
            "10/14/2020 13:40:19 - INFO - __main__ -   Mean reciprocal rank right: 0.44967427573097407\n",
            "10/14/2020 13:40:19 - INFO - __main__ -   Mean reciprocal rank: 0.34163154708056437\n"
          ],
          "name": "stderr"
        },
        {
          "output_type": "stream",
          "text": [
            "right:  6\n",
            "mean rank until now:  16.135593220338983\n",
            "hit@10 until now:  0.652542372881356\n",
            "287\n"
          ],
          "name": "stdout"
        },
        {
          "output_type": "stream",
          "text": [
            "Testing: 100%|██████████| 1/1 [00:00<00:00,  1.25it/s]\n"
          ],
          "name": "stderr"
        },
        {
          "output_type": "stream",
          "text": [
            "left:  29\n"
          ],
          "name": "stdout"
        },
        {
          "output_type": "stream",
          "text": [
            "Testing: 100%|██████████| 1/1 [00:00<00:00,  1.25it/s]\n",
            "10/14/2020 13:40:22 - INFO - __main__ -   Hits left @1: 0.03333333333333333\n",
            "10/14/2020 13:40:22 - INFO - __main__ -   Hits right @1: 0.23333333333333334\n",
            "10/14/2020 13:40:22 - INFO - __main__ -   Hits @1: 0.13333333333333333\n",
            "10/14/2020 13:40:22 - INFO - __main__ -   Hits left @3: 0.38333333333333336\n",
            "10/14/2020 13:40:22 - INFO - __main__ -   Hits right @3: 0.6\n",
            "10/14/2020 13:40:22 - INFO - __main__ -   Hits @3: 0.49166666666666664\n",
            "10/14/2020 13:40:22 - INFO - __main__ -   Hits left @10: 0.45\n",
            "10/14/2020 13:40:22 - INFO - __main__ -   Hits right @10: 0.8333333333333334\n",
            "10/14/2020 13:40:22 - INFO - __main__ -   Hits @10: 0.6416666666666667\n",
            "10/14/2020 13:40:22 - INFO - __main__ -   Mean rank left: 27.116666666666667\n",
            "10/14/2020 13:40:22 - INFO - __main__ -   Mean rank right: 5.6\n",
            "10/14/2020 13:40:22 - INFO - __main__ -   Mean rank: 16.358333333333334\n",
            "10/14/2020 13:40:22 - INFO - __main__ -   Mean reciprocal rank left: 0.23025122701187437\n",
            "10/14/2020 13:40:22 - INFO - __main__ -   Mean reciprocal rank right: 0.4427544171124694\n",
            "10/14/2020 13:40:22 - INFO - __main__ -   Mean reciprocal rank: 0.3365028220621718\n"
          ],
          "name": "stderr"
        },
        {
          "output_type": "stream",
          "text": [
            "right:  28\n",
            "mean rank until now:  16.358333333333334\n",
            "hit@10 until now:  0.6416666666666667\n",
            "264\n"
          ],
          "name": "stdout"
        },
        {
          "output_type": "stream",
          "text": [
            "Testing: 100%|██████████| 1/1 [00:00<00:00,  1.35it/s]\n"
          ],
          "name": "stderr"
        },
        {
          "output_type": "stream",
          "text": [
            "left:  11\n"
          ],
          "name": "stdout"
        },
        {
          "output_type": "stream",
          "text": [
            "Testing: 100%|██████████| 1/1 [00:00<00:00,  1.24it/s]\n",
            "10/14/2020 13:40:24 - INFO - __main__ -   Hits left @1: 0.03278688524590164\n",
            "10/14/2020 13:40:24 - INFO - __main__ -   Hits right @1: 0.22950819672131148\n",
            "10/14/2020 13:40:24 - INFO - __main__ -   Hits @1: 0.13114754098360656\n",
            "10/14/2020 13:40:24 - INFO - __main__ -   Hits left @3: 0.3770491803278688\n",
            "10/14/2020 13:40:24 - INFO - __main__ -   Hits right @3: 0.6065573770491803\n",
            "10/14/2020 13:40:24 - INFO - __main__ -   Hits @3: 0.4918032786885246\n",
            "10/14/2020 13:40:24 - INFO - __main__ -   Hits left @10: 0.4426229508196721\n",
            "10/14/2020 13:40:24 - INFO - __main__ -   Hits right @10: 0.8360655737704918\n",
            "10/14/2020 13:40:24 - INFO - __main__ -   Hits @10: 0.639344262295082\n",
            "10/14/2020 13:40:24 - INFO - __main__ -   Mean rank left: 26.868852459016395\n",
            "10/14/2020 13:40:24 - INFO - __main__ -   Mean rank right: 5.557377049180328\n",
            "10/14/2020 13:40:24 - INFO - __main__ -   Mean rank: 16.21311475409836\n",
            "10/14/2020 13:40:24 - INFO - __main__ -   Mean reciprocal rank left: 0.22784273695157042\n",
            "10/14/2020 13:40:24 - INFO - __main__ -   Mean reciprocal rank right: 0.44096062885379494\n",
            "10/14/2020 13:40:24 - INFO - __main__ -   Mean reciprocal rank: 0.3344016829026827\n"
          ],
          "name": "stderr"
        },
        {
          "output_type": "stream",
          "text": [
            "right:  2\n",
            "mean rank until now:  16.21311475409836\n",
            "hit@10 until now:  0.639344262295082\n",
            "241\n"
          ],
          "name": "stdout"
        },
        {
          "output_type": "stream",
          "text": [
            "Testing: 100%|██████████| 1/1 [00:00<00:00,  1.48it/s]\n"
          ],
          "name": "stderr"
        },
        {
          "output_type": "stream",
          "text": [
            "left:  7\n"
          ],
          "name": "stdout"
        },
        {
          "output_type": "stream",
          "text": [
            "Testing: 100%|██████████| 1/1 [00:00<00:00,  1.25it/s]\n",
            "10/14/2020 13:40:26 - INFO - __main__ -   Hits left @1: 0.03225806451612903\n",
            "10/14/2020 13:40:26 - INFO - __main__ -   Hits right @1: 0.24193548387096775\n",
            "10/14/2020 13:40:26 - INFO - __main__ -   Hits @1: 0.13709677419354838\n",
            "10/14/2020 13:40:26 - INFO - __main__ -   Hits left @3: 0.3709677419354839\n",
            "10/14/2020 13:40:26 - INFO - __main__ -   Hits right @3: 0.6129032258064516\n",
            "10/14/2020 13:40:26 - INFO - __main__ -   Hits @3: 0.49193548387096775\n",
            "10/14/2020 13:40:26 - INFO - __main__ -   Hits left @10: 0.45161290322580644\n",
            "10/14/2020 13:40:26 - INFO - __main__ -   Hits right @10: 0.8387096774193549\n",
            "10/14/2020 13:40:26 - INFO - __main__ -   Hits @10: 0.6451612903225806\n",
            "10/14/2020 13:40:26 - INFO - __main__ -   Mean rank left: 26.56451612903226\n",
            "10/14/2020 13:40:26 - INFO - __main__ -   Mean rank right: 5.483870967741935\n",
            "10/14/2020 13:40:26 - INFO - __main__ -   Mean rank: 16.024193548387096\n",
            "10/14/2020 13:40:26 - INFO - __main__ -   Mean reciprocal rank left: 0.22618398312977092\n",
            "10/14/2020 13:40:26 - INFO - __main__ -   Mean reciprocal rank right: 0.4499773929045402\n",
            "10/14/2020 13:40:26 - INFO - __main__ -   Mean reciprocal rank: 0.3380806880171556\n"
          ],
          "name": "stderr"
        },
        {
          "output_type": "stream",
          "text": [
            "right:  0\n",
            "mean rank until now:  16.024193548387096\n",
            "hit@10 until now:  0.6451612903225806\n",
            "171\n"
          ],
          "name": "stdout"
        },
        {
          "output_type": "stream",
          "text": [
            "Testing: 100%|██████████| 1/1 [00:00<00:00,  2.08it/s]\n"
          ],
          "name": "stderr"
        },
        {
          "output_type": "stream",
          "text": [
            "left:  1\n"
          ],
          "name": "stdout"
        },
        {
          "output_type": "stream",
          "text": [
            "Testing: 100%|██████████| 1/1 [00:00<00:00,  1.24it/s]\n",
            "10/14/2020 13:40:29 - INFO - __main__ -   Hits left @1: 0.031746031746031744\n",
            "10/14/2020 13:40:29 - INFO - __main__ -   Hits right @1: 0.23809523809523808\n",
            "10/14/2020 13:40:29 - INFO - __main__ -   Hits @1: 0.1349206349206349\n",
            "10/14/2020 13:40:29 - INFO - __main__ -   Hits left @3: 0.38095238095238093\n",
            "10/14/2020 13:40:29 - INFO - __main__ -   Hits right @3: 0.6190476190476191\n",
            "10/14/2020 13:40:29 - INFO - __main__ -   Hits @3: 0.5\n",
            "10/14/2020 13:40:29 - INFO - __main__ -   Hits left @10: 0.4603174603174603\n",
            "10/14/2020 13:40:29 - INFO - __main__ -   Hits right @10: 0.8412698412698413\n",
            "10/14/2020 13:40:29 - INFO - __main__ -   Hits @10: 0.6507936507936508\n",
            "10/14/2020 13:40:29 - INFO - __main__ -   Mean rank left: 26.174603174603174\n",
            "10/14/2020 13:40:29 - INFO - __main__ -   Mean rank right: 5.428571428571429\n",
            "10/14/2020 13:40:29 - INFO - __main__ -   Mean rank: 15.801587301587302\n",
            "10/14/2020 13:40:29 - INFO - __main__ -   Mean reciprocal rank left: 0.23053026911183805\n",
            "10/14/2020 13:40:29 - INFO - __main__ -   Mean reciprocal rank right: 0.4507714025409761\n",
            "10/14/2020 13:40:29 - INFO - __main__ -   Mean reciprocal rank: 0.34065083582640704\n"
          ],
          "name": "stderr"
        },
        {
          "output_type": "stream",
          "text": [
            "right:  1\n",
            "mean rank until now:  15.801587301587302\n",
            "hit@10 until now:  0.6507936507936508\n",
            "241\n"
          ],
          "name": "stdout"
        },
        {
          "output_type": "stream",
          "text": [
            "Testing: 100%|██████████| 1/1 [00:00<00:00,  1.48it/s]\n"
          ],
          "name": "stderr"
        },
        {
          "output_type": "stream",
          "text": [
            "left:  0\n"
          ],
          "name": "stdout"
        },
        {
          "output_type": "stream",
          "text": [
            "Testing: 100%|██████████| 1/1 [00:00<00:00,  1.24it/s]\n",
            "10/14/2020 13:40:31 - INFO - __main__ -   Hits left @1: 0.046875\n",
            "10/14/2020 13:40:31 - INFO - __main__ -   Hits right @1: 0.234375\n",
            "10/14/2020 13:40:31 - INFO - __main__ -   Hits @1: 0.140625\n",
            "10/14/2020 13:40:31 - INFO - __main__ -   Hits left @3: 0.390625\n",
            "10/14/2020 13:40:31 - INFO - __main__ -   Hits right @3: 0.609375\n",
            "10/14/2020 13:40:31 - INFO - __main__ -   Hits @3: 0.5\n",
            "10/14/2020 13:40:31 - INFO - __main__ -   Hits left @10: 0.46875\n",
            "10/14/2020 13:40:31 - INFO - __main__ -   Hits right @10: 0.84375\n",
            "10/14/2020 13:40:31 - INFO - __main__ -   Hits @10: 0.65625\n",
            "10/14/2020 13:40:31 - INFO - __main__ -   Mean rank left: 25.78125\n",
            "10/14/2020 13:40:31 - INFO - __main__ -   Mean rank right: 5.40625\n",
            "10/14/2020 13:40:31 - INFO - __main__ -   Mean rank: 15.59375\n",
            "10/14/2020 13:40:31 - INFO - __main__ -   Mean reciprocal rank left: 0.24255323365696554\n",
            "10/14/2020 13:40:31 - INFO - __main__ -   Mean reciprocal rank right: 0.44763434937627333\n",
            "10/14/2020 13:40:31 - INFO - __main__ -   Mean reciprocal rank: 0.3450937915166194\n"
          ],
          "name": "stderr"
        },
        {
          "output_type": "stream",
          "text": [
            "right:  3\n",
            "mean rank until now:  15.59375\n",
            "hit@10 until now:  0.65625\n",
            "171\n"
          ],
          "name": "stdout"
        },
        {
          "output_type": "stream",
          "text": [
            "Testing: 100%|██████████| 1/1 [00:00<00:00,  2.08it/s]\n"
          ],
          "name": "stderr"
        },
        {
          "output_type": "stream",
          "text": [
            "left:  1\n"
          ],
          "name": "stdout"
        },
        {
          "output_type": "stream",
          "text": [
            "Testing: 100%|██████████| 1/1 [00:00<00:00,  1.25it/s]\n",
            "10/14/2020 13:40:33 - INFO - __main__ -   Hits left @1: 0.046153846153846156\n",
            "10/14/2020 13:40:33 - INFO - __main__ -   Hits right @1: 0.23076923076923078\n",
            "10/14/2020 13:40:33 - INFO - __main__ -   Hits @1: 0.13846153846153847\n",
            "10/14/2020 13:40:33 - INFO - __main__ -   Hits left @3: 0.4\n",
            "10/14/2020 13:40:33 - INFO - __main__ -   Hits right @3: 0.6153846153846154\n",
            "10/14/2020 13:40:33 - INFO - __main__ -   Hits @3: 0.5076923076923077\n",
            "10/14/2020 13:40:33 - INFO - __main__ -   Hits left @10: 0.47692307692307695\n",
            "10/14/2020 13:40:33 - INFO - __main__ -   Hits right @10: 0.8461538461538461\n",
            "10/14/2020 13:40:33 - INFO - __main__ -   Hits @10: 0.6615384615384615\n",
            "10/14/2020 13:40:33 - INFO - __main__ -   Mean rank left: 25.415384615384614\n",
            "10/14/2020 13:40:33 - INFO - __main__ -   Mean rank right: 5.3538461538461535\n",
            "10/14/2020 13:40:33 - INFO - __main__ -   Mean rank: 15.384615384615385\n",
            "10/14/2020 13:40:33 - INFO - __main__ -   Mean reciprocal rank left: 0.2465139531391661\n",
            "10/14/2020 13:40:33 - INFO - __main__ -   Mean reciprocal rank right: 0.44843997477048453\n",
            "10/14/2020 13:40:33 - INFO - __main__ -   Mean reciprocal rank: 0.3474769639548253\n"
          ],
          "name": "stderr"
        },
        {
          "output_type": "stream",
          "text": [
            "right:  1\n",
            "mean rank until now:  15.384615384615385\n",
            "hit@10 until now:  0.6615384615384615\n",
            "287\n"
          ],
          "name": "stdout"
        },
        {
          "output_type": "stream",
          "text": [
            "Testing: 100%|██████████| 1/1 [00:00<00:00,  1.25it/s]\n"
          ],
          "name": "stderr"
        },
        {
          "output_type": "stream",
          "text": [
            "left:  52\n"
          ],
          "name": "stdout"
        },
        {
          "output_type": "stream",
          "text": [
            "Testing: 100%|██████████| 1/1 [00:00<00:00,  1.25it/s]\n",
            "10/14/2020 13:40:36 - INFO - __main__ -   Hits left @1: 0.045454545454545456\n",
            "10/14/2020 13:40:36 - INFO - __main__ -   Hits right @1: 0.22727272727272727\n",
            "10/14/2020 13:40:36 - INFO - __main__ -   Hits @1: 0.13636363636363635\n",
            "10/14/2020 13:40:36 - INFO - __main__ -   Hits left @3: 0.3939393939393939\n",
            "10/14/2020 13:40:36 - INFO - __main__ -   Hits right @3: 0.6060606060606061\n",
            "10/14/2020 13:40:36 - INFO - __main__ -   Hits @3: 0.5\n",
            "10/14/2020 13:40:36 - INFO - __main__ -   Hits left @10: 0.4696969696969697\n",
            "10/14/2020 13:40:36 - INFO - __main__ -   Hits right @10: 0.8333333333333334\n",
            "10/14/2020 13:40:36 - INFO - __main__ -   Hits @10: 0.6515151515151515\n",
            "10/14/2020 13:40:36 - INFO - __main__ -   Mean rank left: 25.833333333333332\n",
            "10/14/2020 13:40:36 - INFO - __main__ -   Mean rank right: 5.757575757575758\n",
            "10/14/2020 13:40:36 - INFO - __main__ -   Mean rank: 15.795454545454545\n",
            "10/14/2020 13:40:36 - INFO - __main__ -   Mean reciprocal rank left: 0.24306477088748632\n",
            "10/14/2020 13:40:36 - INFO - __main__ -   Mean reciprocal rank right: 0.4421189145466893\n",
            "10/14/2020 13:40:36 - INFO - __main__ -   Mean reciprocal rank: 0.34259184271708776\n"
          ],
          "name": "stderr"
        },
        {
          "output_type": "stream",
          "text": [
            "right:  31\n",
            "mean rank until now:  15.795454545454545\n",
            "hit@10 until now:  0.6515151515151515\n",
            "281\n"
          ],
          "name": "stdout"
        },
        {
          "output_type": "stream",
          "text": [
            "Testing: 100%|██████████| 1/1 [00:00<00:00,  1.29it/s]\n"
          ],
          "name": "stderr"
        },
        {
          "output_type": "stream",
          "text": [
            "left:  70\n"
          ],
          "name": "stdout"
        },
        {
          "output_type": "stream",
          "text": [
            "Testing: 100%|██████████| 1/1 [00:00<00:00,  1.24it/s]\n",
            "10/14/2020 13:40:38 - INFO - __main__ -   Hits left @1: 0.04477611940298507\n",
            "10/14/2020 13:40:38 - INFO - __main__ -   Hits right @1: 0.22388059701492538\n",
            "10/14/2020 13:40:38 - INFO - __main__ -   Hits @1: 0.13432835820895522\n",
            "10/14/2020 13:40:38 - INFO - __main__ -   Hits left @3: 0.3880597014925373\n",
            "10/14/2020 13:40:38 - INFO - __main__ -   Hits right @3: 0.6119402985074627\n",
            "10/14/2020 13:40:38 - INFO - __main__ -   Hits @3: 0.5\n",
            "10/14/2020 13:40:38 - INFO - __main__ -   Hits left @10: 0.4626865671641791\n",
            "10/14/2020 13:40:38 - INFO - __main__ -   Hits right @10: 0.835820895522388\n",
            "10/14/2020 13:40:38 - INFO - __main__ -   Hits @10: 0.6492537313432836\n",
            "10/14/2020 13:40:38 - INFO - __main__ -   Mean rank left: 26.507462686567163\n",
            "10/14/2020 13:40:38 - INFO - __main__ -   Mean rank right: 5.701492537313433\n",
            "10/14/2020 13:40:38 - INFO - __main__ -   Mean rank: 16.104477611940297\n",
            "10/14/2020 13:40:38 - INFO - __main__ -   Mean reciprocal rank left: 0.23964715500919925\n",
            "10/14/2020 13:40:38 - INFO - __main__ -   Mean reciprocal rank right: 0.4429828113444999\n",
            "10/14/2020 13:40:38 - INFO - __main__ -   Mean reciprocal rank: 0.34131498317684955\n"
          ],
          "name": "stderr"
        },
        {
          "output_type": "stream",
          "text": [
            "right:  1\n",
            "mean rank until now:  16.104477611940297\n",
            "hit@10 until now:  0.6492537313432836\n",
            "284\n"
          ],
          "name": "stdout"
        },
        {
          "output_type": "stream",
          "text": [
            "Testing: 100%|██████████| 1/1 [00:00<00:00,  1.29it/s]\n"
          ],
          "name": "stderr"
        },
        {
          "output_type": "stream",
          "text": [
            "left:  1\n"
          ],
          "name": "stdout"
        },
        {
          "output_type": "stream",
          "text": [
            "Testing: 100%|██████████| 1/1 [00:00<00:00,  1.25it/s]\n",
            "10/14/2020 13:40:41 - INFO - __main__ -   Hits left @1: 0.04411764705882353\n",
            "10/14/2020 13:40:41 - INFO - __main__ -   Hits right @1: 0.22058823529411764\n",
            "10/14/2020 13:40:41 - INFO - __main__ -   Hits @1: 0.1323529411764706\n",
            "10/14/2020 13:40:41 - INFO - __main__ -   Hits left @3: 0.39705882352941174\n",
            "10/14/2020 13:40:41 - INFO - __main__ -   Hits right @3: 0.6176470588235294\n",
            "10/14/2020 13:40:41 - INFO - __main__ -   Hits @3: 0.5073529411764706\n",
            "10/14/2020 13:40:41 - INFO - __main__ -   Hits left @10: 0.47058823529411764\n",
            "10/14/2020 13:40:41 - INFO - __main__ -   Hits right @10: 0.8382352941176471\n",
            "10/14/2020 13:40:41 - INFO - __main__ -   Hits @10: 0.6544117647058824\n",
            "10/14/2020 13:40:41 - INFO - __main__ -   Mean rank left: 26.147058823529413\n",
            "10/14/2020 13:40:41 - INFO - __main__ -   Mean rank right: 5.661764705882353\n",
            "10/14/2020 13:40:41 - INFO - __main__ -   Mean rank: 15.904411764705882\n",
            "10/14/2020 13:40:41 - INFO - __main__ -   Mean reciprocal rank left: 0.2434758733178875\n",
            "10/14/2020 13:40:41 - INFO - __main__ -   Mean reciprocal rank right: 0.44137031902080626\n",
            "10/14/2020 13:40:41 - INFO - __main__ -   Mean reciprocal rank: 0.34242309616934685\n"
          ],
          "name": "stderr"
        },
        {
          "output_type": "stream",
          "text": [
            "right:  2\n",
            "mean rank until now:  15.904411764705882\n",
            "hit@10 until now:  0.6544117647058824\n",
            "257\n"
          ],
          "name": "stdout"
        },
        {
          "output_type": "stream",
          "text": [
            "Testing: 100%|██████████| 1/1 [00:00<00:00,  1.41it/s]\n"
          ],
          "name": "stderr"
        },
        {
          "output_type": "stream",
          "text": [
            "left:  1\n"
          ],
          "name": "stdout"
        },
        {
          "output_type": "stream",
          "text": [
            "Testing: 100%|██████████| 1/1 [00:00<00:00,  1.25it/s]\n",
            "10/14/2020 13:40:43 - INFO - __main__ -   Hits left @1: 0.043478260869565216\n",
            "10/14/2020 13:40:43 - INFO - __main__ -   Hits right @1: 0.2318840579710145\n",
            "10/14/2020 13:40:43 - INFO - __main__ -   Hits @1: 0.13768115942028986\n",
            "10/14/2020 13:40:43 - INFO - __main__ -   Hits left @3: 0.4057971014492754\n",
            "10/14/2020 13:40:43 - INFO - __main__ -   Hits right @3: 0.6231884057971014\n",
            "10/14/2020 13:40:43 - INFO - __main__ -   Hits @3: 0.5144927536231884\n",
            "10/14/2020 13:40:43 - INFO - __main__ -   Hits left @10: 0.4782608695652174\n",
            "10/14/2020 13:40:43 - INFO - __main__ -   Hits right @10: 0.8405797101449275\n",
            "10/14/2020 13:40:43 - INFO - __main__ -   Hits @10: 0.6594202898550725\n",
            "10/14/2020 13:40:43 - INFO - __main__ -   Mean rank left: 25.797101449275363\n",
            "10/14/2020 13:40:43 - INFO - __main__ -   Mean rank right: 5.594202898550725\n",
            "10/14/2020 13:40:43 - INFO - __main__ -   Mean rank: 15.695652173913043\n",
            "10/14/2020 13:40:43 - INFO - __main__ -   Mean reciprocal rank left: 0.24719361428429493\n",
            "10/14/2020 13:40:43 - INFO - __main__ -   Mean reciprocal rank right: 0.44946640135383803\n",
            "10/14/2020 13:40:43 - INFO - __main__ -   Mean reciprocal rank: 0.3483300078190665\n"
          ],
          "name": "stderr"
        },
        {
          "output_type": "stream",
          "text": [
            "right:  0\n",
            "mean rank until now:  15.695652173913043\n",
            "hit@10 until now:  0.6594202898550725\n",
            "270\n"
          ],
          "name": "stdout"
        },
        {
          "output_type": "stream",
          "text": [
            "Testing: 100%|██████████| 1/1 [00:00<00:00,  1.32it/s]\n"
          ],
          "name": "stderr"
        },
        {
          "output_type": "stream",
          "text": [
            "left:  44\n"
          ],
          "name": "stdout"
        },
        {
          "output_type": "stream",
          "text": [
            "Testing: 100%|██████████| 1/1 [00:00<00:00,  1.24it/s]\n",
            "10/14/2020 13:40:46 - INFO - __main__ -   Hits left @1: 0.04285714285714286\n",
            "10/14/2020 13:40:46 - INFO - __main__ -   Hits right @1: 0.22857142857142856\n",
            "10/14/2020 13:40:46 - INFO - __main__ -   Hits @1: 0.1357142857142857\n",
            "10/14/2020 13:40:46 - INFO - __main__ -   Hits left @3: 0.4\n",
            "10/14/2020 13:40:46 - INFO - __main__ -   Hits right @3: 0.6142857142857143\n",
            "10/14/2020 13:40:46 - INFO - __main__ -   Hits @3: 0.5071428571428571\n",
            "10/14/2020 13:40:46 - INFO - __main__ -   Hits left @10: 0.4714285714285714\n",
            "10/14/2020 13:40:46 - INFO - __main__ -   Hits right @10: 0.8285714285714286\n",
            "10/14/2020 13:40:46 - INFO - __main__ -   Hits @10: 0.65\n",
            "10/14/2020 13:40:46 - INFO - __main__ -   Mean rank left: 26.071428571428573\n",
            "10/14/2020 13:40:46 - INFO - __main__ -   Mean rank right: 5.714285714285714\n",
            "10/14/2020 13:40:46 - INFO - __main__ -   Mean rank: 15.892857142857142\n",
            "10/14/2020 13:40:46 - INFO - __main__ -   Mean reciprocal rank left: 0.24397973725483674\n",
            "10/14/2020 13:40:46 - INFO - __main__ -   Mean reciprocal rank right: 0.44406586092633427\n",
            "10/14/2020 13:40:46 - INFO - __main__ -   Mean reciprocal rank: 0.34402279909058553\n"
          ],
          "name": "stderr"
        },
        {
          "output_type": "stream",
          "text": [
            "right:  13\n",
            "mean rank until now:  15.892857142857142\n",
            "hit@10 until now:  0.65\n",
            "241\n"
          ],
          "name": "stdout"
        },
        {
          "output_type": "stream",
          "text": [
            "Testing: 100%|██████████| 1/1 [00:00<00:00,  1.48it/s]\n"
          ],
          "name": "stderr"
        },
        {
          "output_type": "stream",
          "text": [
            "left:  7\n"
          ],
          "name": "stdout"
        },
        {
          "output_type": "stream",
          "text": [
            "Testing: 100%|██████████| 1/1 [00:00<00:00,  1.25it/s]\n",
            "10/14/2020 13:40:48 - INFO - __main__ -   Hits left @1: 0.04225352112676056\n",
            "10/14/2020 13:40:48 - INFO - __main__ -   Hits right @1: 0.22535211267605634\n",
            "10/14/2020 13:40:48 - INFO - __main__ -   Hits @1: 0.13380281690140844\n",
            "10/14/2020 13:40:48 - INFO - __main__ -   Hits left @3: 0.39436619718309857\n",
            "10/14/2020 13:40:48 - INFO - __main__ -   Hits right @3: 0.6056338028169014\n",
            "10/14/2020 13:40:48 - INFO - __main__ -   Hits @3: 0.5\n",
            "10/14/2020 13:40:48 - INFO - __main__ -   Hits left @10: 0.4788732394366197\n",
            "10/14/2020 13:40:48 - INFO - __main__ -   Hits right @10: 0.8309859154929577\n",
            "10/14/2020 13:40:48 - INFO - __main__ -   Hits @10: 0.6549295774647887\n",
            "10/14/2020 13:40:48 - INFO - __main__ -   Mean rank left: 25.816901408450704\n",
            "10/14/2020 13:40:48 - INFO - __main__ -   Mean rank right: 5.690140845070423\n",
            "10/14/2020 13:40:48 - INFO - __main__ -   Mean rank: 15.753521126760564\n",
            "10/14/2020 13:40:48 - INFO - __main__ -   Mean reciprocal rank left: 0.24230396630758552\n",
            "10/14/2020 13:40:48 - INFO - __main__ -   Mean reciprocal rank right: 0.4413325389414563\n",
            "10/14/2020 13:40:48 - INFO - __main__ -   Mean reciprocal rank: 0.3418182526245209\n"
          ],
          "name": "stderr"
        },
        {
          "output_type": "stream",
          "text": [
            "right:  3\n",
            "mean rank until now:  15.753521126760564\n",
            "hit@10 until now:  0.6549295774647887\n",
            "288\n"
          ],
          "name": "stdout"
        },
        {
          "output_type": "stream",
          "text": [
            "Testing: 100%|██████████| 1/1 [00:00<00:00,  1.25it/s]\n"
          ],
          "name": "stderr"
        },
        {
          "output_type": "stream",
          "text": [
            "left:  7\n"
          ],
          "name": "stdout"
        },
        {
          "output_type": "stream",
          "text": [
            "Testing: 100%|██████████| 1/1 [00:00<00:00,  1.24it/s]\n",
            "10/14/2020 13:40:51 - INFO - __main__ -   Hits left @1: 0.041666666666666664\n",
            "10/14/2020 13:40:51 - INFO - __main__ -   Hits right @1: 0.2222222222222222\n",
            "10/14/2020 13:40:51 - INFO - __main__ -   Hits @1: 0.13194444444444445\n",
            "10/14/2020 13:40:51 - INFO - __main__ -   Hits left @3: 0.3888888888888889\n",
            "10/14/2020 13:40:51 - INFO - __main__ -   Hits right @3: 0.5972222222222222\n",
            "10/14/2020 13:40:51 - INFO - __main__ -   Hits @3: 0.4930555555555556\n",
            "10/14/2020 13:40:51 - INFO - __main__ -   Hits left @10: 0.4861111111111111\n",
            "10/14/2020 13:40:51 - INFO - __main__ -   Hits right @10: 0.8333333333333334\n",
            "10/14/2020 13:40:51 - INFO - __main__ -   Hits @10: 0.6597222222222222\n",
            "10/14/2020 13:40:51 - INFO - __main__ -   Mean rank left: 25.569444444444443\n",
            "10/14/2020 13:40:51 - INFO - __main__ -   Mean rank right: 5.694444444444445\n",
            "10/14/2020 13:40:51 - INFO - __main__ -   Mean rank: 15.631944444444445\n",
            "10/14/2020 13:40:51 - INFO - __main__ -   Mean reciprocal rank left: 0.2406747445533135\n",
            "10/14/2020 13:40:51 - INFO - __main__ -   Mean reciprocal rank right: 0.43751773515986203\n",
            "10/14/2020 13:40:51 - INFO - __main__ -   Mean reciprocal rank: 0.33909623985658777\n"
          ],
          "name": "stderr"
        },
        {
          "output_type": "stream",
          "text": [
            "right:  5\n",
            "mean rank until now:  15.631944444444445\n",
            "hit@10 until now:  0.6597222222222222\n",
            "250\n"
          ],
          "name": "stdout"
        },
        {
          "output_type": "stream",
          "text": [
            "Testing: 100%|██████████| 1/1 [00:00<00:00,  1.43it/s]\n"
          ],
          "name": "stderr"
        },
        {
          "output_type": "stream",
          "text": [
            "left:  48\n"
          ],
          "name": "stdout"
        },
        {
          "output_type": "stream",
          "text": [
            "Testing: 100%|██████████| 1/1 [00:00<00:00,  1.25it/s]\n",
            "10/14/2020 13:40:53 - INFO - __main__ -   Hits left @1: 0.0410958904109589\n",
            "10/14/2020 13:40:53 - INFO - __main__ -   Hits right @1: 0.2191780821917808\n",
            "10/14/2020 13:40:53 - INFO - __main__ -   Hits @1: 0.13013698630136986\n",
            "10/14/2020 13:40:53 - INFO - __main__ -   Hits left @3: 0.3835616438356164\n",
            "10/14/2020 13:40:53 - INFO - __main__ -   Hits right @3: 0.6027397260273972\n",
            "10/14/2020 13:40:53 - INFO - __main__ -   Hits @3: 0.4931506849315068\n",
            "10/14/2020 13:40:53 - INFO - __main__ -   Hits left @10: 0.4794520547945205\n",
            "10/14/2020 13:40:53 - INFO - __main__ -   Hits right @10: 0.8356164383561644\n",
            "10/14/2020 13:40:53 - INFO - __main__ -   Hits @10: 0.6575342465753424\n",
            "10/14/2020 13:40:53 - INFO - __main__ -   Mean rank left: 25.89041095890411\n",
            "10/14/2020 13:40:53 - INFO - __main__ -   Mean rank right: 5.6438356164383565\n",
            "10/14/2020 13:40:53 - INFO - __main__ -   Mean rank: 15.767123287671232\n",
            "10/14/2020 13:40:53 - INFO - __main__ -   Mean reciprocal rank left: 0.23765739412471065\n",
            "10/14/2020 13:40:53 - INFO - __main__ -   Mean reciprocal rank right: 0.4383736565960283\n",
            "10/14/2020 13:40:53 - INFO - __main__ -   Mean reciprocal rank: 0.33801552536036944\n"
          ],
          "name": "stderr"
        },
        {
          "output_type": "stream",
          "text": [
            "right:  1\n",
            "mean rank until now:  15.767123287671232\n",
            "hit@10 until now:  0.6575342465753424\n",
            "262\n"
          ],
          "name": "stdout"
        },
        {
          "output_type": "stream",
          "text": [
            "Testing: 100%|██████████| 1/1 [00:00<00:00,  1.39it/s]\n"
          ],
          "name": "stderr"
        },
        {
          "output_type": "stream",
          "text": [
            "left:  70\n"
          ],
          "name": "stdout"
        },
        {
          "output_type": "stream",
          "text": [
            "Testing: 100%|██████████| 1/1 [00:00<00:00,  1.25it/s]\n",
            "10/14/2020 13:40:55 - INFO - __main__ -   Hits left @1: 0.04054054054054054\n",
            "10/14/2020 13:40:55 - INFO - __main__ -   Hits right @1: 0.21621621621621623\n",
            "10/14/2020 13:40:55 - INFO - __main__ -   Hits @1: 0.12837837837837837\n",
            "10/14/2020 13:40:55 - INFO - __main__ -   Hits left @3: 0.3783783783783784\n",
            "10/14/2020 13:40:55 - INFO - __main__ -   Hits right @3: 0.6081081081081081\n",
            "10/14/2020 13:40:55 - INFO - __main__ -   Hits @3: 0.49324324324324326\n",
            "10/14/2020 13:40:55 - INFO - __main__ -   Hits left @10: 0.47297297297297297\n",
            "10/14/2020 13:40:55 - INFO - __main__ -   Hits right @10: 0.8378378378378378\n",
            "10/14/2020 13:40:55 - INFO - __main__ -   Hits @10: 0.6554054054054054\n",
            "10/14/2020 13:40:55 - INFO - __main__ -   Mean rank left: 26.5\n",
            "10/14/2020 13:40:55 - INFO - __main__ -   Mean rank right: 5.608108108108108\n",
            "10/14/2020 13:40:55 - INFO - __main__ -   Mean rank: 16.054054054054053\n",
            "10/14/2020 13:40:55 - INFO - __main__ -   Mean reciprocal rank left: 0.2346361388938666\n",
            "10/14/2020 13:40:55 - INFO - __main__ -   Mean reciprocal rank right: 0.43695419276815406\n",
            "10/14/2020 13:40:55 - INFO - __main__ -   Mean reciprocal rank: 0.33579516583101027\n"
          ],
          "name": "stderr"
        },
        {
          "output_type": "stream",
          "text": [
            "right:  2\n",
            "mean rank until now:  16.054054054054053\n",
            "hit@10 until now:  0.6554054054054054\n",
            "285\n"
          ],
          "name": "stdout"
        },
        {
          "output_type": "stream",
          "text": [
            "Testing: 100%|██████████| 1/1 [00:00<00:00,  1.28it/s]\n"
          ],
          "name": "stderr"
        },
        {
          "output_type": "stream",
          "text": [
            "left:  3\n"
          ],
          "name": "stdout"
        },
        {
          "output_type": "stream",
          "text": [
            "Testing: 100%|██████████| 1/1 [00:00<00:00,  1.24it/s]\n",
            "10/14/2020 13:40:58 - INFO - __main__ -   Hits left @1: 0.04\n",
            "10/14/2020 13:40:58 - INFO - __main__ -   Hits right @1: 0.21333333333333335\n",
            "10/14/2020 13:40:58 - INFO - __main__ -   Hits @1: 0.12666666666666668\n",
            "10/14/2020 13:40:58 - INFO - __main__ -   Hits left @3: 0.37333333333333335\n",
            "10/14/2020 13:40:58 - INFO - __main__ -   Hits right @3: 0.6\n",
            "10/14/2020 13:40:58 - INFO - __main__ -   Hits @3: 0.4866666666666667\n",
            "10/14/2020 13:40:58 - INFO - __main__ -   Hits left @10: 0.48\n",
            "10/14/2020 13:40:58 - INFO - __main__ -   Hits right @10: 0.8266666666666667\n",
            "10/14/2020 13:40:58 - INFO - __main__ -   Hits @10: 0.6533333333333333\n",
            "10/14/2020 13:40:58 - INFO - __main__ -   Mean rank left: 26.2\n",
            "10/14/2020 13:40:58 - INFO - __main__ -   Mean rank right: 5.746666666666667\n",
            "10/14/2020 13:40:58 - INFO - __main__ -   Mean rank: 15.973333333333333\n",
            "10/14/2020 13:40:58 - INFO - __main__ -   Mean reciprocal rank left: 0.23484099037528172\n",
            "10/14/2020 13:40:58 - INFO - __main__ -   Mean reciprocal rank right: 0.431961470197912\n",
            "10/14/2020 13:40:58 - INFO - __main__ -   Mean reciprocal rank: 0.3334012302865968\n"
          ],
          "name": "stderr"
        },
        {
          "output_type": "stream",
          "text": [
            "right:  15\n",
            "mean rank until now:  15.973333333333333\n",
            "hit@10 until now:  0.6533333333333333\n",
            "286\n"
          ],
          "name": "stdout"
        },
        {
          "output_type": "stream",
          "text": [
            "Testing: 100%|██████████| 1/1 [00:00<00:00,  1.28it/s]\n"
          ],
          "name": "stderr"
        },
        {
          "output_type": "stream",
          "text": [
            "left:  0\n"
          ],
          "name": "stdout"
        },
        {
          "output_type": "stream",
          "text": [
            "Testing: 100%|██████████| 1/1 [00:00<00:00,  1.25it/s]\n",
            "10/14/2020 13:41:01 - INFO - __main__ -   Hits left @1: 0.05263157894736842\n",
            "10/14/2020 13:41:01 - INFO - __main__ -   Hits right @1: 0.21052631578947367\n",
            "10/14/2020 13:41:01 - INFO - __main__ -   Hits @1: 0.13157894736842105\n",
            "10/14/2020 13:41:01 - INFO - __main__ -   Hits left @3: 0.3815789473684211\n",
            "10/14/2020 13:41:01 - INFO - __main__ -   Hits right @3: 0.5921052631578947\n",
            "10/14/2020 13:41:01 - INFO - __main__ -   Hits @3: 0.4868421052631579\n",
            "10/14/2020 13:41:01 - INFO - __main__ -   Hits left @10: 0.4868421052631579\n",
            "10/14/2020 13:41:01 - INFO - __main__ -   Hits right @10: 0.8289473684210527\n",
            "10/14/2020 13:41:01 - INFO - __main__ -   Hits @10: 0.6578947368421053\n",
            "10/14/2020 13:41:01 - INFO - __main__ -   Mean rank left: 25.86842105263158\n",
            "10/14/2020 13:41:01 - INFO - __main__ -   Mean rank right: 5.723684210526316\n",
            "10/14/2020 13:41:01 - INFO - __main__ -   Mean rank: 15.796052631578947\n",
            "10/14/2020 13:41:01 - INFO - __main__ -   Mean reciprocal rank left: 0.24490887208087012\n",
            "10/14/2020 13:41:01 - INFO - __main__ -   Mean reciprocal rank right: 0.4295672403268868\n",
            "10/14/2020 13:41:01 - INFO - __main__ -   Mean reciprocal rank: 0.3372380562038785\n"
          ],
          "name": "stderr"
        },
        {
          "output_type": "stream",
          "text": [
            "right:  3\n",
            "mean rank until now:  15.796052631578947\n",
            "hit@10 until now:  0.6578947368421053\n",
            "267\n"
          ],
          "name": "stdout"
        },
        {
          "output_type": "stream",
          "text": [
            "Testing: 100%|██████████| 1/1 [00:00<00:00,  1.34it/s]\n"
          ],
          "name": "stderr"
        },
        {
          "output_type": "stream",
          "text": [
            "left:  37\n"
          ],
          "name": "stdout"
        },
        {
          "output_type": "stream",
          "text": [
            "Testing: 100%|██████████| 1/1 [00:00<00:00,  1.25it/s]\n",
            "10/14/2020 13:41:03 - INFO - __main__ -   Hits left @1: 0.05194805194805195\n",
            "10/14/2020 13:41:03 - INFO - __main__ -   Hits right @1: 0.2077922077922078\n",
            "10/14/2020 13:41:03 - INFO - __main__ -   Hits @1: 0.12987012987012986\n",
            "10/14/2020 13:41:03 - INFO - __main__ -   Hits left @3: 0.37662337662337664\n",
            "10/14/2020 13:41:03 - INFO - __main__ -   Hits right @3: 0.5844155844155844\n",
            "10/14/2020 13:41:03 - INFO - __main__ -   Hits @3: 0.4805194805194805\n",
            "10/14/2020 13:41:03 - INFO - __main__ -   Hits left @10: 0.4805194805194805\n",
            "10/14/2020 13:41:03 - INFO - __main__ -   Hits right @10: 0.8311688311688312\n",
            "10/14/2020 13:41:03 - INFO - __main__ -   Hits @10: 0.6558441558441559\n",
            "10/14/2020 13:41:03 - INFO - __main__ -   Mean rank left: 26.025974025974026\n",
            "10/14/2020 13:41:03 - INFO - __main__ -   Mean rank right: 5.766233766233766\n",
            "10/14/2020 13:41:03 - INFO - __main__ -   Mean rank: 15.896103896103897\n",
            "10/14/2020 13:41:03 - INFO - __main__ -   Mean reciprocal rank left: 0.2420700008781794\n",
            "10/14/2020 13:41:03 - INFO - __main__ -   Mean reciprocal rank right: 0.4254314464409677\n",
            "10/14/2020 13:41:03 - INFO - __main__ -   Mean reciprocal rank: 0.3337507236595735\n"
          ],
          "name": "stderr"
        },
        {
          "output_type": "stream",
          "text": [
            "right:  8\n",
            "mean rank until now:  15.896103896103897\n",
            "hit@10 until now:  0.6558441558441559\n",
            "171\n"
          ],
          "name": "stdout"
        },
        {
          "output_type": "stream",
          "text": [
            "Testing: 100%|██████████| 1/1 [00:00<00:00,  2.07it/s]\n"
          ],
          "name": "stderr"
        },
        {
          "output_type": "stream",
          "text": [
            "left:  1\n"
          ],
          "name": "stdout"
        },
        {
          "output_type": "stream",
          "text": [
            "Testing: 100%|██████████| 1/1 [00:00<00:00,  1.25it/s]\n",
            "10/14/2020 13:41:05 - INFO - __main__ -   Hits left @1: 0.05128205128205128\n",
            "10/14/2020 13:41:05 - INFO - __main__ -   Hits right @1: 0.20512820512820512\n",
            "10/14/2020 13:41:05 - INFO - __main__ -   Hits @1: 0.1282051282051282\n",
            "10/14/2020 13:41:05 - INFO - __main__ -   Hits left @3: 0.38461538461538464\n",
            "10/14/2020 13:41:05 - INFO - __main__ -   Hits right @3: 0.5897435897435898\n",
            "10/14/2020 13:41:05 - INFO - __main__ -   Hits @3: 0.48717948717948717\n",
            "10/14/2020 13:41:05 - INFO - __main__ -   Hits left @10: 0.48717948717948717\n",
            "10/14/2020 13:41:05 - INFO - __main__ -   Hits right @10: 0.8333333333333334\n",
            "10/14/2020 13:41:05 - INFO - __main__ -   Hits @10: 0.6602564102564102\n",
            "10/14/2020 13:41:05 - INFO - __main__ -   Mean rank left: 25.71794871794872\n",
            "10/14/2020 13:41:05 - INFO - __main__ -   Mean rank right: 5.717948717948718\n",
            "10/14/2020 13:41:05 - INFO - __main__ -   Mean rank: 15.717948717948717\n",
            "10/14/2020 13:41:05 - INFO - __main__ -   Mean reciprocal rank left: 0.24537679573871557\n",
            "10/14/2020 13:41:05 - INFO - __main__ -   Mean reciprocal rank right: 0.4263874535378784\n",
            "10/14/2020 13:41:05 - INFO - __main__ -   Mean reciprocal rank: 0.3358821246382969\n"
          ],
          "name": "stderr"
        },
        {
          "output_type": "stream",
          "text": [
            "right:  1\n",
            "mean rank until now:  15.717948717948717\n",
            "hit@10 until now:  0.6602564102564102\n",
            "267\n"
          ],
          "name": "stdout"
        },
        {
          "output_type": "stream",
          "text": [
            "Testing: 100%|██████████| 1/1 [00:00<00:00,  1.34it/s]\n"
          ],
          "name": "stderr"
        },
        {
          "output_type": "stream",
          "text": [
            "left:  47\n"
          ],
          "name": "stdout"
        },
        {
          "output_type": "stream",
          "text": [
            "Testing: 100%|██████████| 1/1 [00:00<00:00,  1.25it/s]\n",
            "10/14/2020 13:41:08 - INFO - __main__ -   Hits left @1: 0.05063291139240506\n",
            "10/14/2020 13:41:08 - INFO - __main__ -   Hits right @1: 0.20253164556962025\n",
            "10/14/2020 13:41:08 - INFO - __main__ -   Hits @1: 0.12658227848101267\n",
            "10/14/2020 13:41:08 - INFO - __main__ -   Hits left @3: 0.379746835443038\n",
            "10/14/2020 13:41:08 - INFO - __main__ -   Hits right @3: 0.5822784810126582\n",
            "10/14/2020 13:41:08 - INFO - __main__ -   Hits @3: 0.4810126582278481\n",
            "10/14/2020 13:41:08 - INFO - __main__ -   Hits left @10: 0.4810126582278481\n",
            "10/14/2020 13:41:08 - INFO - __main__ -   Hits right @10: 0.8354430379746836\n",
            "10/14/2020 13:41:08 - INFO - __main__ -   Hits @10: 0.6582278481012658\n",
            "10/14/2020 13:41:08 - INFO - __main__ -   Mean rank left: 26.0\n",
            "10/14/2020 13:41:08 - INFO - __main__ -   Mean rank right: 5.7594936708860756\n",
            "10/14/2020 13:41:08 - INFO - __main__ -   Mean rank: 15.879746835443038\n",
            "10/14/2020 13:41:08 - INFO - __main__ -   Mean reciprocal rank left: 0.24253447342978665\n",
            "10/14/2020 13:41:08 - INFO - __main__ -   Mean reciprocal rank right: 0.4223966137603244\n",
            "10/14/2020 13:41:08 - INFO - __main__ -   Mean reciprocal rank: 0.3324655435950555\n"
          ],
          "name": "stderr"
        },
        {
          "output_type": "stream",
          "text": [
            "right:  8\n",
            "mean rank until now:  15.879746835443038\n",
            "hit@10 until now:  0.6582278481012658\n",
            "262\n"
          ],
          "name": "stdout"
        },
        {
          "output_type": "stream",
          "text": [
            "Testing: 100%|██████████| 1/1 [00:00<00:00,  1.39it/s]\n"
          ],
          "name": "stderr"
        },
        {
          "output_type": "stream",
          "text": [
            "left:  42\n"
          ],
          "name": "stdout"
        },
        {
          "output_type": "stream",
          "text": [
            "Testing: 100%|██████████| 1/1 [00:00<00:00,  1.25it/s]\n",
            "10/14/2020 13:41:10 - INFO - __main__ -   Hits left @1: 0.05\n",
            "10/14/2020 13:41:10 - INFO - __main__ -   Hits right @1: 0.2125\n",
            "10/14/2020 13:41:10 - INFO - __main__ -   Hits @1: 0.13125\n",
            "10/14/2020 13:41:10 - INFO - __main__ -   Hits left @3: 0.375\n",
            "10/14/2020 13:41:10 - INFO - __main__ -   Hits right @3: 0.5875\n",
            "10/14/2020 13:41:10 - INFO - __main__ -   Hits @3: 0.48125\n",
            "10/14/2020 13:41:10 - INFO - __main__ -   Hits left @10: 0.475\n",
            "10/14/2020 13:41:10 - INFO - __main__ -   Hits right @10: 0.8375\n",
            "10/14/2020 13:41:10 - INFO - __main__ -   Hits @10: 0.65625\n",
            "10/14/2020 13:41:10 - INFO - __main__ -   Mean rank left: 26.2125\n",
            "10/14/2020 13:41:10 - INFO - __main__ -   Mean rank right: 5.7\n",
            "10/14/2020 13:41:10 - INFO - __main__ -   Mean rank: 15.95625\n",
            "10/14/2020 13:41:10 - INFO - __main__ -   Mean reciprocal rank left: 0.239793490186333\n",
            "10/14/2020 13:41:10 - INFO - __main__ -   Mean reciprocal rank right: 0.4296166560883202\n",
            "10/14/2020 13:41:10 - INFO - __main__ -   Mean reciprocal rank: 0.33470507313732656\n"
          ],
          "name": "stderr"
        },
        {
          "output_type": "stream",
          "text": [
            "right:  0\n",
            "mean rank until now:  15.95625\n",
            "hit@10 until now:  0.65625\n",
            "286\n"
          ],
          "name": "stdout"
        },
        {
          "output_type": "stream",
          "text": [
            "Testing: 100%|██████████| 1/1 [00:00<00:00,  1.28it/s]\n"
          ],
          "name": "stderr"
        },
        {
          "output_type": "stream",
          "text": [
            "left:  38\n"
          ],
          "name": "stdout"
        },
        {
          "output_type": "stream",
          "text": [
            "Testing: 100%|██████████| 1/1 [00:00<00:00,  1.24it/s]\n",
            "10/14/2020 13:41:13 - INFO - __main__ -   Hits left @1: 0.04938271604938271\n",
            "10/14/2020 13:41:13 - INFO - __main__ -   Hits right @1: 0.20987654320987653\n",
            "10/14/2020 13:41:13 - INFO - __main__ -   Hits @1: 0.12962962962962962\n",
            "10/14/2020 13:41:13 - INFO - __main__ -   Hits left @3: 0.37037037037037035\n",
            "10/14/2020 13:41:13 - INFO - __main__ -   Hits right @3: 0.5802469135802469\n",
            "10/14/2020 13:41:13 - INFO - __main__ -   Hits @3: 0.47530864197530864\n",
            "10/14/2020 13:41:13 - INFO - __main__ -   Hits left @10: 0.4691358024691358\n",
            "10/14/2020 13:41:13 - INFO - __main__ -   Hits right @10: 0.8395061728395061\n",
            "10/14/2020 13:41:13 - INFO - __main__ -   Hits @10: 0.654320987654321\n",
            "10/14/2020 13:41:13 - INFO - __main__ -   Mean rank left: 26.37037037037037\n",
            "10/14/2020 13:41:13 - INFO - __main__ -   Mean rank right: 5.691358024691358\n",
            "10/14/2020 13:41:13 - INFO - __main__ -   Mean rank: 16.030864197530864\n",
            "10/14/2020 13:41:13 - INFO - __main__ -   Mean reciprocal rank left: 0.2371496325993539\n",
            "10/14/2020 13:41:13 - INFO - __main__ -   Mean reciprocal rank right: 0.42678188255636573\n",
            "10/14/2020 13:41:13 - INFO - __main__ -   Mean reciprocal rank: 0.33196575757785973\n"
          ],
          "name": "stderr"
        },
        {
          "output_type": "stream",
          "text": [
            "right:  4\n",
            "mean rank until now:  16.030864197530864\n",
            "hit@10 until now:  0.654320987654321\n",
            "241\n"
          ],
          "name": "stdout"
        },
        {
          "output_type": "stream",
          "text": [
            "Testing: 100%|██████████| 1/1 [00:00<00:00,  1.48it/s]\n"
          ],
          "name": "stderr"
        },
        {
          "output_type": "stream",
          "text": [
            "left:  42\n"
          ],
          "name": "stdout"
        },
        {
          "output_type": "stream",
          "text": [
            "Testing: 100%|██████████| 1/1 [00:00<00:00,  1.25it/s]\n",
            "10/14/2020 13:41:15 - INFO - __main__ -   Hits left @1: 0.04878048780487805\n",
            "10/14/2020 13:41:15 - INFO - __main__ -   Hits right @1: 0.2073170731707317\n",
            "10/14/2020 13:41:15 - INFO - __main__ -   Hits @1: 0.12804878048780488\n",
            "10/14/2020 13:41:15 - INFO - __main__ -   Hits left @3: 0.36585365853658536\n",
            "10/14/2020 13:41:15 - INFO - __main__ -   Hits right @3: 0.573170731707317\n",
            "10/14/2020 13:41:15 - INFO - __main__ -   Hits @3: 0.4695121951219512\n",
            "10/14/2020 13:41:15 - INFO - __main__ -   Hits left @10: 0.4634146341463415\n",
            "10/14/2020 13:41:15 - INFO - __main__ -   Hits right @10: 0.8414634146341463\n",
            "10/14/2020 13:41:15 - INFO - __main__ -   Hits @10: 0.6524390243902439\n",
            "10/14/2020 13:41:15 - INFO - __main__ -   Mean rank left: 26.573170731707318\n",
            "10/14/2020 13:41:15 - INFO - __main__ -   Mean rank right: 5.682926829268292\n",
            "10/14/2020 13:41:15 - INFO - __main__ -   Mean rank: 16.128048780487806\n",
            "10/14/2020 13:41:15 - INFO - __main__ -   Mean reciprocal rank left: 0.23454117139635552\n",
            "10/14/2020 13:41:15 - INFO - __main__ -   Mean reciprocal rank right: 0.4240162498422637\n",
            "10/14/2020 13:41:15 - INFO - __main__ -   Mean reciprocal rank: 0.3292787106193095\n"
          ],
          "name": "stderr"
        },
        {
          "output_type": "stream",
          "text": [
            "right:  4\n",
            "mean rank until now:  16.128048780487806\n",
            "hit@10 until now:  0.6524390243902439\n",
            "283\n"
          ],
          "name": "stdout"
        },
        {
          "output_type": "stream",
          "text": [
            "Testing: 100%|██████████| 1/1 [00:00<00:00,  1.29it/s]\n"
          ],
          "name": "stderr"
        },
        {
          "output_type": "stream",
          "text": [
            "left:  0\n"
          ],
          "name": "stdout"
        },
        {
          "output_type": "stream",
          "text": [
            "Testing: 100%|██████████| 1/1 [00:00<00:00,  1.25it/s]\n",
            "10/14/2020 13:41:18 - INFO - __main__ -   Hits left @1: 0.060240963855421686\n",
            "10/14/2020 13:41:18 - INFO - __main__ -   Hits right @1: 0.21686746987951808\n",
            "10/14/2020 13:41:18 - INFO - __main__ -   Hits @1: 0.13855421686746988\n",
            "10/14/2020 13:41:18 - INFO - __main__ -   Hits left @3: 0.37349397590361444\n",
            "10/14/2020 13:41:18 - INFO - __main__ -   Hits right @3: 0.5783132530120482\n",
            "10/14/2020 13:41:18 - INFO - __main__ -   Hits @3: 0.4759036144578313\n",
            "10/14/2020 13:41:18 - INFO - __main__ -   Hits left @10: 0.46987951807228917\n",
            "10/14/2020 13:41:18 - INFO - __main__ -   Hits right @10: 0.8433734939759037\n",
            "10/14/2020 13:41:18 - INFO - __main__ -   Hits @10: 0.6566265060240963\n",
            "10/14/2020 13:41:18 - INFO - __main__ -   Mean rank left: 26.265060240963855\n",
            "10/14/2020 13:41:18 - INFO - __main__ -   Mean rank right: 5.626506024096385\n",
            "10/14/2020 13:41:18 - INFO - __main__ -   Mean rank: 15.94578313253012\n",
            "10/14/2020 13:41:18 - INFO - __main__ -   Mean reciprocal rank left: 0.24376356692170062\n",
            "10/14/2020 13:41:18 - INFO - __main__ -   Mean reciprocal rank right: 0.43095581309717623\n",
            "10/14/2020 13:41:18 - INFO - __main__ -   Mean reciprocal rank: 0.33735969000943833\n"
          ],
          "name": "stderr"
        },
        {
          "output_type": "stream",
          "text": [
            "right:  0\n",
            "mean rank until now:  15.94578313253012\n",
            "hit@10 until now:  0.6566265060240963\n",
            "288\n"
          ],
          "name": "stdout"
        },
        {
          "output_type": "stream",
          "text": [
            "Testing: 100%|██████████| 1/1 [00:00<00:00,  1.25it/s]\n"
          ],
          "name": "stderr"
        },
        {
          "output_type": "stream",
          "text": [
            "left:  0\n"
          ],
          "name": "stdout"
        },
        {
          "output_type": "stream",
          "text": [
            "Testing: 100%|██████████| 1/1 [00:00<00:00,  1.25it/s]\n",
            "10/14/2020 13:41:20 - INFO - __main__ -   Hits left @1: 0.07142857142857142\n",
            "10/14/2020 13:41:20 - INFO - __main__ -   Hits right @1: 0.2261904761904762\n",
            "10/14/2020 13:41:20 - INFO - __main__ -   Hits @1: 0.1488095238095238\n",
            "10/14/2020 13:41:20 - INFO - __main__ -   Hits left @3: 0.38095238095238093\n",
            "10/14/2020 13:41:20 - INFO - __main__ -   Hits right @3: 0.5833333333333334\n",
            "10/14/2020 13:41:20 - INFO - __main__ -   Hits @3: 0.48214285714285715\n",
            "10/14/2020 13:41:20 - INFO - __main__ -   Hits left @10: 0.47619047619047616\n",
            "10/14/2020 13:41:20 - INFO - __main__ -   Hits right @10: 0.8452380952380952\n",
            "10/14/2020 13:41:20 - INFO - __main__ -   Hits @10: 0.6607142857142857\n",
            "10/14/2020 13:41:20 - INFO - __main__ -   Mean rank left: 25.964285714285715\n",
            "10/14/2020 13:41:20 - INFO - __main__ -   Mean rank right: 5.571428571428571\n",
            "10/14/2020 13:41:20 - INFO - __main__ -   Mean rank: 15.767857142857142\n",
            "10/14/2020 13:41:20 - INFO - __main__ -   Mean reciprocal rank left: 0.2527663816012042\n",
            "10/14/2020 13:41:20 - INFO - __main__ -   Mean reciprocal rank right: 0.43773014865554316\n",
            "10/14/2020 13:41:20 - INFO - __main__ -   Mean reciprocal rank: 0.34524826512837364\n"
          ],
          "name": "stderr"
        },
        {
          "output_type": "stream",
          "text": [
            "right:  0\n",
            "mean rank until now:  15.767857142857142\n",
            "hit@10 until now:  0.6607142857142857\n",
            "171\n"
          ],
          "name": "stdout"
        },
        {
          "output_type": "stream",
          "text": [
            "Testing: 100%|██████████| 1/1 [00:00<00:00,  2.07it/s]\n"
          ],
          "name": "stderr"
        },
        {
          "output_type": "stream",
          "text": [
            "left:  1\n"
          ],
          "name": "stdout"
        },
        {
          "output_type": "stream",
          "text": [
            "Testing: 100%|██████████| 1/1 [00:00<00:00,  1.24it/s]\n",
            "10/14/2020 13:41:22 - INFO - __main__ -   Hits left @1: 0.07058823529411765\n",
            "10/14/2020 13:41:22 - INFO - __main__ -   Hits right @1: 0.2235294117647059\n",
            "10/14/2020 13:41:22 - INFO - __main__ -   Hits @1: 0.14705882352941177\n",
            "10/14/2020 13:41:22 - INFO - __main__ -   Hits left @3: 0.38823529411764707\n",
            "10/14/2020 13:41:22 - INFO - __main__ -   Hits right @3: 0.5764705882352941\n",
            "10/14/2020 13:41:22 - INFO - __main__ -   Hits @3: 0.4823529411764706\n",
            "10/14/2020 13:41:22 - INFO - __main__ -   Hits left @10: 0.4823529411764706\n",
            "10/14/2020 13:41:22 - INFO - __main__ -   Hits right @10: 0.8470588235294118\n",
            "10/14/2020 13:41:22 - INFO - __main__ -   Hits @10: 0.6647058823529411\n",
            "10/14/2020 13:41:22 - INFO - __main__ -   Mean rank left: 25.68235294117647\n",
            "10/14/2020 13:41:22 - INFO - __main__ -   Mean rank right: 5.552941176470588\n",
            "10/14/2020 13:41:22 - INFO - __main__ -   Mean rank: 15.617647058823529\n",
            "10/14/2020 13:41:22 - INFO - __main__ -   Mean reciprocal rank left: 0.2556750124058959\n",
            "10/14/2020 13:41:22 - INFO - __main__ -   Mean reciprocal rank right: 0.4355215586713603\n",
            "10/14/2020 13:41:22 - INFO - __main__ -   Mean reciprocal rank: 0.34559828553862804\n"
          ],
          "name": "stderr"
        },
        {
          "output_type": "stream",
          "text": [
            "right:  3\n",
            "mean rank until now:  15.617647058823529\n",
            "hit@10 until now:  0.6647058823529411\n",
            "262\n"
          ],
          "name": "stdout"
        },
        {
          "output_type": "stream",
          "text": [
            "Testing: 100%|██████████| 1/1 [00:00<00:00,  1.39it/s]\n"
          ],
          "name": "stderr"
        },
        {
          "output_type": "stream",
          "text": [
            "left:  12\n"
          ],
          "name": "stdout"
        },
        {
          "output_type": "stream",
          "text": [
            "Testing: 100%|██████████| 1/1 [00:00<00:00,  1.25it/s]\n",
            "10/14/2020 13:41:25 - INFO - __main__ -   Hits left @1: 0.06976744186046512\n",
            "10/14/2020 13:41:25 - INFO - __main__ -   Hits right @1: 0.22093023255813954\n",
            "10/14/2020 13:41:25 - INFO - __main__ -   Hits @1: 0.14534883720930233\n",
            "10/14/2020 13:41:25 - INFO - __main__ -   Hits left @3: 0.38372093023255816\n",
            "10/14/2020 13:41:25 - INFO - __main__ -   Hits right @3: 0.5813953488372093\n",
            "10/14/2020 13:41:25 - INFO - __main__ -   Hits @3: 0.48255813953488375\n",
            "10/14/2020 13:41:25 - INFO - __main__ -   Hits left @10: 0.47674418604651164\n",
            "10/14/2020 13:41:25 - INFO - __main__ -   Hits right @10: 0.8488372093023255\n",
            "10/14/2020 13:41:25 - INFO - __main__ -   Hits @10: 0.6627906976744186\n",
            "10/14/2020 13:41:25 - INFO - __main__ -   Mean rank left: 25.53488372093023\n",
            "10/14/2020 13:41:25 - INFO - __main__ -   Mean rank right: 5.511627906976744\n",
            "10/14/2020 13:41:25 - INFO - __main__ -   Mean rank: 15.523255813953488\n",
            "10/14/2020 13:41:25 - INFO - __main__ -   Mean reciprocal rank left: 0.2535965015281887\n",
            "10/14/2020 13:41:25 - INFO - __main__ -   Mean reciprocal rank right: 0.43627130798913516\n",
            "10/14/2020 13:41:25 - INFO - __main__ -   Mean reciprocal rank: 0.3449339047586619\n"
          ],
          "name": "stderr"
        },
        {
          "output_type": "stream",
          "text": [
            "right:  1\n",
            "mean rank until now:  15.523255813953488\n",
            "hit@10 until now:  0.6627906976744186\n",
            "270\n"
          ],
          "name": "stdout"
        },
        {
          "output_type": "stream",
          "text": [
            "Testing: 100%|██████████| 1/1 [00:00<00:00,  1.33it/s]\n"
          ],
          "name": "stderr"
        },
        {
          "output_type": "stream",
          "text": [
            "left:  24\n"
          ],
          "name": "stdout"
        },
        {
          "output_type": "stream",
          "text": [
            "Testing: 100%|██████████| 1/1 [00:00<00:00,  1.25it/s]\n",
            "10/14/2020 13:41:27 - INFO - __main__ -   Hits left @1: 0.06896551724137931\n",
            "10/14/2020 13:41:27 - INFO - __main__ -   Hits right @1: 0.21839080459770116\n",
            "10/14/2020 13:41:27 - INFO - __main__ -   Hits @1: 0.14367816091954022\n",
            "10/14/2020 13:41:27 - INFO - __main__ -   Hits left @3: 0.3793103448275862\n",
            "10/14/2020 13:41:27 - INFO - __main__ -   Hits right @3: 0.5747126436781609\n",
            "10/14/2020 13:41:27 - INFO - __main__ -   Hits @3: 0.47701149425287354\n",
            "10/14/2020 13:41:27 - INFO - __main__ -   Hits left @10: 0.47126436781609193\n",
            "10/14/2020 13:41:27 - INFO - __main__ -   Hits right @10: 0.8505747126436781\n",
            "10/14/2020 13:41:27 - INFO - __main__ -   Hits @10: 0.6609195402298851\n",
            "10/14/2020 13:41:27 - INFO - __main__ -   Mean rank left: 25.528735632183906\n",
            "10/14/2020 13:41:27 - INFO - __main__ -   Mean rank right: 5.517241379310345\n",
            "10/14/2020 13:41:27 - INFO - __main__ -   Mean rank: 15.522988505747126\n",
            "10/14/2020 13:41:27 - INFO - __main__ -   Mean reciprocal rank left: 0.25114136932671527\n",
            "10/14/2020 13:41:27 - INFO - __main__ -   Mean reciprocal rank right: 0.43317240406588836\n",
            "10/14/2020 13:41:27 - INFO - __main__ -   Mean reciprocal rank: 0.3421568866963018\n"
          ],
          "name": "stderr"
        },
        {
          "output_type": "stream",
          "text": [
            "right:  5\n",
            "mean rank until now:  15.522988505747126\n",
            "hit@10 until now:  0.6609195402298851\n",
            "171\n"
          ],
          "name": "stdout"
        },
        {
          "output_type": "stream",
          "text": [
            "Testing: 100%|██████████| 1/1 [00:00<00:00,  1.63it/s]\n"
          ],
          "name": "stderr"
        },
        {
          "output_type": "stream",
          "text": [
            "left:  1\n"
          ],
          "name": "stdout"
        },
        {
          "output_type": "stream",
          "text": [
            "Testing: 100%|██████████| 1/1 [00:00<00:00,  1.24it/s]\n",
            "10/14/2020 13:41:29 - INFO - __main__ -   Hits left @1: 0.06818181818181818\n",
            "10/14/2020 13:41:29 - INFO - __main__ -   Hits right @1: 0.2159090909090909\n",
            "10/14/2020 13:41:29 - INFO - __main__ -   Hits @1: 0.14204545454545456\n",
            "10/14/2020 13:41:29 - INFO - __main__ -   Hits left @3: 0.38636363636363635\n",
            "10/14/2020 13:41:30 - INFO - __main__ -   Hits right @3: 0.5795454545454546\n",
            "10/14/2020 13:41:30 - INFO - __main__ -   Hits @3: 0.48295454545454547\n",
            "10/14/2020 13:41:30 - INFO - __main__ -   Hits left @10: 0.4772727272727273\n",
            "10/14/2020 13:41:30 - INFO - __main__ -   Hits right @10: 0.8522727272727273\n",
            "10/14/2020 13:41:30 - INFO - __main__ -   Hits @10: 0.6647727272727273\n",
            "10/14/2020 13:41:30 - INFO - __main__ -   Mean rank left: 25.261363636363637\n",
            "10/14/2020 13:41:30 - INFO - __main__ -   Mean rank right: 5.488636363636363\n",
            "10/14/2020 13:41:30 - INFO - __main__ -   Mean rank: 15.375\n",
            "10/14/2020 13:41:30 - INFO - __main__ -   Mean reciprocal rank left: 0.253969308311639\n",
            "10/14/2020 13:41:30 - INFO - __main__ -   Mean reciprocal rank right: 0.4320378691712003\n",
            "10/14/2020 13:41:30 - INFO - __main__ -   Mean reciprocal rank: 0.3430035887414196\n"
          ],
          "name": "stderr"
        },
        {
          "output_type": "stream",
          "text": [
            "right:  2\n",
            "mean rank until now:  15.375\n",
            "hit@10 until now:  0.6647727272727273\n",
            "270\n"
          ],
          "name": "stdout"
        },
        {
          "output_type": "stream",
          "text": [
            "Testing: 100%|██████████| 1/1 [00:00<00:00,  1.33it/s]\n"
          ],
          "name": "stderr"
        },
        {
          "output_type": "stream",
          "text": [
            "left:  3\n"
          ],
          "name": "stdout"
        },
        {
          "output_type": "stream",
          "text": [
            "Testing: 100%|██████████| 1/1 [00:00<00:00,  1.25it/s]\n",
            "10/14/2020 13:41:32 - INFO - __main__ -   Hits left @1: 0.06741573033707865\n",
            "10/14/2020 13:41:32 - INFO - __main__ -   Hits right @1: 0.21348314606741572\n",
            "10/14/2020 13:41:32 - INFO - __main__ -   Hits @1: 0.1404494382022472\n",
            "10/14/2020 13:41:32 - INFO - __main__ -   Hits left @3: 0.38202247191011235\n",
            "10/14/2020 13:41:32 - INFO - __main__ -   Hits right @3: 0.5842696629213483\n",
            "10/14/2020 13:41:32 - INFO - __main__ -   Hits @3: 0.48314606741573035\n",
            "10/14/2020 13:41:32 - INFO - __main__ -   Hits left @10: 0.48314606741573035\n",
            "10/14/2020 13:41:32 - INFO - __main__ -   Hits right @10: 0.8539325842696629\n",
            "10/14/2020 13:41:32 - INFO - __main__ -   Hits @10: 0.6685393258426966\n",
            "10/14/2020 13:41:32 - INFO - __main__ -   Mean rank left: 25.02247191011236\n",
            "10/14/2020 13:41:32 - INFO - __main__ -   Mean rank right: 5.46067415730337\n",
            "10/14/2020 13:41:32 - INFO - __main__ -   Mean rank: 15.241573033707866\n",
            "10/14/2020 13:41:32 - INFO - __main__ -   Mean reciprocal rank left: 0.2539247093418453\n",
            "10/14/2020 13:41:32 - INFO - __main__ -   Mean reciprocal rank right: 0.43092882944268496\n",
            "10/14/2020 13:41:32 - INFO - __main__ -   Mean reciprocal rank: 0.3424267693922651\n"
          ],
          "name": "stderr"
        },
        {
          "output_type": "stream",
          "text": [
            "right:  2\n",
            "mean rank until now:  15.241573033707866\n",
            "hit@10 until now:  0.6685393258426966\n",
            "270\n"
          ],
          "name": "stdout"
        },
        {
          "output_type": "stream",
          "text": [
            "Testing: 100%|██████████| 1/1 [00:00<00:00,  1.33it/s]\n"
          ],
          "name": "stderr"
        },
        {
          "output_type": "stream",
          "text": [
            "left:  73\n"
          ],
          "name": "stdout"
        },
        {
          "output_type": "stream",
          "text": [
            "Testing: 100%|██████████| 1/1 [00:00<00:00,  1.25it/s]\n",
            "10/14/2020 13:41:35 - INFO - __main__ -   Hits left @1: 0.06666666666666667\n",
            "10/14/2020 13:41:35 - INFO - __main__ -   Hits right @1: 0.2111111111111111\n",
            "10/14/2020 13:41:35 - INFO - __main__ -   Hits @1: 0.1388888888888889\n",
            "10/14/2020 13:41:35 - INFO - __main__ -   Hits left @3: 0.37777777777777777\n",
            "10/14/2020 13:41:35 - INFO - __main__ -   Hits right @3: 0.5777777777777777\n",
            "10/14/2020 13:41:35 - INFO - __main__ -   Hits @3: 0.4777777777777778\n",
            "10/14/2020 13:41:35 - INFO - __main__ -   Hits left @10: 0.4777777777777778\n",
            "10/14/2020 13:41:35 - INFO - __main__ -   Hits right @10: 0.8444444444444444\n",
            "10/14/2020 13:41:35 - INFO - __main__ -   Hits @10: 0.6611111111111111\n",
            "10/14/2020 13:41:35 - INFO - __main__ -   Mean rank left: 25.566666666666666\n",
            "10/14/2020 13:41:35 - INFO - __main__ -   Mean rank right: 5.588888888888889\n",
            "10/14/2020 13:41:35 - INFO - __main__ -   Mean rank: 15.577777777777778\n",
            "10/14/2020 13:41:35 - INFO - __main__ -   Mean reciprocal rank left: 0.2512534738326416\n",
            "10/14/2020 13:41:35 - INFO - __main__ -   Mean reciprocal rank right: 0.4267943261090081\n",
            "10/14/2020 13:41:35 - INFO - __main__ -   Mean reciprocal rank: 0.33902389997082477\n"
          ],
          "name": "stderr"
        },
        {
          "output_type": "stream",
          "text": [
            "right:  16\n",
            "mean rank until now:  15.577777777777778\n",
            "hit@10 until now:  0.6611111111111111\n",
            "287\n"
          ],
          "name": "stdout"
        },
        {
          "output_type": "stream",
          "text": [
            "Testing: 100%|██████████| 1/1 [00:00<00:00,  1.24it/s]\n"
          ],
          "name": "stderr"
        },
        {
          "output_type": "stream",
          "text": [
            "left:  6\n"
          ],
          "name": "stdout"
        },
        {
          "output_type": "stream",
          "text": [
            "Testing: 100%|██████████| 1/1 [00:00<00:00,  1.25it/s]\n",
            "10/14/2020 13:41:37 - INFO - __main__ -   Hits left @1: 0.06593406593406594\n",
            "10/14/2020 13:41:37 - INFO - __main__ -   Hits right @1: 0.2087912087912088\n",
            "10/14/2020 13:41:37 - INFO - __main__ -   Hits @1: 0.13736263736263737\n",
            "10/14/2020 13:41:37 - INFO - __main__ -   Hits left @3: 0.37362637362637363\n",
            "10/14/2020 13:41:37 - INFO - __main__ -   Hits right @3: 0.5714285714285714\n",
            "10/14/2020 13:41:37 - INFO - __main__ -   Hits @3: 0.4725274725274725\n",
            "10/14/2020 13:41:37 - INFO - __main__ -   Hits left @10: 0.4835164835164835\n",
            "10/14/2020 13:41:37 - INFO - __main__ -   Hits right @10: 0.8351648351648352\n",
            "10/14/2020 13:41:37 - INFO - __main__ -   Hits @10: 0.6593406593406593\n",
            "10/14/2020 13:41:37 - INFO - __main__ -   Mean rank left: 25.36263736263736\n",
            "10/14/2020 13:41:37 - INFO - __main__ -   Mean rank right: 5.670329670329671\n",
            "10/14/2020 13:41:37 - INFO - __main__ -   Mean rank: 15.516483516483516\n",
            "10/14/2020 13:41:37 - INFO - __main__ -   Mean reciprocal rank left: 0.2500623053603834\n",
            "10/14/2020 13:41:37 - INFO - __main__ -   Mean reciprocal rank right: 0.42294958710696495\n",
            "10/14/2020 13:41:37 - INFO - __main__ -   Mean reciprocal rank: 0.336505946233674\n"
          ],
          "name": "stderr"
        },
        {
          "output_type": "stream",
          "text": [
            "right:  12\n",
            "mean rank until now:  15.516483516483516\n",
            "hit@10 until now:  0.6593406593406593\n",
            "224\n"
          ],
          "name": "stdout"
        },
        {
          "output_type": "stream",
          "text": [
            "Testing: 100%|██████████| 1/1 [00:00<00:00,  1.60it/s]\n"
          ],
          "name": "stderr"
        },
        {
          "output_type": "stream",
          "text": [
            "left:  0\n"
          ],
          "name": "stdout"
        },
        {
          "output_type": "stream",
          "text": [
            "Testing: 100%|██████████| 1/1 [00:00<00:00,  1.25it/s]\n",
            "10/14/2020 13:41:40 - INFO - __main__ -   Hits left @1: 0.07608695652173914\n",
            "10/14/2020 13:41:40 - INFO - __main__ -   Hits right @1: 0.21739130434782608\n",
            "10/14/2020 13:41:40 - INFO - __main__ -   Hits @1: 0.14673913043478262\n",
            "10/14/2020 13:41:40 - INFO - __main__ -   Hits left @3: 0.3804347826086957\n",
            "10/14/2020 13:41:40 - INFO - __main__ -   Hits right @3: 0.5760869565217391\n",
            "10/14/2020 13:41:40 - INFO - __main__ -   Hits @3: 0.4782608695652174\n",
            "10/14/2020 13:41:40 - INFO - __main__ -   Hits left @10: 0.4891304347826087\n",
            "10/14/2020 13:41:40 - INFO - __main__ -   Hits right @10: 0.8369565217391305\n",
            "10/14/2020 13:41:40 - INFO - __main__ -   Hits @10: 0.6630434782608695\n",
            "10/14/2020 13:41:40 - INFO - __main__ -   Mean rank left: 25.097826086956523\n",
            "10/14/2020 13:41:40 - INFO - __main__ -   Mean rank right: 5.619565217391305\n",
            "10/14/2020 13:41:40 - INFO - __main__ -   Mean rank: 15.358695652173912\n",
            "10/14/2020 13:41:40 - INFO - __main__ -   Mean reciprocal rank left: 0.2582138020412488\n",
            "10/14/2020 13:41:40 - INFO - __main__ -   Mean reciprocal rank right: 0.42922187420362834\n",
            "10/14/2020 13:41:40 - INFO - __main__ -   Mean reciprocal rank: 0.3437178381224385\n"
          ],
          "name": "stderr"
        },
        {
          "output_type": "stream",
          "text": [
            "right:  0\n",
            "mean rank until now:  15.358695652173912\n",
            "hit@10 until now:  0.6630434782608695\n",
            "282\n"
          ],
          "name": "stdout"
        },
        {
          "output_type": "stream",
          "text": [
            "Testing: 100%|██████████| 1/1 [00:00<00:00,  1.29it/s]\n"
          ],
          "name": "stderr"
        },
        {
          "output_type": "stream",
          "text": [
            "left:  81\n"
          ],
          "name": "stdout"
        },
        {
          "output_type": "stream",
          "text": [
            "Testing: 100%|██████████| 1/1 [00:00<00:00,  1.24it/s]\n",
            "10/14/2020 13:41:42 - INFO - __main__ -   Hits left @1: 0.07526881720430108\n",
            "10/14/2020 13:41:42 - INFO - __main__ -   Hits right @1: 0.21505376344086022\n",
            "10/14/2020 13:41:42 - INFO - __main__ -   Hits @1: 0.14516129032258066\n",
            "10/14/2020 13:41:42 - INFO - __main__ -   Hits left @3: 0.3763440860215054\n",
            "10/14/2020 13:41:42 - INFO - __main__ -   Hits right @3: 0.5698924731182796\n",
            "10/14/2020 13:41:42 - INFO - __main__ -   Hits @3: 0.4731182795698925\n",
            "10/14/2020 13:41:42 - INFO - __main__ -   Hits left @10: 0.4838709677419355\n",
            "10/14/2020 13:41:42 - INFO - __main__ -   Hits right @10: 0.8279569892473119\n",
            "10/14/2020 13:41:42 - INFO - __main__ -   Hits @10: 0.6559139784946236\n",
            "10/14/2020 13:41:42 - INFO - __main__ -   Mean rank left: 25.70967741935484\n",
            "10/14/2020 13:41:42 - INFO - __main__ -   Mean rank right: 5.827956989247312\n",
            "10/14/2020 13:41:42 - INFO - __main__ -   Mean rank: 15.768817204301076\n",
            "10/14/2020 13:41:42 - INFO - __main__ -   Mean reciprocal rank left: 0.2555684398897431\n",
            "10/14/2020 13:41:42 - INFO - __main__ -   Mean reciprocal rank right: 0.4250366927605786\n",
            "10/14/2020 13:41:42 - INFO - __main__ -   Mean reciprocal rank: 0.34030256632516076\n"
          ],
          "name": "stderr"
        },
        {
          "output_type": "stream",
          "text": [
            "right:  24\n",
            "mean rank until now:  15.768817204301076\n",
            "hit@10 until now:  0.6559139784946236\n",
            "171\n"
          ],
          "name": "stdout"
        },
        {
          "output_type": "stream",
          "text": [
            "Testing: 100%|██████████| 1/1 [00:00<00:00,  2.08it/s]\n"
          ],
          "name": "stderr"
        },
        {
          "output_type": "stream",
          "text": [
            "left:  1\n"
          ],
          "name": "stdout"
        },
        {
          "output_type": "stream",
          "text": [
            "Testing: 100%|██████████| 1/1 [00:00<00:00,  1.25it/s]\n",
            "10/14/2020 13:41:44 - INFO - __main__ -   Hits left @1: 0.07446808510638298\n",
            "10/14/2020 13:41:44 - INFO - __main__ -   Hits right @1: 0.2127659574468085\n",
            "10/14/2020 13:41:44 - INFO - __main__ -   Hits @1: 0.14361702127659576\n",
            "10/14/2020 13:41:44 - INFO - __main__ -   Hits left @3: 0.3829787234042553\n",
            "10/14/2020 13:41:44 - INFO - __main__ -   Hits right @3: 0.5638297872340425\n",
            "10/14/2020 13:41:44 - INFO - __main__ -   Hits @3: 0.4734042553191489\n",
            "10/14/2020 13:41:44 - INFO - __main__ -   Hits left @10: 0.48936170212765956\n",
            "10/14/2020 13:41:44 - INFO - __main__ -   Hits right @10: 0.8297872340425532\n",
            "10/14/2020 13:41:44 - INFO - __main__ -   Hits @10: 0.6595744680851063\n",
            "10/14/2020 13:41:44 - INFO - __main__ -   Mean rank left: 25.45744680851064\n",
            "10/14/2020 13:41:44 - INFO - __main__ -   Mean rank right: 5.808510638297872\n",
            "10/14/2020 13:41:44 - INFO - __main__ -   Mean rank: 15.632978723404255\n",
            "10/14/2020 13:41:44 - INFO - __main__ -   Mean reciprocal rank left: 0.25816877563559687\n",
            "10/14/2020 13:41:44 - INFO - __main__ -   Mean reciprocal rank right: 0.42317460028440224\n",
            "10/14/2020 13:41:44 - INFO - __main__ -   Mean reciprocal rank: 0.34067168795999947\n"
          ],
          "name": "stderr"
        },
        {
          "output_type": "stream",
          "text": [
            "right:  3\n",
            "mean rank until now:  15.632978723404255\n",
            "hit@10 until now:  0.6595744680851063\n",
            "264\n"
          ],
          "name": "stdout"
        },
        {
          "output_type": "stream",
          "text": [
            "Testing: 100%|██████████| 1/1 [00:00<00:00,  1.35it/s]\n"
          ],
          "name": "stderr"
        },
        {
          "output_type": "stream",
          "text": [
            "left:  72\n"
          ],
          "name": "stdout"
        },
        {
          "output_type": "stream",
          "text": [
            "Testing: 100%|██████████| 1/1 [00:00<00:00,  1.25it/s]\n",
            "10/14/2020 13:41:47 - INFO - __main__ -   Hits left @1: 0.07368421052631578\n",
            "10/14/2020 13:41:47 - INFO - __main__ -   Hits right @1: 0.21052631578947367\n",
            "10/14/2020 13:41:47 - INFO - __main__ -   Hits @1: 0.14210526315789473\n",
            "10/14/2020 13:41:47 - INFO - __main__ -   Hits left @3: 0.37894736842105264\n",
            "10/14/2020 13:41:47 - INFO - __main__ -   Hits right @3: 0.5578947368421052\n",
            "10/14/2020 13:41:47 - INFO - __main__ -   Hits @3: 0.46842105263157896\n",
            "10/14/2020 13:41:47 - INFO - __main__ -   Hits left @10: 0.4842105263157895\n",
            "10/14/2020 13:41:47 - INFO - __main__ -   Hits right @10: 0.8315789473684211\n",
            "10/14/2020 13:41:47 - INFO - __main__ -   Hits @10: 0.6578947368421053\n",
            "10/14/2020 13:41:47 - INFO - __main__ -   Mean rank left: 25.957894736842107\n",
            "10/14/2020 13:41:47 - INFO - __main__ -   Mean rank right: 5.810526315789474\n",
            "10/14/2020 13:41:47 - INFO - __main__ -   Mean rank: 15.884210526315789\n",
            "10/14/2020 13:41:47 - INFO - __main__ -   Mean reciprocal rank left: 0.2555954056829799\n",
            "10/14/2020 13:41:47 - INFO - __main__ -   Mean reciprocal rank right: 0.42047451677263653\n",
            "10/14/2020 13:41:47 - INFO - __main__ -   Mean reciprocal rank: 0.33803496122780813\n"
          ],
          "name": "stderr"
        },
        {
          "output_type": "stream",
          "text": [
            "right:  5\n",
            "mean rank until now:  15.884210526315789\n",
            "hit@10 until now:  0.6578947368421053\n",
            "262\n"
          ],
          "name": "stdout"
        },
        {
          "output_type": "stream",
          "text": [
            "Testing: 100%|██████████| 1/1 [00:00<00:00,  1.39it/s]\n"
          ],
          "name": "stderr"
        },
        {
          "output_type": "stream",
          "text": [
            "left:  26\n"
          ],
          "name": "stdout"
        },
        {
          "output_type": "stream",
          "text": [
            "Testing: 100%|██████████| 1/1 [00:00<00:00,  1.25it/s]\n",
            "10/14/2020 13:41:49 - INFO - __main__ -   Hits left @1: 0.07291666666666667\n",
            "10/14/2020 13:41:49 - INFO - __main__ -   Hits right @1: 0.21875\n",
            "10/14/2020 13:41:49 - INFO - __main__ -   Hits @1: 0.14583333333333334\n",
            "10/14/2020 13:41:49 - INFO - __main__ -   Hits left @3: 0.375\n",
            "10/14/2020 13:41:49 - INFO - __main__ -   Hits right @3: 0.5625\n",
            "10/14/2020 13:41:49 - INFO - __main__ -   Hits @3: 0.46875\n",
            "10/14/2020 13:41:49 - INFO - __main__ -   Hits left @10: 0.4791666666666667\n",
            "10/14/2020 13:41:49 - INFO - __main__ -   Hits right @10: 0.8333333333333334\n",
            "10/14/2020 13:41:49 - INFO - __main__ -   Hits @10: 0.65625\n",
            "10/14/2020 13:41:49 - INFO - __main__ -   Mean rank left: 25.96875\n",
            "10/14/2020 13:41:49 - INFO - __main__ -   Mean rank right: 5.760416666666667\n",
            "10/14/2020 13:41:49 - INFO - __main__ -   Mean rank: 15.864583333333334\n",
            "10/14/2020 13:41:49 - INFO - __main__ -   Mean reciprocal rank left: 0.25331875600958464\n",
            "10/14/2020 13:41:49 - INFO - __main__ -   Mean reciprocal rank right: 0.4265112405562548\n",
            "10/14/2020 13:41:49 - INFO - __main__ -   Mean reciprocal rank: 0.3399149982829197\n"
          ],
          "name": "stderr"
        },
        {
          "output_type": "stream",
          "text": [
            "right:  0\n",
            "mean rank until now:  15.864583333333334\n",
            "hit@10 until now:  0.65625\n",
            "280\n"
          ],
          "name": "stdout"
        },
        {
          "output_type": "stream",
          "text": [
            "Testing: 100%|██████████| 1/1 [00:00<00:00,  1.29it/s]\n"
          ],
          "name": "stderr"
        },
        {
          "output_type": "stream",
          "text": [
            "left:  0\n"
          ],
          "name": "stdout"
        },
        {
          "output_type": "stream",
          "text": [
            "Testing: 100%|██████████| 1/1 [00:00<00:00,  1.24it/s]\n",
            "10/14/2020 13:41:52 - INFO - __main__ -   Hits left @1: 0.08247422680412371\n",
            "10/14/2020 13:41:52 - INFO - __main__ -   Hits right @1: 0.2268041237113402\n",
            "10/14/2020 13:41:52 - INFO - __main__ -   Hits @1: 0.15463917525773196\n",
            "10/14/2020 13:41:52 - INFO - __main__ -   Hits left @3: 0.38144329896907214\n",
            "10/14/2020 13:41:52 - INFO - __main__ -   Hits right @3: 0.5670103092783505\n",
            "10/14/2020 13:41:52 - INFO - __main__ -   Hits @3: 0.4742268041237113\n",
            "10/14/2020 13:41:52 - INFO - __main__ -   Hits left @10: 0.4845360824742268\n",
            "10/14/2020 13:41:52 - INFO - __main__ -   Hits right @10: 0.8350515463917526\n",
            "10/14/2020 13:41:52 - INFO - __main__ -   Hits @10: 0.6597938144329897\n",
            "10/14/2020 13:41:52 - INFO - __main__ -   Mean rank left: 25.711340206185568\n",
            "10/14/2020 13:41:52 - INFO - __main__ -   Mean rank right: 5.711340206185567\n",
            "10/14/2020 13:41:52 - INFO - __main__ -   Mean rank: 15.711340206185566\n",
            "10/14/2020 13:41:52 - INFO - __main__ -   Mean reciprocal rank left: 0.261016500792991\n",
            "10/14/2020 13:41:52 - INFO - __main__ -   Mean reciprocal rank right: 0.4324234958082522\n",
            "10/14/2020 13:41:52 - INFO - __main__ -   Mean reciprocal rank: 0.34671999830062156\n"
          ],
          "name": "stderr"
        },
        {
          "output_type": "stream",
          "text": [
            "right:  0\n",
            "mean rank until now:  15.711340206185566\n",
            "hit@10 until now:  0.6597938144329897\n",
            "257\n"
          ],
          "name": "stdout"
        },
        {
          "output_type": "stream",
          "text": [
            "Testing: 100%|██████████| 1/1 [00:00<00:00,  1.41it/s]\n"
          ],
          "name": "stderr"
        },
        {
          "output_type": "stream",
          "text": [
            "left:  33\n"
          ],
          "name": "stdout"
        },
        {
          "output_type": "stream",
          "text": [
            "Testing: 100%|██████████| 1/1 [00:00<00:00,  1.24it/s]\n",
            "10/14/2020 13:41:54 - INFO - __main__ -   Hits left @1: 0.08163265306122448\n",
            "10/14/2020 13:41:54 - INFO - __main__ -   Hits right @1: 0.23469387755102042\n",
            "10/14/2020 13:41:54 - INFO - __main__ -   Hits @1: 0.15816326530612246\n",
            "10/14/2020 13:41:54 - INFO - __main__ -   Hits left @3: 0.37755102040816324\n",
            "10/14/2020 13:41:54 - INFO - __main__ -   Hits right @3: 0.5714285714285714\n",
            "10/14/2020 13:41:54 - INFO - __main__ -   Hits @3: 0.4744897959183674\n",
            "10/14/2020 13:41:54 - INFO - __main__ -   Hits left @10: 0.47959183673469385\n",
            "10/14/2020 13:41:54 - INFO - __main__ -   Hits right @10: 0.8367346938775511\n",
            "10/14/2020 13:41:54 - INFO - __main__ -   Hits @10: 0.6581632653061225\n",
            "10/14/2020 13:41:54 - INFO - __main__ -   Mean rank left: 25.79591836734694\n",
            "10/14/2020 13:41:54 - INFO - __main__ -   Mean rank right: 5.663265306122449\n",
            "10/14/2020 13:41:54 - INFO - __main__ -   Mean rank: 15.729591836734693\n",
            "10/14/2020 13:41:54 - INFO - __main__ -   Mean reciprocal rank left: 0.25865318715944907\n",
            "10/14/2020 13:41:54 - INFO - __main__ -   Mean reciprocal rank right: 0.4382150927898006\n",
            "10/14/2020 13:41:54 - INFO - __main__ -   Mean reciprocal rank: 0.34843413997462486\n"
          ],
          "name": "stderr"
        },
        {
          "output_type": "stream",
          "text": [
            "right:  0\n",
            "mean rank until now:  15.729591836734693\n",
            "hit@10 until now:  0.6581632653061225\n",
            "273\n"
          ],
          "name": "stdout"
        },
        {
          "output_type": "stream",
          "text": [
            "Testing: 100%|██████████| 1/1 [00:00<00:00,  1.32it/s]\n"
          ],
          "name": "stderr"
        },
        {
          "output_type": "stream",
          "text": [
            "left:  147\n"
          ],
          "name": "stdout"
        },
        {
          "output_type": "stream",
          "text": [
            "Testing: 100%|██████████| 1/1 [00:00<00:00,  1.25it/s]\n",
            "10/14/2020 13:41:57 - INFO - __main__ -   Hits left @1: 0.08080808080808081\n",
            "10/14/2020 13:41:57 - INFO - __main__ -   Hits right @1: 0.23232323232323232\n",
            "10/14/2020 13:41:57 - INFO - __main__ -   Hits @1: 0.15656565656565657\n",
            "10/14/2020 13:41:57 - INFO - __main__ -   Hits left @3: 0.37373737373737376\n",
            "10/14/2020 13:41:57 - INFO - __main__ -   Hits right @3: 0.5656565656565656\n",
            "10/14/2020 13:41:57 - INFO - __main__ -   Hits @3: 0.4696969696969697\n",
            "10/14/2020 13:41:57 - INFO - __main__ -   Hits left @10: 0.47474747474747475\n",
            "10/14/2020 13:41:57 - INFO - __main__ -   Hits right @10: 0.8282828282828283\n",
            "10/14/2020 13:41:57 - INFO - __main__ -   Hits @10: 0.6515151515151515\n",
            "10/14/2020 13:41:57 - INFO - __main__ -   Mean rank left: 27.03030303030303\n",
            "10/14/2020 13:41:57 - INFO - __main__ -   Mean rank right: 6.545454545454546\n",
            "10/14/2020 13:41:57 - INFO - __main__ -   Mean rank: 16.78787878787879\n",
            "10/14/2020 13:41:57 - INFO - __main__ -   Mean reciprocal rank left: 0.2561087787715431\n",
            "10/14/2020 13:41:57 - INFO - __main__ -   Mean reciprocal rank right: 0.4338972907229545\n",
            "10/14/2020 13:41:57 - INFO - __main__ -   Mean reciprocal rank: 0.34500303474724886\n"
          ],
          "name": "stderr"
        },
        {
          "output_type": "stream",
          "text": [
            "right:  92\n",
            "mean rank until now:  16.78787878787879\n",
            "hit@10 until now:  0.6515151515151515\n",
            "288\n"
          ],
          "name": "stdout"
        },
        {
          "output_type": "stream",
          "text": [
            "Testing: 100%|██████████| 1/1 [00:00<00:00,  1.25it/s]\n"
          ],
          "name": "stderr"
        },
        {
          "output_type": "stream",
          "text": [
            "left:  46\n"
          ],
          "name": "stdout"
        },
        {
          "output_type": "stream",
          "text": [
            "Testing: 100%|██████████| 1/1 [00:00<00:00,  1.25it/s]\n",
            "10/14/2020 13:41:59 - INFO - __main__ -   Hits left @1: 0.08\n",
            "10/14/2020 13:41:59 - INFO - __main__ -   Hits right @1: 0.23\n",
            "10/14/2020 13:41:59 - INFO - __main__ -   Hits @1: 0.155\n",
            "10/14/2020 13:41:59 - INFO - __main__ -   Hits left @3: 0.37\n",
            "10/14/2020 13:41:59 - INFO - __main__ -   Hits right @3: 0.56\n",
            "10/14/2020 13:41:59 - INFO - __main__ -   Hits @3: 0.465\n",
            "10/14/2020 13:41:59 - INFO - __main__ -   Hits left @10: 0.47\n",
            "10/14/2020 13:41:59 - INFO - __main__ -   Hits right @10: 0.82\n",
            "10/14/2020 13:41:59 - INFO - __main__ -   Hits @10: 0.645\n",
            "10/14/2020 13:41:59 - INFO - __main__ -   Mean rank left: 27.23\n",
            "10/14/2020 13:41:59 - INFO - __main__ -   Mean rank right: 6.63\n",
            "10/14/2020 13:41:59 - INFO - __main__ -   Mean rank: 16.93\n",
            "10/14/2020 13:41:59 - INFO - __main__ -   Mean reciprocal rank left: 0.25376045694127447\n",
            "10/14/2020 13:41:59 - INFO - __main__ -   Mean reciprocal rank right: 0.4302249844823917\n",
            "10/14/2020 13:41:59 - INFO - __main__ -   Mean reciprocal rank: 0.3419927207118332\n"
          ],
          "name": "stderr"
        },
        {
          "output_type": "stream",
          "text": [
            "right:  14\n",
            "mean rank until now:  16.93\n",
            "hit@10 until now:  0.645\n",
            "250\n"
          ],
          "name": "stdout"
        },
        {
          "output_type": "stream",
          "text": [
            "Testing: 100%|██████████| 1/1 [00:00<00:00,  1.43it/s]\n"
          ],
          "name": "stderr"
        },
        {
          "output_type": "stream",
          "text": [
            "left:  55\n"
          ],
          "name": "stdout"
        },
        {
          "output_type": "stream",
          "text": [
            "Testing: 100%|██████████| 1/1 [00:00<00:00,  1.24it/s]\n",
            "10/14/2020 13:42:02 - INFO - __main__ -   Hits left @1: 0.07920792079207921\n",
            "10/14/2020 13:42:02 - INFO - __main__ -   Hits right @1: 0.2376237623762376\n",
            "10/14/2020 13:42:02 - INFO - __main__ -   Hits @1: 0.15841584158415842\n",
            "10/14/2020 13:42:02 - INFO - __main__ -   Hits left @3: 0.36633663366336633\n",
            "10/14/2020 13:42:02 - INFO - __main__ -   Hits right @3: 0.5643564356435643\n",
            "10/14/2020 13:42:02 - INFO - __main__ -   Hits @3: 0.46534653465346537\n",
            "10/14/2020 13:42:02 - INFO - __main__ -   Hits left @10: 0.46534653465346537\n",
            "10/14/2020 13:42:02 - INFO - __main__ -   Hits right @10: 0.8217821782178217\n",
            "10/14/2020 13:42:02 - INFO - __main__ -   Hits @10: 0.6435643564356436\n",
            "10/14/2020 13:42:02 - INFO - __main__ -   Mean rank left: 27.514851485148515\n",
            "10/14/2020 13:42:02 - INFO - __main__ -   Mean rank right: 6.574257425742574\n",
            "10/14/2020 13:42:02 - INFO - __main__ -   Mean rank: 17.044554455445546\n",
            "10/14/2020 13:42:02 - INFO - __main__ -   Mean reciprocal rank left: 0.25142478056420386\n",
            "10/14/2020 13:42:02 - INFO - __main__ -   Mean reciprocal rank right: 0.43586632126969477\n",
            "10/14/2020 13:42:02 - INFO - __main__ -   Mean reciprocal rank: 0.34364555091694937\n"
          ],
          "name": "stderr"
        },
        {
          "output_type": "stream",
          "text": [
            "right:  0\n",
            "mean rank until now:  17.044554455445546\n",
            "hit@10 until now:  0.6435643564356436\n",
            "285\n"
          ],
          "name": "stdout"
        },
        {
          "output_type": "stream",
          "text": [
            "Testing: 100%|██████████| 1/1 [00:00<00:00,  1.28it/s]\n"
          ],
          "name": "stderr"
        },
        {
          "output_type": "stream",
          "text": [
            "left:  96\n"
          ],
          "name": "stdout"
        },
        {
          "output_type": "stream",
          "text": [
            "Testing: 100%|██████████| 1/1 [00:00<00:00,  1.25it/s]\n",
            "10/14/2020 13:42:04 - INFO - __main__ -   Hits left @1: 0.0784313725490196\n",
            "10/14/2020 13:42:04 - INFO - __main__ -   Hits right @1: 0.23529411764705882\n",
            "10/14/2020 13:42:04 - INFO - __main__ -   Hits @1: 0.1568627450980392\n",
            "10/14/2020 13:42:04 - INFO - __main__ -   Hits left @3: 0.3627450980392157\n",
            "10/14/2020 13:42:04 - INFO - __main__ -   Hits right @3: 0.5588235294117647\n",
            "10/14/2020 13:42:04 - INFO - __main__ -   Hits @3: 0.46078431372549017\n",
            "10/14/2020 13:42:04 - INFO - __main__ -   Hits left @10: 0.46078431372549017\n",
            "10/14/2020 13:42:04 - INFO - __main__ -   Hits right @10: 0.8137254901960784\n",
            "10/14/2020 13:42:04 - INFO - __main__ -   Hits @10: 0.6372549019607843\n",
            "10/14/2020 13:42:04 - INFO - __main__ -   Mean rank left: 28.19607843137255\n",
            "10/14/2020 13:42:04 - INFO - __main__ -   Mean rank right: 6.705882352941177\n",
            "10/14/2020 13:42:04 - INFO - __main__ -   Mean rank: 17.45098039215686\n",
            "10/14/2020 13:42:04 - INFO - __main__ -   Mean reciprocal rank left: 0.24906090309152065\n",
            "10/14/2020 13:42:04 - INFO - __main__ -   Mean reciprocal rank right: 0.43208331811999184\n",
            "10/14/2020 13:42:04 - INFO - __main__ -   Mean reciprocal rank: 0.3405721106057563\n"
          ],
          "name": "stderr"
        },
        {
          "output_type": "stream",
          "text": [
            "right:  19\n",
            "mean rank until now:  17.45098039215686\n",
            "hit@10 until now:  0.6372549019607843\n",
            "171\n"
          ],
          "name": "stdout"
        },
        {
          "output_type": "stream",
          "text": [
            "Testing: 100%|██████████| 1/1 [00:00<00:00,  2.08it/s]\n"
          ],
          "name": "stderr"
        },
        {
          "output_type": "stream",
          "text": [
            "left:  1\n"
          ],
          "name": "stdout"
        },
        {
          "output_type": "stream",
          "text": [
            "Testing: 100%|██████████| 1/1 [00:00<00:00,  1.24it/s]\n",
            "10/14/2020 13:42:06 - INFO - __main__ -   Hits left @1: 0.07766990291262135\n",
            "10/14/2020 13:42:06 - INFO - __main__ -   Hits right @1: 0.23300970873786409\n",
            "10/14/2020 13:42:06 - INFO - __main__ -   Hits @1: 0.1553398058252427\n",
            "10/14/2020 13:42:06 - INFO - __main__ -   Hits left @3: 0.36893203883495146\n",
            "10/14/2020 13:42:06 - INFO - __main__ -   Hits right @3: 0.5533980582524272\n",
            "10/14/2020 13:42:06 - INFO - __main__ -   Hits @3: 0.46116504854368934\n",
            "10/14/2020 13:42:06 - INFO - __main__ -   Hits left @10: 0.46601941747572817\n",
            "10/14/2020 13:42:06 - INFO - __main__ -   Hits right @10: 0.8155339805825242\n",
            "10/14/2020 13:42:06 - INFO - __main__ -   Hits @10: 0.6407766990291263\n",
            "10/14/2020 13:42:06 - INFO - __main__ -   Mean rank left: 27.941747572815533\n",
            "10/14/2020 13:42:06 - INFO - __main__ -   Mean rank right: 6.679611650485437\n",
            "10/14/2020 13:42:06 - INFO - __main__ -   Mean rank: 17.310679611650485\n",
            "10/14/2020 13:42:06 - INFO - __main__ -   Mean reciprocal rank left: 0.25149720500325345\n",
            "10/14/2020 13:42:06 - INFO - __main__ -   Mean reciprocal rank right: 0.43031551891494335\n",
            "10/14/2020 13:42:06 - INFO - __main__ -   Mean reciprocal rank: 0.34090636195909846\n"
          ],
          "name": "stderr"
        },
        {
          "output_type": "stream",
          "text": [
            "right:  3\n",
            "mean rank until now:  17.310679611650485\n",
            "hit@10 until now:  0.6407766990291263\n",
            "262\n"
          ],
          "name": "stdout"
        },
        {
          "output_type": "stream",
          "text": [
            "Testing: 100%|██████████| 1/1 [00:00<00:00,  1.39it/s]\n"
          ],
          "name": "stderr"
        },
        {
          "output_type": "stream",
          "text": [
            "left:  21\n"
          ],
          "name": "stdout"
        },
        {
          "output_type": "stream",
          "text": [
            "Testing: 100%|██████████| 1/1 [00:00<00:00,  1.24it/s]\n",
            "10/14/2020 13:42:09 - INFO - __main__ -   Hits left @1: 0.07692307692307693\n",
            "10/14/2020 13:42:09 - INFO - __main__ -   Hits right @1: 0.23076923076923078\n",
            "10/14/2020 13:42:09 - INFO - __main__ -   Hits @1: 0.15384615384615385\n",
            "10/14/2020 13:42:09 - INFO - __main__ -   Hits left @3: 0.36538461538461536\n",
            "10/14/2020 13:42:09 - INFO - __main__ -   Hits right @3: 0.5576923076923077\n",
            "10/14/2020 13:42:09 - INFO - __main__ -   Hits @3: 0.46153846153846156\n",
            "10/14/2020 13:42:09 - INFO - __main__ -   Hits left @10: 0.46153846153846156\n",
            "10/14/2020 13:42:09 - INFO - __main__ -   Hits right @10: 0.8173076923076923\n",
            "10/14/2020 13:42:09 - INFO - __main__ -   Hits @10: 0.6394230769230769\n",
            "10/14/2020 13:42:09 - INFO - __main__ -   Mean rank left: 27.884615384615383\n",
            "10/14/2020 13:42:09 - INFO - __main__ -   Mean rank right: 6.634615384615385\n",
            "10/14/2020 13:42:09 - INFO - __main__ -   Mean rank: 17.259615384615383\n",
            "10/14/2020 13:42:09 - INFO - __main__ -   Mean reciprocal rank left: 0.24951602558451588\n",
            "10/14/2020 13:42:09 - INFO - __main__ -   Mean reciprocal rank right: 0.43098556200229976\n",
            "10/14/2020 13:42:09 - INFO - __main__ -   Mean reciprocal rank: 0.3402507937934077\n"
          ],
          "name": "stderr"
        },
        {
          "output_type": "stream",
          "text": [
            "right:  1\n",
            "mean rank until now:  17.259615384615383\n",
            "hit@10 until now:  0.6394230769230769\n",
            "284\n"
          ],
          "name": "stdout"
        },
        {
          "output_type": "stream",
          "text": [
            "Testing: 100%|██████████| 1/1 [00:00<00:00,  1.29it/s]\n"
          ],
          "name": "stderr"
        },
        {
          "output_type": "stream",
          "text": [
            "left:  21\n"
          ],
          "name": "stdout"
        },
        {
          "output_type": "stream",
          "text": [
            "Testing: 100%|██████████| 1/1 [00:00<00:00,  1.24it/s]\n",
            "10/14/2020 13:42:11 - INFO - __main__ -   Hits left @1: 0.0761904761904762\n",
            "10/14/2020 13:42:11 - INFO - __main__ -   Hits right @1: 0.22857142857142856\n",
            "10/14/2020 13:42:11 - INFO - __main__ -   Hits @1: 0.1523809523809524\n",
            "10/14/2020 13:42:11 - INFO - __main__ -   Hits left @3: 0.3619047619047619\n",
            "10/14/2020 13:42:11 - INFO - __main__ -   Hits right @3: 0.5523809523809524\n",
            "10/14/2020 13:42:11 - INFO - __main__ -   Hits @3: 0.45714285714285713\n",
            "10/14/2020 13:42:11 - INFO - __main__ -   Hits left @10: 0.45714285714285713\n",
            "10/14/2020 13:42:11 - INFO - __main__ -   Hits right @10: 0.819047619047619\n",
            "10/14/2020 13:42:11 - INFO - __main__ -   Hits @10: 0.638095238095238\n",
            "10/14/2020 13:42:11 - INFO - __main__ -   Mean rank left: 27.82857142857143\n",
            "10/14/2020 13:42:11 - INFO - __main__ -   Mean rank right: 6.647619047619048\n",
            "10/14/2020 13:42:11 - INFO - __main__ -   Mean rank: 17.238095238095237\n",
            "10/14/2020 13:42:11 - INFO - __main__ -   Mean reciprocal rank left: 0.24757258291661144\n",
            "10/14/2020 13:42:11 - INFO - __main__ -   Mean reciprocal rank right: 0.42807141379275404\n",
            "10/14/2020 13:42:11 - INFO - __main__ -   Mean reciprocal rank: 0.3378219983546827\n"
          ],
          "name": "stderr"
        },
        {
          "output_type": "stream",
          "text": [
            "right:  7\n",
            "mean rank until now:  17.238095238095237\n",
            "hit@10 until now:  0.638095238095238\n",
            "241\n"
          ],
          "name": "stdout"
        },
        {
          "output_type": "stream",
          "text": [
            "Testing: 100%|██████████| 1/1 [00:00<00:00,  1.48it/s]\n"
          ],
          "name": "stderr"
        },
        {
          "output_type": "stream",
          "text": [
            "left:  7\n"
          ],
          "name": "stdout"
        },
        {
          "output_type": "stream",
          "text": [
            "Testing: 100%|██████████| 1/1 [00:00<00:00,  1.25it/s]\n",
            "10/14/2020 13:42:14 - INFO - __main__ -   Hits left @1: 0.07547169811320754\n",
            "10/14/2020 13:42:14 - INFO - __main__ -   Hits right @1: 0.22641509433962265\n",
            "10/14/2020 13:42:14 - INFO - __main__ -   Hits @1: 0.1509433962264151\n",
            "10/14/2020 13:42:14 - INFO - __main__ -   Hits left @3: 0.3584905660377358\n",
            "10/14/2020 13:42:14 - INFO - __main__ -   Hits right @3: 0.5471698113207547\n",
            "10/14/2020 13:42:14 - INFO - __main__ -   Hits @3: 0.4528301886792453\n",
            "10/14/2020 13:42:14 - INFO - __main__ -   Hits left @10: 0.46226415094339623\n",
            "10/14/2020 13:42:14 - INFO - __main__ -   Hits right @10: 0.8207547169811321\n",
            "10/14/2020 13:42:14 - INFO - __main__ -   Hits @10: 0.6415094339622641\n",
            "10/14/2020 13:42:14 - INFO - __main__ -   Mean rank left: 27.641509433962263\n",
            "10/14/2020 13:42:14 - INFO - __main__ -   Mean rank right: 6.650943396226415\n",
            "10/14/2020 13:42:14 - INFO - __main__ -   Mean rank: 17.14622641509434\n",
            "10/14/2020 13:42:14 - INFO - __main__ -   Mean reciprocal rank left: 0.2464162377947566\n",
            "10/14/2020 13:42:14 - INFO - __main__ -   Mean reciprocal rank right: 0.4253807131235502\n",
            "10/14/2020 13:42:14 - INFO - __main__ -   Mean reciprocal rank: 0.3358984754591533\n"
          ],
          "name": "stderr"
        },
        {
          "output_type": "stream",
          "text": [
            "right:  6\n",
            "mean rank until now:  17.14622641509434\n",
            "hit@10 until now:  0.6415094339622641\n",
            "171\n"
          ],
          "name": "stdout"
        },
        {
          "output_type": "stream",
          "text": [
            "Testing: 100%|██████████| 1/1 [00:00<00:00,  2.07it/s]\n"
          ],
          "name": "stderr"
        },
        {
          "output_type": "stream",
          "text": [
            "left:  1\n"
          ],
          "name": "stdout"
        },
        {
          "output_type": "stream",
          "text": [
            "Testing: 100%|██████████| 1/1 [00:00<00:00,  1.24it/s]\n",
            "10/14/2020 13:42:16 - INFO - __main__ -   Hits left @1: 0.07476635514018691\n",
            "10/14/2020 13:42:16 - INFO - __main__ -   Hits right @1: 0.22429906542056074\n",
            "10/14/2020 13:42:16 - INFO - __main__ -   Hits @1: 0.14953271028037382\n",
            "10/14/2020 13:42:16 - INFO - __main__ -   Hits left @3: 0.3644859813084112\n",
            "10/14/2020 13:42:16 - INFO - __main__ -   Hits right @3: 0.5514018691588785\n",
            "10/14/2020 13:42:16 - INFO - __main__ -   Hits @3: 0.45794392523364486\n",
            "10/14/2020 13:42:16 - INFO - __main__ -   Hits left @10: 0.4672897196261682\n",
            "10/14/2020 13:42:16 - INFO - __main__ -   Hits right @10: 0.822429906542056\n",
            "10/14/2020 13:42:16 - INFO - __main__ -   Hits @10: 0.6448598130841121\n",
            "10/14/2020 13:42:16 - INFO - __main__ -   Mean rank left: 27.401869158878505\n",
            "10/14/2020 13:42:16 - INFO - __main__ -   Mean rank right: 6.616822429906542\n",
            "10/14/2020 13:42:16 - INFO - __main__ -   Mean rank: 17.009345794392523\n",
            "10/14/2020 13:42:16 - INFO - __main__ -   Mean reciprocal rank left: 0.24878617949760934\n",
            "10/14/2020 13:42:16 - INFO - __main__ -   Mean reciprocal rank right: 0.42452045723766035\n",
            "10/14/2020 13:42:16 - INFO - __main__ -   Mean reciprocal rank: 0.3366533183676348\n"
          ],
          "name": "stderr"
        },
        {
          "output_type": "stream",
          "text": [
            "right:  2\n",
            "mean rank until now:  17.009345794392523\n",
            "hit@10 until now:  0.6448598130841121\n",
            "280\n"
          ],
          "name": "stdout"
        },
        {
          "output_type": "stream",
          "text": [
            "Testing: 100%|██████████| 1/1 [00:00<00:00,  1.30it/s]\n"
          ],
          "name": "stderr"
        },
        {
          "output_type": "stream",
          "text": [
            "left:  6\n"
          ],
          "name": "stdout"
        },
        {
          "output_type": "stream",
          "text": [
            "Testing: 100%|██████████| 1/1 [00:00<00:00,  1.25it/s]\n",
            "10/14/2020 13:42:19 - INFO - __main__ -   Hits left @1: 0.07407407407407407\n",
            "10/14/2020 13:42:19 - INFO - __main__ -   Hits right @1: 0.2222222222222222\n",
            "10/14/2020 13:42:19 - INFO - __main__ -   Hits @1: 0.14814814814814814\n",
            "10/14/2020 13:42:19 - INFO - __main__ -   Hits left @3: 0.3611111111111111\n",
            "10/14/2020 13:42:19 - INFO - __main__ -   Hits right @3: 0.5462962962962963\n",
            "10/14/2020 13:42:19 - INFO - __main__ -   Hits @3: 0.4537037037037037\n",
            "10/14/2020 13:42:19 - INFO - __main__ -   Hits left @10: 0.4722222222222222\n",
            "10/14/2020 13:42:19 - INFO - __main__ -   Hits right @10: 0.8148148148148148\n",
            "10/14/2020 13:42:19 - INFO - __main__ -   Hits @10: 0.6435185185185185\n",
            "10/14/2020 13:42:19 - INFO - __main__ -   Mean rank left: 27.212962962962962\n",
            "10/14/2020 13:42:19 - INFO - __main__ -   Mean rank right: 6.712962962962963\n",
            "10/14/2020 13:42:19 - INFO - __main__ -   Mean rank: 16.962962962962962\n",
            "10/14/2020 13:42:19 - INFO - __main__ -   Mean reciprocal rank left: 0.24780535508427168\n",
            "10/14/2020 13:42:19 - INFO - __main__ -   Mean reciprocal rank right: 0.4211343745726058\n",
            "10/14/2020 13:42:19 - INFO - __main__ -   Mean reciprocal rank: 0.33446986482843866\n"
          ],
          "name": "stderr"
        },
        {
          "output_type": "stream",
          "text": [
            "right:  16\n",
            "mean rank until now:  16.962962962962962\n",
            "hit@10 until now:  0.6435185185185185\n",
            "224\n"
          ],
          "name": "stdout"
        },
        {
          "output_type": "stream",
          "text": [
            "Testing: 100%|██████████| 1/1 [00:00<00:00,  1.60it/s]\n"
          ],
          "name": "stderr"
        },
        {
          "output_type": "stream",
          "text": [
            "left:  1\n"
          ],
          "name": "stdout"
        },
        {
          "output_type": "stream",
          "text": [
            "Testing: 100%|██████████| 1/1 [00:00<00:00,  1.25it/s]\n",
            "10/14/2020 13:42:21 - INFO - __main__ -   Hits left @1: 0.07339449541284404\n",
            "10/14/2020 13:42:21 - INFO - __main__ -   Hits right @1: 0.22018348623853212\n",
            "10/14/2020 13:42:21 - INFO - __main__ -   Hits @1: 0.14678899082568808\n",
            "10/14/2020 13:42:21 - INFO - __main__ -   Hits left @3: 0.3669724770642202\n",
            "10/14/2020 13:42:21 - INFO - __main__ -   Hits right @3: 0.5504587155963303\n",
            "10/14/2020 13:42:21 - INFO - __main__ -   Hits @3: 0.45871559633027525\n",
            "10/14/2020 13:42:21 - INFO - __main__ -   Hits left @10: 0.47706422018348627\n",
            "10/14/2020 13:42:21 - INFO - __main__ -   Hits right @10: 0.8165137614678899\n",
            "10/14/2020 13:42:21 - INFO - __main__ -   Hits @10: 0.6467889908256881\n",
            "10/14/2020 13:42:21 - INFO - __main__ -   Mean rank left: 26.98165137614679\n",
            "10/14/2020 13:42:21 - INFO - __main__ -   Mean rank right: 6.669724770642202\n",
            "10/14/2020 13:42:21 - INFO - __main__ -   Mean rank: 16.825688073394495\n",
            "10/14/2020 13:42:21 - INFO - __main__ -   Mean reciprocal rank left: 0.2501190674229481\n",
            "10/14/2020 13:42:21 - INFO - __main__ -   Mean reciprocal rank right: 0.42185791242056353\n",
            "10/14/2020 13:42:21 - INFO - __main__ -   Mean reciprocal rank: 0.33598848992175573\n"
          ],
          "name": "stderr"
        },
        {
          "output_type": "stream",
          "text": [
            "right:  1\n",
            "mean rank until now:  16.825688073394495\n",
            "hit@10 until now:  0.6467889908256881\n",
            "241\n"
          ],
          "name": "stdout"
        },
        {
          "output_type": "stream",
          "text": [
            "Testing: 100%|██████████| 1/1 [00:00<00:00,  1.48it/s]\n"
          ],
          "name": "stderr"
        },
        {
          "output_type": "stream",
          "text": [
            "left:  36\n"
          ],
          "name": "stdout"
        },
        {
          "output_type": "stream",
          "text": [
            "Testing: 100%|██████████| 1/1 [00:00<00:00,  1.25it/s]\n",
            "10/14/2020 13:42:23 - INFO - __main__ -   Hits left @1: 0.07272727272727272\n",
            "10/14/2020 13:42:23 - INFO - __main__ -   Hits right @1: 0.21818181818181817\n",
            "10/14/2020 13:42:23 - INFO - __main__ -   Hits @1: 0.14545454545454545\n",
            "10/14/2020 13:42:23 - INFO - __main__ -   Hits left @3: 0.36363636363636365\n",
            "10/14/2020 13:42:23 - INFO - __main__ -   Hits right @3: 0.5454545454545454\n",
            "10/14/2020 13:42:23 - INFO - __main__ -   Hits @3: 0.45454545454545453\n",
            "10/14/2020 13:42:23 - INFO - __main__ -   Hits left @10: 0.4727272727272727\n",
            "10/14/2020 13:42:23 - INFO - __main__ -   Hits right @10: 0.8181818181818182\n",
            "10/14/2020 13:42:23 - INFO - __main__ -   Hits @10: 0.6454545454545455\n",
            "10/14/2020 13:42:23 - INFO - __main__ -   Mean rank left: 27.072727272727274\n",
            "10/14/2020 13:42:23 - INFO - __main__ -   Mean rank right: 6.672727272727273\n",
            "10/14/2020 13:42:23 - INFO - __main__ -   Mean rank: 16.87272727272727\n",
            "10/14/2020 13:42:23 - INFO - __main__ -   Mean reciprocal rank left: 0.24809095796480338\n",
            "10/14/2020 13:42:23 - INFO - __main__ -   Mean reciprocal rank right: 0.41932154178816883\n",
            "10/14/2020 13:42:23 - INFO - __main__ -   Mean reciprocal rank: 0.333706249876486\n"
          ],
          "name": "stderr"
        },
        {
          "output_type": "stream",
          "text": [
            "right:  6\n",
            "mean rank until now:  16.87272727272727\n",
            "hit@10 until now:  0.6454545454545455\n",
            "288\n"
          ],
          "name": "stdout"
        },
        {
          "output_type": "stream",
          "text": [
            "Testing: 100%|██████████| 1/1 [00:00<00:00,  1.24it/s]\n"
          ],
          "name": "stderr"
        },
        {
          "output_type": "stream",
          "text": [
            "left:  4\n"
          ],
          "name": "stdout"
        },
        {
          "output_type": "stream",
          "text": [
            "Testing: 100%|██████████| 1/1 [00:00<00:00,  1.25it/s]\n",
            "10/14/2020 13:42:26 - INFO - __main__ -   Hits left @1: 0.07207207207207207\n",
            "10/14/2020 13:42:26 - INFO - __main__ -   Hits right @1: 0.21621621621621623\n",
            "10/14/2020 13:42:26 - INFO - __main__ -   Hits @1: 0.14414414414414414\n",
            "10/14/2020 13:42:26 - INFO - __main__ -   Hits left @3: 0.36036036036036034\n",
            "10/14/2020 13:42:26 - INFO - __main__ -   Hits right @3: 0.5405405405405406\n",
            "10/14/2020 13:42:26 - INFO - __main__ -   Hits @3: 0.45045045045045046\n",
            "10/14/2020 13:42:26 - INFO - __main__ -   Hits left @10: 0.4774774774774775\n",
            "10/14/2020 13:42:26 - INFO - __main__ -   Hits right @10: 0.8108108108108109\n",
            "10/14/2020 13:42:26 - INFO - __main__ -   Hits @10: 0.6441441441441441\n",
            "10/14/2020 13:42:26 - INFO - __main__ -   Mean rank left: 26.873873873873872\n",
            "10/14/2020 13:42:26 - INFO - __main__ -   Mean rank right: 6.774774774774775\n",
            "10/14/2020 13:42:26 - INFO - __main__ -   Mean rank: 16.824324324324323\n",
            "10/14/2020 13:42:26 - INFO - __main__ -   Mean reciprocal rank left: 0.24765770609124657\n",
            "10/14/2020 13:42:26 - INFO - __main__ -   Mean reciprocal rank right: 0.4160443707410282\n",
            "10/14/2020 13:42:26 - INFO - __main__ -   Mean reciprocal rank: 0.33185103841613733\n"
          ],
          "name": "stderr"
        },
        {
          "output_type": "stream",
          "text": [
            "right:  17\n",
            "mean rank until now:  16.824324324324323\n",
            "hit@10 until now:  0.6441441441441441\n",
            "267\n"
          ],
          "name": "stdout"
        },
        {
          "output_type": "stream",
          "text": [
            "Testing: 100%|██████████| 1/1 [00:00<00:00,  1.34it/s]\n"
          ],
          "name": "stderr"
        },
        {
          "output_type": "stream",
          "text": [
            "left:  57\n"
          ],
          "name": "stdout"
        },
        {
          "output_type": "stream",
          "text": [
            "Testing: 100%|██████████| 1/1 [00:00<00:00,  1.25it/s]\n",
            "10/14/2020 13:42:29 - INFO - __main__ -   Hits left @1: 0.07142857142857142\n",
            "10/14/2020 13:42:29 - INFO - __main__ -   Hits right @1: 0.21428571428571427\n",
            "10/14/2020 13:42:29 - INFO - __main__ -   Hits @1: 0.14285714285714285\n",
            "10/14/2020 13:42:29 - INFO - __main__ -   Hits left @3: 0.35714285714285715\n",
            "10/14/2020 13:42:29 - INFO - __main__ -   Hits right @3: 0.5357142857142857\n",
            "10/14/2020 13:42:29 - INFO - __main__ -   Hits @3: 0.44642857142857145\n",
            "10/14/2020 13:42:29 - INFO - __main__ -   Hits left @10: 0.4732142857142857\n",
            "10/14/2020 13:42:29 - INFO - __main__ -   Hits right @10: 0.8125\n",
            "10/14/2020 13:42:29 - INFO - __main__ -   Hits @10: 0.6428571428571429\n",
            "10/14/2020 13:42:29 - INFO - __main__ -   Mean rank left: 27.151785714285715\n",
            "10/14/2020 13:42:29 - INFO - __main__ -   Mean rank right: 6.767857142857143\n",
            "10/14/2020 13:42:29 - INFO - __main__ -   Mean rank: 16.959821428571427\n",
            "10/14/2020 13:42:29 - INFO - __main__ -   Mean reciprocal rank left: 0.24560041745927425\n",
            "10/14/2020 13:42:29 - INFO - __main__ -   Mean reciprocal rank right: 0.4138177840975069\n",
            "10/14/2020 13:42:29 - INFO - __main__ -   Mean reciprocal rank: 0.3297091007783906\n"
          ],
          "name": "stderr"
        },
        {
          "output_type": "stream",
          "text": [
            "right:  5\n",
            "mean rank until now:  16.959821428571427\n",
            "hit@10 until now:  0.6428571428571429\n",
            "250\n"
          ],
          "name": "stdout"
        },
        {
          "output_type": "stream",
          "text": [
            "Testing: 100%|██████████| 1/1 [00:00<00:00,  1.43it/s]\n"
          ],
          "name": "stderr"
        },
        {
          "output_type": "stream",
          "text": [
            "left:  41\n"
          ],
          "name": "stdout"
        },
        {
          "output_type": "stream",
          "text": [
            "Testing: 100%|██████████| 1/1 [00:00<00:00,  1.25it/s]\n",
            "10/14/2020 13:42:31 - INFO - __main__ -   Hits left @1: 0.07079646017699115\n",
            "10/14/2020 13:42:31 - INFO - __main__ -   Hits right @1: 0.21238938053097345\n",
            "10/14/2020 13:42:31 - INFO - __main__ -   Hits @1: 0.1415929203539823\n",
            "10/14/2020 13:42:31 - INFO - __main__ -   Hits left @3: 0.35398230088495575\n",
            "10/14/2020 13:42:31 - INFO - __main__ -   Hits right @3: 0.5398230088495575\n",
            "10/14/2020 13:42:31 - INFO - __main__ -   Hits @3: 0.4469026548672566\n",
            "10/14/2020 13:42:31 - INFO - __main__ -   Hits left @10: 0.4690265486725664\n",
            "10/14/2020 13:42:31 - INFO - __main__ -   Hits right @10: 0.8141592920353983\n",
            "10/14/2020 13:42:31 - INFO - __main__ -   Hits @10: 0.6415929203539823\n",
            "10/14/2020 13:42:31 - INFO - __main__ -   Mean rank left: 27.283185840707965\n",
            "10/14/2020 13:42:31 - INFO - __main__ -   Mean rank right: 6.734513274336283\n",
            "10/14/2020 13:42:31 - INFO - __main__ -   Mean rank: 17.008849557522122\n",
            "10/14/2020 13:42:31 - INFO - __main__ -   Mean reciprocal rank left: 0.24363766618803753\n",
            "10/14/2020 13:42:31 - INFO - __main__ -   Mean reciprocal rank right: 0.41310553232083286\n",
            "10/14/2020 13:42:31 - INFO - __main__ -   Mean reciprocal rank: 0.3283715992544352\n"
          ],
          "name": "stderr"
        },
        {
          "output_type": "stream",
          "text": [
            "right:  2\n",
            "mean rank until now:  17.008849557522122\n",
            "hit@10 until now:  0.6415929203539823\n",
            "278\n"
          ],
          "name": "stdout"
        },
        {
          "output_type": "stream",
          "text": [
            "Testing: 100%|██████████| 1/1 [00:00<00:00,  1.30it/s]\n"
          ],
          "name": "stderr"
        },
        {
          "output_type": "stream",
          "text": [
            "left:  29\n"
          ],
          "name": "stdout"
        },
        {
          "output_type": "stream",
          "text": [
            "Testing: 100%|██████████| 1/1 [00:00<00:00,  1.24it/s]\n",
            "10/14/2020 13:42:33 - INFO - __main__ -   Hits left @1: 0.07017543859649122\n",
            "10/14/2020 13:42:33 - INFO - __main__ -   Hits right @1: 0.21929824561403508\n",
            "10/14/2020 13:42:33 - INFO - __main__ -   Hits @1: 0.14473684210526316\n",
            "10/14/2020 13:42:33 - INFO - __main__ -   Hits left @3: 0.3508771929824561\n",
            "10/14/2020 13:42:33 - INFO - __main__ -   Hits right @3: 0.543859649122807\n",
            "10/14/2020 13:42:33 - INFO - __main__ -   Hits @3: 0.4473684210526316\n",
            "10/14/2020 13:42:33 - INFO - __main__ -   Hits left @10: 0.4649122807017544\n",
            "10/14/2020 13:42:33 - INFO - __main__ -   Hits right @10: 0.8157894736842105\n",
            "10/14/2020 13:42:33 - INFO - __main__ -   Hits @10: 0.6403508771929824\n",
            "10/14/2020 13:42:33 - INFO - __main__ -   Mean rank left: 27.30701754385965\n",
            "10/14/2020 13:42:33 - INFO - __main__ -   Mean rank right: 6.684210526315789\n",
            "10/14/2020 13:42:33 - INFO - __main__ -   Mean rank: 16.99561403508772\n",
            "10/14/2020 13:42:33 - INFO - __main__ -   Mean reciprocal rank left: 0.24179289133843487\n",
            "10/14/2020 13:42:33 - INFO - __main__ -   Mean reciprocal rank right: 0.4182537294057378\n",
            "10/14/2020 13:42:33 - INFO - __main__ -   Mean reciprocal rank: 0.3300233103720863\n"
          ],
          "name": "stderr"
        },
        {
          "output_type": "stream",
          "text": [
            "right:  0\n",
            "mean rank until now:  16.99561403508772\n",
            "hit@10 until now:  0.6403508771929824\n",
            "270\n"
          ],
          "name": "stdout"
        },
        {
          "output_type": "stream",
          "text": [
            "Testing: 100%|██████████| 1/1 [00:00<00:00,  1.33it/s]\n"
          ],
          "name": "stderr"
        },
        {
          "output_type": "stream",
          "text": [
            "left:  27\n"
          ],
          "name": "stdout"
        },
        {
          "output_type": "stream",
          "text": [
            "Testing: 100%|██████████| 1/1 [00:00<00:00,  1.25it/s]\n",
            "10/14/2020 13:42:36 - INFO - __main__ -   Hits left @1: 0.06956521739130435\n",
            "10/14/2020 13:42:36 - INFO - __main__ -   Hits right @1: 0.21739130434782608\n",
            "10/14/2020 13:42:36 - INFO - __main__ -   Hits @1: 0.14347826086956522\n",
            "10/14/2020 13:42:36 - INFO - __main__ -   Hits left @3: 0.34782608695652173\n",
            "10/14/2020 13:42:36 - INFO - __main__ -   Hits right @3: 0.5391304347826087\n",
            "10/14/2020 13:42:36 - INFO - __main__ -   Hits @3: 0.4434782608695652\n",
            "10/14/2020 13:42:36 - INFO - __main__ -   Hits left @10: 0.4608695652173913\n",
            "10/14/2020 13:42:36 - INFO - __main__ -   Hits right @10: 0.8173913043478261\n",
            "10/14/2020 13:42:36 - INFO - __main__ -   Hits @10: 0.6391304347826087\n",
            "10/14/2020 13:42:36 - INFO - __main__ -   Mean rank left: 27.31304347826087\n",
            "10/14/2020 13:42:36 - INFO - __main__ -   Mean rank right: 6.71304347826087\n",
            "10/14/2020 13:42:36 - INFO - __main__ -   Mean rank: 17.01304347826087\n",
            "10/14/2020 13:42:36 - INFO - __main__ -   Mean reciprocal rank left: 0.24000090346344227\n",
            "10/14/2020 13:42:36 - INFO - __main__ -   Mean reciprocal rank right: 0.4154863056717749\n",
            "10/14/2020 13:42:36 - INFO - __main__ -   Mean reciprocal rank: 0.3277436045676085\n"
          ],
          "name": "stderr"
        },
        {
          "output_type": "stream",
          "text": [
            "right:  9\n",
            "mean rank until now:  17.01304347826087\n",
            "hit@10 until now:  0.6391304347826087\n",
            "171\n"
          ],
          "name": "stdout"
        },
        {
          "output_type": "stream",
          "text": [
            "Testing: 100%|██████████| 1/1 [00:00<00:00,  2.08it/s]\n"
          ],
          "name": "stderr"
        },
        {
          "output_type": "stream",
          "text": [
            "left:  1\n"
          ],
          "name": "stdout"
        },
        {
          "output_type": "stream",
          "text": [
            "Testing: 100%|██████████| 1/1 [00:00<00:00,  1.25it/s]\n",
            "10/14/2020 13:42:38 - INFO - __main__ -   Hits left @1: 0.06896551724137931\n",
            "10/14/2020 13:42:38 - INFO - __main__ -   Hits right @1: 0.21551724137931033\n",
            "10/14/2020 13:42:38 - INFO - __main__ -   Hits @1: 0.14224137931034483\n",
            "10/14/2020 13:42:38 - INFO - __main__ -   Hits left @3: 0.35344827586206895\n",
            "10/14/2020 13:42:38 - INFO - __main__ -   Hits right @3: 0.5431034482758621\n",
            "10/14/2020 13:42:38 - INFO - __main__ -   Hits @3: 0.4482758620689655\n",
            "10/14/2020 13:42:38 - INFO - __main__ -   Hits left @10: 0.46551724137931033\n",
            "10/14/2020 13:42:38 - INFO - __main__ -   Hits right @10: 0.8189655172413793\n",
            "10/14/2020 13:42:38 - INFO - __main__ -   Hits @10: 0.6422413793103449\n",
            "10/14/2020 13:42:38 - INFO - __main__ -   Mean rank left: 27.094827586206897\n",
            "10/14/2020 13:42:38 - INFO - __main__ -   Mean rank right: 6.681034482758621\n",
            "10/14/2020 13:42:38 - INFO - __main__ -   Mean rank: 16.887931034482758\n",
            "10/14/2020 13:42:38 - INFO - __main__ -   Mean reciprocal rank left: 0.24224227498530915\n",
            "10/14/2020 13:42:38 - INFO - __main__ -   Mean reciprocal rank right: 0.41477809039299524\n",
            "10/14/2020 13:42:38 - INFO - __main__ -   Mean reciprocal rank: 0.32851018268915216\n"
          ],
          "name": "stderr"
        },
        {
          "output_type": "stream",
          "text": [
            "right:  2\n",
            "mean rank until now:  16.887931034482758\n",
            "hit@10 until now:  0.6422413793103449\n",
            "288\n"
          ],
          "name": "stdout"
        },
        {
          "output_type": "stream",
          "text": [
            "Testing: 100%|██████████| 1/1 [00:00<00:00,  1.25it/s]\n"
          ],
          "name": "stderr"
        },
        {
          "output_type": "stream",
          "text": [
            "left:  0\n"
          ],
          "name": "stdout"
        },
        {
          "output_type": "stream",
          "text": [
            "Testing: 100%|██████████| 1/1 [00:00<00:00,  1.25it/s]\n",
            "10/14/2020 13:42:41 - INFO - __main__ -   Hits left @1: 0.07692307692307693\n",
            "10/14/2020 13:42:41 - INFO - __main__ -   Hits right @1: 0.21367521367521367\n",
            "10/14/2020 13:42:41 - INFO - __main__ -   Hits @1: 0.1452991452991453\n",
            "10/14/2020 13:42:41 - INFO - __main__ -   Hits left @3: 0.358974358974359\n",
            "10/14/2020 13:42:41 - INFO - __main__ -   Hits right @3: 0.5384615384615384\n",
            "10/14/2020 13:42:41 - INFO - __main__ -   Hits @3: 0.44871794871794873\n",
            "10/14/2020 13:42:41 - INFO - __main__ -   Hits left @10: 0.4700854700854701\n",
            "10/14/2020 13:42:41 - INFO - __main__ -   Hits right @10: 0.8205128205128205\n",
            "10/14/2020 13:42:41 - INFO - __main__ -   Hits @10: 0.6452991452991453\n",
            "10/14/2020 13:42:41 - INFO - __main__ -   Mean rank left: 26.871794871794872\n",
            "10/14/2020 13:42:41 - INFO - __main__ -   Mean rank right: 6.666666666666667\n",
            "10/14/2020 13:42:41 - INFO - __main__ -   Mean rank: 16.76923076923077\n",
            "10/14/2020 13:42:41 - INFO - __main__ -   Mean reciprocal rank left: 0.24871883673757145\n",
            "10/14/2020 13:42:41 - INFO - __main__ -   Mean reciprocal rank right: 0.41294238021869617\n",
            "10/14/2020 13:42:41 - INFO - __main__ -   Mean reciprocal rank: 0.3308306084781337\n"
          ],
          "name": "stderr"
        },
        {
          "output_type": "stream",
          "text": [
            "right:  4\n",
            "mean rank until now:  16.76923076923077\n",
            "hit@10 until now:  0.6452991452991453\n",
            "286\n"
          ],
          "name": "stdout"
        },
        {
          "output_type": "stream",
          "text": [
            "Testing: 100%|██████████| 1/1 [00:00<00:00,  1.28it/s]\n"
          ],
          "name": "stderr"
        },
        {
          "output_type": "stream",
          "text": [
            "left:  5\n"
          ],
          "name": "stdout"
        },
        {
          "output_type": "stream",
          "text": [
            "Testing: 100%|██████████| 1/1 [00:00<00:00,  1.25it/s]\n",
            "10/14/2020 13:42:43 - INFO - __main__ -   Hits left @1: 0.07627118644067797\n",
            "10/14/2020 13:42:43 - INFO - __main__ -   Hits right @1: 0.211864406779661\n",
            "10/14/2020 13:42:43 - INFO - __main__ -   Hits @1: 0.1440677966101695\n",
            "10/14/2020 13:42:43 - INFO - __main__ -   Hits left @3: 0.3559322033898305\n",
            "10/14/2020 13:42:43 - INFO - __main__ -   Hits right @3: 0.5423728813559322\n",
            "10/14/2020 13:42:43 - INFO - __main__ -   Hits @3: 0.4491525423728814\n",
            "10/14/2020 13:42:43 - INFO - __main__ -   Hits left @10: 0.4745762711864407\n",
            "10/14/2020 13:42:43 - INFO - __main__ -   Hits right @10: 0.8220338983050848\n",
            "10/14/2020 13:42:43 - INFO - __main__ -   Hits @10: 0.6483050847457628\n",
            "10/14/2020 13:42:43 - INFO - __main__ -   Mean rank left: 26.694915254237287\n",
            "10/14/2020 13:42:43 - INFO - __main__ -   Mean rank right: 6.627118644067797\n",
            "10/14/2020 13:42:43 - INFO - __main__ -   Mean rank: 16.661016949152543\n",
            "10/14/2020 13:42:43 - INFO - __main__ -   Mean reciprocal rank left: 0.24802347936408922\n",
            "10/14/2020 13:42:43 - INFO - __main__ -   Mean reciprocal rank right: 0.4136801566575208\n",
            "10/14/2020 13:42:43 - INFO - __main__ -   Mean reciprocal rank: 0.33085181801080493\n"
          ],
          "name": "stderr"
        },
        {
          "output_type": "stream",
          "text": [
            "right:  1\n",
            "mean rank until now:  16.661016949152543\n",
            "hit@10 until now:  0.6483050847457628\n",
            "244\n"
          ],
          "name": "stdout"
        },
        {
          "output_type": "stream",
          "text": [
            "Testing: 100%|██████████| 1/1 [00:00<00:00,  1.47it/s]\n"
          ],
          "name": "stderr"
        },
        {
          "output_type": "stream",
          "text": [
            "left:  15\n"
          ],
          "name": "stdout"
        },
        {
          "output_type": "stream",
          "text": [
            "Testing: 100%|██████████| 1/1 [00:00<00:00,  1.25it/s]\n",
            "10/14/2020 13:42:46 - INFO - __main__ -   Hits left @1: 0.07563025210084033\n",
            "10/14/2020 13:42:46 - INFO - __main__ -   Hits right @1: 0.21008403361344538\n",
            "10/14/2020 13:42:46 - INFO - __main__ -   Hits @1: 0.14285714285714285\n",
            "10/14/2020 13:42:46 - INFO - __main__ -   Hits left @3: 0.35294117647058826\n",
            "10/14/2020 13:42:46 - INFO - __main__ -   Hits right @3: 0.5462184873949579\n",
            "10/14/2020 13:42:46 - INFO - __main__ -   Hits @3: 0.4495798319327731\n",
            "10/14/2020 13:42:46 - INFO - __main__ -   Hits left @10: 0.47058823529411764\n",
            "10/14/2020 13:42:46 - INFO - __main__ -   Hits right @10: 0.8235294117647058\n",
            "10/14/2020 13:42:46 - INFO - __main__ -   Hits @10: 0.6470588235294118\n",
            "10/14/2020 13:42:46 - INFO - __main__ -   Mean rank left: 26.605042016806724\n",
            "10/14/2020 13:42:46 - INFO - __main__ -   Mean rank right: 6.5966386554621845\n",
            "10/14/2020 13:42:46 - INFO - __main__ -   Mean rank: 16.600840336134453\n",
            "10/14/2020 13:42:46 - INFO - __main__ -   Mean reciprocal rank left: 0.24646445852909687\n",
            "10/14/2020 13:42:46 - INFO - __main__ -   Mean reciprocal rank right: 0.4130049732682419\n",
            "10/14/2020 13:42:46 - INFO - __main__ -   Mean reciprocal rank: 0.32973471589866926\n"
          ],
          "name": "stderr"
        },
        {
          "output_type": "stream",
          "text": [
            "right:  2\n",
            "mean rank until now:  16.600840336134453\n",
            "hit@10 until now:  0.6470588235294118\n",
            "241\n"
          ],
          "name": "stdout"
        },
        {
          "output_type": "stream",
          "text": [
            "Testing: 100%|██████████| 1/1 [00:00<00:00,  1.48it/s]\n"
          ],
          "name": "stderr"
        },
        {
          "output_type": "stream",
          "text": [
            "left:  24\n"
          ],
          "name": "stdout"
        },
        {
          "output_type": "stream",
          "text": [
            "Testing: 100%|██████████| 1/1 [00:00<00:00,  1.25it/s]\n",
            "10/14/2020 13:42:48 - INFO - __main__ -   Hits left @1: 0.075\n",
            "10/14/2020 13:42:48 - INFO - __main__ -   Hits right @1: 0.20833333333333334\n",
            "10/14/2020 13:42:48 - INFO - __main__ -   Hits @1: 0.14166666666666666\n",
            "10/14/2020 13:42:48 - INFO - __main__ -   Hits left @3: 0.35\n",
            "10/14/2020 13:42:48 - INFO - __main__ -   Hits right @3: 0.5416666666666666\n",
            "10/14/2020 13:42:48 - INFO - __main__ -   Hits @3: 0.44583333333333336\n",
            "10/14/2020 13:42:48 - INFO - __main__ -   Hits left @10: 0.4666666666666667\n",
            "10/14/2020 13:42:48 - INFO - __main__ -   Hits right @10: 0.825\n",
            "10/14/2020 13:42:48 - INFO - __main__ -   Hits @10: 0.6458333333333334\n",
            "10/14/2020 13:42:48 - INFO - __main__ -   Mean rank left: 26.591666666666665\n",
            "10/14/2020 13:42:48 - INFO - __main__ -   Mean rank right: 6.616666666666666\n",
            "10/14/2020 13:42:48 - INFO - __main__ -   Mean rank: 16.604166666666668\n",
            "10/14/2020 13:42:48 - INFO - __main__ -   Mean reciprocal rank left: 0.2447439213746877\n",
            "10/14/2020 13:42:48 - INFO - __main__ -   Mean reciprocal rank right: 0.41048919108359905\n",
            "10/14/2020 13:42:48 - INFO - __main__ -   Mean reciprocal rank: 0.3276165562291434\n"
          ],
          "name": "stderr"
        },
        {
          "output_type": "stream",
          "text": [
            "right:  8\n",
            "mean rank until now:  16.604166666666668\n",
            "hit@10 until now:  0.6458333333333334\n",
            "273\n"
          ],
          "name": "stdout"
        },
        {
          "output_type": "stream",
          "text": [
            "Testing: 100%|██████████| 1/1 [00:00<00:00,  1.32it/s]\n"
          ],
          "name": "stderr"
        },
        {
          "output_type": "stream",
          "text": [
            "left:  10\n"
          ],
          "name": "stdout"
        },
        {
          "output_type": "stream",
          "text": [
            "Testing: 100%|██████████| 1/1 [00:00<00:00,  1.24it/s]\n",
            "10/14/2020 13:42:51 - INFO - __main__ -   Hits left @1: 0.0743801652892562\n",
            "10/14/2020 13:42:51 - INFO - __main__ -   Hits right @1: 0.2066115702479339\n",
            "10/14/2020 13:42:51 - INFO - __main__ -   Hits @1: 0.14049586776859505\n",
            "10/14/2020 13:42:51 - INFO - __main__ -   Hits left @3: 0.34710743801652894\n",
            "10/14/2020 13:42:51 - INFO - __main__ -   Hits right @3: 0.5371900826446281\n",
            "10/14/2020 13:42:51 - INFO - __main__ -   Hits @3: 0.44214876033057854\n",
            "10/14/2020 13:42:51 - INFO - __main__ -   Hits left @10: 0.4628099173553719\n",
            "10/14/2020 13:42:51 - INFO - __main__ -   Hits right @10: 0.8264462809917356\n",
            "10/14/2020 13:42:51 - INFO - __main__ -   Hits @10: 0.6446280991735537\n",
            "10/14/2020 13:42:51 - INFO - __main__ -   Mean rank left: 26.462809917355372\n",
            "10/14/2020 13:42:51 - INFO - __main__ -   Mean rank right: 6.595041322314049\n",
            "10/14/2020 13:42:51 - INFO - __main__ -   Mean rank: 16.52892561983471\n",
            "10/14/2020 13:42:51 - INFO - __main__ -   Mean reciprocal rank left: 0.24347255913943483\n",
            "10/14/2020 13:42:51 - INFO - __main__ -   Mean reciprocal rank right: 0.40916283413249493\n",
            "10/14/2020 13:42:51 - INFO - __main__ -   Mean reciprocal rank: 0.3263176966359649\n"
          ],
          "name": "stderr"
        },
        {
          "output_type": "stream",
          "text": [
            "right:  3\n",
            "mean rank until now:  16.52892561983471\n",
            "hit@10 until now:  0.6446280991735537\n",
            "264\n"
          ],
          "name": "stdout"
        },
        {
          "output_type": "stream",
          "text": [
            "Testing: 100%|██████████| 1/1 [00:00<00:00,  1.35it/s]\n"
          ],
          "name": "stderr"
        },
        {
          "output_type": "stream",
          "text": [
            "left:  62\n"
          ],
          "name": "stdout"
        },
        {
          "output_type": "stream",
          "text": [
            "Testing: 100%|██████████| 1/1 [00:00<00:00,  1.25it/s]\n",
            "10/14/2020 13:42:53 - INFO - __main__ -   Hits left @1: 0.07377049180327869\n",
            "10/14/2020 13:42:53 - INFO - __main__ -   Hits right @1: 0.20491803278688525\n",
            "10/14/2020 13:42:53 - INFO - __main__ -   Hits @1: 0.13934426229508196\n",
            "10/14/2020 13:42:53 - INFO - __main__ -   Hits left @3: 0.3442622950819672\n",
            "10/14/2020 13:42:53 - INFO - __main__ -   Hits right @3: 0.5327868852459017\n",
            "10/14/2020 13:42:53 - INFO - __main__ -   Hits @3: 0.4385245901639344\n",
            "10/14/2020 13:42:53 - INFO - __main__ -   Hits left @10: 0.45901639344262296\n",
            "10/14/2020 13:42:53 - INFO - __main__ -   Hits right @10: 0.819672131147541\n",
            "10/14/2020 13:42:53 - INFO - __main__ -   Hits @10: 0.639344262295082\n",
            "10/14/2020 13:42:53 - INFO - __main__ -   Mean rank left: 26.762295081967213\n",
            "10/14/2020 13:42:53 - INFO - __main__ -   Mean rank right: 6.639344262295082\n",
            "10/14/2020 13:42:53 - INFO - __main__ -   Mean rank: 16.700819672131146\n",
            "10/14/2020 13:42:53 - INFO - __main__ -   Mean reciprocal rank left: 0.2416069891126609\n",
            "10/14/2020 13:42:53 - INFO - __main__ -   Mean reciprocal rank right: 0.40649210051938706\n",
            "10/14/2020 13:42:53 - INFO - __main__ -   Mean reciprocal rank: 0.324049544816024\n"
          ],
          "name": "stderr"
        },
        {
          "output_type": "stream",
          "text": [
            "right:  11\n",
            "mean rank until now:  16.700819672131146\n",
            "hit@10 until now:  0.639344262295082\n",
            "224\n"
          ],
          "name": "stdout"
        },
        {
          "output_type": "stream",
          "text": [
            "Testing: 100%|██████████| 1/1 [00:00<00:00,  1.60it/s]\n"
          ],
          "name": "stderr"
        },
        {
          "output_type": "stream",
          "text": [
            "left:  1\n"
          ],
          "name": "stdout"
        },
        {
          "output_type": "stream",
          "text": [
            "Testing: 100%|██████████| 1/1 [00:00<00:00,  1.25it/s]\n",
            "10/14/2020 13:42:56 - INFO - __main__ -   Hits left @1: 0.07317073170731707\n",
            "10/14/2020 13:42:56 - INFO - __main__ -   Hits right @1: 0.2032520325203252\n",
            "10/14/2020 13:42:56 - INFO - __main__ -   Hits @1: 0.13821138211382114\n",
            "10/14/2020 13:42:56 - INFO - __main__ -   Hits left @3: 0.34959349593495936\n",
            "10/14/2020 13:42:56 - INFO - __main__ -   Hits right @3: 0.5365853658536586\n",
            "10/14/2020 13:42:56 - INFO - __main__ -   Hits @3: 0.44308943089430897\n",
            "10/14/2020 13:42:56 - INFO - __main__ -   Hits left @10: 0.4634146341463415\n",
            "10/14/2020 13:42:56 - INFO - __main__ -   Hits right @10: 0.8211382113821138\n",
            "10/14/2020 13:42:56 - INFO - __main__ -   Hits @10: 0.6422764227642277\n",
            "10/14/2020 13:42:56 - INFO - __main__ -   Mean rank left: 26.5609756097561\n",
            "10/14/2020 13:42:56 - INFO - __main__ -   Mean rank right: 6.6016260162601625\n",
            "10/14/2020 13:42:56 - INFO - __main__ -   Mean rank: 16.58130081300813\n",
            "10/14/2020 13:42:56 - INFO - __main__ -   Mean reciprocal rank left: 0.24370774529873682\n",
            "10/14/2020 13:42:56 - INFO - __main__ -   Mean reciprocal rank right: 0.40725232734443273\n",
            "10/14/2020 13:42:56 - INFO - __main__ -   Mean reciprocal rank: 0.3254800363215848\n"
          ],
          "name": "stderr"
        },
        {
          "output_type": "stream",
          "text": [
            "right:  1\n",
            "mean rank until now:  16.58130081300813\n",
            "hit@10 until now:  0.6422764227642277\n",
            "224\n"
          ],
          "name": "stdout"
        },
        {
          "output_type": "stream",
          "text": [
            "Testing: 100%|██████████| 1/1 [00:00<00:00,  1.60it/s]\n"
          ],
          "name": "stderr"
        },
        {
          "output_type": "stream",
          "text": [
            "left:  6\n"
          ],
          "name": "stdout"
        },
        {
          "output_type": "stream",
          "text": [
            "Testing: 100%|██████████| 1/1 [00:00<00:00,  1.25it/s]\n",
            "10/14/2020 13:42:58 - INFO - __main__ -   Hits left @1: 0.07258064516129033\n",
            "10/14/2020 13:42:58 - INFO - __main__ -   Hits right @1: 0.20161290322580644\n",
            "10/14/2020 13:42:58 - INFO - __main__ -   Hits @1: 0.13709677419354838\n",
            "10/14/2020 13:42:58 - INFO - __main__ -   Hits left @3: 0.3467741935483871\n",
            "10/14/2020 13:42:58 - INFO - __main__ -   Hits right @3: 0.5403225806451613\n",
            "10/14/2020 13:42:58 - INFO - __main__ -   Hits @3: 0.4435483870967742\n",
            "10/14/2020 13:42:58 - INFO - __main__ -   Hits left @10: 0.46774193548387094\n",
            "10/14/2020 13:42:58 - INFO - __main__ -   Hits right @10: 0.8225806451612904\n",
            "10/14/2020 13:42:58 - INFO - __main__ -   Hits @10: 0.6451612903225806\n",
            "10/14/2020 13:42:58 - INFO - __main__ -   Mean rank left: 26.403225806451612\n",
            "10/14/2020 13:42:58 - INFO - __main__ -   Mean rank right: 6.57258064516129\n",
            "10/14/2020 13:42:58 - INFO - __main__ -   Mean rank: 16.487903225806452\n",
            "10/14/2020 13:42:58 - INFO - __main__ -   Mean reciprocal rank left: 0.24289443398872396\n",
            "10/14/2020 13:42:58 - INFO - __main__ -   Mean reciprocal rank right: 0.4066562064249884\n",
            "10/14/2020 13:42:58 - INFO - __main__ -   Mean reciprocal rank: 0.3247753202068561\n"
          ],
          "name": "stderr"
        },
        {
          "output_type": "stream",
          "text": [
            "right:  2\n",
            "mean rank until now:  16.487903225806452\n",
            "hit@10 until now:  0.6451612903225806\n",
            "244\n"
          ],
          "name": "stdout"
        },
        {
          "output_type": "stream",
          "text": [
            "Testing: 100%|██████████| 1/1 [00:00<00:00,  1.47it/s]\n"
          ],
          "name": "stderr"
        },
        {
          "output_type": "stream",
          "text": [
            "left:  0\n"
          ],
          "name": "stdout"
        },
        {
          "output_type": "stream",
          "text": [
            "Testing: 100%|██████████| 1/1 [00:00<00:00,  1.25it/s]\n",
            "10/14/2020 13:43:01 - INFO - __main__ -   Hits left @1: 0.08\n",
            "10/14/2020 13:43:01 - INFO - __main__ -   Hits right @1: 0.208\n",
            "10/14/2020 13:43:01 - INFO - __main__ -   Hits @1: 0.144\n",
            "10/14/2020 13:43:01 - INFO - __main__ -   Hits left @3: 0.352\n",
            "10/14/2020 13:43:01 - INFO - __main__ -   Hits right @3: 0.544\n",
            "10/14/2020 13:43:01 - INFO - __main__ -   Hits @3: 0.448\n",
            "10/14/2020 13:43:01 - INFO - __main__ -   Hits left @10: 0.472\n",
            "10/14/2020 13:43:01 - INFO - __main__ -   Hits right @10: 0.824\n",
            "10/14/2020 13:43:01 - INFO - __main__ -   Hits @10: 0.648\n",
            "10/14/2020 13:43:01 - INFO - __main__ -   Mean rank left: 26.2\n",
            "10/14/2020 13:43:01 - INFO - __main__ -   Mean rank right: 6.528\n",
            "10/14/2020 13:43:01 - INFO - __main__ -   Mean rank: 16.364\n",
            "10/14/2020 13:43:01 - INFO - __main__ -   Mean reciprocal rank left: 0.24895127851681417\n",
            "10/14/2020 13:43:01 - INFO - __main__ -   Mean reciprocal rank right: 0.41140295677358846\n",
            "10/14/2020 13:43:01 - INFO - __main__ -   Mean reciprocal rank: 0.3301771176452013\n"
          ],
          "name": "stderr"
        },
        {
          "output_type": "stream",
          "text": [
            "right:  0\n",
            "mean rank until now:  16.364\n",
            "hit@10 until now:  0.648\n",
            "244\n"
          ],
          "name": "stdout"
        },
        {
          "output_type": "stream",
          "text": [
            "Testing: 100%|██████████| 1/1 [00:00<00:00,  1.47it/s]\n"
          ],
          "name": "stderr"
        },
        {
          "output_type": "stream",
          "text": [
            "left:  11\n"
          ],
          "name": "stdout"
        },
        {
          "output_type": "stream",
          "text": [
            "Testing: 100%|██████████| 1/1 [00:00<00:00,  1.25it/s]\n",
            "10/14/2020 13:43:03 - INFO - __main__ -   Hits left @1: 0.07936507936507936\n",
            "10/14/2020 13:43:03 - INFO - __main__ -   Hits right @1: 0.21428571428571427\n",
            "10/14/2020 13:43:03 - INFO - __main__ -   Hits @1: 0.14682539682539683\n",
            "10/14/2020 13:43:03 - INFO - __main__ -   Hits left @3: 0.3492063492063492\n",
            "10/14/2020 13:43:03 - INFO - __main__ -   Hits right @3: 0.5476190476190477\n",
            "10/14/2020 13:43:03 - INFO - __main__ -   Hits @3: 0.44841269841269843\n",
            "10/14/2020 13:43:03 - INFO - __main__ -   Hits left @10: 0.46825396825396826\n",
            "10/14/2020 13:43:03 - INFO - __main__ -   Hits right @10: 0.8253968253968254\n",
            "10/14/2020 13:43:03 - INFO - __main__ -   Hits @10: 0.6468253968253969\n",
            "10/14/2020 13:43:03 - INFO - __main__ -   Mean rank left: 26.08730158730159\n",
            "10/14/2020 13:43:03 - INFO - __main__ -   Mean rank right: 6.484126984126984\n",
            "10/14/2020 13:43:03 - INFO - __main__ -   Mean rank: 16.285714285714285\n",
            "10/14/2020 13:43:03 - INFO - __main__ -   Mean reciprocal rank left: 0.24763685038043734\n",
            "10/14/2020 13:43:03 - INFO - __main__ -   Mean reciprocal rank right: 0.41607436187856\n",
            "10/14/2020 13:43:03 - INFO - __main__ -   Mean reciprocal rank: 0.3318556061294986\n"
          ],
          "name": "stderr"
        },
        {
          "output_type": "stream",
          "text": [
            "right:  0\n",
            "mean rank until now:  16.285714285714285\n",
            "hit@10 until now:  0.6468253968253969\n",
            "282\n"
          ],
          "name": "stdout"
        },
        {
          "output_type": "stream",
          "text": [
            "Testing: 100%|██████████| 1/1 [00:00<00:00,  1.29it/s]\n"
          ],
          "name": "stderr"
        },
        {
          "output_type": "stream",
          "text": [
            "left:  94\n"
          ],
          "name": "stdout"
        },
        {
          "output_type": "stream",
          "text": [
            "Testing: 100%|██████████| 1/1 [00:00<00:00,  1.25it/s]\n",
            "10/14/2020 13:43:05 - INFO - __main__ -   Hits left @1: 0.07874015748031496\n",
            "10/14/2020 13:43:05 - INFO - __main__ -   Hits right @1: 0.2125984251968504\n",
            "10/14/2020 13:43:05 - INFO - __main__ -   Hits @1: 0.14566929133858267\n",
            "10/14/2020 13:43:05 - INFO - __main__ -   Hits left @3: 0.3464566929133858\n",
            "10/14/2020 13:43:05 - INFO - __main__ -   Hits right @3: 0.5433070866141733\n",
            "10/14/2020 13:43:05 - INFO - __main__ -   Hits @3: 0.4448818897637795\n",
            "10/14/2020 13:43:05 - INFO - __main__ -   Hits left @10: 0.4645669291338583\n",
            "10/14/2020 13:43:05 - INFO - __main__ -   Hits right @10: 0.8188976377952756\n",
            "10/14/2020 13:43:05 - INFO - __main__ -   Hits @10: 0.6417322834645669\n",
            "10/14/2020 13:43:05 - INFO - __main__ -   Mean rank left: 26.62992125984252\n",
            "10/14/2020 13:43:05 - INFO - __main__ -   Mean rank right: 6.661417322834645\n",
            "10/14/2020 13:43:05 - INFO - __main__ -   Mean rank: 16.64566929133858\n",
            "10/14/2020 13:43:05 - INFO - __main__ -   Mean reciprocal rank left: 0.2457698382970439\n",
            "10/14/2020 13:43:05 - INFO - __main__ -   Mean reciprocal rank right: 0.41306970358519096\n",
            "10/14/2020 13:43:05 - INFO - __main__ -   Mean reciprocal rank: 0.3294197709411174\n"
          ],
          "name": "stderr"
        },
        {
          "output_type": "stream",
          "text": [
            "right:  28\n",
            "mean rank until now:  16.64566929133858\n",
            "hit@10 until now:  0.6417322834645669\n",
            "171\n"
          ],
          "name": "stdout"
        },
        {
          "output_type": "stream",
          "text": [
            "Testing: 100%|██████████| 1/1 [00:00<00:00,  2.08it/s]\n"
          ],
          "name": "stderr"
        },
        {
          "output_type": "stream",
          "text": [
            "left:  1\n"
          ],
          "name": "stdout"
        },
        {
          "output_type": "stream",
          "text": [
            "Testing: 100%|██████████| 1/1 [00:00<00:00,  1.25it/s]\n",
            "10/14/2020 13:43:08 - INFO - __main__ -   Hits left @1: 0.078125\n",
            "10/14/2020 13:43:08 - INFO - __main__ -   Hits right @1: 0.2109375\n",
            "10/14/2020 13:43:08 - INFO - __main__ -   Hits @1: 0.14453125\n",
            "10/14/2020 13:43:08 - INFO - __main__ -   Hits left @3: 0.3515625\n",
            "10/14/2020 13:43:08 - INFO - __main__ -   Hits right @3: 0.546875\n",
            "10/14/2020 13:43:08 - INFO - __main__ -   Hits @3: 0.44921875\n",
            "10/14/2020 13:43:08 - INFO - __main__ -   Hits left @10: 0.46875\n",
            "10/14/2020 13:43:08 - INFO - __main__ -   Hits right @10: 0.8203125\n",
            "10/14/2020 13:43:08 - INFO - __main__ -   Hits @10: 0.64453125\n",
            "10/14/2020 13:43:08 - INFO - __main__ -   Mean rank left: 26.4375\n",
            "10/14/2020 13:43:08 - INFO - __main__ -   Mean rank right: 6.6328125\n",
            "10/14/2020 13:43:08 - INFO - __main__ -   Mean rank: 16.53515625\n",
            "10/14/2020 13:43:08 - INFO - __main__ -   Mean reciprocal rank left: 0.24775601143534828\n",
            "10/14/2020 13:43:08 - INFO - __main__ -   Mean reciprocal rank right: 0.4124467631925982\n",
            "10/14/2020 13:43:08 - INFO - __main__ -   Mean reciprocal rank: 0.3301013873139732\n"
          ],
          "name": "stderr"
        },
        {
          "output_type": "stream",
          "text": [
            "right:  2\n",
            "mean rank until now:  16.53515625\n",
            "hit@10 until now:  0.64453125\n",
            "264\n"
          ],
          "name": "stdout"
        },
        {
          "output_type": "stream",
          "text": [
            "Testing: 100%|██████████| 1/1 [00:00<00:00,  1.35it/s]\n"
          ],
          "name": "stderr"
        },
        {
          "output_type": "stream",
          "text": [
            "left:  64\n"
          ],
          "name": "stdout"
        },
        {
          "output_type": "stream",
          "text": [
            "Testing: 100%|██████████| 1/1 [00:00<00:00,  1.25it/s]\n",
            "10/14/2020 13:43:10 - INFO - __main__ -   Hits left @1: 0.07751937984496124\n",
            "10/14/2020 13:43:10 - INFO - __main__ -   Hits right @1: 0.20930232558139536\n",
            "10/14/2020 13:43:10 - INFO - __main__ -   Hits @1: 0.1434108527131783\n",
            "10/14/2020 13:43:10 - INFO - __main__ -   Hits left @3: 0.3488372093023256\n",
            "10/14/2020 13:43:10 - INFO - __main__ -   Hits right @3: 0.5426356589147286\n",
            "10/14/2020 13:43:10 - INFO - __main__ -   Hits @3: 0.44573643410852715\n",
            "10/14/2020 13:43:10 - INFO - __main__ -   Hits left @10: 0.46511627906976744\n",
            "10/14/2020 13:43:10 - INFO - __main__ -   Hits right @10: 0.8217054263565892\n",
            "10/14/2020 13:43:10 - INFO - __main__ -   Hits @10: 0.6434108527131783\n",
            "10/14/2020 13:43:10 - INFO - __main__ -   Mean rank left: 26.73643410852713\n",
            "10/14/2020 13:43:10 - INFO - __main__ -   Mean rank right: 6.62015503875969\n",
            "10/14/2020 13:43:10 - INFO - __main__ -   Mean rank: 16.67829457364341\n",
            "10/14/2020 13:43:10 - INFO - __main__ -   Mean reciprocal rank left: 0.2459546827837922\n",
            "10/14/2020 13:43:10 - INFO - __main__ -   Mean reciprocal rank right: 0.4107998890593223\n",
            "10/14/2020 13:43:10 - INFO - __main__ -   Mean reciprocal rank: 0.3283772859215573\n"
          ],
          "name": "stderr"
        },
        {
          "output_type": "stream",
          "text": [
            "right:  4\n",
            "mean rank until now:  16.67829457364341\n",
            "hit@10 until now:  0.6434108527131783\n",
            "287\n"
          ],
          "name": "stdout"
        },
        {
          "output_type": "stream",
          "text": [
            "Testing: 100%|██████████| 1/1 [00:00<00:00,  1.25it/s]\n"
          ],
          "name": "stderr"
        },
        {
          "output_type": "stream",
          "text": [
            "left:  34\n"
          ],
          "name": "stdout"
        },
        {
          "output_type": "stream",
          "text": [
            "Testing: 100%|██████████| 1/1 [00:00<00:00,  1.25it/s]\n",
            "10/14/2020 13:43:13 - INFO - __main__ -   Hits left @1: 0.07692307692307693\n",
            "10/14/2020 13:43:13 - INFO - __main__ -   Hits right @1: 0.2076923076923077\n",
            "10/14/2020 13:43:13 - INFO - __main__ -   Hits @1: 0.1423076923076923\n",
            "10/14/2020 13:43:13 - INFO - __main__ -   Hits left @3: 0.34615384615384615\n",
            "10/14/2020 13:43:13 - INFO - __main__ -   Hits right @3: 0.5384615384615384\n",
            "10/14/2020 13:43:13 - INFO - __main__ -   Hits @3: 0.4423076923076923\n",
            "10/14/2020 13:43:13 - INFO - __main__ -   Hits left @10: 0.46153846153846156\n",
            "10/14/2020 13:43:13 - INFO - __main__ -   Hits right @10: 0.8153846153846154\n",
            "10/14/2020 13:43:13 - INFO - __main__ -   Hits @10: 0.6384615384615384\n",
            "10/14/2020 13:43:13 - INFO - __main__ -   Mean rank left: 26.8\n",
            "10/14/2020 13:43:13 - INFO - __main__ -   Mean rank right: 6.653846153846154\n",
            "10/14/2020 13:43:13 - INFO - __main__ -   Mean rank: 16.726923076923075\n",
            "10/14/2020 13:43:13 - INFO - __main__ -   Mean reciprocal rank left: 0.24428250390523554\n",
            "10/14/2020 13:43:13 - INFO - __main__ -   Mean reciprocal rank right: 0.40833919061201285\n",
            "10/14/2020 13:43:13 - INFO - __main__ -   Mean reciprocal rank: 0.32631084725862414\n"
          ],
          "name": "stderr"
        },
        {
          "output_type": "stream",
          "text": [
            "right:  10\n",
            "mean rank until now:  16.726923076923075\n",
            "hit@10 until now:  0.6384615384615384\n",
            "224\n"
          ],
          "name": "stdout"
        },
        {
          "output_type": "stream",
          "text": [
            "Testing: 100%|██████████| 1/1 [00:00<00:00,  1.60it/s]\n"
          ],
          "name": "stderr"
        },
        {
          "output_type": "stream",
          "text": [
            "left:  1\n"
          ],
          "name": "stdout"
        },
        {
          "output_type": "stream",
          "text": [
            "Testing: 100%|██████████| 1/1 [00:00<00:00,  1.25it/s]\n",
            "10/14/2020 13:43:15 - INFO - __main__ -   Hits left @1: 0.07633587786259542\n",
            "10/14/2020 13:43:15 - INFO - __main__ -   Hits right @1: 0.21374045801526717\n",
            "10/14/2020 13:43:15 - INFO - __main__ -   Hits @1: 0.1450381679389313\n",
            "10/14/2020 13:43:15 - INFO - __main__ -   Hits left @3: 0.3511450381679389\n",
            "10/14/2020 13:43:15 - INFO - __main__ -   Hits right @3: 0.5419847328244275\n",
            "10/14/2020 13:43:15 - INFO - __main__ -   Hits @3: 0.44656488549618323\n",
            "10/14/2020 13:43:15 - INFO - __main__ -   Hits left @10: 0.46564885496183206\n",
            "10/14/2020 13:43:15 - INFO - __main__ -   Hits right @10: 0.816793893129771\n",
            "10/14/2020 13:43:15 - INFO - __main__ -   Hits @10: 0.6412213740458015\n",
            "10/14/2020 13:43:15 - INFO - __main__ -   Mean rank left: 26.610687022900763\n",
            "10/14/2020 13:43:15 - INFO - __main__ -   Mean rank right: 6.6106870229007635\n",
            "10/14/2020 13:43:15 - INFO - __main__ -   Mean rank: 16.610687022900763\n",
            "10/14/2020 13:43:15 - INFO - __main__ -   Mean reciprocal rank left: 0.24623454586015742\n",
            "10/14/2020 13:43:15 - INFO - __main__ -   Mean reciprocal rank right: 0.4128556853401654\n",
            "10/14/2020 13:43:15 - INFO - __main__ -   Mean reciprocal rank: 0.32954511560016136\n"
          ],
          "name": "stderr"
        },
        {
          "output_type": "stream",
          "text": [
            "right:  0\n",
            "mean rank until now:  16.610687022900763\n",
            "hit@10 until now:  0.6412213740458015\n",
            "282\n"
          ],
          "name": "stdout"
        },
        {
          "output_type": "stream",
          "text": [
            "Testing: 100%|██████████| 1/1 [00:00<00:00,  1.29it/s]\n"
          ],
          "name": "stderr"
        },
        {
          "output_type": "stream",
          "text": [
            "left:  1\n"
          ],
          "name": "stdout"
        },
        {
          "output_type": "stream",
          "text": [
            "Testing: 100%|██████████| 1/1 [00:00<00:00,  1.24it/s]\n",
            "10/14/2020 13:43:18 - INFO - __main__ -   Hits left @1: 0.07575757575757576\n",
            "10/14/2020 13:43:18 - INFO - __main__ -   Hits right @1: 0.21212121212121213\n",
            "10/14/2020 13:43:18 - INFO - __main__ -   Hits @1: 0.14393939393939395\n",
            "10/14/2020 13:43:18 - INFO - __main__ -   Hits left @3: 0.3560606060606061\n",
            "10/14/2020 13:43:18 - INFO - __main__ -   Hits right @3: 0.5378787878787878\n",
            "10/14/2020 13:43:18 - INFO - __main__ -   Hits @3: 0.44696969696969696\n",
            "10/14/2020 13:43:18 - INFO - __main__ -   Hits left @10: 0.4696969696969697\n",
            "10/14/2020 13:43:18 - INFO - __main__ -   Hits right @10: 0.8106060606060606\n",
            "10/14/2020 13:43:18 - INFO - __main__ -   Hits @10: 0.6401515151515151\n",
            "10/14/2020 13:43:18 - INFO - __main__ -   Mean rank left: 26.424242424242426\n",
            "10/14/2020 13:43:18 - INFO - __main__ -   Mean rank right: 6.7272727272727275\n",
            "10/14/2020 13:43:18 - INFO - __main__ -   Mean rank: 16.575757575757574\n",
            "10/14/2020 13:43:18 - INFO - __main__ -   Mean reciprocal rank left: 0.2481570114218229\n",
            "10/14/2020 13:43:18 - INFO - __main__ -   Mean reciprocal rank right: 0.41007234337133497\n",
            "10/14/2020 13:43:18 - INFO - __main__ -   Mean reciprocal rank: 0.32911467739657896\n"
          ],
          "name": "stderr"
        },
        {
          "output_type": "stream",
          "text": [
            "right:  21\n",
            "mean rank until now:  16.575757575757574\n",
            "hit@10 until now:  0.6401515151515151\n",
            "270\n"
          ],
          "name": "stdout"
        },
        {
          "output_type": "stream",
          "text": [
            "Testing: 100%|██████████| 1/1 [00:00<00:00,  1.32it/s]\n"
          ],
          "name": "stderr"
        },
        {
          "output_type": "stream",
          "text": [
            "left:  45\n"
          ],
          "name": "stdout"
        },
        {
          "output_type": "stream",
          "text": [
            "Testing: 100%|██████████| 1/1 [00:00<00:00,  1.24it/s]\n",
            "10/14/2020 13:43:21 - INFO - __main__ -   Hits left @1: 0.07518796992481203\n",
            "10/14/2020 13:43:21 - INFO - __main__ -   Hits right @1: 0.21052631578947367\n",
            "10/14/2020 13:43:21 - INFO - __main__ -   Hits @1: 0.14285714285714285\n",
            "10/14/2020 13:43:21 - INFO - __main__ -   Hits left @3: 0.3533834586466165\n",
            "10/14/2020 13:43:21 - INFO - __main__ -   Hits right @3: 0.5413533834586466\n",
            "10/14/2020 13:43:21 - INFO - __main__ -   Hits @3: 0.4473684210526316\n",
            "10/14/2020 13:43:21 - INFO - __main__ -   Hits left @10: 0.46616541353383456\n",
            "10/14/2020 13:43:21 - INFO - __main__ -   Hits right @10: 0.8120300751879699\n",
            "10/14/2020 13:43:21 - INFO - __main__ -   Hits @10: 0.6390977443609023\n",
            "10/14/2020 13:43:21 - INFO - __main__ -   Mean rank left: 26.571428571428573\n",
            "10/14/2020 13:43:21 - INFO - __main__ -   Mean rank right: 6.6992481203007515\n",
            "10/14/2020 13:43:21 - INFO - __main__ -   Mean rank: 16.63533834586466\n",
            "10/14/2020 13:43:21 - INFO - __main__ -   Mean reciprocal rank left: 0.24645462133921356\n",
            "10/14/2020 13:43:21 - INFO - __main__ -   Mean reciprocal rank right: 0.4094953583334552\n",
            "10/14/2020 13:43:21 - INFO - __main__ -   Mean reciprocal rank: 0.32797498983633433\n"
          ],
          "name": "stderr"
        },
        {
          "output_type": "stream",
          "text": [
            "right:  2\n",
            "mean rank until now:  16.63533834586466\n",
            "hit@10 until now:  0.6390977443609023\n",
            "264\n"
          ],
          "name": "stdout"
        },
        {
          "output_type": "stream",
          "text": [
            "Testing: 100%|██████████| 1/1 [00:00<00:00,  1.35it/s]\n"
          ],
          "name": "stderr"
        },
        {
          "output_type": "stream",
          "text": [
            "left:  33\n"
          ],
          "name": "stdout"
        },
        {
          "output_type": "stream",
          "text": [
            "Testing: 100%|██████████| 1/1 [00:00<00:00,  1.24it/s]\n",
            "10/14/2020 13:43:23 - INFO - __main__ -   Hits left @1: 0.07462686567164178\n",
            "10/14/2020 13:43:23 - INFO - __main__ -   Hits right @1: 0.208955223880597\n",
            "10/14/2020 13:43:23 - INFO - __main__ -   Hits @1: 0.1417910447761194\n",
            "10/14/2020 13:43:23 - INFO - __main__ -   Hits left @3: 0.35074626865671643\n",
            "10/14/2020 13:43:23 - INFO - __main__ -   Hits right @3: 0.5373134328358209\n",
            "10/14/2020 13:43:23 - INFO - __main__ -   Hits @3: 0.44402985074626866\n",
            "10/14/2020 13:43:23 - INFO - __main__ -   Hits left @10: 0.4626865671641791\n",
            "10/14/2020 13:43:23 - INFO - __main__ -   Hits right @10: 0.8134328358208955\n",
            "10/14/2020 13:43:23 - INFO - __main__ -   Hits @10: 0.6380597014925373\n",
            "10/14/2020 13:43:23 - INFO - __main__ -   Mean rank left: 26.62686567164179\n",
            "10/14/2020 13:43:23 - INFO - __main__ -   Mean rank right: 6.7164179104477615\n",
            "10/14/2020 13:43:23 - INFO - __main__ -   Mean rank: 16.671641791044777\n",
            "10/14/2020 13:43:23 - INFO - __main__ -   Mean reciprocal rank left: 0.24483489852851706\n",
            "10/14/2020 13:43:23 - INFO - __main__ -   Mean reciprocal rank right: 0.40726861021985566\n",
            "10/14/2020 13:43:23 - INFO - __main__ -   Mean reciprocal rank: 0.3260517543741863\n"
          ],
          "name": "stderr"
        },
        {
          "output_type": "stream",
          "text": [
            "right:  8\n",
            "mean rank until now:  16.671641791044777\n",
            "hit@10 until now:  0.6380597014925373\n",
            "285\n"
          ],
          "name": "stdout"
        },
        {
          "output_type": "stream",
          "text": [
            "Testing: 100%|██████████| 1/1 [00:00<00:00,  1.28it/s]\n"
          ],
          "name": "stderr"
        },
        {
          "output_type": "stream",
          "text": [
            "left:  0\n"
          ],
          "name": "stdout"
        },
        {
          "output_type": "stream",
          "text": [
            "Testing: 100%|██████████| 1/1 [00:00<00:00,  1.25it/s]\n",
            "10/14/2020 13:43:26 - INFO - __main__ -   Hits left @1: 0.08148148148148149\n",
            "10/14/2020 13:43:26 - INFO - __main__ -   Hits right @1: 0.2074074074074074\n",
            "10/14/2020 13:43:26 - INFO - __main__ -   Hits @1: 0.14444444444444443\n",
            "10/14/2020 13:43:26 - INFO - __main__ -   Hits left @3: 0.35555555555555557\n",
            "10/14/2020 13:43:26 - INFO - __main__ -   Hits right @3: 0.5333333333333333\n",
            "10/14/2020 13:43:26 - INFO - __main__ -   Hits @3: 0.4444444444444444\n",
            "10/14/2020 13:43:26 - INFO - __main__ -   Hits left @10: 0.4666666666666667\n",
            "10/14/2020 13:43:26 - INFO - __main__ -   Hits right @10: 0.8074074074074075\n",
            "10/14/2020 13:43:26 - INFO - __main__ -   Hits @10: 0.6370370370370371\n",
            "10/14/2020 13:43:26 - INFO - __main__ -   Mean rank left: 26.437037037037037\n",
            "10/14/2020 13:43:26 - INFO - __main__ -   Mean rank right: 6.7481481481481485\n",
            "10/14/2020 13:43:26 - INFO - __main__ -   Mean rank: 16.59259259259259\n",
            "10/14/2020 13:43:26 - INFO - __main__ -   Mean reciprocal rank left: 0.25042871409497247\n",
            "10/14/2020 13:43:26 - INFO - __main__ -   Mean reciprocal rank right: 0.40492520637310925\n",
            "10/14/2020 13:43:26 - INFO - __main__ -   Mean reciprocal rank: 0.32767696023404086\n"
          ],
          "name": "stderr"
        },
        {
          "output_type": "stream",
          "text": [
            "right:  10\n",
            "mean rank until now:  16.59259259259259\n",
            "hit@10 until now:  0.6370370370370371\n",
            "257\n"
          ],
          "name": "stdout"
        },
        {
          "output_type": "stream",
          "text": [
            "Testing: 100%|██████████| 1/1 [00:00<00:00,  1.41it/s]\n"
          ],
          "name": "stderr"
        },
        {
          "output_type": "stream",
          "text": [
            "left:  37\n"
          ],
          "name": "stdout"
        },
        {
          "output_type": "stream",
          "text": [
            "Testing: 100%|██████████| 1/1 [00:00<00:00,  1.25it/s]\n",
            "10/14/2020 13:43:29 - INFO - __main__ -   Hits left @1: 0.08088235294117647\n",
            "10/14/2020 13:43:29 - INFO - __main__ -   Hits right @1: 0.21323529411764705\n",
            "10/14/2020 13:43:29 - INFO - __main__ -   Hits @1: 0.14705882352941177\n",
            "10/14/2020 13:43:29 - INFO - __main__ -   Hits left @3: 0.35294117647058826\n",
            "10/14/2020 13:43:29 - INFO - __main__ -   Hits right @3: 0.5367647058823529\n",
            "10/14/2020 13:43:29 - INFO - __main__ -   Hits @3: 0.44485294117647056\n",
            "10/14/2020 13:43:29 - INFO - __main__ -   Hits left @10: 0.4632352941176471\n",
            "10/14/2020 13:43:29 - INFO - __main__ -   Hits right @10: 0.8088235294117647\n",
            "10/14/2020 13:43:29 - INFO - __main__ -   Hits @10: 0.6360294117647058\n",
            "10/14/2020 13:43:29 - INFO - __main__ -   Mean rank left: 26.522058823529413\n",
            "10/14/2020 13:43:29 - INFO - __main__ -   Mean rank right: 6.705882352941177\n",
            "10/14/2020 13:43:29 - INFO - __main__ -   Mean rank: 16.613970588235293\n",
            "10/14/2020 13:43:29 - INFO - __main__ -   Mean reciprocal rank left: 0.24878082494334539\n",
            "10/14/2020 13:43:29 - INFO - __main__ -   Mean reciprocal rank right: 0.4093007563262482\n",
            "10/14/2020 13:43:29 - INFO - __main__ -   Mean reciprocal rank: 0.3290407906347968\n"
          ],
          "name": "stderr"
        },
        {
          "output_type": "stream",
          "text": [
            "right:  0\n",
            "mean rank until now:  16.613970588235293\n",
            "hit@10 until now:  0.6360294117647058\n",
            "270\n"
          ],
          "name": "stdout"
        },
        {
          "output_type": "stream",
          "text": [
            "Testing: 100%|██████████| 1/1 [00:00<00:00,  1.33it/s]\n"
          ],
          "name": "stderr"
        },
        {
          "output_type": "stream",
          "text": [
            "left:  0\n"
          ],
          "name": "stdout"
        },
        {
          "output_type": "stream",
          "text": [
            "Testing: 100%|██████████| 1/1 [00:00<00:00,  1.25it/s]\n",
            "10/14/2020 13:43:31 - INFO - __main__ -   Hits left @1: 0.08759124087591241\n",
            "10/14/2020 13:43:31 - INFO - __main__ -   Hits right @1: 0.21897810218978103\n",
            "10/14/2020 13:43:31 - INFO - __main__ -   Hits @1: 0.15328467153284672\n",
            "10/14/2020 13:43:31 - INFO - __main__ -   Hits left @3: 0.35766423357664234\n",
            "10/14/2020 13:43:31 - INFO - __main__ -   Hits right @3: 0.5401459854014599\n",
            "10/14/2020 13:43:31 - INFO - __main__ -   Hits @3: 0.4489051094890511\n",
            "10/14/2020 13:43:31 - INFO - __main__ -   Hits left @10: 0.46715328467153283\n",
            "10/14/2020 13:43:31 - INFO - __main__ -   Hits right @10: 0.8102189781021898\n",
            "10/14/2020 13:43:31 - INFO - __main__ -   Hits @10: 0.6386861313868614\n",
            "10/14/2020 13:43:31 - INFO - __main__ -   Mean rank left: 26.335766423357665\n",
            "10/14/2020 13:43:31 - INFO - __main__ -   Mean rank right: 6.664233576642336\n",
            "10/14/2020 13:43:32 - INFO - __main__ -   Mean rank: 16.5\n",
            "10/14/2020 13:43:32 - INFO - __main__ -   Mean reciprocal rank left: 0.2542641765860947\n",
            "10/14/2020 13:43:32 - INFO - __main__ -   Mean reciprocal rank right: 0.4136124296377354\n",
            "10/14/2020 13:43:32 - INFO - __main__ -   Mean reciprocal rank: 0.3339383031119151\n"
          ],
          "name": "stderr"
        },
        {
          "output_type": "stream",
          "text": [
            "right:  0\n",
            "mean rank until now:  16.5\n",
            "hit@10 until now:  0.6386861313868614\n",
            "264\n"
          ],
          "name": "stdout"
        },
        {
          "output_type": "stream",
          "text": [
            "Testing: 100%|██████████| 1/1 [00:00<00:00,  1.35it/s]\n"
          ],
          "name": "stderr"
        },
        {
          "output_type": "stream",
          "text": [
            "left:  40\n"
          ],
          "name": "stdout"
        },
        {
          "output_type": "stream",
          "text": [
            "Testing: 100%|██████████| 1/1 [00:00<00:00,  1.24it/s]\n",
            "10/14/2020 13:43:34 - INFO - __main__ -   Hits left @1: 0.08695652173913043\n",
            "10/14/2020 13:43:34 - INFO - __main__ -   Hits right @1: 0.21739130434782608\n",
            "10/14/2020 13:43:34 - INFO - __main__ -   Hits @1: 0.15217391304347827\n",
            "10/14/2020 13:43:34 - INFO - __main__ -   Hits left @3: 0.35507246376811596\n",
            "10/14/2020 13:43:34 - INFO - __main__ -   Hits right @3: 0.5362318840579711\n",
            "10/14/2020 13:43:34 - INFO - __main__ -   Hits @3: 0.44565217391304346\n",
            "10/14/2020 13:43:34 - INFO - __main__ -   Hits left @10: 0.463768115942029\n",
            "10/14/2020 13:43:34 - INFO - __main__ -   Hits right @10: 0.8115942028985508\n",
            "10/14/2020 13:43:34 - INFO - __main__ -   Hits @10: 0.6376811594202898\n",
            "10/14/2020 13:43:34 - INFO - __main__ -   Mean rank left: 26.442028985507246\n",
            "10/14/2020 13:43:34 - INFO - __main__ -   Mean rank right: 6.644927536231884\n",
            "10/14/2020 13:43:34 - INFO - __main__ -   Mean rank: 16.543478260869566\n",
            "10/14/2020 13:43:34 - INFO - __main__ -   Mean reciprocal rank left: 0.2525984234507059\n",
            "10/14/2020 13:43:34 - INFO - __main__ -   Mean reciprocal rank right: 0.41242683232151994\n",
            "10/14/2020 13:43:34 - INFO - __main__ -   Mean reciprocal rank: 0.3325126278861129\n"
          ],
          "name": "stderr"
        },
        {
          "output_type": "stream",
          "text": [
            "right:  3\n",
            "mean rank until now:  16.543478260869566\n",
            "hit@10 until now:  0.6376811594202898\n",
            "224\n"
          ],
          "name": "stdout"
        },
        {
          "output_type": "stream",
          "text": [
            "Testing: 100%|██████████| 1/1 [00:00<00:00,  1.60it/s]\n"
          ],
          "name": "stderr"
        },
        {
          "output_type": "stream",
          "text": [
            "left:  1\n"
          ],
          "name": "stdout"
        },
        {
          "output_type": "stream",
          "text": [
            "Testing: 100%|██████████| 1/1 [00:00<00:00,  1.25it/s]\n",
            "10/14/2020 13:43:36 - INFO - __main__ -   Hits left @1: 0.08633093525179857\n",
            "10/14/2020 13:43:36 - INFO - __main__ -   Hits right @1: 0.2158273381294964\n",
            "10/14/2020 13:43:36 - INFO - __main__ -   Hits @1: 0.1510791366906475\n",
            "10/14/2020 13:43:36 - INFO - __main__ -   Hits left @3: 0.3597122302158273\n",
            "10/14/2020 13:43:36 - INFO - __main__ -   Hits right @3: 0.539568345323741\n",
            "10/14/2020 13:43:36 - INFO - __main__ -   Hits @3: 0.44964028776978415\n",
            "10/14/2020 13:43:36 - INFO - __main__ -   Hits left @10: 0.4676258992805755\n",
            "10/14/2020 13:43:36 - INFO - __main__ -   Hits right @10: 0.8129496402877698\n",
            "10/14/2020 13:43:36 - INFO - __main__ -   Hits @10: 0.6402877697841727\n",
            "10/14/2020 13:43:36 - INFO - __main__ -   Mean rank left: 26.26618705035971\n",
            "10/14/2020 13:43:36 - INFO - __main__ -   Mean rank right: 6.611510791366906\n",
            "10/14/2020 13:43:36 - INFO - __main__ -   Mean rank: 16.43884892086331\n",
            "10/14/2020 13:43:36 - INFO - __main__ -   Mean reciprocal rank left: 0.25437829090789504\n",
            "10/14/2020 13:43:36 - INFO - __main__ -   Mean reciprocal rank right: 0.4130568551105737\n",
            "10/14/2020 13:43:36 - INFO - __main__ -   Mean reciprocal rank: 0.3337175730092344\n"
          ],
          "name": "stderr"
        },
        {
          "output_type": "stream",
          "text": [
            "right:  1\n",
            "mean rank until now:  16.43884892086331\n",
            "hit@10 until now:  0.6402877697841727\n",
            "224\n"
          ],
          "name": "stdout"
        },
        {
          "output_type": "stream",
          "text": [
            "Testing: 100%|██████████| 1/1 [00:00<00:00,  1.60it/s]\n"
          ],
          "name": "stderr"
        },
        {
          "output_type": "stream",
          "text": [
            "left:  14\n"
          ],
          "name": "stdout"
        },
        {
          "output_type": "stream",
          "text": [
            "Testing: 100%|██████████| 1/1 [00:00<00:00,  1.25it/s]\n",
            "10/14/2020 13:43:39 - INFO - __main__ -   Hits left @1: 0.08571428571428572\n",
            "10/14/2020 13:43:39 - INFO - __main__ -   Hits right @1: 0.21428571428571427\n",
            "10/14/2020 13:43:39 - INFO - __main__ -   Hits @1: 0.15\n",
            "10/14/2020 13:43:39 - INFO - __main__ -   Hits left @3: 0.35714285714285715\n",
            "10/14/2020 13:43:39 - INFO - __main__ -   Hits right @3: 0.5428571428571428\n",
            "10/14/2020 13:43:39 - INFO - __main__ -   Hits @3: 0.45\n",
            "10/14/2020 13:43:39 - INFO - __main__ -   Hits left @10: 0.4642857142857143\n",
            "10/14/2020 13:43:39 - INFO - __main__ -   Hits right @10: 0.8142857142857143\n",
            "10/14/2020 13:43:39 - INFO - __main__ -   Hits @10: 0.6392857142857142\n",
            "10/14/2020 13:43:39 - INFO - __main__ -   Mean rank left: 26.185714285714287\n",
            "10/14/2020 13:43:39 - INFO - __main__ -   Mean rank right: 6.585714285714285\n",
            "10/14/2020 13:43:39 - INFO - __main__ -   Mean rank: 16.385714285714286\n",
            "10/14/2020 13:43:39 - INFO - __main__ -   Mean reciprocal rank left: 0.2530374935918862\n",
            "10/14/2020 13:43:39 - INFO - __main__ -   Mean reciprocal rank right: 0.4124874013835934\n",
            "10/14/2020 13:43:39 - INFO - __main__ -   Mean reciprocal rank: 0.33276244748773987\n"
          ],
          "name": "stderr"
        },
        {
          "output_type": "stream",
          "text": [
            "right:  2\n",
            "mean rank until now:  16.385714285714286\n",
            "hit@10 until now:  0.6392857142857142\n",
            "224\n"
          ],
          "name": "stdout"
        },
        {
          "output_type": "stream",
          "text": [
            "Testing: 100%|██████████| 1/1 [00:00<00:00,  1.60it/s]\n"
          ],
          "name": "stderr"
        },
        {
          "output_type": "stream",
          "text": [
            "left:  1\n"
          ],
          "name": "stdout"
        },
        {
          "output_type": "stream",
          "text": [
            "Testing: 100%|██████████| 1/1 [00:00<00:00,  1.24it/s]\n",
            "10/14/2020 13:43:41 - INFO - __main__ -   Hits left @1: 0.0851063829787234\n",
            "10/14/2020 13:43:41 - INFO - __main__ -   Hits right @1: 0.2127659574468085\n",
            "10/14/2020 13:43:41 - INFO - __main__ -   Hits @1: 0.14893617021276595\n",
            "10/14/2020 13:43:41 - INFO - __main__ -   Hits left @3: 0.3617021276595745\n",
            "10/14/2020 13:43:41 - INFO - __main__ -   Hits right @3: 0.5460992907801419\n",
            "10/14/2020 13:43:41 - INFO - __main__ -   Hits @3: 0.45390070921985815\n",
            "10/14/2020 13:43:41 - INFO - __main__ -   Hits left @10: 0.46808510638297873\n",
            "10/14/2020 13:43:41 - INFO - __main__ -   Hits right @10: 0.8156028368794326\n",
            "10/14/2020 13:43:41 - INFO - __main__ -   Hits @10: 0.6418439716312057\n",
            "10/14/2020 13:43:41 - INFO - __main__ -   Mean rank left: 26.01418439716312\n",
            "10/14/2020 13:43:41 - INFO - __main__ -   Mean rank right: 6.553191489361702\n",
            "10/14/2020 13:43:41 - INFO - __main__ -   Mean rank: 16.28368794326241\n",
            "10/14/2020 13:43:41 - INFO - __main__ -   Mean reciprocal rank left: 0.2547890007295324\n",
            "10/14/2020 13:43:41 - INFO - __main__ -   Mean reciprocal rank right: 0.41310805811136936\n",
            "10/14/2020 13:43:41 - INFO - __main__ -   Mean reciprocal rank: 0.33394852942045095\n"
          ],
          "name": "stderr"
        },
        {
          "output_type": "stream",
          "text": [
            "right:  1\n",
            "mean rank until now:  16.28368794326241\n",
            "hit@10 until now:  0.6418439716312057\n",
            "224\n"
          ],
          "name": "stdout"
        },
        {
          "output_type": "stream",
          "text": [
            "Testing: 100%|██████████| 1/1 [00:00<00:00,  1.60it/s]\n"
          ],
          "name": "stderr"
        },
        {
          "output_type": "stream",
          "text": [
            "left:  2\n"
          ],
          "name": "stdout"
        },
        {
          "output_type": "stream",
          "text": [
            "Testing: 100%|██████████| 1/1 [00:00<00:00,  1.25it/s]\n",
            "10/14/2020 13:43:43 - INFO - __main__ -   Hits left @1: 0.08450704225352113\n",
            "10/14/2020 13:43:43 - INFO - __main__ -   Hits right @1: 0.21830985915492956\n",
            "10/14/2020 13:43:43 - INFO - __main__ -   Hits @1: 0.15140845070422534\n",
            "10/14/2020 13:43:43 - INFO - __main__ -   Hits left @3: 0.36619718309859156\n",
            "10/14/2020 13:43:43 - INFO - __main__ -   Hits right @3: 0.5492957746478874\n",
            "10/14/2020 13:43:43 - INFO - __main__ -   Hits @3: 0.45774647887323944\n",
            "10/14/2020 13:43:43 - INFO - __main__ -   Hits left @10: 0.47183098591549294\n",
            "10/14/2020 13:43:43 - INFO - __main__ -   Hits right @10: 0.8169014084507042\n",
            "10/14/2020 13:43:43 - INFO - __main__ -   Hits @10: 0.6443661971830986\n",
            "10/14/2020 13:43:43 - INFO - __main__ -   Mean rank left: 25.85211267605634\n",
            "10/14/2020 13:43:43 - INFO - __main__ -   Mean rank right: 6.514084507042254\n",
            "10/14/2020 13:43:43 - INFO - __main__ -   Mean rank: 16.183098591549296\n",
            "10/14/2020 13:43:43 - INFO - __main__ -   Mean reciprocal rank left: 0.2553421298323761\n",
            "10/14/2020 13:43:43 - INFO - __main__ -   Mean reciprocal rank right: 0.4172410999556555\n",
            "10/14/2020 13:43:43 - INFO - __main__ -   Mean reciprocal rank: 0.3362916148940158\n"
          ],
          "name": "stderr"
        },
        {
          "output_type": "stream",
          "text": [
            "right:  0\n",
            "mean rank until now:  16.183098591549296\n",
            "hit@10 until now:  0.6443661971830986\n",
            "241\n"
          ],
          "name": "stdout"
        },
        {
          "output_type": "stream",
          "text": [
            "Testing: 100%|██████████| 1/1 [00:00<00:00,  1.48it/s]\n"
          ],
          "name": "stderr"
        },
        {
          "output_type": "stream",
          "text": [
            "left:  21\n"
          ],
          "name": "stdout"
        },
        {
          "output_type": "stream",
          "text": [
            "Testing: 100%|██████████| 1/1 [00:00<00:00,  1.24it/s]\n",
            "10/14/2020 13:43:46 - INFO - __main__ -   Hits left @1: 0.08391608391608392\n",
            "10/14/2020 13:43:46 - INFO - __main__ -   Hits right @1: 0.21678321678321677\n",
            "10/14/2020 13:43:46 - INFO - __main__ -   Hits @1: 0.15034965034965034\n",
            "10/14/2020 13:43:46 - INFO - __main__ -   Hits left @3: 0.36363636363636365\n",
            "10/14/2020 13:43:46 - INFO - __main__ -   Hits right @3: 0.5454545454545454\n",
            "10/14/2020 13:43:46 - INFO - __main__ -   Hits @3: 0.45454545454545453\n",
            "10/14/2020 13:43:46 - INFO - __main__ -   Hits left @10: 0.46853146853146854\n",
            "10/14/2020 13:43:46 - INFO - __main__ -   Hits right @10: 0.8181818181818182\n",
            "10/14/2020 13:43:46 - INFO - __main__ -   Hits @10: 0.6433566433566433\n",
            "10/14/2020 13:43:46 - INFO - __main__ -   Mean rank left: 25.825174825174827\n",
            "10/14/2020 13:43:46 - INFO - __main__ -   Mean rank right: 6.5174825174825175\n",
            "10/14/2020 13:43:46 - INFO - __main__ -   Mean rank: 16.17132867132867\n",
            "10/14/2020 13:43:46 - INFO - __main__ -   Mean reciprocal rank left: 0.2538743844870766\n",
            "10/14/2020 13:43:46 - INFO - __main__ -   Mean reciprocal rank right: 0.4153223310248967\n",
            "10/14/2020 13:43:46 - INFO - __main__ -   Mean reciprocal rank: 0.3345983577559867\n"
          ],
          "name": "stderr"
        },
        {
          "output_type": "stream",
          "text": [
            "right:  6\n",
            "mean rank until now:  16.17132867132867\n",
            "hit@10 until now:  0.6433566433566433\n",
            "171\n"
          ],
          "name": "stdout"
        },
        {
          "output_type": "stream",
          "text": [
            "Testing: 100%|██████████| 1/1 [00:00<00:00,  2.08it/s]\n"
          ],
          "name": "stderr"
        },
        {
          "output_type": "stream",
          "text": [
            "left:  1\n"
          ],
          "name": "stdout"
        },
        {
          "output_type": "stream",
          "text": [
            "Testing: 100%|██████████| 1/1 [00:00<00:00,  1.24it/s]\n",
            "10/14/2020 13:43:48 - INFO - __main__ -   Hits left @1: 0.08333333333333333\n",
            "10/14/2020 13:43:48 - INFO - __main__ -   Hits right @1: 0.2152777777777778\n",
            "10/14/2020 13:43:48 - INFO - __main__ -   Hits @1: 0.14930555555555555\n",
            "10/14/2020 13:43:48 - INFO - __main__ -   Hits left @3: 0.3680555555555556\n",
            "10/14/2020 13:43:48 - INFO - __main__ -   Hits right @3: 0.5416666666666666\n",
            "10/14/2020 13:43:48 - INFO - __main__ -   Hits @3: 0.4548611111111111\n",
            "10/14/2020 13:43:48 - INFO - __main__ -   Hits left @10: 0.4722222222222222\n",
            "10/14/2020 13:43:48 - INFO - __main__ -   Hits right @10: 0.8194444444444444\n",
            "10/14/2020 13:43:48 - INFO - __main__ -   Hits @10: 0.6458333333333334\n",
            "10/14/2020 13:43:48 - INFO - __main__ -   Mean rank left: 25.65972222222222\n",
            "10/14/2020 13:43:48 - INFO - __main__ -   Mean rank right: 6.506944444444445\n",
            "10/14/2020 13:43:48 - INFO - __main__ -   Mean rank: 16.083333333333332\n",
            "10/14/2020 13:43:48 - INFO - __main__ -   Mean reciprocal rank left: 0.2555835901503608\n",
            "10/14/2020 13:43:48 - INFO - __main__ -   Mean reciprocal rank right: 0.413827037059446\n",
            "10/14/2020 13:43:48 - INFO - __main__ -   Mean reciprocal rank: 0.3347053136049034\n"
          ],
          "name": "stderr"
        },
        {
          "output_type": "stream",
          "text": [
            "right:  4\n",
            "mean rank until now:  16.083333333333332\n",
            "hit@10 until now:  0.6458333333333334\n",
            "171\n"
          ],
          "name": "stdout"
        },
        {
          "output_type": "stream",
          "text": [
            "Testing: 100%|██████████| 1/1 [00:00<00:00,  2.08it/s]\n"
          ],
          "name": "stderr"
        },
        {
          "output_type": "stream",
          "text": [
            "left:  1\n"
          ],
          "name": "stdout"
        },
        {
          "output_type": "stream",
          "text": [
            "Testing: 100%|██████████| 1/1 [00:00<00:00,  1.25it/s]\n",
            "10/14/2020 13:43:50 - INFO - __main__ -   Hits left @1: 0.08275862068965517\n",
            "10/14/2020 13:43:50 - INFO - __main__ -   Hits right @1: 0.21379310344827587\n",
            "10/14/2020 13:43:50 - INFO - __main__ -   Hits @1: 0.1482758620689655\n",
            "10/14/2020 13:43:50 - INFO - __main__ -   Hits left @3: 0.3724137931034483\n",
            "10/14/2020 13:43:50 - INFO - __main__ -   Hits right @3: 0.5448275862068965\n",
            "10/14/2020 13:43:50 - INFO - __main__ -   Hits @3: 0.4586206896551724\n",
            "10/14/2020 13:43:50 - INFO - __main__ -   Hits left @10: 0.47586206896551725\n",
            "10/14/2020 13:43:50 - INFO - __main__ -   Hits right @10: 0.8206896551724138\n",
            "10/14/2020 13:43:50 - INFO - __main__ -   Hits @10: 0.6482758620689655\n",
            "10/14/2020 13:43:50 - INFO - __main__ -   Mean rank left: 25.49655172413793\n",
            "10/14/2020 13:43:50 - INFO - __main__ -   Mean rank right: 6.475862068965517\n",
            "10/14/2020 13:43:50 - INFO - __main__ -   Mean rank: 15.986206896551725\n",
            "10/14/2020 13:43:50 - INFO - __main__ -   Mean reciprocal rank left: 0.2572692205631169\n",
            "10/14/2020 13:43:50 - INFO - __main__ -   Mean reciprocal rank right: 0.4144213333555878\n",
            "10/14/2020 13:43:50 - INFO - __main__ -   Mean reciprocal rank: 0.33584527695935235\n"
          ],
          "name": "stderr"
        },
        {
          "output_type": "stream",
          "text": [
            "right:  1\n",
            "mean rank until now:  15.986206896551725\n",
            "hit@10 until now:  0.6482758620689655\n",
            "224\n"
          ],
          "name": "stdout"
        },
        {
          "output_type": "stream",
          "text": [
            "Testing: 100%|██████████| 1/1 [00:00<00:00,  1.60it/s]\n"
          ],
          "name": "stderr"
        },
        {
          "output_type": "stream",
          "text": [
            "left:  5\n"
          ],
          "name": "stdout"
        },
        {
          "output_type": "stream",
          "text": [
            "Testing: 100%|██████████| 1/1 [00:00<00:00,  1.25it/s]\n",
            "10/14/2020 13:43:52 - INFO - __main__ -   Hits left @1: 0.0821917808219178\n",
            "10/14/2020 13:43:52 - INFO - __main__ -   Hits right @1: 0.21232876712328766\n",
            "10/14/2020 13:43:52 - INFO - __main__ -   Hits @1: 0.14726027397260275\n",
            "10/14/2020 13:43:52 - INFO - __main__ -   Hits left @3: 0.3698630136986301\n",
            "10/14/2020 13:43:52 - INFO - __main__ -   Hits right @3: 0.547945205479452\n",
            "10/14/2020 13:43:52 - INFO - __main__ -   Hits @3: 0.4589041095890411\n",
            "10/14/2020 13:43:52 - INFO - __main__ -   Hits left @10: 0.4794520547945205\n",
            "10/14/2020 13:43:52 - INFO - __main__ -   Hits right @10: 0.821917808219178\n",
            "10/14/2020 13:43:52 - INFO - __main__ -   Hits @10: 0.6506849315068494\n",
            "10/14/2020 13:43:52 - INFO - __main__ -   Mean rank left: 25.363013698630137\n",
            "10/14/2020 13:43:52 - INFO - __main__ -   Mean rank right: 6.445205479452055\n",
            "10/14/2020 13:43:52 - INFO - __main__ -   Mean rank: 15.904109589041095\n",
            "10/14/2020 13:43:52 - INFO - __main__ -   Mean reciprocal rank left: 0.25664865512546997\n",
            "10/14/2020 13:43:52 - INFO - __main__ -   Mean reciprocal rank right: 0.4150074886065769\n",
            "10/14/2020 13:43:52 - INFO - __main__ -   Mean reciprocal rank: 0.3358280718660234\n"
          ],
          "name": "stderr"
        },
        {
          "output_type": "stream",
          "text": [
            "right:  1\n",
            "mean rank until now:  15.904109589041095\n",
            "hit@10 until now:  0.6506849315068494\n",
            "282\n"
          ],
          "name": "stdout"
        },
        {
          "output_type": "stream",
          "text": [
            "Testing: 100%|██████████| 1/1 [00:00<00:00,  1.29it/s]\n"
          ],
          "name": "stderr"
        },
        {
          "output_type": "stream",
          "text": [
            "left:  23\n"
          ],
          "name": "stdout"
        },
        {
          "output_type": "stream",
          "text": [
            "Testing: 100%|██████████| 1/1 [00:00<00:00,  1.25it/s]\n",
            "10/14/2020 13:43:55 - INFO - __main__ -   Hits left @1: 0.08163265306122448\n",
            "10/14/2020 13:43:55 - INFO - __main__ -   Hits right @1: 0.2108843537414966\n",
            "10/14/2020 13:43:55 - INFO - __main__ -   Hits @1: 0.14625850340136054\n",
            "10/14/2020 13:43:55 - INFO - __main__ -   Hits left @3: 0.3673469387755102\n",
            "10/14/2020 13:43:55 - INFO - __main__ -   Hits right @3: 0.54421768707483\n",
            "10/14/2020 13:43:55 - INFO - __main__ -   Hits @3: 0.4557823129251701\n",
            "10/14/2020 13:43:55 - INFO - __main__ -   Hits left @10: 0.47619047619047616\n",
            "10/14/2020 13:43:55 - INFO - __main__ -   Hits right @10: 0.8163265306122449\n",
            "10/14/2020 13:43:55 - INFO - __main__ -   Hits @10: 0.6462585034013606\n",
            "10/14/2020 13:43:55 - INFO - __main__ -   Mean rank left: 25.35374149659864\n",
            "10/14/2020 13:43:55 - INFO - __main__ -   Mean rank right: 6.551020408163265\n",
            "10/14/2020 13:43:55 - INFO - __main__ -   Mean rank: 15.952380952380953\n",
            "10/14/2020 13:43:55 - INFO - __main__ -   Mean reciprocal rank left: 0.25518619261894754\n",
            "10/14/2020 13:43:55 - INFO - __main__ -   Mean reciprocal rank right: 0.41249352300690323\n",
            "10/14/2020 13:43:55 - INFO - __main__ -   Mean reciprocal rank: 0.33383985781292536\n"
          ],
          "name": "stderr"
        },
        {
          "output_type": "stream",
          "text": [
            "right:  21\n",
            "mean rank until now:  15.952380952380953\n",
            "hit@10 until now:  0.6462585034013606\n",
            "171\n"
          ],
          "name": "stdout"
        },
        {
          "output_type": "stream",
          "text": [
            "Testing: 100%|██████████| 1/1 [00:00<00:00,  2.07it/s]\n"
          ],
          "name": "stderr"
        },
        {
          "output_type": "stream",
          "text": [
            "left:  1\n"
          ],
          "name": "stdout"
        },
        {
          "output_type": "stream",
          "text": [
            "Testing: 100%|██████████| 1/1 [00:00<00:00,  1.25it/s]\n",
            "10/14/2020 13:43:57 - INFO - __main__ -   Hits left @1: 0.08108108108108109\n",
            "10/14/2020 13:43:57 - INFO - __main__ -   Hits right @1: 0.20945945945945946\n",
            "10/14/2020 13:43:57 - INFO - __main__ -   Hits @1: 0.14527027027027026\n",
            "10/14/2020 13:43:57 - INFO - __main__ -   Hits left @3: 0.3716216216216216\n",
            "10/14/2020 13:43:57 - INFO - __main__ -   Hits right @3: 0.5472972972972973\n",
            "10/14/2020 13:43:57 - INFO - __main__ -   Hits @3: 0.4594594594594595\n",
            "10/14/2020 13:43:57 - INFO - __main__ -   Hits left @10: 0.4797297297297297\n",
            "10/14/2020 13:43:57 - INFO - __main__ -   Hits right @10: 0.8175675675675675\n",
            "10/14/2020 13:43:57 - INFO - __main__ -   Hits @10: 0.6486486486486487\n",
            "10/14/2020 13:43:57 - INFO - __main__ -   Mean rank left: 25.195945945945947\n",
            "10/14/2020 13:43:57 - INFO - __main__ -   Mean rank right: 6.52027027027027\n",
            "10/14/2020 13:43:57 - INFO - __main__ -   Mean rank: 15.858108108108109\n",
            "10/14/2020 13:43:57 - INFO - __main__ -   Mean reciprocal rank left: 0.2568403399661168\n",
            "10/14/2020 13:43:57 - INFO - __main__ -   Mean reciprocal rank right: 0.4130847829865863\n",
            "10/14/2020 13:43:57 - INFO - __main__ -   Mean reciprocal rank: 0.33496256147635156\n"
          ],
          "name": "stderr"
        },
        {
          "output_type": "stream",
          "text": [
            "right:  1\n",
            "mean rank until now:  15.858108108108109\n",
            "hit@10 until now:  0.6486486486486487\n",
            "244\n"
          ],
          "name": "stdout"
        },
        {
          "output_type": "stream",
          "text": [
            "Testing: 100%|██████████| 1/1 [00:00<00:00,  1.47it/s]\n"
          ],
          "name": "stderr"
        },
        {
          "output_type": "stream",
          "text": [
            "left:  1\n"
          ],
          "name": "stdout"
        },
        {
          "output_type": "stream",
          "text": [
            "Testing: 100%|██████████| 1/1 [00:00<00:00,  1.25it/s]\n",
            "10/14/2020 13:44:00 - INFO - __main__ -   Hits left @1: 0.08053691275167785\n",
            "10/14/2020 13:44:00 - INFO - __main__ -   Hits right @1: 0.21476510067114093\n",
            "10/14/2020 13:44:00 - INFO - __main__ -   Hits @1: 0.1476510067114094\n",
            "10/14/2020 13:44:00 - INFO - __main__ -   Hits left @3: 0.37583892617449666\n",
            "10/14/2020 13:44:00 - INFO - __main__ -   Hits right @3: 0.5503355704697986\n",
            "10/14/2020 13:44:00 - INFO - __main__ -   Hits @3: 0.46308724832214765\n",
            "10/14/2020 13:44:00 - INFO - __main__ -   Hits left @10: 0.48322147651006714\n",
            "10/14/2020 13:44:00 - INFO - __main__ -   Hits right @10: 0.8187919463087249\n",
            "10/14/2020 13:44:00 - INFO - __main__ -   Hits @10: 0.6510067114093959\n",
            "10/14/2020 13:44:00 - INFO - __main__ -   Mean rank left: 25.040268456375838\n",
            "10/14/2020 13:44:00 - INFO - __main__ -   Mean rank right: 6.483221476510067\n",
            "10/14/2020 13:44:00 - INFO - __main__ -   Mean rank: 15.761744966442953\n",
            "10/14/2020 13:44:00 - INFO - __main__ -   Mean reciprocal rank left: 0.2584722839931899\n",
            "10/14/2020 13:44:00 - INFO - __main__ -   Mean reciprocal rank right: 0.41702381128868976\n",
            "10/14/2020 13:44:00 - INFO - __main__ -   Mean reciprocal rank: 0.3377480476409398\n"
          ],
          "name": "stderr"
        },
        {
          "output_type": "stream",
          "text": [
            "right:  0\n",
            "mean rank until now:  15.761744966442953\n",
            "hit@10 until now:  0.6510067114093959\n",
            "224\n"
          ],
          "name": "stdout"
        },
        {
          "output_type": "stream",
          "text": [
            "Testing: 100%|██████████| 1/1 [00:00<00:00,  1.60it/s]\n"
          ],
          "name": "stderr"
        },
        {
          "output_type": "stream",
          "text": [
            "left:  4\n"
          ],
          "name": "stdout"
        },
        {
          "output_type": "stream",
          "text": [
            "Testing: 100%|██████████| 1/1 [00:00<00:00,  1.25it/s]\n",
            "10/14/2020 13:44:02 - INFO - __main__ -   Hits left @1: 0.08\n",
            "10/14/2020 13:44:02 - INFO - __main__ -   Hits right @1: 0.21333333333333335\n",
            "10/14/2020 13:44:02 - INFO - __main__ -   Hits @1: 0.14666666666666667\n",
            "10/14/2020 13:44:02 - INFO - __main__ -   Hits left @3: 0.37333333333333335\n",
            "10/14/2020 13:44:02 - INFO - __main__ -   Hits right @3: 0.5533333333333333\n",
            "10/14/2020 13:44:02 - INFO - __main__ -   Hits @3: 0.4633333333333333\n",
            "10/14/2020 13:44:02 - INFO - __main__ -   Hits left @10: 0.4866666666666667\n",
            "10/14/2020 13:44:02 - INFO - __main__ -   Hits right @10: 0.82\n",
            "10/14/2020 13:44:02 - INFO - __main__ -   Hits @10: 0.6533333333333333\n",
            "10/14/2020 13:44:02 - INFO - __main__ -   Mean rank left: 24.906666666666666\n",
            "10/14/2020 13:44:02 - INFO - __main__ -   Mean rank right: 6.453333333333333\n",
            "10/14/2020 13:44:02 - INFO - __main__ -   Mean rank: 15.68\n",
            "10/14/2020 13:44:02 - INFO - __main__ -   Mean reciprocal rank left: 0.2580824687665686\n",
            "10/14/2020 13:44:02 - INFO - __main__ -   Mean reciprocal rank right: 0.4175769858800985\n",
            "10/14/2020 13:44:02 - INFO - __main__ -   Mean reciprocal rank: 0.3378297273233335\n"
          ],
          "name": "stderr"
        },
        {
          "output_type": "stream",
          "text": [
            "right:  1\n",
            "mean rank until now:  15.68\n",
            "hit@10 until now:  0.6533333333333333\n",
            "241\n"
          ],
          "name": "stdout"
        },
        {
          "output_type": "stream",
          "text": [
            "Testing: 100%|██████████| 1/1 [00:00<00:00,  1.48it/s]\n"
          ],
          "name": "stderr"
        },
        {
          "output_type": "stream",
          "text": [
            "left:  10\n"
          ],
          "name": "stdout"
        },
        {
          "output_type": "stream",
          "text": [
            "Testing: 100%|██████████| 1/1 [00:00<00:00,  1.24it/s]\n",
            "10/14/2020 13:44:04 - INFO - __main__ -   Hits left @1: 0.07947019867549669\n",
            "10/14/2020 13:44:04 - INFO - __main__ -   Hits right @1: 0.2119205298013245\n",
            "10/14/2020 13:44:04 - INFO - __main__ -   Hits @1: 0.1456953642384106\n",
            "10/14/2020 13:44:04 - INFO - __main__ -   Hits left @3: 0.3708609271523179\n",
            "10/14/2020 13:44:04 - INFO - __main__ -   Hits right @3: 0.5496688741721855\n",
            "10/14/2020 13:44:04 - INFO - __main__ -   Hits @3: 0.4602649006622517\n",
            "10/14/2020 13:44:04 - INFO - __main__ -   Hits left @10: 0.48344370860927155\n",
            "10/14/2020 13:44:04 - INFO - __main__ -   Hits right @10: 0.8211920529801324\n",
            "10/14/2020 13:44:04 - INFO - __main__ -   Hits @10: 0.652317880794702\n",
            "10/14/2020 13:44:04 - INFO - __main__ -   Mean rank left: 24.814569536423843\n",
            "10/14/2020 13:44:04 - INFO - __main__ -   Mean rank right: 6.437086092715232\n",
            "10/14/2020 13:44:04 - INFO - __main__ -   Mean rank: 15.625827814569536\n",
            "10/14/2020 13:44:04 - INFO - __main__ -   Mean reciprocal rank left: 0.2569753603039363\n",
            "10/14/2020 13:44:04 - INFO - __main__ -   Mean reciprocal rank right: 0.41646720451665414\n",
            "10/14/2020 13:44:04 - INFO - __main__ -   Mean reciprocal rank: 0.33672128241029514\n"
          ],
          "name": "stderr"
        },
        {
          "output_type": "stream",
          "text": [
            "right:  3\n",
            "mean rank until now:  15.625827814569536\n",
            "hit@10 until now:  0.652317880794702\n",
            "241\n"
          ],
          "name": "stdout"
        },
        {
          "output_type": "stream",
          "text": [
            "Testing: 100%|██████████| 1/1 [00:00<00:00,  1.48it/s]\n"
          ],
          "name": "stderr"
        },
        {
          "output_type": "stream",
          "text": [
            "left:  16\n"
          ],
          "name": "stdout"
        },
        {
          "output_type": "stream",
          "text": [
            "Testing: 100%|██████████| 1/1 [00:00<00:00,  1.25it/s]\n",
            "10/14/2020 13:44:07 - INFO - __main__ -   Hits left @1: 0.07894736842105263\n",
            "10/14/2020 13:44:07 - INFO - __main__ -   Hits right @1: 0.21052631578947367\n",
            "10/14/2020 13:44:07 - INFO - __main__ -   Hits @1: 0.14473684210526316\n",
            "10/14/2020 13:44:07 - INFO - __main__ -   Hits left @3: 0.3684210526315789\n",
            "10/14/2020 13:44:07 - INFO - __main__ -   Hits right @3: 0.5460526315789473\n",
            "10/14/2020 13:44:07 - INFO - __main__ -   Hits @3: 0.45723684210526316\n",
            "10/14/2020 13:44:07 - INFO - __main__ -   Hits left @10: 0.48026315789473684\n",
            "10/14/2020 13:44:07 - INFO - __main__ -   Hits right @10: 0.8223684210526315\n",
            "10/14/2020 13:44:07 - INFO - __main__ -   Hits @10: 0.6513157894736842\n",
            "10/14/2020 13:44:07 - INFO - __main__ -   Mean rank left: 24.763157894736842\n",
            "10/14/2020 13:44:07 - INFO - __main__ -   Mean rank right: 6.427631578947368\n",
            "10/14/2020 13:44:07 - INFO - __main__ -   Mean rank: 15.595394736842104\n",
            "10/14/2020 13:44:07 - INFO - __main__ -   Mean reciprocal rank left: 0.2556717298375404\n",
            "10/14/2020 13:44:07 - INFO - __main__ -   Mean reciprocal rank right: 0.4150430781711498\n",
            "10/14/2020 13:44:07 - INFO - __main__ -   Mean reciprocal rank: 0.33535740400434516\n"
          ],
          "name": "stderr"
        },
        {
          "output_type": "stream",
          "text": [
            "right:  4\n",
            "mean rank until now:  15.595394736842104\n",
            "hit@10 until now:  0.6513157894736842\n",
            "288\n"
          ],
          "name": "stdout"
        },
        {
          "output_type": "stream",
          "text": [
            "Testing: 100%|██████████| 1/1 [00:00<00:00,  1.25it/s]\n"
          ],
          "name": "stderr"
        },
        {
          "output_type": "stream",
          "text": [
            "left:  3\n"
          ],
          "name": "stdout"
        },
        {
          "output_type": "stream",
          "text": [
            "Testing: 100%|██████████| 1/1 [00:00<00:00,  1.25it/s]\n",
            "10/14/2020 13:44:09 - INFO - __main__ -   Hits left @1: 0.0784313725490196\n",
            "10/14/2020 13:44:09 - INFO - __main__ -   Hits right @1: 0.20915032679738563\n",
            "10/14/2020 13:44:09 - INFO - __main__ -   Hits @1: 0.1437908496732026\n",
            "10/14/2020 13:44:09 - INFO - __main__ -   Hits left @3: 0.3660130718954248\n",
            "10/14/2020 13:44:09 - INFO - __main__ -   Hits right @3: 0.5424836601307189\n",
            "10/14/2020 13:44:09 - INFO - __main__ -   Hits @3: 0.4542483660130719\n",
            "10/14/2020 13:44:09 - INFO - __main__ -   Hits left @10: 0.48366013071895425\n",
            "10/14/2020 13:44:09 - INFO - __main__ -   Hits right @10: 0.8235294117647058\n",
            "10/14/2020 13:44:09 - INFO - __main__ -   Hits @10: 0.6535947712418301\n",
            "10/14/2020 13:44:09 - INFO - __main__ -   Mean rank left: 24.627450980392158\n",
            "10/14/2020 13:44:09 - INFO - __main__ -   Mean rank right: 6.444444444444445\n",
            "10/14/2020 13:44:09 - INFO - __main__ -   Mean rank: 15.5359477124183\n",
            "10/14/2020 13:44:09 - INFO - __main__ -   Mean reciprocal rank left: 0.2556346597078833\n",
            "10/14/2020 13:44:09 - INFO - __main__ -   Mean reciprocal rank right: 0.41305659472631295\n",
            "10/14/2020 13:44:09 - INFO - __main__ -   Mean reciprocal rank: 0.3343456272170981\n"
          ],
          "name": "stderr"
        },
        {
          "output_type": "stream",
          "text": [
            "right:  8\n",
            "mean rank until now:  15.5359477124183\n",
            "hit@10 until now:  0.6535947712418301\n",
            "250\n"
          ],
          "name": "stdout"
        },
        {
          "output_type": "stream",
          "text": [
            "Testing: 100%|██████████| 1/1 [00:00<00:00,  1.43it/s]\n"
          ],
          "name": "stderr"
        },
        {
          "output_type": "stream",
          "text": [
            "left:  27\n"
          ],
          "name": "stdout"
        },
        {
          "output_type": "stream",
          "text": [
            "Testing: 100%|██████████| 1/1 [00:00<00:00,  1.25it/s]\n",
            "10/14/2020 13:44:12 - INFO - __main__ -   Hits left @1: 0.07792207792207792\n",
            "10/14/2020 13:44:12 - INFO - __main__ -   Hits right @1: 0.2077922077922078\n",
            "10/14/2020 13:44:12 - INFO - __main__ -   Hits @1: 0.14285714285714285\n",
            "10/14/2020 13:44:12 - INFO - __main__ -   Hits left @3: 0.36363636363636365\n",
            "10/14/2020 13:44:12 - INFO - __main__ -   Hits right @3: 0.5454545454545454\n",
            "10/14/2020 13:44:12 - INFO - __main__ -   Hits @3: 0.45454545454545453\n",
            "10/14/2020 13:44:12 - INFO - __main__ -   Hits left @10: 0.4805194805194805\n",
            "10/14/2020 13:44:12 - INFO - __main__ -   Hits right @10: 0.8246753246753247\n",
            "10/14/2020 13:44:12 - INFO - __main__ -   Hits @10: 0.6525974025974026\n",
            "10/14/2020 13:44:12 - INFO - __main__ -   Mean rank left: 24.649350649350648\n",
            "10/14/2020 13:44:12 - INFO - __main__ -   Mean rank right: 6.415584415584416\n",
            "10/14/2020 13:44:12 - INFO - __main__ -   Mean rank: 15.532467532467532\n",
            "10/14/2020 13:44:12 - INFO - __main__ -   Mean reciprocal rank left: 0.2542066053313015\n",
            "10/14/2020 13:44:12 - INFO - __main__ -   Mean reciprocal rank right: 0.4136211622930252\n",
            "10/14/2020 13:44:12 - INFO - __main__ -   Mean reciprocal rank: 0.33391388381216336\n"
          ],
          "name": "stderr"
        },
        {
          "output_type": "stream",
          "text": [
            "right:  1\n",
            "mean rank until now:  15.532467532467532\n",
            "hit@10 until now:  0.6525974025974026\n",
            "171\n"
          ],
          "name": "stdout"
        },
        {
          "output_type": "stream",
          "text": [
            "Testing: 100%|██████████| 1/1 [00:00<00:00,  2.07it/s]\n"
          ],
          "name": "stderr"
        },
        {
          "output_type": "stream",
          "text": [
            "left:  1\n"
          ],
          "name": "stdout"
        },
        {
          "output_type": "stream",
          "text": [
            "Testing: 100%|██████████| 1/1 [00:00<00:00,  1.25it/s]\n",
            "10/14/2020 13:44:14 - INFO - __main__ -   Hits left @1: 0.07741935483870968\n",
            "10/14/2020 13:44:14 - INFO - __main__ -   Hits right @1: 0.2064516129032258\n",
            "10/14/2020 13:44:14 - INFO - __main__ -   Hits @1: 0.14193548387096774\n",
            "10/14/2020 13:44:14 - INFO - __main__ -   Hits left @3: 0.36774193548387096\n",
            "10/14/2020 13:44:14 - INFO - __main__ -   Hits right @3: 0.5483870967741935\n",
            "10/14/2020 13:44:14 - INFO - __main__ -   Hits @3: 0.45806451612903226\n",
            "10/14/2020 13:44:14 - INFO - __main__ -   Hits left @10: 0.4838709677419355\n",
            "10/14/2020 13:44:14 - INFO - __main__ -   Hits right @10: 0.8258064516129032\n",
            "10/14/2020 13:44:14 - INFO - __main__ -   Hits @10: 0.6548387096774193\n",
            "10/14/2020 13:44:14 - INFO - __main__ -   Mean rank left: 24.503225806451614\n",
            "10/14/2020 13:44:14 - INFO - __main__ -   Mean rank right: 6.387096774193548\n",
            "10/14/2020 13:44:14 - INFO - __main__ -   Mean rank: 15.44516129032258\n",
            "10/14/2020 13:44:14 - INFO - __main__ -   Mean reciprocal rank left: 0.25579236916787373\n",
            "10/14/2020 13:44:14 - INFO - __main__ -   Mean reciprocal rank right: 0.4141784451169412\n",
            "10/14/2020 13:44:14 - INFO - __main__ -   Mean reciprocal rank: 0.3349854071424075\n"
          ],
          "name": "stderr"
        },
        {
          "output_type": "stream",
          "text": [
            "right:  1\n",
            "mean rank until now:  15.44516129032258\n",
            "hit@10 until now:  0.6548387096774193\n",
            "270\n"
          ],
          "name": "stdout"
        },
        {
          "output_type": "stream",
          "text": [
            "Testing: 100%|██████████| 1/1 [00:00<00:00,  1.33it/s]\n"
          ],
          "name": "stderr"
        },
        {
          "output_type": "stream",
          "text": [
            "left:  1\n"
          ],
          "name": "stdout"
        },
        {
          "output_type": "stream",
          "text": [
            "Testing: 100%|██████████| 1/1 [00:00<00:00,  1.24it/s]\n",
            "10/14/2020 13:44:17 - INFO - __main__ -   Hits left @1: 0.07692307692307693\n",
            "10/14/2020 13:44:17 - INFO - __main__ -   Hits right @1: 0.20512820512820512\n",
            "10/14/2020 13:44:17 - INFO - __main__ -   Hits @1: 0.14102564102564102\n",
            "10/14/2020 13:44:17 - INFO - __main__ -   Hits left @3: 0.3717948717948718\n",
            "10/14/2020 13:44:17 - INFO - __main__ -   Hits right @3: 0.5512820512820513\n",
            "10/14/2020 13:44:17 - INFO - __main__ -   Hits @3: 0.46153846153846156\n",
            "10/14/2020 13:44:17 - INFO - __main__ -   Hits left @10: 0.48717948717948717\n",
            "10/14/2020 13:44:17 - INFO - __main__ -   Hits right @10: 0.8269230769230769\n",
            "10/14/2020 13:44:17 - INFO - __main__ -   Hits @10: 0.657051282051282\n",
            "10/14/2020 13:44:17 - INFO - __main__ -   Mean rank left: 24.358974358974358\n",
            "10/14/2020 13:44:17 - INFO - __main__ -   Mean rank right: 6.358974358974359\n",
            "10/14/2020 13:44:17 - INFO - __main__ -   Mean rank: 15.35897435897436\n",
            "10/14/2020 13:44:17 - INFO - __main__ -   Mean reciprocal rank left: 0.25735780269884895\n",
            "10/14/2020 13:44:17 - INFO - __main__ -   Mean reciprocal rank right: 0.4147285832892685\n",
            "10/14/2020 13:44:17 - INFO - __main__ -   Mean reciprocal rank: 0.3360431929940587\n"
          ],
          "name": "stderr"
        },
        {
          "output_type": "stream",
          "text": [
            "right:  1\n",
            "mean rank until now:  15.35897435897436\n",
            "hit@10 until now:  0.657051282051282\n",
            "284\n"
          ],
          "name": "stdout"
        },
        {
          "output_type": "stream",
          "text": [
            "Testing: 100%|██████████| 1/1 [00:00<00:00,  1.29it/s]\n"
          ],
          "name": "stderr"
        },
        {
          "output_type": "stream",
          "text": [
            "left:  14\n"
          ],
          "name": "stdout"
        },
        {
          "output_type": "stream",
          "text": [
            "Testing: 100%|██████████| 1/1 [00:00<00:00,  1.24it/s]\n",
            "10/14/2020 13:44:20 - INFO - __main__ -   Hits left @1: 0.07643312101910828\n",
            "10/14/2020 13:44:20 - INFO - __main__ -   Hits right @1: 0.20382165605095542\n",
            "10/14/2020 13:44:20 - INFO - __main__ -   Hits @1: 0.14012738853503184\n",
            "10/14/2020 13:44:20 - INFO - __main__ -   Hits left @3: 0.36942675159235666\n",
            "10/14/2020 13:44:20 - INFO - __main__ -   Hits right @3: 0.5477707006369427\n",
            "10/14/2020 13:44:20 - INFO - __main__ -   Hits @3: 0.4585987261146497\n",
            "10/14/2020 13:44:20 - INFO - __main__ -   Hits left @10: 0.4840764331210191\n",
            "10/14/2020 13:44:20 - INFO - __main__ -   Hits right @10: 0.821656050955414\n",
            "10/14/2020 13:44:20 - INFO - __main__ -   Hits @10: 0.6528662420382165\n",
            "10/14/2020 13:44:20 - INFO - __main__ -   Mean rank left: 24.29936305732484\n",
            "10/14/2020 13:44:20 - INFO - __main__ -   Mean rank right: 6.452229299363057\n",
            "10/14/2020 13:44:20 - INFO - __main__ -   Mean rank: 15.375796178343949\n",
            "10/14/2020 13:44:20 - INFO - __main__ -   Mean reciprocal rank left: 0.256143209475714\n",
            "10/14/2020 13:44:20 - INFO - __main__ -   Mean reciprocal rank right: 0.41239030599200593\n",
            "10/14/2020 13:44:20 - INFO - __main__ -   Mean reciprocal rank: 0.33426675773385994\n"
          ],
          "name": "stderr"
        },
        {
          "output_type": "stream",
          "text": [
            "right:  20\n",
            "mean rank until now:  15.375796178343949\n",
            "hit@10 until now:  0.6528662420382165\n",
            "270\n"
          ],
          "name": "stdout"
        },
        {
          "output_type": "stream",
          "text": [
            "Testing: 100%|██████████| 1/1 [00:00<00:00,  1.32it/s]\n"
          ],
          "name": "stderr"
        },
        {
          "output_type": "stream",
          "text": [
            "left:  0\n"
          ],
          "name": "stdout"
        },
        {
          "output_type": "stream",
          "text": [
            "Testing: 100%|██████████| 1/1 [00:00<00:00,  1.25it/s]\n",
            "10/14/2020 13:44:23 - INFO - __main__ -   Hits left @1: 0.08227848101265822\n",
            "10/14/2020 13:44:23 - INFO - __main__ -   Hits right @1: 0.2088607594936709\n",
            "10/14/2020 13:44:23 - INFO - __main__ -   Hits @1: 0.14556962025316456\n",
            "10/14/2020 13:44:23 - INFO - __main__ -   Hits left @3: 0.37341772151898733\n",
            "10/14/2020 13:44:23 - INFO - __main__ -   Hits right @3: 0.5506329113924051\n",
            "10/14/2020 13:44:23 - INFO - __main__ -   Hits @3: 0.4620253164556962\n",
            "10/14/2020 13:44:23 - INFO - __main__ -   Hits left @10: 0.4873417721518987\n",
            "10/14/2020 13:44:23 - INFO - __main__ -   Hits right @10: 0.8227848101265823\n",
            "10/14/2020 13:44:23 - INFO - __main__ -   Hits @10: 0.6550632911392406\n",
            "10/14/2020 13:44:23 - INFO - __main__ -   Mean rank left: 24.151898734177216\n",
            "10/14/2020 13:44:23 - INFO - __main__ -   Mean rank right: 6.417721518987341\n",
            "10/14/2020 13:44:23 - INFO - __main__ -   Mean rank: 15.284810126582279\n",
            "10/14/2020 13:44:23 - INFO - __main__ -   Mean reciprocal rank left: 0.26085116384612084\n",
            "10/14/2020 13:44:23 - INFO - __main__ -   Mean reciprocal rank right: 0.4161093546882591\n",
            "10/14/2020 13:44:23 - INFO - __main__ -   Mean reciprocal rank: 0.33848025926718994\n"
          ],
          "name": "stderr"
        },
        {
          "output_type": "stream",
          "text": [
            "right:  0\n",
            "mean rank until now:  15.284810126582279\n",
            "hit@10 until now:  0.6550632911392406\n",
            "244\n"
          ],
          "name": "stdout"
        },
        {
          "output_type": "stream",
          "text": [
            "Testing: 100%|██████████| 1/1 [00:00<00:00,  1.47it/s]\n"
          ],
          "name": "stderr"
        },
        {
          "output_type": "stream",
          "text": [
            "left:  5\n"
          ],
          "name": "stdout"
        },
        {
          "output_type": "stream",
          "text": [
            "Testing: 100%|██████████| 1/1 [00:00<00:00,  1.25it/s]\n",
            "10/14/2020 13:44:25 - INFO - __main__ -   Hits left @1: 0.08176100628930817\n",
            "10/14/2020 13:44:25 - INFO - __main__ -   Hits right @1: 0.2138364779874214\n",
            "10/14/2020 13:44:25 - INFO - __main__ -   Hits @1: 0.14779874213836477\n",
            "10/14/2020 13:44:25 - INFO - __main__ -   Hits left @3: 0.3710691823899371\n",
            "10/14/2020 13:44:25 - INFO - __main__ -   Hits right @3: 0.5534591194968553\n",
            "10/14/2020 13:44:25 - INFO - __main__ -   Hits @3: 0.46226415094339623\n",
            "10/14/2020 13:44:25 - INFO - __main__ -   Hits left @10: 0.49056603773584906\n",
            "10/14/2020 13:44:25 - INFO - __main__ -   Hits right @10: 0.8238993710691824\n",
            "10/14/2020 13:44:25 - INFO - __main__ -   Hits @10: 0.6572327044025157\n",
            "10/14/2020 13:44:25 - INFO - __main__ -   Mean rank left: 24.037735849056602\n",
            "10/14/2020 13:44:25 - INFO - __main__ -   Mean rank right: 6.383647798742138\n",
            "10/14/2020 13:44:25 - INFO - __main__ -   Mean rank: 15.21069182389937\n",
            "10/14/2020 13:44:25 - INFO - __main__ -   Mean reciprocal rank left: 0.2602588085179482\n",
            "10/14/2020 13:44:25 - INFO - __main__ -   Mean reciprocal rank right: 0.4197816228977669\n",
            "10/14/2020 13:44:25 - INFO - __main__ -   Mean reciprocal rank: 0.34002021570785756\n"
          ],
          "name": "stderr"
        },
        {
          "output_type": "stream",
          "text": [
            "right:  0\n",
            "mean rank until now:  15.21069182389937\n",
            "hit@10 until now:  0.6572327044025157\n",
            "285\n"
          ],
          "name": "stdout"
        },
        {
          "output_type": "stream",
          "text": [
            "Testing: 100%|██████████| 1/1 [00:00<00:00,  1.28it/s]\n"
          ],
          "name": "stderr"
        },
        {
          "output_type": "stream",
          "text": [
            "left:  66\n"
          ],
          "name": "stdout"
        },
        {
          "output_type": "stream",
          "text": [
            "Testing: 100%|██████████| 1/1 [00:00<00:00,  1.24it/s]\n",
            "10/14/2020 13:44:28 - INFO - __main__ -   Hits left @1: 0.08125\n",
            "10/14/2020 13:44:28 - INFO - __main__ -   Hits right @1: 0.2125\n",
            "10/14/2020 13:44:28 - INFO - __main__ -   Hits @1: 0.146875\n",
            "10/14/2020 13:44:28 - INFO - __main__ -   Hits left @3: 0.36875\n",
            "10/14/2020 13:44:28 - INFO - __main__ -   Hits right @3: 0.55\n",
            "10/14/2020 13:44:28 - INFO - __main__ -   Hits @3: 0.459375\n",
            "10/14/2020 13:44:28 - INFO - __main__ -   Hits left @10: 0.4875\n",
            "10/14/2020 13:44:28 - INFO - __main__ -   Hits right @10: 0.81875\n",
            "10/14/2020 13:44:28 - INFO - __main__ -   Hits @10: 0.653125\n",
            "10/14/2020 13:44:28 - INFO - __main__ -   Mean rank left: 24.30625\n",
            "10/14/2020 13:44:28 - INFO - __main__ -   Mean rank right: 6.4625\n",
            "10/14/2020 13:44:28 - INFO - __main__ -   Mean rank: 15.384375\n",
            "10/14/2020 13:44:28 - INFO - __main__ -   Mean reciprocal rank left: 0.25872547454680056\n",
            "10/14/2020 13:44:28 - INFO - __main__ -   Mean reciprocal rank right: 0.41748693512307683\n",
            "10/14/2020 13:44:28 - INFO - __main__ -   Mean reciprocal rank: 0.3381062048349387\n"
          ],
          "name": "stderr"
        },
        {
          "output_type": "stream",
          "text": [
            "right:  18\n",
            "mean rank until now:  15.384375\n",
            "hit@10 until now:  0.653125\n",
            "273\n"
          ],
          "name": "stdout"
        },
        {
          "output_type": "stream",
          "text": [
            "Testing: 100%|██████████| 1/1 [00:00<00:00,  1.32it/s]\n"
          ],
          "name": "stderr"
        },
        {
          "output_type": "stream",
          "text": [
            "left:  3\n"
          ],
          "name": "stdout"
        },
        {
          "output_type": "stream",
          "text": [
            "Testing: 100%|██████████| 1/1 [00:00<00:00,  1.25it/s]\n",
            "10/14/2020 13:44:31 - INFO - __main__ -   Hits left @1: 0.08074534161490683\n",
            "10/14/2020 13:44:31 - INFO - __main__ -   Hits right @1: 0.21739130434782608\n",
            "10/14/2020 13:44:31 - INFO - __main__ -   Hits @1: 0.14906832298136646\n",
            "10/14/2020 13:44:31 - INFO - __main__ -   Hits left @3: 0.36645962732919257\n",
            "10/14/2020 13:44:31 - INFO - __main__ -   Hits right @3: 0.5527950310559007\n",
            "10/14/2020 13:44:31 - INFO - __main__ -   Hits @3: 0.45962732919254656\n",
            "10/14/2020 13:44:31 - INFO - __main__ -   Hits left @10: 0.4906832298136646\n",
            "10/14/2020 13:44:31 - INFO - __main__ -   Hits right @10: 0.8198757763975155\n",
            "10/14/2020 13:44:31 - INFO - __main__ -   Hits @10: 0.65527950310559\n",
            "10/14/2020 13:44:31 - INFO - __main__ -   Mean rank left: 24.180124223602483\n",
            "10/14/2020 13:44:31 - INFO - __main__ -   Mean rank right: 6.428571428571429\n",
            "10/14/2020 13:44:31 - INFO - __main__ -   Mean rank: 15.304347826086957\n",
            "10/14/2020 13:44:31 - INFO - __main__ -   Mean reciprocal rank left: 0.2586712790527211\n",
            "10/14/2020 13:44:31 - INFO - __main__ -   Mean reciprocal rank right: 0.42110502869374095\n",
            "10/14/2020 13:44:31 - INFO - __main__ -   Mean reciprocal rank: 0.33988815387323096\n"
          ],
          "name": "stderr"
        },
        {
          "output_type": "stream",
          "text": [
            "right:  0\n",
            "mean rank until now:  15.304347826086957\n",
            "hit@10 until now:  0.65527950310559\n",
            "224\n"
          ],
          "name": "stdout"
        },
        {
          "output_type": "stream",
          "text": [
            "Testing: 100%|██████████| 1/1 [00:00<00:00,  1.60it/s]\n"
          ],
          "name": "stderr"
        },
        {
          "output_type": "stream",
          "text": [
            "left:  10\n"
          ],
          "name": "stdout"
        },
        {
          "output_type": "stream",
          "text": [
            "Testing: 100%|██████████| 1/1 [00:00<00:00,  1.25it/s]\n",
            "10/14/2020 13:44:33 - INFO - __main__ -   Hits left @1: 0.08024691358024691\n",
            "10/14/2020 13:44:33 - INFO - __main__ -   Hits right @1: 0.21604938271604937\n",
            "10/14/2020 13:44:33 - INFO - __main__ -   Hits @1: 0.14814814814814814\n",
            "10/14/2020 13:44:33 - INFO - __main__ -   Hits left @3: 0.36419753086419754\n",
            "10/14/2020 13:44:33 - INFO - __main__ -   Hits right @3: 0.5555555555555556\n",
            "10/14/2020 13:44:33 - INFO - __main__ -   Hits @3: 0.45987654320987653\n",
            "10/14/2020 13:44:33 - INFO - __main__ -   Hits left @10: 0.4876543209876543\n",
            "10/14/2020 13:44:33 - INFO - __main__ -   Hits right @10: 0.8209876543209876\n",
            "10/14/2020 13:44:33 - INFO - __main__ -   Hits @10: 0.654320987654321\n",
            "10/14/2020 13:44:33 - INFO - __main__ -   Mean rank left: 24.098765432098766\n",
            "10/14/2020 13:44:33 - INFO - __main__ -   Mean rank right: 6.407407407407407\n",
            "10/14/2020 13:44:33 - INFO - __main__ -   Mean rank: 15.253086419753087\n",
            "10/14/2020 13:44:33 - INFO - __main__ -   Mean reciprocal rank left: 0.25763570999010604\n",
            "10/14/2020 13:44:33 - INFO - __main__ -   Mean reciprocal rank right: 0.4205632281050965\n",
            "10/14/2020 13:44:33 - INFO - __main__ -   Mean reciprocal rank: 0.33909946904760124\n"
          ],
          "name": "stderr"
        },
        {
          "output_type": "stream",
          "text": [
            "right:  2\n",
            "mean rank until now:  15.253086419753087\n",
            "hit@10 until now:  0.654320987654321\n",
            "241\n"
          ],
          "name": "stdout"
        },
        {
          "output_type": "stream",
          "text": [
            "Testing: 100%|██████████| 1/1 [00:00<00:00,  1.48it/s]\n"
          ],
          "name": "stderr"
        },
        {
          "output_type": "stream",
          "text": [
            "left:  35\n"
          ],
          "name": "stdout"
        },
        {
          "output_type": "stream",
          "text": [
            "Testing: 100%|██████████| 1/1 [00:00<00:00,  1.25it/s]\n",
            "10/14/2020 13:44:35 - INFO - __main__ -   Hits left @1: 0.07975460122699386\n",
            "10/14/2020 13:44:35 - INFO - __main__ -   Hits right @1: 0.22085889570552147\n",
            "10/14/2020 13:44:35 - INFO - __main__ -   Hits @1: 0.15030674846625766\n",
            "10/14/2020 13:44:35 - INFO - __main__ -   Hits left @3: 0.3619631901840491\n",
            "10/14/2020 13:44:35 - INFO - __main__ -   Hits right @3: 0.558282208588957\n",
            "10/14/2020 13:44:35 - INFO - __main__ -   Hits @3: 0.4601226993865031\n",
            "10/14/2020 13:44:35 - INFO - __main__ -   Hits left @10: 0.48466257668711654\n",
            "10/14/2020 13:44:35 - INFO - __main__ -   Hits right @10: 0.8220858895705522\n",
            "10/14/2020 13:44:35 - INFO - __main__ -   Hits @10: 0.6533742331288344\n",
            "10/14/2020 13:44:35 - INFO - __main__ -   Mean rank left: 24.171779141104295\n",
            "10/14/2020 13:44:35 - INFO - __main__ -   Mean rank right: 6.374233128834356\n",
            "10/14/2020 13:44:35 - INFO - __main__ -   Mean rank: 15.273006134969325\n",
            "10/14/2020 13:44:35 - INFO - __main__ -   Mean reciprocal rank left: 0.2562255386268403\n",
            "10/14/2020 13:44:35 - INFO - __main__ -   Mean reciprocal rank right: 0.42411805492653765\n",
            "10/14/2020 13:44:35 - INFO - __main__ -   Mean reciprocal rank: 0.3401717967766889\n"
          ],
          "name": "stderr"
        },
        {
          "output_type": "stream",
          "text": [
            "right:  0\n",
            "mean rank until now:  15.273006134969325\n",
            "hit@10 until now:  0.6533742331288344\n",
            "280\n"
          ],
          "name": "stdout"
        },
        {
          "output_type": "stream",
          "text": [
            "Testing: 100%|██████████| 1/1 [00:00<00:00,  1.30it/s]\n"
          ],
          "name": "stderr"
        },
        {
          "output_type": "stream",
          "text": [
            "left:  65\n"
          ],
          "name": "stdout"
        },
        {
          "output_type": "stream",
          "text": [
            "Testing: 100%|██████████| 1/1 [00:00<00:00,  1.25it/s]\n",
            "10/14/2020 13:44:38 - INFO - __main__ -   Hits left @1: 0.07926829268292683\n",
            "10/14/2020 13:44:38 - INFO - __main__ -   Hits right @1: 0.21951219512195122\n",
            "10/14/2020 13:44:38 - INFO - __main__ -   Hits @1: 0.14939024390243902\n",
            "10/14/2020 13:44:38 - INFO - __main__ -   Hits left @3: 0.3597560975609756\n",
            "10/14/2020 13:44:38 - INFO - __main__ -   Hits right @3: 0.5548780487804879\n",
            "10/14/2020 13:44:38 - INFO - __main__ -   Hits @3: 0.4573170731707317\n",
            "10/14/2020 13:44:38 - INFO - __main__ -   Hits left @10: 0.4817073170731707\n",
            "10/14/2020 13:44:38 - INFO - __main__ -   Hits right @10: 0.8170731707317073\n",
            "10/14/2020 13:44:38 - INFO - __main__ -   Hits @10: 0.649390243902439\n",
            "10/14/2020 13:44:38 - INFO - __main__ -   Mean rank left: 24.426829268292682\n",
            "10/14/2020 13:44:38 - INFO - __main__ -   Mean rank right: 6.451219512195122\n",
            "10/14/2020 13:44:38 - INFO - __main__ -   Mean rank: 15.439024390243903\n",
            "10/14/2020 13:44:38 - INFO - __main__ -   Mean reciprocal rank left: 0.2547555750690639\n",
            "10/14/2020 13:44:38 - INFO - __main__ -   Mean reciprocal rank right: 0.42185289348764027\n",
            "10/14/2020 13:44:38 - INFO - __main__ -   Mean reciprocal rank: 0.338304234278352\n"
          ],
          "name": "stderr"
        },
        {
          "output_type": "stream",
          "text": [
            "right:  18\n",
            "mean rank until now:  15.439024390243903\n",
            "hit@10 until now:  0.649390243902439\n",
            "244\n"
          ],
          "name": "stdout"
        },
        {
          "output_type": "stream",
          "text": [
            "Testing: 100%|██████████| 1/1 [00:00<00:00,  1.46it/s]\n"
          ],
          "name": "stderr"
        },
        {
          "output_type": "stream",
          "text": [
            "left:  0\n"
          ],
          "name": "stdout"
        },
        {
          "output_type": "stream",
          "text": [
            "Testing: 100%|██████████| 1/1 [00:00<00:00,  1.25it/s]\n",
            "10/14/2020 13:44:41 - INFO - __main__ -   Hits left @1: 0.08484848484848485\n",
            "10/14/2020 13:44:41 - INFO - __main__ -   Hits right @1: 0.22424242424242424\n",
            "10/14/2020 13:44:41 - INFO - __main__ -   Hits @1: 0.15454545454545454\n",
            "10/14/2020 13:44:41 - INFO - __main__ -   Hits left @3: 0.36363636363636365\n",
            "10/14/2020 13:44:41 - INFO - __main__ -   Hits right @3: 0.5575757575757576\n",
            "10/14/2020 13:44:41 - INFO - __main__ -   Hits @3: 0.46060606060606063\n",
            "10/14/2020 13:44:41 - INFO - __main__ -   Hits left @10: 0.48484848484848486\n",
            "10/14/2020 13:44:41 - INFO - __main__ -   Hits right @10: 0.8181818181818182\n",
            "10/14/2020 13:44:41 - INFO - __main__ -   Hits @10: 0.6515151515151515\n",
            "10/14/2020 13:44:41 - INFO - __main__ -   Mean rank left: 24.284848484848485\n",
            "10/14/2020 13:44:41 - INFO - __main__ -   Mean rank right: 6.418181818181818\n",
            "10/14/2020 13:44:41 - INFO - __main__ -   Mean rank: 15.351515151515152\n",
            "10/14/2020 13:44:41 - INFO - __main__ -   Mean reciprocal rank left: 0.2592722079474332\n",
            "10/14/2020 13:44:41 - INFO - __main__ -   Mean reciprocal rank right: 0.4253568153452909\n",
            "10/14/2020 13:44:41 - INFO - __main__ -   Mean reciprocal rank: 0.342314511646362\n"
          ],
          "name": "stderr"
        },
        {
          "output_type": "stream",
          "text": [
            "right:  0\n",
            "mean rank until now:  15.351515151515152\n",
            "hit@10 until now:  0.6515151515151515\n",
            "280\n"
          ],
          "name": "stdout"
        },
        {
          "output_type": "stream",
          "text": [
            "Testing: 100%|██████████| 1/1 [00:00<00:00,  1.30it/s]\n"
          ],
          "name": "stderr"
        },
        {
          "output_type": "stream",
          "text": [
            "left:  10\n"
          ],
          "name": "stdout"
        },
        {
          "output_type": "stream",
          "text": [
            "Testing: 100%|██████████| 1/1 [00:00<00:00,  1.25it/s]\n",
            "10/14/2020 13:44:43 - INFO - __main__ -   Hits left @1: 0.08433734939759036\n",
            "10/14/2020 13:44:43 - INFO - __main__ -   Hits right @1: 0.22289156626506024\n",
            "10/14/2020 13:44:43 - INFO - __main__ -   Hits @1: 0.1536144578313253\n",
            "10/14/2020 13:44:43 - INFO - __main__ -   Hits left @3: 0.3614457831325301\n",
            "10/14/2020 13:44:43 - INFO - __main__ -   Hits right @3: 0.5542168674698795\n",
            "10/14/2020 13:44:43 - INFO - __main__ -   Hits @3: 0.4578313253012048\n",
            "10/14/2020 13:44:43 - INFO - __main__ -   Hits left @10: 0.4819277108433735\n",
            "10/14/2020 13:44:43 - INFO - __main__ -   Hits right @10: 0.8132530120481928\n",
            "10/14/2020 13:44:43 - INFO - __main__ -   Hits @10: 0.6475903614457831\n",
            "10/14/2020 13:44:43 - INFO - __main__ -   Mean rank left: 24.204819277108435\n",
            "10/14/2020 13:44:43 - INFO - __main__ -   Mean rank right: 6.4879518072289155\n",
            "10/14/2020 13:44:43 - INFO - __main__ -   Mean rank: 15.346385542168674\n",
            "10/14/2020 13:44:43 - INFO - __main__ -   Mean reciprocal rank left: 0.2582579723026239\n",
            "10/14/2020 13:44:43 - INFO - __main__ -   Mean reciprocal rank right: 0.42312909691282263\n",
            "10/14/2020 13:44:43 - INFO - __main__ -   Mean reciprocal rank: 0.3406935346077232\n"
          ],
          "name": "stderr"
        },
        {
          "output_type": "stream",
          "text": [
            "right:  17\n",
            "mean rank until now:  15.346385542168674\n",
            "hit@10 until now:  0.6475903614457831\n",
            "287\n"
          ],
          "name": "stdout"
        },
        {
          "output_type": "stream",
          "text": [
            "Testing: 100%|██████████| 1/1 [00:00<00:00,  1.25it/s]\n"
          ],
          "name": "stderr"
        },
        {
          "output_type": "stream",
          "text": [
            "left:  0\n"
          ],
          "name": "stdout"
        },
        {
          "output_type": "stream",
          "text": [
            "Testing: 100%|██████████| 1/1 [00:00<00:00,  1.25it/s]\n",
            "10/14/2020 13:44:46 - INFO - __main__ -   Hits left @1: 0.08982035928143713\n",
            "10/14/2020 13:44:46 - INFO - __main__ -   Hits right @1: 0.2275449101796407\n",
            "10/14/2020 13:44:46 - INFO - __main__ -   Hits @1: 0.15868263473053892\n",
            "10/14/2020 13:44:46 - INFO - __main__ -   Hits left @3: 0.3652694610778443\n",
            "10/14/2020 13:44:46 - INFO - __main__ -   Hits right @3: 0.5568862275449101\n",
            "10/14/2020 13:44:46 - INFO - __main__ -   Hits @3: 0.46107784431137727\n",
            "10/14/2020 13:44:46 - INFO - __main__ -   Hits left @10: 0.48502994011976047\n",
            "10/14/2020 13:44:46 - INFO - __main__ -   Hits right @10: 0.8143712574850299\n",
            "10/14/2020 13:44:46 - INFO - __main__ -   Hits @10: 0.6497005988023952\n",
            "10/14/2020 13:44:46 - INFO - __main__ -   Mean rank left: 24.065868263473053\n",
            "10/14/2020 13:44:46 - INFO - __main__ -   Mean rank right: 6.455089820359281\n",
            "10/14/2020 13:44:46 - INFO - __main__ -   Mean rank: 15.260479041916168\n",
            "10/14/2020 13:44:46 - INFO - __main__ -   Mean reciprocal rank left: 0.2626995413307519\n",
            "10/14/2020 13:44:46 - INFO - __main__ -   Mean reciprocal rank right: 0.4265834136977758\n",
            "10/14/2020 13:44:46 - INFO - __main__ -   Mean reciprocal rank: 0.3446414775142638\n"
          ],
          "name": "stderr"
        },
        {
          "output_type": "stream",
          "text": [
            "right:  0\n",
            "mean rank until now:  15.260479041916168\n",
            "hit@10 until now:  0.6497005988023952\n",
            "262\n"
          ],
          "name": "stdout"
        },
        {
          "output_type": "stream",
          "text": [
            "Testing: 100%|██████████| 1/1 [00:00<00:00,  1.39it/s]\n"
          ],
          "name": "stderr"
        },
        {
          "output_type": "stream",
          "text": [
            "left:  24\n"
          ],
          "name": "stdout"
        },
        {
          "output_type": "stream",
          "text": [
            "Testing: 100%|██████████| 1/1 [00:00<00:00,  1.25it/s]\n",
            "10/14/2020 13:44:48 - INFO - __main__ -   Hits left @1: 0.08928571428571429\n",
            "10/14/2020 13:44:48 - INFO - __main__ -   Hits right @1: 0.23214285714285715\n",
            "10/14/2020 13:44:48 - INFO - __main__ -   Hits @1: 0.16071428571428573\n",
            "10/14/2020 13:44:48 - INFO - __main__ -   Hits left @3: 0.3630952380952381\n",
            "10/14/2020 13:44:48 - INFO - __main__ -   Hits right @3: 0.5595238095238095\n",
            "10/14/2020 13:44:48 - INFO - __main__ -   Hits @3: 0.46130952380952384\n",
            "10/14/2020 13:44:48 - INFO - __main__ -   Hits left @10: 0.48214285714285715\n",
            "10/14/2020 13:44:48 - INFO - __main__ -   Hits right @10: 0.8154761904761905\n",
            "10/14/2020 13:44:48 - INFO - __main__ -   Hits @10: 0.6488095238095238\n",
            "10/14/2020 13:44:48 - INFO - __main__ -   Mean rank left: 24.071428571428573\n",
            "10/14/2020 13:44:48 - INFO - __main__ -   Mean rank right: 6.4226190476190474\n",
            "10/14/2020 13:44:48 - INFO - __main__ -   Mean rank: 15.24702380952381\n",
            "10/14/2020 13:44:48 - INFO - __main__ -   Mean reciprocal rank left: 0.2613739488228307\n",
            "10/14/2020 13:44:48 - INFO - __main__ -   Mean reciprocal rank right: 0.4299966076638605\n",
            "10/14/2020 13:44:48 - INFO - __main__ -   Mean reciprocal rank: 0.34568527824334555\n"
          ],
          "name": "stderr"
        },
        {
          "output_type": "stream",
          "text": [
            "right:  0\n",
            "mean rank until now:  15.24702380952381\n",
            "hit@10 until now:  0.6488095238095238\n",
            "270\n"
          ],
          "name": "stdout"
        },
        {
          "output_type": "stream",
          "text": [
            "Testing: 100%|██████████| 1/1 [00:00<00:00,  1.33it/s]\n"
          ],
          "name": "stderr"
        },
        {
          "output_type": "stream",
          "text": [
            "left:  13\n"
          ],
          "name": "stdout"
        },
        {
          "output_type": "stream",
          "text": [
            "Testing: 100%|██████████| 1/1 [00:00<00:00,  1.24it/s]\n",
            "10/14/2020 13:44:51 - INFO - __main__ -   Hits left @1: 0.08875739644970414\n",
            "10/14/2020 13:44:51 - INFO - __main__ -   Hits right @1: 0.23076923076923078\n",
            "10/14/2020 13:44:51 - INFO - __main__ -   Hits @1: 0.15976331360946747\n",
            "10/14/2020 13:44:51 - INFO - __main__ -   Hits left @3: 0.3609467455621302\n",
            "10/14/2020 13:44:51 - INFO - __main__ -   Hits right @3: 0.5621301775147929\n",
            "10/14/2020 13:44:51 - INFO - __main__ -   Hits @3: 0.46153846153846156\n",
            "10/14/2020 13:44:51 - INFO - __main__ -   Hits left @10: 0.47928994082840237\n",
            "10/14/2020 13:44:51 - INFO - __main__ -   Hits right @10: 0.8165680473372781\n",
            "10/14/2020 13:44:51 - INFO - __main__ -   Hits @10: 0.6479289940828402\n",
            "10/14/2020 13:44:51 - INFO - __main__ -   Mean rank left: 24.011834319526628\n",
            "10/14/2020 13:44:51 - INFO - __main__ -   Mean rank right: 6.402366863905326\n",
            "10/14/2020 13:44:51 - INFO - __main__ -   Mean rank: 15.207100591715976\n",
            "10/14/2020 13:44:51 - INFO - __main__ -   Mean reciprocal rank left: 0.26025001167848605\n",
            "10/14/2020 13:44:51 - INFO - __main__ -   Mean reciprocal rank right: 0.4294246356264017\n",
            "10/14/2020 13:44:51 - INFO - __main__ -   Mean reciprocal rank: 0.34483732365244385\n"
          ],
          "name": "stderr"
        },
        {
          "output_type": "stream",
          "text": [
            "right:  2\n",
            "mean rank until now:  15.207100591715976\n",
            "hit@10 until now:  0.6479289940828402\n",
            "287\n"
          ],
          "name": "stdout"
        },
        {
          "output_type": "stream",
          "text": [
            "Testing: 100%|██████████| 1/1 [00:00<00:00,  1.25it/s]\n"
          ],
          "name": "stderr"
        },
        {
          "output_type": "stream",
          "text": [
            "left:  1\n"
          ],
          "name": "stdout"
        },
        {
          "output_type": "stream",
          "text": [
            "Testing: 100%|██████████| 1/1 [00:00<00:00,  1.24it/s]\n",
            "10/14/2020 13:44:54 - INFO - __main__ -   Hits left @1: 0.08823529411764706\n",
            "10/14/2020 13:44:54 - INFO - __main__ -   Hits right @1: 0.22941176470588234\n",
            "10/14/2020 13:44:54 - INFO - __main__ -   Hits @1: 0.1588235294117647\n",
            "10/14/2020 13:44:54 - INFO - __main__ -   Hits left @3: 0.36470588235294116\n",
            "10/14/2020 13:44:54 - INFO - __main__ -   Hits right @3: 0.5588235294117647\n",
            "10/14/2020 13:44:54 - INFO - __main__ -   Hits @3: 0.46176470588235297\n",
            "10/14/2020 13:44:54 - INFO - __main__ -   Hits left @10: 0.4823529411764706\n",
            "10/14/2020 13:44:54 - INFO - __main__ -   Hits right @10: 0.8117647058823529\n",
            "10/14/2020 13:44:54 - INFO - __main__ -   Hits @10: 0.6470588235294118\n",
            "10/14/2020 13:44:54 - INFO - __main__ -   Mean rank left: 23.88235294117647\n",
            "10/14/2020 13:44:54 - INFO - __main__ -   Mean rank right: 6.4941176470588236\n",
            "10/14/2020 13:44:54 - INFO - __main__ -   Mean rank: 15.188235294117646\n",
            "10/14/2020 13:44:54 - INFO - __main__ -   Mean reciprocal rank left: 0.26166030572743615\n",
            "10/14/2020 13:44:54 - INFO - __main__ -   Mean reciprocal rank right: 0.4271659880371556\n",
            "10/14/2020 13:44:54 - INFO - __main__ -   Mean reciprocal rank: 0.3444131468822958\n"
          ],
          "name": "stderr"
        },
        {
          "output_type": "stream",
          "text": [
            "right:  21\n",
            "mean rank until now:  15.188235294117646\n",
            "hit@10 until now:  0.6470588235294118\n",
            "267\n"
          ],
          "name": "stdout"
        },
        {
          "output_type": "stream",
          "text": [
            "Testing: 100%|██████████| 1/1 [00:00<00:00,  1.34it/s]\n"
          ],
          "name": "stderr"
        },
        {
          "output_type": "stream",
          "text": [
            "left:  68\n"
          ],
          "name": "stdout"
        },
        {
          "output_type": "stream",
          "text": [
            "Testing: 100%|██████████| 1/1 [00:00<00:00,  1.24it/s]\n",
            "10/14/2020 13:44:57 - INFO - __main__ -   Hits left @1: 0.08771929824561403\n",
            "10/14/2020 13:44:57 - INFO - __main__ -   Hits right @1: 0.22807017543859648\n",
            "10/14/2020 13:44:57 - INFO - __main__ -   Hits @1: 0.15789473684210525\n",
            "10/14/2020 13:44:57 - INFO - __main__ -   Hits left @3: 0.36257309941520466\n",
            "10/14/2020 13:44:57 - INFO - __main__ -   Hits right @3: 0.5555555555555556\n",
            "10/14/2020 13:44:57 - INFO - __main__ -   Hits @3: 0.4590643274853801\n",
            "10/14/2020 13:44:57 - INFO - __main__ -   Hits left @10: 0.47953216374269003\n",
            "10/14/2020 13:44:57 - INFO - __main__ -   Hits right @10: 0.8128654970760234\n",
            "10/14/2020 13:44:57 - INFO - __main__ -   Hits @10: 0.6461988304093568\n",
            "10/14/2020 13:44:57 - INFO - __main__ -   Mean rank left: 24.146198830409357\n",
            "10/14/2020 13:44:57 - INFO - __main__ -   Mean rank right: 6.47953216374269\n",
            "10/14/2020 13:44:57 - INFO - __main__ -   Mean rank: 15.312865497076023\n",
            "10/14/2020 13:44:57 - INFO - __main__ -   Mean reciprocal rank left: 0.2602148814461247\n",
            "10/14/2020 13:44:57 - INFO - __main__ -   Mean reciprocal rank right: 0.42612992962758156\n",
            "10/14/2020 13:44:57 - INFO - __main__ -   Mean reciprocal rank: 0.3431724055368531\n"
          ],
          "name": "stderr"
        },
        {
          "output_type": "stream",
          "text": [
            "right:  3\n",
            "mean rank until now:  15.312865497076023\n",
            "hit@10 until now:  0.6461988304093568\n",
            "267\n"
          ],
          "name": "stdout"
        },
        {
          "output_type": "stream",
          "text": [
            "Testing: 100%|██████████| 1/1 [00:00<00:00,  1.35it/s]\n"
          ],
          "name": "stderr"
        },
        {
          "output_type": "stream",
          "text": [
            "left:  24\n"
          ],
          "name": "stdout"
        },
        {
          "output_type": "stream",
          "text": [
            "Testing: 100%|██████████| 1/1 [00:00<00:00,  1.24it/s]\n",
            "10/14/2020 13:44:59 - INFO - __main__ -   Hits left @1: 0.0872093023255814\n",
            "10/14/2020 13:44:59 - INFO - __main__ -   Hits right @1: 0.22674418604651161\n",
            "10/14/2020 13:44:59 - INFO - __main__ -   Hits @1: 0.1569767441860465\n",
            "10/14/2020 13:44:59 - INFO - __main__ -   Hits left @3: 0.36046511627906974\n",
            "10/14/2020 13:44:59 - INFO - __main__ -   Hits right @3: 0.5523255813953488\n",
            "10/14/2020 13:44:59 - INFO - __main__ -   Hits @3: 0.4563953488372093\n",
            "10/14/2020 13:44:59 - INFO - __main__ -   Hits left @10: 0.47674418604651164\n",
            "10/14/2020 13:44:59 - INFO - __main__ -   Hits right @10: 0.813953488372093\n",
            "10/14/2020 13:44:59 - INFO - __main__ -   Hits @10: 0.6453488372093024\n",
            "10/14/2020 13:44:59 - INFO - __main__ -   Mean rank left: 24.151162790697676\n",
            "10/14/2020 13:44:59 - INFO - __main__ -   Mean rank right: 6.465116279069767\n",
            "10/14/2020 13:44:59 - INFO - __main__ -   Mean rank: 15.30813953488372\n",
            "10/14/2020 13:44:59 - INFO - __main__ -   Mean reciprocal rank left: 0.2589345623679496\n",
            "10/14/2020 13:44:59 - INFO - __main__ -   Mean reciprocal rank right: 0.42510591840881656\n",
            "10/14/2020 13:44:59 - INFO - __main__ -   Mean reciprocal rank: 0.342020240388383\n"
          ],
          "name": "stderr"
        },
        {
          "output_type": "stream",
          "text": [
            "right:  3\n",
            "mean rank until now:  15.30813953488372\n",
            "hit@10 until now:  0.6453488372093024\n",
            "278\n"
          ],
          "name": "stdout"
        },
        {
          "output_type": "stream",
          "text": [
            "Testing: 100%|██████████| 1/1 [00:00<00:00,  1.30it/s]\n"
          ],
          "name": "stderr"
        },
        {
          "output_type": "stream",
          "text": [
            "left:  93\n"
          ],
          "name": "stdout"
        },
        {
          "output_type": "stream",
          "text": [
            "Testing: 100%|██████████| 1/1 [00:00<00:00,  1.24it/s]\n",
            "10/14/2020 13:45:02 - INFO - __main__ -   Hits left @1: 0.08670520231213873\n",
            "10/14/2020 13:45:02 - INFO - __main__ -   Hits right @1: 0.23121387283236994\n",
            "10/14/2020 13:45:02 - INFO - __main__ -   Hits @1: 0.15895953757225434\n",
            "10/14/2020 13:45:02 - INFO - __main__ -   Hits left @3: 0.3583815028901734\n",
            "10/14/2020 13:45:02 - INFO - __main__ -   Hits right @3: 0.5549132947976878\n",
            "10/14/2020 13:45:02 - INFO - __main__ -   Hits @3: 0.45664739884393063\n",
            "10/14/2020 13:45:02 - INFO - __main__ -   Hits left @10: 0.47398843930635837\n",
            "10/14/2020 13:45:02 - INFO - __main__ -   Hits right @10: 0.815028901734104\n",
            "10/14/2020 13:45:02 - INFO - __main__ -   Hits @10: 0.6445086705202312\n",
            "10/14/2020 13:45:02 - INFO - __main__ -   Mean rank left: 24.55491329479769\n",
            "10/14/2020 13:45:02 - INFO - __main__ -   Mean rank right: 6.433526011560693\n",
            "10/14/2020 13:45:02 - INFO - __main__ -   Mean rank: 15.49421965317919\n",
            "10/14/2020 13:45:02 - INFO - __main__ -   Mean reciprocal rank left: 0.2574993238448536\n",
            "10/14/2020 13:45:02 - INFO - __main__ -   Mean reciprocal rank right: 0.42842900558564423\n",
            "10/14/2020 13:45:02 - INFO - __main__ -   Mean reciprocal rank: 0.3429641647152489\n"
          ],
          "name": "stderr"
        },
        {
          "output_type": "stream",
          "text": [
            "right:  0\n",
            "mean rank until now:  15.49421965317919\n",
            "hit@10 until now:  0.6445086705202312\n",
            "271\n"
          ],
          "name": "stdout"
        },
        {
          "output_type": "stream",
          "text": [
            "Testing: 100%|██████████| 1/1 [00:00<00:00,  1.33it/s]\n"
          ],
          "name": "stderr"
        },
        {
          "output_type": "stream",
          "text": [
            "left:  3\n"
          ],
          "name": "stdout"
        },
        {
          "output_type": "stream",
          "text": [
            "Testing: 100%|██████████| 1/1 [00:00<00:00,  1.25it/s]\n",
            "10/14/2020 13:45:04 - INFO - __main__ -   Hits left @1: 0.08620689655172414\n",
            "10/14/2020 13:45:04 - INFO - __main__ -   Hits right @1: 0.22988505747126436\n",
            "10/14/2020 13:45:04 - INFO - __main__ -   Hits @1: 0.15804597701149425\n",
            "10/14/2020 13:45:04 - INFO - __main__ -   Hits left @3: 0.3563218390804598\n",
            "10/14/2020 13:45:04 - INFO - __main__ -   Hits right @3: 0.5574712643678161\n",
            "10/14/2020 13:45:04 - INFO - __main__ -   Hits @3: 0.45689655172413796\n",
            "10/14/2020 13:45:04 - INFO - __main__ -   Hits left @10: 0.47701149425287354\n",
            "10/14/2020 13:45:04 - INFO - __main__ -   Hits right @10: 0.8160919540229885\n",
            "10/14/2020 13:45:04 - INFO - __main__ -   Hits @10: 0.646551724137931\n",
            "10/14/2020 13:45:04 - INFO - __main__ -   Mean rank left: 24.436781609195403\n",
            "10/14/2020 13:45:04 - INFO - __main__ -   Mean rank right: 6.408045977011494\n",
            "10/14/2020 13:45:04 - INFO - __main__ -   Mean rank: 15.422413793103448\n",
            "10/14/2020 13:45:04 - INFO - __main__ -   Mean reciprocal rank left: 0.25745622428252685\n",
            "10/14/2020 13:45:04 - INFO - __main__ -   Mean reciprocal rank right: 0.42884033313974973\n",
            "10/14/2020 13:45:04 - INFO - __main__ -   Mean reciprocal rank: 0.34314827871113823\n"
          ],
          "name": "stderr"
        },
        {
          "output_type": "stream",
          "text": [
            "right:  1\n",
            "mean rank until now:  15.422413793103448\n",
            "hit@10 until now:  0.646551724137931\n",
            "284\n"
          ],
          "name": "stdout"
        },
        {
          "output_type": "stream",
          "text": [
            "Testing: 100%|██████████| 1/1 [00:00<00:00,  1.29it/s]\n"
          ],
          "name": "stderr"
        },
        {
          "output_type": "stream",
          "text": [
            "left:  0\n"
          ],
          "name": "stdout"
        },
        {
          "output_type": "stream",
          "text": [
            "Testing: 100%|██████████| 1/1 [00:00<00:00,  1.25it/s]\n",
            "10/14/2020 13:45:07 - INFO - __main__ -   Hits left @1: 0.09142857142857143\n",
            "10/14/2020 13:45:07 - INFO - __main__ -   Hits right @1: 0.2342857142857143\n",
            "10/14/2020 13:45:07 - INFO - __main__ -   Hits @1: 0.16285714285714287\n",
            "10/14/2020 13:45:07 - INFO - __main__ -   Hits left @3: 0.36\n",
            "10/14/2020 13:45:07 - INFO - __main__ -   Hits right @3: 0.56\n",
            "10/14/2020 13:45:07 - INFO - __main__ -   Hits @3: 0.46\n",
            "10/14/2020 13:45:07 - INFO - __main__ -   Hits left @10: 0.48\n",
            "10/14/2020 13:45:07 - INFO - __main__ -   Hits right @10: 0.8171428571428572\n",
            "10/14/2020 13:45:07 - INFO - __main__ -   Hits @10: 0.6485714285714286\n",
            "10/14/2020 13:45:07 - INFO - __main__ -   Mean rank left: 24.302857142857142\n",
            "10/14/2020 13:45:07 - INFO - __main__ -   Mean rank right: 6.377142857142857\n",
            "10/14/2020 13:45:07 - INFO - __main__ -   Mean rank: 15.34\n",
            "10/14/2020 13:45:07 - INFO - __main__ -   Mean reciprocal rank left: 0.261699331572341\n",
            "10/14/2020 13:45:07 - INFO - __main__ -   Mean reciprocal rank right: 0.4321041026646654\n",
            "10/14/2020 13:45:07 - INFO - __main__ -   Mean reciprocal rank: 0.34690171711850315\n"
          ],
          "name": "stderr"
        },
        {
          "output_type": "stream",
          "text": [
            "right:  0\n",
            "mean rank until now:  15.34\n",
            "hit@10 until now:  0.6485714285714286\n",
            "287\n"
          ],
          "name": "stdout"
        },
        {
          "output_type": "stream",
          "text": [
            "Testing: 100%|██████████| 1/1 [00:00<00:00,  1.25it/s]\n"
          ],
          "name": "stderr"
        },
        {
          "output_type": "stream",
          "text": [
            "left:  94\n"
          ],
          "name": "stdout"
        },
        {
          "output_type": "stream",
          "text": [
            "Testing: 100%|██████████| 1/1 [00:00<00:00,  1.25it/s]\n",
            "10/14/2020 13:45:09 - INFO - __main__ -   Hits left @1: 0.09090909090909091\n",
            "10/14/2020 13:45:09 - INFO - __main__ -   Hits right @1: 0.23295454545454544\n",
            "10/14/2020 13:45:09 - INFO - __main__ -   Hits @1: 0.16193181818181818\n",
            "10/14/2020 13:45:09 - INFO - __main__ -   Hits left @3: 0.35795454545454547\n",
            "10/14/2020 13:45:09 - INFO - __main__ -   Hits right @3: 0.5568181818181818\n",
            "10/14/2020 13:45:09 - INFO - __main__ -   Hits @3: 0.45738636363636365\n",
            "10/14/2020 13:45:09 - INFO - __main__ -   Hits left @10: 0.4772727272727273\n",
            "10/14/2020 13:45:09 - INFO - __main__ -   Hits right @10: 0.8125\n",
            "10/14/2020 13:45:09 - INFO - __main__ -   Hits @10: 0.6448863636363636\n",
            "10/14/2020 13:45:09 - INFO - __main__ -   Mean rank left: 24.704545454545453\n",
            "10/14/2020 13:45:09 - INFO - __main__ -   Mean rank right: 6.573863636363637\n",
            "10/14/2020 13:45:09 - INFO - __main__ -   Mean rank: 15.639204545454545\n",
            "10/14/2020 13:45:10 - INFO - __main__ -   Mean reciprocal rank left: 0.26027221216448376\n",
            "10/14/2020 13:45:10 - INFO - __main__ -   Mean reciprocal rank right: 0.4297875466489709\n",
            "10/14/2020 13:45:10 - INFO - __main__ -   Mean reciprocal rank: 0.3450298794067273\n"
          ],
          "name": "stderr"
        },
        {
          "output_type": "stream",
          "text": [
            "right:  40\n",
            "mean rank until now:  15.639204545454545\n",
            "hit@10 until now:  0.6448863636363636\n",
            "171\n"
          ],
          "name": "stdout"
        },
        {
          "output_type": "stream",
          "text": [
            "Testing: 100%|██████████| 1/1 [00:00<00:00,  2.08it/s]\n"
          ],
          "name": "stderr"
        },
        {
          "output_type": "stream",
          "text": [
            "left:  1\n"
          ],
          "name": "stdout"
        },
        {
          "output_type": "stream",
          "text": [
            "Testing: 100%|██████████| 1/1 [00:00<00:00,  1.24it/s]\n",
            "10/14/2020 13:45:12 - INFO - __main__ -   Hits left @1: 0.0903954802259887\n",
            "10/14/2020 13:45:12 - INFO - __main__ -   Hits right @1: 0.23163841807909605\n",
            "10/14/2020 13:45:12 - INFO - __main__ -   Hits @1: 0.16101694915254236\n",
            "10/14/2020 13:45:12 - INFO - __main__ -   Hits left @3: 0.3615819209039548\n",
            "10/14/2020 13:45:12 - INFO - __main__ -   Hits right @3: 0.5536723163841808\n",
            "10/14/2020 13:45:12 - INFO - __main__ -   Hits @3: 0.4576271186440678\n",
            "10/14/2020 13:45:12 - INFO - __main__ -   Hits left @10: 0.480225988700565\n",
            "10/14/2020 13:45:12 - INFO - __main__ -   Hits right @10: 0.8135593220338984\n",
            "10/14/2020 13:45:12 - INFO - __main__ -   Hits @10: 0.6468926553672316\n",
            "10/14/2020 13:45:12 - INFO - __main__ -   Mean rank left: 24.576271186440678\n",
            "10/14/2020 13:45:12 - INFO - __main__ -   Mean rank right: 6.559322033898305\n",
            "10/14/2020 13:45:12 - INFO - __main__ -   Mean rank: 15.567796610169491\n",
            "10/14/2020 13:45:12 - INFO - __main__ -   Mean reciprocal rank left: 0.2616266064460403\n",
            "10/14/2020 13:45:12 - INFO - __main__ -   Mean reciprocal rank right: 0.4287717977978468\n",
            "10/14/2020 13:45:12 - INFO - __main__ -   Mean reciprocal rank: 0.34519920212194355\n"
          ],
          "name": "stderr"
        },
        {
          "output_type": "stream",
          "text": [
            "right:  3\n",
            "mean rank until now:  15.567796610169491\n",
            "hit@10 until now:  0.6468926553672316\n",
            "171\n"
          ],
          "name": "stdout"
        },
        {
          "output_type": "stream",
          "text": [
            "Testing: 100%|██████████| 1/1 [00:00<00:00,  2.07it/s]\n"
          ],
          "name": "stderr"
        },
        {
          "output_type": "stream",
          "text": [
            "left:  1\n"
          ],
          "name": "stdout"
        },
        {
          "output_type": "stream",
          "text": [
            "Testing: 100%|██████████| 1/1 [00:00<00:00,  1.24it/s]\n",
            "10/14/2020 13:45:14 - INFO - __main__ -   Hits left @1: 0.0898876404494382\n",
            "10/14/2020 13:45:14 - INFO - __main__ -   Hits right @1: 0.2303370786516854\n",
            "10/14/2020 13:45:14 - INFO - __main__ -   Hits @1: 0.1601123595505618\n",
            "10/14/2020 13:45:14 - INFO - __main__ -   Hits left @3: 0.3651685393258427\n",
            "10/14/2020 13:45:14 - INFO - __main__ -   Hits right @3: 0.5561797752808989\n",
            "10/14/2020 13:45:14 - INFO - __main__ -   Hits @3: 0.4606741573033708\n",
            "10/14/2020 13:45:14 - INFO - __main__ -   Hits left @10: 0.48314606741573035\n",
            "10/14/2020 13:45:14 - INFO - __main__ -   Hits right @10: 0.8146067415730337\n",
            "10/14/2020 13:45:14 - INFO - __main__ -   Hits @10: 0.648876404494382\n",
            "10/14/2020 13:45:14 - INFO - __main__ -   Mean rank left: 24.44943820224719\n",
            "10/14/2020 13:45:14 - INFO - __main__ -   Mean rank right: 6.53932584269663\n",
            "10/14/2020 13:45:14 - INFO - __main__ -   Mean rank: 15.49438202247191\n",
            "10/14/2020 13:45:14 - INFO - __main__ -   Mean reciprocal rank left: 0.262965782814321\n",
            "10/14/2020 13:45:14 - INFO - __main__ -   Mean reciprocal rank right: 0.4282356266491697\n",
            "10/14/2020 13:45:14 - INFO - __main__ -   Mean reciprocal rank: 0.3456007047317454\n"
          ],
          "name": "stderr"
        },
        {
          "output_type": "stream",
          "text": [
            "right:  2\n",
            "mean rank until now:  15.49438202247191\n",
            "hit@10 until now:  0.648876404494382\n",
            "280\n"
          ],
          "name": "stdout"
        },
        {
          "output_type": "stream",
          "text": [
            "Testing: 100%|██████████| 1/1 [00:00<00:00,  1.30it/s]\n"
          ],
          "name": "stderr"
        },
        {
          "output_type": "stream",
          "text": [
            "left:  72\n"
          ],
          "name": "stdout"
        },
        {
          "output_type": "stream",
          "text": [
            "Testing: 100%|██████████| 1/1 [00:00<00:00,  1.25it/s]\n",
            "10/14/2020 13:45:17 - INFO - __main__ -   Hits left @1: 0.0893854748603352\n",
            "10/14/2020 13:45:17 - INFO - __main__ -   Hits right @1: 0.22905027932960895\n",
            "10/14/2020 13:45:17 - INFO - __main__ -   Hits @1: 0.15921787709497207\n",
            "10/14/2020 13:45:17 - INFO - __main__ -   Hits left @3: 0.36312849162011174\n",
            "10/14/2020 13:45:17 - INFO - __main__ -   Hits right @3: 0.553072625698324\n",
            "10/14/2020 13:45:17 - INFO - __main__ -   Hits @3: 0.4581005586592179\n",
            "10/14/2020 13:45:17 - INFO - __main__ -   Hits left @10: 0.48044692737430167\n",
            "10/14/2020 13:45:17 - INFO - __main__ -   Hits right @10: 0.8100558659217877\n",
            "10/14/2020 13:45:17 - INFO - __main__ -   Hits @10: 0.6452513966480447\n",
            "10/14/2020 13:45:17 - INFO - __main__ -   Mean rank left: 24.720670391061454\n",
            "10/14/2020 13:45:17 - INFO - __main__ -   Mean rank right: 6.614525139664805\n",
            "10/14/2020 13:45:17 - INFO - __main__ -   Mean rank: 15.667597765363128\n",
            "10/14/2020 13:45:17 - INFO - __main__ -   Mean reciprocal rank left: 0.2615732288887493\n",
            "10/14/2020 13:45:17 - INFO - __main__ -   Mean reciprocal rank right: 0.426122578455599\n",
            "10/14/2020 13:45:17 - INFO - __main__ -   Mean reciprocal rank: 0.3438479036721741\n"
          ],
          "name": "stderr"
        },
        {
          "output_type": "stream",
          "text": [
            "right:  19\n",
            "mean rank until now:  15.667597765363128\n",
            "hit@10 until now:  0.6452513966480447\n"
          ],
          "name": "stdout"
        }
      ]
    },
    {
      "cell_type": "code",
      "metadata": {
        "id": "8Ez7yOnTT1lH",
        "outputId": "d95d51e7-3ae3-4730-91a5-0287d8ca5a58",
        "colab": {
          "base_uri": "https://localhost:8080/",
          "height": 319
        }
      },
      "source": [
        "# Collect data and print results\n",
        "import pandas as pd\n",
        "df_trip = pd.DataFrame(data=trip_rank)\n",
        "df_model_results = pd.DataFrame(data=model_results)\n",
        "print(df_trip) \n",
        "print(df_model_results)"
      ],
      "execution_count": 6,
      "outputs": [
        {
          "output_type": "stream",
          "text": [
            "     Triple  Head entity  Tail entity\n",
            "0         1            1            1\n",
            "1         2            1            3\n",
            "2         3           27            3\n",
            "3         4           63            2\n",
            "4         5           57           11\n",
            "..      ...          ...          ...\n",
            "174     175            0            0\n",
            "175     176           94           40\n",
            "176     177            1            3\n",
            "177     178            1            2\n",
            "178     179           72           19\n",
            "\n",
            "[179 rows x 3 columns]\n",
            "   Batch size  Learning rate  Epochs  ...  Mean right    Hits@3    Hits@1\n",
            "0          32        0.00002     5.0  ...    6.614525  0.458101  0.159218\n",
            "\n",
            "[1 rows x 10 columns]\n"
          ],
          "name": "stdout"
        }
      ]
    },
    {
      "cell_type": "code",
      "metadata": {
        "id": "W1eGOfBuXD_W",
        "outputId": "c7303bf7-01c6-4240-fdd2-7d4a549120df",
        "colab": {
          "base_uri": "https://localhost:8080/",
          "height": 16
        }
      },
      "source": [
        "# Save results and download as CSV\n",
        "from google.colab import files\n",
        "df_trip.to_csv('triple__ranks_L_32_2_5(2).csv') \n",
        "files.download('triple__ranks_L_32_2_5(2).csv')"
      ],
      "execution_count": 7,
      "outputs": [
        {
          "output_type": "display_data",
          "data": {
            "application/javascript": [
              "\n",
              "    async function download(id, filename, size) {\n",
              "      if (!google.colab.kernel.accessAllowed) {\n",
              "        return;\n",
              "      }\n",
              "      const div = document.createElement('div');\n",
              "      const label = document.createElement('label');\n",
              "      label.textContent = `Downloading \"${filename}\": `;\n",
              "      div.appendChild(label);\n",
              "      const progress = document.createElement('progress');\n",
              "      progress.max = size;\n",
              "      div.appendChild(progress);\n",
              "      document.body.appendChild(div);\n",
              "\n",
              "      const buffers = [];\n",
              "      let downloaded = 0;\n",
              "\n",
              "      const channel = await google.colab.kernel.comms.open(id);\n",
              "      // Send a message to notify the kernel that we're ready.\n",
              "      channel.send({})\n",
              "\n",
              "      for await (const message of channel.messages) {\n",
              "        // Send a message to notify the kernel that we're ready.\n",
              "        channel.send({})\n",
              "        if (message.buffers) {\n",
              "          for (const buffer of message.buffers) {\n",
              "            buffers.push(buffer);\n",
              "            downloaded += buffer.byteLength;\n",
              "            progress.value = downloaded;\n",
              "          }\n",
              "        }\n",
              "      }\n",
              "      const blob = new Blob(buffers, {type: 'application/binary'});\n",
              "      const a = document.createElement('a');\n",
              "      a.href = window.URL.createObjectURL(blob);\n",
              "      a.download = filename;\n",
              "      div.appendChild(a);\n",
              "      a.click();\n",
              "      div.remove();\n",
              "    }\n",
              "  "
            ],
            "text/plain": [
              "<IPython.core.display.Javascript object>"
            ]
          },
          "metadata": {
            "tags": []
          }
        },
        {
          "output_type": "display_data",
          "data": {
            "application/javascript": [
              "download(\"download_60c2a48c-e6d3-4d2c-acd1-0877f32b8322\", \"triple__ranks_L_32_2_5(2).csv\", 2090)"
            ],
            "text/plain": [
              "<IPython.core.display.Javascript object>"
            ]
          },
          "metadata": {
            "tags": []
          }
        }
      ]
    },
    {
      "cell_type": "code",
      "metadata": {
        "id": "NX96Pq1hXRY6",
        "outputId": "d50743a6-e919-4455-821e-309b0894d437",
        "colab": {
          "base_uri": "https://localhost:8080/",
          "height": 16
        }
      },
      "source": [
        "# Save results and download as CSV\n",
        "from google.colab import files\n",
        "df_model_results.to_csv('model_results_L_32_2_5(2).csv') \n",
        "files.download('model_results_L_32_2_5(2).csv')"
      ],
      "execution_count": 8,
      "outputs": [
        {
          "output_type": "display_data",
          "data": {
            "application/javascript": [
              "\n",
              "    async function download(id, filename, size) {\n",
              "      if (!google.colab.kernel.accessAllowed) {\n",
              "        return;\n",
              "      }\n",
              "      const div = document.createElement('div');\n",
              "      const label = document.createElement('label');\n",
              "      label.textContent = `Downloading \"${filename}\": `;\n",
              "      div.appendChild(label);\n",
              "      const progress = document.createElement('progress');\n",
              "      progress.max = size;\n",
              "      div.appendChild(progress);\n",
              "      document.body.appendChild(div);\n",
              "\n",
              "      const buffers = [];\n",
              "      let downloaded = 0;\n",
              "\n",
              "      const channel = await google.colab.kernel.comms.open(id);\n",
              "      // Send a message to notify the kernel that we're ready.\n",
              "      channel.send({})\n",
              "\n",
              "      for await (const message of channel.messages) {\n",
              "        // Send a message to notify the kernel that we're ready.\n",
              "        channel.send({})\n",
              "        if (message.buffers) {\n",
              "          for (const buffer of message.buffers) {\n",
              "            buffers.push(buffer);\n",
              "            downloaded += buffer.byteLength;\n",
              "            progress.value = downloaded;\n",
              "          }\n",
              "        }\n",
              "      }\n",
              "      const blob = new Blob(buffers, {type: 'application/binary'});\n",
              "      const a = document.createElement('a');\n",
              "      a.href = window.URL.createObjectURL(blob);\n",
              "      a.download = filename;\n",
              "      div.appendChild(a);\n",
              "      a.click();\n",
              "      div.remove();\n",
              "    }\n",
              "  "
            ],
            "text/plain": [
              "<IPython.core.display.Javascript object>"
            ]
          },
          "metadata": {
            "tags": []
          }
        },
        {
          "output_type": "display_data",
          "data": {
            "application/javascript": [
              "download(\"download_d2b28967-8c17-4d1d-93b6-2ec2c75c786d\", \"model_results_L_32_2_5(2).csv\", 255)"
            ],
            "text/plain": [
              "<IPython.core.display.Javascript object>"
            ]
          },
          "metadata": {
            "tags": []
          }
        }
      ]
    }
  ]
}